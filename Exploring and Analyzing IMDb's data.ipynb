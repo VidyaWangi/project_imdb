{
 "cells": [
  {
   "cell_type": "markdown",
   "id": "7f979697",
   "metadata": {},
   "source": [
    "# Exploring and Analyzing IMDb's data\n",
    "\n",
    "#### Problem statement: To explore and analyze IMDb's data by cleaning and EDA to gain insights and then further analyze movie directors.\n",
    "\n",
    "The source of the data is the IMDb website and after getting from there saved in the .db format. Database name is Db-IMDB.db. "
   ]
  },
  {
   "cell_type": "code",
   "execution_count": 1,
   "id": "e4004461",
   "metadata": {},
   "outputs": [],
   "source": [
    "# Importing libraries\n",
    "\n",
    "import pandas as pd\n",
    "import numpy as np\n",
    "import matplotlib.pyplot as plt\n",
    "import seaborn as sns\n",
    "import sqlite3"
   ]
  },
  {
   "cell_type": "markdown",
   "id": "2a12a2f4",
   "metadata": {},
   "source": [
    "### Movie"
   ]
  },
  {
   "cell_type": "code",
   "execution_count": 2,
   "id": "cf3f8535",
   "metadata": {},
   "outputs": [
    {
     "data": {
      "text/html": [
       "<div>\n",
       "<style scoped>\n",
       "    .dataframe tbody tr th:only-of-type {\n",
       "        vertical-align: middle;\n",
       "    }\n",
       "\n",
       "    .dataframe tbody tr th {\n",
       "        vertical-align: top;\n",
       "    }\n",
       "\n",
       "    .dataframe thead th {\n",
       "        text-align: right;\n",
       "    }\n",
       "</style>\n",
       "<table border=\"1\" class=\"dataframe\">\n",
       "  <thead>\n",
       "    <tr style=\"text-align: right;\">\n",
       "      <th></th>\n",
       "      <th>index</th>\n",
       "      <th>MID</th>\n",
       "      <th>title</th>\n",
       "      <th>year</th>\n",
       "      <th>rating</th>\n",
       "      <th>num_votes</th>\n",
       "    </tr>\n",
       "  </thead>\n",
       "  <tbody>\n",
       "    <tr>\n",
       "      <th>0</th>\n",
       "      <td>0</td>\n",
       "      <td>tt2388771</td>\n",
       "      <td>Mowgli</td>\n",
       "      <td>2018</td>\n",
       "      <td>6.6</td>\n",
       "      <td>21967</td>\n",
       "    </tr>\n",
       "    <tr>\n",
       "      <th>1</th>\n",
       "      <td>1</td>\n",
       "      <td>tt5164214</td>\n",
       "      <td>Ocean's Eight</td>\n",
       "      <td>2018</td>\n",
       "      <td>6.2</td>\n",
       "      <td>110861</td>\n",
       "    </tr>\n",
       "    <tr>\n",
       "      <th>2</th>\n",
       "      <td>2</td>\n",
       "      <td>tt1365519</td>\n",
       "      <td>Tomb Raider</td>\n",
       "      <td>2018</td>\n",
       "      <td>6.4</td>\n",
       "      <td>142585</td>\n",
       "    </tr>\n",
       "    <tr>\n",
       "      <th>3</th>\n",
       "      <td>3</td>\n",
       "      <td>tt0848228</td>\n",
       "      <td>The Avengers</td>\n",
       "      <td>2012</td>\n",
       "      <td>8.1</td>\n",
       "      <td>1137529</td>\n",
       "    </tr>\n",
       "    <tr>\n",
       "      <th>4</th>\n",
       "      <td>4</td>\n",
       "      <td>tt8239946</td>\n",
       "      <td>Tumbbad</td>\n",
       "      <td>2018</td>\n",
       "      <td>8.5</td>\n",
       "      <td>7483</td>\n",
       "    </tr>\n",
       "  </tbody>\n",
       "</table>\n",
       "</div>"
      ],
      "text/plain": [
       "   index        MID          title  year  rating  num_votes\n",
       "0      0  tt2388771         Mowgli  2018     6.6      21967\n",
       "1      1  tt5164214  Ocean's Eight  2018     6.2     110861\n",
       "2      2  tt1365519    Tomb Raider  2018     6.4     142585\n",
       "3      3  tt0848228   The Avengers  2012     8.1    1137529\n",
       "4      4  tt8239946        Tumbbad  2018     8.5       7483"
      ]
     },
     "execution_count": 2,
     "metadata": {},
     "output_type": "execute_result"
    }
   ],
   "source": [
    "conne = sqlite3.connect(\"Db-IMDB.db\")\n",
    "\n",
    "sql_query_movie = \"\"\"SELECT * FROM Movie\"\"\"\n",
    "imdb_movie = pd.read_sql_query(sql_query_movie, conne)\n",
    "\n",
    "# First few rows of imdb_movie\n",
    "imdb_movie.head()"
   ]
  },
  {
   "cell_type": "code",
   "execution_count": 3,
   "id": "a9ebd4ae",
   "metadata": {},
   "outputs": [],
   "source": [
    "# Dropping 'index' column from imdb_movie\n",
    "imdb_movie.drop('index', axis=1, inplace=True)"
   ]
  },
  {
   "cell_type": "code",
   "execution_count": 4,
   "id": "479a0a4c",
   "metadata": {},
   "outputs": [
    {
     "data": {
      "text/html": [
       "<div>\n",
       "<style scoped>\n",
       "    .dataframe tbody tr th:only-of-type {\n",
       "        vertical-align: middle;\n",
       "    }\n",
       "\n",
       "    .dataframe tbody tr th {\n",
       "        vertical-align: top;\n",
       "    }\n",
       "\n",
       "    .dataframe thead th {\n",
       "        text-align: right;\n",
       "    }\n",
       "</style>\n",
       "<table border=\"1\" class=\"dataframe\">\n",
       "  <thead>\n",
       "    <tr style=\"text-align: right;\">\n",
       "      <th></th>\n",
       "      <th>MID</th>\n",
       "      <th>title</th>\n",
       "      <th>year</th>\n",
       "      <th>rating</th>\n",
       "      <th>num_votes</th>\n",
       "    </tr>\n",
       "  </thead>\n",
       "  <tbody>\n",
       "    <tr>\n",
       "      <th>3468</th>\n",
       "      <td>tt0090611</td>\n",
       "      <td>Allah-Rakha</td>\n",
       "      <td>1986</td>\n",
       "      <td>6.2</td>\n",
       "      <td>96</td>\n",
       "    </tr>\n",
       "    <tr>\n",
       "      <th>3469</th>\n",
       "      <td>tt0106270</td>\n",
       "      <td>Anari</td>\n",
       "      <td>1993</td>\n",
       "      <td>4.7</td>\n",
       "      <td>301</td>\n",
       "    </tr>\n",
       "    <tr>\n",
       "      <th>3470</th>\n",
       "      <td>tt0852989</td>\n",
       "      <td>Come December</td>\n",
       "      <td>2006</td>\n",
       "      <td>5.7</td>\n",
       "      <td>57</td>\n",
       "    </tr>\n",
       "    <tr>\n",
       "      <th>3471</th>\n",
       "      <td>tt0375882</td>\n",
       "      <td>Kala Jigar</td>\n",
       "      <td>1939</td>\n",
       "      <td>3.3</td>\n",
       "      <td>174</td>\n",
       "    </tr>\n",
       "    <tr>\n",
       "      <th>3472</th>\n",
       "      <td>tt0375890</td>\n",
       "      <td>Kanoon</td>\n",
       "      <td>1994</td>\n",
       "      <td>3.2</td>\n",
       "      <td>103</td>\n",
       "    </tr>\n",
       "  </tbody>\n",
       "</table>\n",
       "</div>"
      ],
      "text/plain": [
       "            MID          title  year  rating  num_votes\n",
       "3468  tt0090611    Allah-Rakha  1986     6.2         96\n",
       "3469  tt0106270          Anari  1993     4.7        301\n",
       "3470  tt0852989  Come December  2006     5.7         57\n",
       "3471  tt0375882     Kala Jigar  1939     3.3        174\n",
       "3472  tt0375890         Kanoon  1994     3.2        103"
      ]
     },
     "execution_count": 4,
     "metadata": {},
     "output_type": "execute_result"
    }
   ],
   "source": [
    "# Last few rows of imdb_movie\n",
    "imdb_movie.tail()"
   ]
  },
  {
   "cell_type": "code",
   "execution_count": 5,
   "id": "87f762de",
   "metadata": {},
   "outputs": [
    {
     "name": "stdout",
     "output_type": "stream",
     "text": [
      "imdb_movie shape: (3473, 5)\n",
      "imdb_movie size: 17365\n",
      "imdb_movie columns: Index(['MID', 'title', 'year', 'rating', 'num_votes'], dtype='object')\n",
      "imdb_movie dimensions: 2\n",
      "imdb_movie index: RangeIndex(start=0, stop=3473, step=1)\n"
     ]
    }
   ],
   "source": [
    "print(\"imdb_movie shape:\", imdb_movie.shape)\n",
    "print(\"imdb_movie size:\", imdb_movie.size)\n",
    "print(\"imdb_movie columns:\", imdb_movie.columns)\n",
    "print(\"imdb_movie dimensions:\", imdb_movie.ndim)\n",
    "print(\"imdb_movie index:\", imdb_movie.index)"
   ]
  },
  {
   "cell_type": "code",
   "execution_count": 6,
   "id": "8f95491a",
   "metadata": {},
   "outputs": [
    {
     "name": "stdout",
     "output_type": "stream",
     "text": [
      "<class 'pandas.core.frame.DataFrame'>\n",
      "RangeIndex: 3473 entries, 0 to 3472\n",
      "Data columns (total 5 columns):\n",
      " #   Column     Non-Null Count  Dtype  \n",
      "---  ------     --------------  -----  \n",
      " 0   MID        3473 non-null   object \n",
      " 1   title      3473 non-null   object \n",
      " 2   year       3473 non-null   object \n",
      " 3   rating     3473 non-null   float64\n",
      " 4   num_votes  3473 non-null   int64  \n",
      "dtypes: float64(1), int64(1), object(3)\n",
      "memory usage: 135.8+ KB\n"
     ]
    }
   ],
   "source": [
    "# Info of imdb_movie\n",
    "imdb_movie.info()"
   ]
  },
  {
   "cell_type": "code",
   "execution_count": 7,
   "id": "c3684731",
   "metadata": {},
   "outputs": [
    {
     "data": {
      "text/html": [
       "<div>\n",
       "<style scoped>\n",
       "    .dataframe tbody tr th:only-of-type {\n",
       "        vertical-align: middle;\n",
       "    }\n",
       "\n",
       "    .dataframe tbody tr th {\n",
       "        vertical-align: top;\n",
       "    }\n",
       "\n",
       "    .dataframe thead th {\n",
       "        text-align: right;\n",
       "    }\n",
       "</style>\n",
       "<table border=\"1\" class=\"dataframe\">\n",
       "  <thead>\n",
       "    <tr style=\"text-align: right;\">\n",
       "      <th></th>\n",
       "      <th>MID</th>\n",
       "      <th>title</th>\n",
       "      <th>year</th>\n",
       "      <th>rating</th>\n",
       "      <th>num_votes</th>\n",
       "    </tr>\n",
       "  </thead>\n",
       "  <tbody>\n",
       "    <tr>\n",
       "      <th>count</th>\n",
       "      <td>3473</td>\n",
       "      <td>3473</td>\n",
       "      <td>3473</td>\n",
       "      <td>3473.000000</td>\n",
       "      <td>3.473000e+03</td>\n",
       "    </tr>\n",
       "    <tr>\n",
       "      <th>unique</th>\n",
       "      <td>3473</td>\n",
       "      <td>3342</td>\n",
       "      <td>125</td>\n",
       "      <td>NaN</td>\n",
       "      <td>NaN</td>\n",
       "    </tr>\n",
       "    <tr>\n",
       "      <th>top</th>\n",
       "      <td>tt2388771</td>\n",
       "      <td>Guru</td>\n",
       "      <td>2005</td>\n",
       "      <td>NaN</td>\n",
       "      <td>NaN</td>\n",
       "    </tr>\n",
       "    <tr>\n",
       "      <th>freq</th>\n",
       "      <td>1</td>\n",
       "      <td>3</td>\n",
       "      <td>128</td>\n",
       "      <td>NaN</td>\n",
       "      <td>NaN</td>\n",
       "    </tr>\n",
       "    <tr>\n",
       "      <th>mean</th>\n",
       "      <td>NaN</td>\n",
       "      <td>NaN</td>\n",
       "      <td>NaN</td>\n",
       "      <td>6.037115</td>\n",
       "      <td>4.547316e+03</td>\n",
       "    </tr>\n",
       "    <tr>\n",
       "      <th>std</th>\n",
       "      <td>NaN</td>\n",
       "      <td>NaN</td>\n",
       "      <td>NaN</td>\n",
       "      <td>1.402919</td>\n",
       "      <td>2.958851e+04</td>\n",
       "    </tr>\n",
       "    <tr>\n",
       "      <th>min</th>\n",
       "      <td>NaN</td>\n",
       "      <td>NaN</td>\n",
       "      <td>NaN</td>\n",
       "      <td>1.300000</td>\n",
       "      <td>5.100000e+01</td>\n",
       "    </tr>\n",
       "    <tr>\n",
       "      <th>25%</th>\n",
       "      <td>NaN</td>\n",
       "      <td>NaN</td>\n",
       "      <td>NaN</td>\n",
       "      <td>5.100000</td>\n",
       "      <td>1.200000e+02</td>\n",
       "    </tr>\n",
       "    <tr>\n",
       "      <th>50%</th>\n",
       "      <td>NaN</td>\n",
       "      <td>NaN</td>\n",
       "      <td>NaN</td>\n",
       "      <td>6.200000</td>\n",
       "      <td>3.890000e+02</td>\n",
       "    </tr>\n",
       "    <tr>\n",
       "      <th>75%</th>\n",
       "      <td>NaN</td>\n",
       "      <td>NaN</td>\n",
       "      <td>NaN</td>\n",
       "      <td>7.100000</td>\n",
       "      <td>1.859000e+03</td>\n",
       "    </tr>\n",
       "    <tr>\n",
       "      <th>max</th>\n",
       "      <td>NaN</td>\n",
       "      <td>NaN</td>\n",
       "      <td>NaN</td>\n",
       "      <td>9.600000</td>\n",
       "      <td>1.137529e+06</td>\n",
       "    </tr>\n",
       "  </tbody>\n",
       "</table>\n",
       "</div>"
      ],
      "text/plain": [
       "              MID title  year       rating     num_votes\n",
       "count        3473  3473  3473  3473.000000  3.473000e+03\n",
       "unique       3473  3342   125          NaN           NaN\n",
       "top     tt2388771  Guru  2005          NaN           NaN\n",
       "freq            1     3   128          NaN           NaN\n",
       "mean          NaN   NaN   NaN     6.037115  4.547316e+03\n",
       "std           NaN   NaN   NaN     1.402919  2.958851e+04\n",
       "min           NaN   NaN   NaN     1.300000  5.100000e+01\n",
       "25%           NaN   NaN   NaN     5.100000  1.200000e+02\n",
       "50%           NaN   NaN   NaN     6.200000  3.890000e+02\n",
       "75%           NaN   NaN   NaN     7.100000  1.859000e+03\n",
       "max           NaN   NaN   NaN     9.600000  1.137529e+06"
      ]
     },
     "execution_count": 7,
     "metadata": {},
     "output_type": "execute_result"
    }
   ],
   "source": [
    "# Statistical analysis using describe\n",
    "imdb_movie.describe(include='all')"
   ]
  },
  {
   "cell_type": "code",
   "execution_count": 8,
   "id": "489a05f6",
   "metadata": {},
   "outputs": [
    {
     "data": {
      "text/plain": [
       "MID          3473\n",
       "title        3342\n",
       "year          125\n",
       "rating         82\n",
       "num_votes    1763\n",
       "dtype: int64"
      ]
     },
     "execution_count": 8,
     "metadata": {},
     "output_type": "execute_result"
    }
   ],
   "source": [
    "# Number of unique values in each column\n",
    "imdb_movie.nunique()"
   ]
  },
  {
   "cell_type": "code",
   "execution_count": 9,
   "id": "a68cfdec",
   "metadata": {},
   "outputs": [
    {
     "data": {
      "text/plain": [
       "array(['tt2388771', 'tt5164214', 'tt1365519', ..., 'tt0852989',\n",
       "       'tt0375882', 'tt0375890'], dtype=object)"
      ]
     },
     "execution_count": 9,
     "metadata": {},
     "output_type": "execute_result"
    }
   ],
   "source": [
    "# Unique values in the 'MID' column\n",
    "imdb_movie['MID'].unique()"
   ]
  },
  {
   "cell_type": "code",
   "execution_count": 10,
   "id": "7db78239",
   "metadata": {},
   "outputs": [
    {
     "data": {
      "text/plain": [
       "array(['Mowgli', \"Ocean's Eight\", 'Tomb Raider', ..., 'Allah-Rakha',\n",
       "       'Come December', 'Kala Jigar'], dtype=object)"
      ]
     },
     "execution_count": 10,
     "metadata": {},
     "output_type": "execute_result"
    }
   ],
   "source": [
    "# Unique values in the 'title' column\n",
    "imdb_movie['title'].unique()"
   ]
  },
  {
   "cell_type": "code",
   "execution_count": 11,
   "id": "16e6debc",
   "metadata": {},
   "outputs": [
    {
     "data": {
      "text/plain": [
       "array(['2018', '2012', '2016', '2017', '2008', 'I 2009', '1977', '2013',\n",
       "       '2015', '2007', '2002', '1951', '2009', '2014', '2004', '1997',\n",
       "       '1983', '1994', '2011', '1996', '2001', '2010', '2006', '1971',\n",
       "       'I 2018', 'XVII 2016', '1958', 'I 2017', '1984', '1987', 'II 2018',\n",
       "       '2005', 'I 2002', 'III 2016', '2003', '1995', '1998', 'I 2015',\n",
       "       '1975', '1939', '2000', '1988', 'I 2016', 'I 2006', 'I 2010',\n",
       "       'I 2013', 'I 2014', 'II 2017', '1991', '1993', '1981', '1989',\n",
       "       '1976', '1959', '1970', 'VI 2015', '1979', 'I 1964', '1999',\n",
       "       'I 2003', 'III 2017', 'I 2005', 'I 2008', '1990', '1992', 'I 2007',\n",
       "       'I 2011', '1957', '1980', '1966', '1967', '1973', 'I 1997', '1968',\n",
       "       '1969', '1982', 'III 2015', '1978', '1965', '1972', '1956', '1974',\n",
       "       '1960', '1985', 'II 2012', '1986', '1949', '1964', 'III 2007',\n",
       "       '1955', 'II 2010', '1961', '1962', 'II 2013', 'I 1986', 'I 1968',\n",
       "       '1954', 'I 1980', '1941', 'II 2008', 'I 1983', 'V 2015', '1963',\n",
       "       '1931', '1953', 'I 2001', 'I 1989', '1948', '1952', 'II 1998',\n",
       "       '1947', 'I 1992', 'I 2012', '1936', 'I 1996', '1946', 'IV 2011',\n",
       "       'II 1983', 'IV 2010', 'II 2011', 'IV 2017', '1943', '1950',\n",
       "       'I 1969', 'II 2009'], dtype=object)"
      ]
     },
     "execution_count": 11,
     "metadata": {},
     "output_type": "execute_result"
    }
   ],
   "source": [
    "# Unique values in the 'year' column\n",
    "imdb_movie['year'].unique()"
   ]
  },
  {
   "cell_type": "code",
   "execution_count": 12,
   "id": "8887d0dc",
   "metadata": {},
   "outputs": [
    {
     "data": {
      "text/plain": [
       "array([6.6, 6.2, 6.4, 8.1, 8.5, 5.5, 7.8, 9. , 5.7, 5.3, 8. , 5.8, 2.4,\n",
       "       7.7, 7.5, 7.9, 5.6, 3.6, 8.2, 7.1, 7.2, 5.9, 6.7, 7. , 2.6, 7.3,\n",
       "       7.4, 8.4, 6.8, 7.6, 6. , 2.9, 8.8, 8.3, 2.1, 3.3, 4.4, 4.6, 5.2,\n",
       "       6.9, 3.7, 6.5, 3.1, 4.5, 5.4, 4.2, 6.1, 6.3, 4. , 4.1, 2.3, 4.8,\n",
       "       5.1, 1.3, 8.6, 4.3, 3.4, 3.2, 3.9, 4.9, 5. , 3. , 4.7, 8.9, 3.8,\n",
       "       2.2, 1.9, 1.7, 1.8, 2.8, 2.7, 3.5, 2.5, 2. , 8.7, 9.3, 9.2, 1.6,\n",
       "       9.4, 9.1, 9.6, 9.5])"
      ]
     },
     "execution_count": 12,
     "metadata": {},
     "output_type": "execute_result"
    }
   ],
   "source": [
    "# Unique values in the 'rating' column\n",
    "imdb_movie['rating'].unique()"
   ]
  },
  {
   "cell_type": "code",
   "execution_count": 13,
   "id": "b9521020",
   "metadata": {},
   "outputs": [
    {
     "data": {
      "text/plain": [
       "array([ 21967, 110861, 142585, ...,    664,   1030,    509], dtype=int64)"
      ]
     },
     "execution_count": 13,
     "metadata": {},
     "output_type": "execute_result"
    }
   ],
   "source": [
    "# Unique values in the 'num_votes' column\n",
    "imdb_movie['num_votes'].unique()"
   ]
  },
  {
   "cell_type": "code",
   "execution_count": 14,
   "id": "bb83e9c2",
   "metadata": {},
   "outputs": [
    {
     "data": {
      "text/plain": [
       "tt2388771    1\n",
       "tt0286907    1\n",
       "tt0070097    1\n",
       "tt0264415    1\n",
       "tt0140784    1\n",
       "            ..\n",
       "tt1372266    1\n",
       "tt0110140    1\n",
       "tt3422462    1\n",
       "tt0345177    1\n",
       "tt0375890    1\n",
       "Name: MID, Length: 3473, dtype: int64"
      ]
     },
     "execution_count": 14,
     "metadata": {},
     "output_type": "execute_result"
    }
   ],
   "source": [
    "# Value count of the 'MID' column\n",
    "imdb_movie['MID'].value_counts()"
   ]
  },
  {
   "cell_type": "code",
   "execution_count": 15,
   "id": "50a061a1",
   "metadata": {},
   "outputs": [
    {
     "data": {
      "text/plain": [
       "Guru                3\n",
       "Ittefaq             3\n",
       "Devdas              3\n",
       "Andaz               3\n",
       "Baazi               3\n",
       "                   ..\n",
       "Khandan             1\n",
       "Paap Ki Duniya      1\n",
       "Shor in the City    1\n",
       "Fida                1\n",
       "Kala Jigar          1\n",
       "Name: title, Length: 3342, dtype: int64"
      ]
     },
     "execution_count": 15,
     "metadata": {},
     "output_type": "execute_result"
    }
   ],
   "source": [
    "# Value count of 'title' column\n",
    "imdb_movie['title'].value_counts()"
   ]
  },
  {
   "cell_type": "code",
   "execution_count": 16,
   "id": "e769ebb0",
   "metadata": {},
   "outputs": [
    {
     "data": {
      "text/plain": [
       "2005       128\n",
       "2013       127\n",
       "2014       118\n",
       "2016       118\n",
       "2017       118\n",
       "          ... \n",
       "II 2008      1\n",
       "I 1983       1\n",
       "V 2015       1\n",
       "I 2006       1\n",
       "II 2009      1\n",
       "Name: year, Length: 125, dtype: int64"
      ]
     },
     "execution_count": 16,
     "metadata": {},
     "output_type": "execute_result"
    }
   ],
   "source": [
    "# Value count of the 'year' column\n",
    "imdb_movie['year'].value_counts()"
   ]
  },
  {
   "cell_type": "code",
   "execution_count": 17,
   "id": "acac4b95",
   "metadata": {},
   "outputs": [
    {
     "data": {
      "text/plain": [
       "7.2    145\n",
       "7.1    141\n",
       "7.0    121\n",
       "6.9    116\n",
       "6.8    114\n",
       "      ... \n",
       "1.3      1\n",
       "8.9      1\n",
       "1.6      1\n",
       "9.1      1\n",
       "9.5      1\n",
       "Name: rating, Length: 82, dtype: int64"
      ]
     },
     "execution_count": 17,
     "metadata": {},
     "output_type": "execute_result"
    }
   ],
   "source": [
    "# Value count of the 'rating' column\n",
    "imdb_movie['rating'].value_counts()"
   ]
  },
  {
   "cell_type": "code",
   "execution_count": 18,
   "id": "6f4a3a0a",
   "metadata": {},
   "outputs": [
    {
     "data": {
      "text/plain": [
       "52      27\n",
       "51      27\n",
       "53      25\n",
       "60      25\n",
       "69      21\n",
       "        ..\n",
       "2999     1\n",
       "4470     1\n",
       "2315     1\n",
       "2334     1\n",
       "509      1\n",
       "Name: num_votes, Length: 1763, dtype: int64"
      ]
     },
     "execution_count": 18,
     "metadata": {},
     "output_type": "execute_result"
    }
   ],
   "source": [
    "# Value count of the 'num_votes' column\n",
    "imdb_movie['num_votes'].value_counts()"
   ]
  },
  {
   "cell_type": "markdown",
   "id": "d5aa40e1",
   "metadata": {},
   "source": [
    "52 and 51 has the highest count"
   ]
  },
  {
   "cell_type": "code",
   "execution_count": 19,
   "id": "e6aaa217",
   "metadata": {},
   "outputs": [
    {
     "data": {
      "image/png": "[encoded data removed]",
      "text/plain": [
       "<Figure size 432x288 with 1 Axes>"
      ]
     },
     "metadata": {
      "needs_background": "light"
     },
     "output_type": "display_data"
    }
   ],
   "source": [
    "# boxplot of the 'rating' column from imdb_movie\n",
    "sns.boxplot(data=imdb_movie, x='rating')\n",
    "plt.show()"
   ]
  },
  {
   "cell_type": "markdown",
   "id": "46ba8ce5",
   "metadata": {},
   "source": [
    "Few outliers are present in the 'rating' column"
   ]
  },
  {
   "cell_type": "code",
   "execution_count": 20,
   "id": "3a1e2ec7",
   "metadata": {},
   "outputs": [
    {
     "data": {
      "image/png": "[encoded data removed]",
      "text/plain": [
       "<Figure size 432x288 with 1 Axes>"
      ]
     },
     "metadata": {
      "needs_background": "light"
     },
     "output_type": "display_data"
    }
   ],
   "source": [
    "# boxplot of the 'num_votes' column from imdb_movie \n",
    "sns.boxplot(data=imdb_movie, x='num_votes')\n",
    "plt.show()"
   ]
  },
  {
   "cell_type": "markdown",
   "id": "559e60fa",
   "metadata": {},
   "source": [
    "To better visualize the data need to apply log transform"
   ]
  },
  {
   "cell_type": "code",
   "execution_count": 21,
   "id": "7508c4a3",
   "metadata": {},
   "outputs": [],
   "source": [
    "# Creating a new column 'log_num_votes' where log transform is applied on 'num_votes'\n",
    "imdb_movie['log_num_votes'] = np.log(imdb_movie['num_votes'])"
   ]
  },
  {
   "cell_type": "code",
   "execution_count": 22,
   "id": "6856de19",
   "metadata": {},
   "outputs": [
    {
     "data": {
      "image/png": "[encoded data removed]",
      "text/plain": [
       "<Figure size 432x288 with 1 Axes>"
      ]
     },
     "metadata": {
      "needs_background": "light"
     },
     "output_type": "display_data"
    }
   ],
   "source": [
    "# boxplot of 'log_num_votes' column from imdb_movie \n",
    "sns.boxplot(data = imdb_movie, x='log_num_votes')\n",
    "plt.show()"
   ]
  },
  {
   "cell_type": "markdown",
   "id": "220f54c7",
   "metadata": {},
   "source": [
    "Few outliers are present in the 'log_num_votes' column"
   ]
  },
  {
   "cell_type": "code",
   "execution_count": 23,
   "id": "46b7423e",
   "metadata": {},
   "outputs": [
    {
     "data": {
      "text/plain": [
       "MID              0\n",
       "title            0\n",
       "year             0\n",
       "rating           0\n",
       "num_votes        0\n",
       "log_num_votes    0\n",
       "dtype: int64"
      ]
     },
     "execution_count": 23,
     "metadata": {},
     "output_type": "execute_result"
    }
   ],
   "source": [
    "# Checking for null values in imdb_movie\n",
    "imdb_movie.isna().sum()"
   ]
  },
  {
   "cell_type": "markdown",
   "id": "5b23fd75",
   "metadata": {},
   "source": [
    "Null values are not present in any columns"
   ]
  },
  {
   "cell_type": "code",
   "execution_count": 24,
   "id": "beaffaf0",
   "metadata": {},
   "outputs": [
    {
     "data": {
      "text/html": [
       "<div>\n",
       "<style scoped>\n",
       "    .dataframe tbody tr th:only-of-type {\n",
       "        vertical-align: middle;\n",
       "    }\n",
       "\n",
       "    .dataframe tbody tr th {\n",
       "        vertical-align: top;\n",
       "    }\n",
       "\n",
       "    .dataframe thead th {\n",
       "        text-align: right;\n",
       "    }\n",
       "</style>\n",
       "<table border=\"1\" class=\"dataframe\">\n",
       "  <thead>\n",
       "    <tr style=\"text-align: right;\">\n",
       "      <th></th>\n",
       "      <th>MID</th>\n",
       "      <th>title</th>\n",
       "      <th>year</th>\n",
       "      <th>rating</th>\n",
       "      <th>num_votes</th>\n",
       "      <th>log_num_votes</th>\n",
       "    </tr>\n",
       "  </thead>\n",
       "  <tbody>\n",
       "  </tbody>\n",
       "</table>\n",
       "</div>"
      ],
      "text/plain": [
       "Empty DataFrame\n",
       "Columns: [MID, title, year, rating, num_votes, log_num_votes]\n",
       "Index: []"
      ]
     },
     "execution_count": 24,
     "metadata": {},
     "output_type": "execute_result"
    }
   ],
   "source": [
    "# Checking for duplicate rows in imdb_movie\n",
    "imdb_movie[imdb_movie.duplicated()]"
   ]
  },
  {
   "cell_type": "markdown",
   "id": "13d57cfa",
   "metadata": {},
   "source": [
    "No duplicate rows found in imdb_movie"
   ]
  },
  {
   "cell_type": "code",
   "execution_count": 25,
   "id": "5c31d17a",
   "metadata": {},
   "outputs": [],
   "source": [
    "# Creating a new column 'n_year' in imdb_movie where only year is present\n",
    "imdb_movie['n_year'] = imdb_movie['year'].str.split(' ').str[-1]\n",
    "\n",
    "# Converting 'n_year' column to int64 datatype\n",
    "imdb_movie['n_year'] = imdb_movie['n_year'].astype('int64')"
   ]
  },
  {
   "cell_type": "code",
   "execution_count": 26,
   "id": "b6f8107c",
   "metadata": {},
   "outputs": [
    {
     "data": {
      "text/plain": [
       "array([2018, 2012, 2016, 2017, 2008, 2009, 1977, 2013, 2015, 2007, 2002,\n",
       "       1951, 2014, 2004, 1997, 1983, 1994, 2011, 1996, 2001, 2010, 2006,\n",
       "       1971, 1958, 1984, 1987, 2005, 2003, 1995, 1998, 1975, 1939, 2000,\n",
       "       1988, 1991, 1993, 1981, 1989, 1976, 1959, 1970, 1979, 1964, 1999,\n",
       "       1990, 1992, 1957, 1980, 1966, 1967, 1973, 1968, 1969, 1982, 1978,\n",
       "       1965, 1972, 1956, 1974, 1960, 1985, 1986, 1949, 1955, 1961, 1962,\n",
       "       1954, 1941, 1963, 1931, 1953, 1948, 1952, 1947, 1936, 1946, 1943,\n",
       "       1950], dtype=int64)"
      ]
     },
     "execution_count": 26,
     "metadata": {},
     "output_type": "execute_result"
    }
   ],
   "source": [
    "# Unique values in the 'n_year' column\n",
    "imdb_movie['n_year'].unique()"
   ]
  },
  {
   "cell_type": "code",
   "execution_count": 27,
   "id": "fb373718",
   "metadata": {},
   "outputs": [
    {
     "data": {
      "text/plain": [
       "2013    136\n",
       "2016    129\n",
       "2005    129\n",
       "2017    126\n",
       "2014    126\n",
       "       ... \n",
       "1946      2\n",
       "1950      2\n",
       "1941      1\n",
       "1931      1\n",
       "1943      1\n",
       "Name: n_year, Length: 78, dtype: int64"
      ]
     },
     "execution_count": 27,
     "metadata": {},
     "output_type": "execute_result"
    }
   ],
   "source": [
    "# Value count of the 'n_year' column\n",
    "imdb_movie['n_year'].value_counts()"
   ]
  },
  {
   "cell_type": "code",
   "execution_count": 28,
   "id": "9e1d2dda",
   "metadata": {},
   "outputs": [
    {
     "data": {
      "image/png": "[encoded data removed]",
      "text/plain": [
       "<Figure size 432x288 with 1 Axes>"
      ]
     },
     "metadata": {
      "needs_background": "light"
     },
     "output_type": "display_data"
    }
   ],
   "source": [
    "# boxplot of 'n_year' column from imdb_movie\n",
    "sns.boxplot(data=imdb_movie, x='n_year')\n",
    "plt.show()"
   ]
  },
  {
   "cell_type": "markdown",
   "id": "6513db2d",
   "metadata": {},
   "source": [
    "Outliers are present in the 'n_year' column"
   ]
  },
  {
   "cell_type": "markdown",
   "id": "8b6441d5",
   "metadata": {},
   "source": [
    "### Treating outliers\n",
    "\n",
    "#### Outliers in the 'rating' column\n",
    "- The rating's all the range values even the small and the large values are essential in analyzing the movie.\n",
    "- It might help in understanding if the movie has done well. And whether other aspects involved in the analysis has done well.\n",
    "- So outliers in the 'rating' column are not removed.\n",
    "\n",
    "#### Outliers in the 'num_votes' column\n",
    "- The highest values and lowest values in this column might help in the analysis.\n",
    "- So outliers in the 'num_votes' column are not removed.\n",
    "\n",
    "#### Outliers in  the 'n_year' column"
   ]
  },
  {
   "cell_type": "code",
   "execution_count": 29,
   "id": "0b12cecc",
   "metadata": {},
   "outputs": [],
   "source": [
    "# Treating outliers in the 'n_year' column\n",
    "qua_75 = imdb_movie['n_year'].quantile(0.75)\n",
    "qua_25 = imdb_movie['n_year'].quantile(0.25)\n",
    "n_yr_iqr = qua_75 - qua_25 \n",
    "Up_b = qua_75 + 1.5 * n_yr_iqr\n",
    "Lo_b = qua_25 - 1.5 * n_yr_iqr\n",
    "imdb_movie = imdb_movie[(imdb_movie['n_year']>Lo_b)&(imdb_movie['n_year']<Up_b)]"
   ]
  },
  {
   "cell_type": "markdown",
   "id": "3cdc9255",
   "metadata": {},
   "source": [
    "**Univariate analysis**"
   ]
  },
  {
   "cell_type": "code",
   "execution_count": 30,
   "id": "b665fba2",
   "metadata": {},
   "outputs": [
    {
     "data": {
      "image/png": "[encoded data removed]",
      "text/plain": [
       "<Figure size 1440x720 with 1 Axes>"
      ]
     },
     "metadata": {
      "needs_background": "light"
     },
     "output_type": "display_data"
    }
   ],
   "source": [
    "# Count plot of 'n_year' column\n",
    "plt.figure(figsize=(20, 10))\n",
    "sns.countplot(data=imdb_movie, x='n_year')\n",
    "plt.xticks(rotation=90)\n",
    "plt.show()"
   ]
  },
  {
   "cell_type": "markdown",
   "id": "31e4edf7",
   "metadata": {},
   "source": [
    "Over the years the number of movies is increasing"
   ]
  },
  {
   "cell_type": "code",
   "execution_count": 31,
   "id": "9197c2e2",
   "metadata": {},
   "outputs": [
    {
     "data": {
      "image/png": "[encoded data removed]",
      "text/plain": [
       "<Figure size 432x288 with 1 Axes>"
      ]
     },
     "metadata": {
      "needs_background": "light"
     },
     "output_type": "display_data"
    }
   ],
   "source": [
    "# Histogram of the 'rating' column\n",
    "plt.hist(data=imdb_movie, x='rating')\n",
    "plt.show()"
   ]
  },
  {
   "cell_type": "markdown",
   "id": "d7815e5c",
   "metadata": {},
   "source": [
    "The highest number of values is between 6-7 "
   ]
  },
  {
   "cell_type": "code",
   "execution_count": 32,
   "id": "fd8c2a46",
   "metadata": {},
   "outputs": [
    {
     "data": {
      "image/png": "[encoded data removed]",
      "text/plain": [
       "<Figure size 432x288 with 1 Axes>"
      ]
     },
     "metadata": {
      "needs_background": "light"
     },
     "output_type": "display_data"
    }
   ],
   "source": [
    "# Histogram of the 'log_num_votes' column\n",
    "plt.hist(data=imdb_movie, x='log_num_votes')\n",
    "plt.show()"
   ]
  },
  {
   "cell_type": "markdown",
   "id": "b00655f4",
   "metadata": {},
   "source": [
    "In the range of 4-6 high count of the 'log_num_votes' column's values are"
   ]
  },
  {
   "cell_type": "code",
   "execution_count": 33,
   "id": "6a49799c",
   "metadata": {},
   "outputs": [
    {
     "data": {
      "text/plain": [
       "0    6-10 rating\n",
       "1    6-10 rating\n",
       "2    6-10 rating\n",
       "3    6-10 rating\n",
       "4    6-10 rating\n",
       "Name: bin_rating, dtype: object"
      ]
     },
     "execution_count": 33,
     "metadata": {},
     "output_type": "execute_result"
    }
   ],
   "source": [
    "# Writing a function to create bins of rating \n",
    "def bin_colm_val(clm_val):\n",
    "    if clm_val >= 0 and clm_val <=5:\n",
    "        return \"1-5 rating\"\n",
    "    else:\n",
    "        return \"6-10 rating\"\n",
    "\n",
    "# Creating a column 'bin_rating' in imdb_movie\n",
    "imdb_movie['bin_rating'] = imdb_movie['rating'].apply(bin_colm_val)\n",
    "imdb_movie['bin_rating'].head()"
   ]
  },
  {
   "cell_type": "code",
   "execution_count": 34,
   "id": "0dbe7b02",
   "metadata": {},
   "outputs": [
    {
     "data": {
      "text/plain": [
       "array(['6-10 rating', '1-5 rating'], dtype=object)"
      ]
     },
     "execution_count": 34,
     "metadata": {},
     "output_type": "execute_result"
    }
   ],
   "source": [
    "# Unique values in the 'bin_rating' column from imdb_movie\n",
    "imdb_movie['bin_rating'].unique()"
   ]
  },
  {
   "cell_type": "code",
   "execution_count": 35,
   "id": "bdc1e5c5",
   "metadata": {},
   "outputs": [
    {
     "data": {
      "text/plain": [
       "6-10 rating    2560\n",
       "1-5 rating      830\n",
       "Name: bin_rating, dtype: int64"
      ]
     },
     "execution_count": 35,
     "metadata": {},
     "output_type": "execute_result"
    }
   ],
   "source": [
    "# Value count of the 'bin_rating' column\n",
    "imdb_movie['bin_rating'].value_counts()"
   ]
  },
  {
   "cell_type": "code",
   "execution_count": 36,
   "id": "36479b48",
   "metadata": {},
   "outputs": [
    {
     "data": {
      "image/png": "[encoded data removed]",
      "text/plain": [
       "<Figure size 432x288 with 1 Axes>"
      ]
     },
     "metadata": {
      "needs_background": "light"
     },
     "output_type": "display_data"
    }
   ],
   "source": [
    "# Countplot of 'bin_rating' column\n",
    "sns.countplot(data=imdb_movie, x='bin_rating')\n",
    "plt.show()"
   ]
  },
  {
   "cell_type": "markdown",
   "id": "cd4daa5e",
   "metadata": {},
   "source": [
    "The count of 6-10 rating movies is more than 1-5 rating"
   ]
  },
  {
   "cell_type": "markdown",
   "id": "f6f465ec",
   "metadata": {},
   "source": [
    "**Bivariate analysis**"
   ]
  },
  {
   "cell_type": "code",
   "execution_count": 37,
   "id": "9d1409ba",
   "metadata": {},
   "outputs": [
    {
     "data": {
      "image/png": "[encoded data removed]",
      "text/plain": [
       "<Figure size 432x288 with 1 Axes>"
      ]
     },
     "metadata": {
      "needs_background": "light"
     },
     "output_type": "display_data"
    }
   ],
   "source": [
    "# boxplot of 'bin_rating' and 'log_num_votes' columns from imdb_movie\n",
    "sns.boxplot(data=imdb_movie, x='bin_rating', y='log_num_votes')\n",
    "plt.show()"
   ]
  },
  {
   "cell_type": "markdown",
   "id": "166043ee",
   "metadata": {},
   "source": [
    "'1-5 rating' has a lower median than '6-10 rating'"
   ]
  },
  {
   "cell_type": "markdown",
   "id": "a37f65fe",
   "metadata": {},
   "source": [
    "### Person"
   ]
  },
  {
   "cell_type": "code",
   "execution_count": 38,
   "id": "619e3261",
   "metadata": {},
   "outputs": [
    {
     "data": {
      "text/html": [
       "<div>\n",
       "<style scoped>\n",
       "    .dataframe tbody tr th:only-of-type {\n",
       "        vertical-align: middle;\n",
       "    }\n",
       "\n",
       "    .dataframe tbody tr th {\n",
       "        vertical-align: top;\n",
       "    }\n",
       "\n",
       "    .dataframe thead th {\n",
       "        text-align: right;\n",
       "    }\n",
       "</style>\n",
       "<table border=\"1\" class=\"dataframe\">\n",
       "  <thead>\n",
       "    <tr style=\"text-align: right;\">\n",
       "      <th></th>\n",
       "      <th>index</th>\n",
       "      <th>PID</th>\n",
       "      <th>Name</th>\n",
       "      <th>Gender</th>\n",
       "    </tr>\n",
       "  </thead>\n",
       "  <tbody>\n",
       "    <tr>\n",
       "      <th>0</th>\n",
       "      <td>0</td>\n",
       "      <td>nm0000288</td>\n",
       "      <td>Christian Bale</td>\n",
       "      <td>Male</td>\n",
       "    </tr>\n",
       "    <tr>\n",
       "      <th>1</th>\n",
       "      <td>1</td>\n",
       "      <td>nm0000949</td>\n",
       "      <td>Cate Blanchett</td>\n",
       "      <td>Female</td>\n",
       "    </tr>\n",
       "    <tr>\n",
       "      <th>2</th>\n",
       "      <td>2</td>\n",
       "      <td>nm1212722</td>\n",
       "      <td>Benedict Cumberbatch</td>\n",
       "      <td>Male</td>\n",
       "    </tr>\n",
       "    <tr>\n",
       "      <th>3</th>\n",
       "      <td>3</td>\n",
       "      <td>nm0365140</td>\n",
       "      <td>Naomie Harris</td>\n",
       "      <td>Female</td>\n",
       "    </tr>\n",
       "    <tr>\n",
       "      <th>4</th>\n",
       "      <td>4</td>\n",
       "      <td>nm0785227</td>\n",
       "      <td>Andy Serkis</td>\n",
       "      <td>Male</td>\n",
       "    </tr>\n",
       "  </tbody>\n",
       "</table>\n",
       "</div>"
      ],
      "text/plain": [
       "   index        PID                   Name  Gender\n",
       "0      0  nm0000288         Christian Bale    Male\n",
       "1      1  nm0000949         Cate Blanchett  Female\n",
       "2      2  nm1212722   Benedict Cumberbatch    Male\n",
       "3      3  nm0365140          Naomie Harris  Female\n",
       "4      4  nm0785227            Andy Serkis    Male"
      ]
     },
     "execution_count": 38,
     "metadata": {},
     "output_type": "execute_result"
    }
   ],
   "source": [
    "sql_query_person = \"\"\"SELECT * FROM Person\"\"\"\n",
    "imdb_person = pd.read_sql_query(sql_query_person, conne)\n",
    "\n",
    "# First few rows of imdb_person\n",
    "imdb_person.head()"
   ]
  },
  {
   "cell_type": "code",
   "execution_count": 39,
   "id": "63b7f630",
   "metadata": {},
   "outputs": [],
   "source": [
    "# Dropping 'index' column from imdb_person\n",
    "imdb_person.drop('index', axis=1, inplace=True)"
   ]
  },
  {
   "cell_type": "code",
   "execution_count": 40,
   "id": "20d72785",
   "metadata": {},
   "outputs": [
    {
     "data": {
      "text/html": [
       "<div>\n",
       "<style scoped>\n",
       "    .dataframe tbody tr th:only-of-type {\n",
       "        vertical-align: middle;\n",
       "    }\n",
       "\n",
       "    .dataframe tbody tr th {\n",
       "        vertical-align: top;\n",
       "    }\n",
       "\n",
       "    .dataframe thead th {\n",
       "        text-align: right;\n",
       "    }\n",
       "</style>\n",
       "<table border=\"1\" class=\"dataframe\">\n",
       "  <thead>\n",
       "    <tr style=\"text-align: right;\">\n",
       "      <th></th>\n",
       "      <th>PID</th>\n",
       "      <th>Name</th>\n",
       "      <th>Gender</th>\n",
       "    </tr>\n",
       "  </thead>\n",
       "  <tbody>\n",
       "    <tr>\n",
       "      <th>37561</th>\n",
       "      <td>nm2182643</td>\n",
       "      <td>Kamika Verma</td>\n",
       "      <td>None</td>\n",
       "    </tr>\n",
       "    <tr>\n",
       "      <th>37562</th>\n",
       "      <td>nm1029114</td>\n",
       "      <td>Dhorairaj Bhagavan</td>\n",
       "      <td>None</td>\n",
       "    </tr>\n",
       "    <tr>\n",
       "      <th>37563</th>\n",
       "      <td>nm3769883</td>\n",
       "      <td>Nasir Shaikh</td>\n",
       "      <td>None</td>\n",
       "    </tr>\n",
       "    <tr>\n",
       "      <th>37564</th>\n",
       "      <td>nm1470989</td>\n",
       "      <td>Kannan</td>\n",
       "      <td>None</td>\n",
       "    </tr>\n",
       "    <tr>\n",
       "      <th>37565</th>\n",
       "      <td>nm0298158</td>\n",
       "      <td>Adrian Fulle</td>\n",
       "      <td>None</td>\n",
       "    </tr>\n",
       "  </tbody>\n",
       "</table>\n",
       "</div>"
      ],
      "text/plain": [
       "             PID                Name Gender\n",
       "37561  nm2182643        Kamika Verma   None\n",
       "37562  nm1029114  Dhorairaj Bhagavan   None\n",
       "37563  nm3769883        Nasir Shaikh   None\n",
       "37564  nm1470989              Kannan   None\n",
       "37565  nm0298158        Adrian Fulle   None"
      ]
     },
     "execution_count": 40,
     "metadata": {},
     "output_type": "execute_result"
    }
   ],
   "source": [
    "# Last few rows of imdb_person\n",
    "imdb_person.tail()"
   ]
  },
  {
   "cell_type": "code",
   "execution_count": 41,
   "id": "82952570",
   "metadata": {},
   "outputs": [
    {
     "name": "stdout",
     "output_type": "stream",
     "text": [
      "imdb_person shape: (37566, 3)\n",
      "imdb_person size: 112698\n",
      "imdb_person columns: Index(['PID', 'Name', 'Gender'], dtype='object')\n",
      "imdb_person dimensions: 2\n",
      "imdb_person index: RangeIndex(start=0, stop=37566, step=1)\n"
     ]
    }
   ],
   "source": [
    "print(\"imdb_person shape:\", imdb_person.shape)\n",
    "print(\"imdb_person size:\", imdb_person.size)\n",
    "print(\"imdb_person columns:\", imdb_person.columns)\n",
    "print(\"imdb_person dimensions:\", imdb_person.ndim)\n",
    "print(\"imdb_person index:\", imdb_person.index)"
   ]
  },
  {
   "cell_type": "code",
   "execution_count": 42,
   "id": "96262080",
   "metadata": {},
   "outputs": [
    {
     "name": "stdout",
     "output_type": "stream",
     "text": [
      "<class 'pandas.core.frame.DataFrame'>\n",
      "RangeIndex: 37566 entries, 0 to 37565\n",
      "Data columns (total 3 columns):\n",
      " #   Column  Non-Null Count  Dtype \n",
      "---  ------  --------------  ----- \n",
      " 0   PID     37565 non-null  object\n",
      " 1   Name    37565 non-null  object\n",
      " 2   Gender  29341 non-null  object\n",
      "dtypes: object(3)\n",
      "memory usage: 880.6+ KB\n"
     ]
    }
   ],
   "source": [
    "# Info of imdb_person\n",
    "imdb_person.info()"
   ]
  },
  {
   "cell_type": "code",
   "execution_count": 43,
   "id": "18b195e1",
   "metadata": {},
   "outputs": [
    {
     "data": {
      "text/html": [
       "<div>\n",
       "<style scoped>\n",
       "    .dataframe tbody tr th:only-of-type {\n",
       "        vertical-align: middle;\n",
       "    }\n",
       "\n",
       "    .dataframe tbody tr th {\n",
       "        vertical-align: top;\n",
       "    }\n",
       "\n",
       "    .dataframe thead th {\n",
       "        text-align: right;\n",
       "    }\n",
       "</style>\n",
       "<table border=\"1\" class=\"dataframe\">\n",
       "  <thead>\n",
       "    <tr style=\"text-align: right;\">\n",
       "      <th></th>\n",
       "      <th>PID</th>\n",
       "      <th>Name</th>\n",
       "      <th>Gender</th>\n",
       "    </tr>\n",
       "  </thead>\n",
       "  <tbody>\n",
       "    <tr>\n",
       "      <th>count</th>\n",
       "      <td>37565</td>\n",
       "      <td>37565</td>\n",
       "      <td>29341</td>\n",
       "    </tr>\n",
       "    <tr>\n",
       "      <th>unique</th>\n",
       "      <td>37565</td>\n",
       "      <td>35599</td>\n",
       "      <td>2</td>\n",
       "    </tr>\n",
       "    <tr>\n",
       "      <th>top</th>\n",
       "      <td>nm0000288</td>\n",
       "      <td>Rajesh</td>\n",
       "      <td>Male</td>\n",
       "    </tr>\n",
       "    <tr>\n",
       "      <th>freq</th>\n",
       "      <td>1</td>\n",
       "      <td>12</td>\n",
       "      <td>19925</td>\n",
       "    </tr>\n",
       "  </tbody>\n",
       "</table>\n",
       "</div>"
      ],
      "text/plain": [
       "              PID     Name Gender\n",
       "count       37565    37565  29341\n",
       "unique      37565    35599      2\n",
       "top     nm0000288   Rajesh   Male\n",
       "freq            1       12  19925"
      ]
     },
     "execution_count": 43,
     "metadata": {},
     "output_type": "execute_result"
    }
   ],
   "source": [
    "# Statistical analysis using describe\n",
    "imdb_person.describe(include='all')"
   ]
  },
  {
   "cell_type": "code",
   "execution_count": 44,
   "id": "50980d31",
   "metadata": {},
   "outputs": [
    {
     "data": {
      "text/plain": [
       "PID       37565\n",
       "Name      35599\n",
       "Gender        2\n",
       "dtype: int64"
      ]
     },
     "execution_count": 44,
     "metadata": {},
     "output_type": "execute_result"
    }
   ],
   "source": [
    "# Number of unique values in each column\n",
    "imdb_person.nunique()"
   ]
  },
  {
   "cell_type": "code",
   "execution_count": 45,
   "id": "b47ce3f6",
   "metadata": {},
   "outputs": [
    {
     "data": {
      "text/plain": [
       "array(['nm0000288', 'nm0000949', 'nm1212722', ..., 'nm3769883',\n",
       "       'nm1470989', 'nm0298158'], dtype=object)"
      ]
     },
     "execution_count": 45,
     "metadata": {},
     "output_type": "execute_result"
    }
   ],
   "source": [
    "# Unique values in the 'PID' column\n",
    "imdb_person['PID'].unique()"
   ]
  },
  {
   "cell_type": "code",
   "execution_count": 46,
   "id": "d8e07e6b",
   "metadata": {},
   "outputs": [
    {
     "data": {
      "text/plain": [
       "array([' Christian Bale', ' Cate Blanchett', ' Benedict Cumberbatch', ...,\n",
       "       'Nasir Shaikh', 'Kannan', 'Adrian Fulle'], dtype=object)"
      ]
     },
     "execution_count": 46,
     "metadata": {},
     "output_type": "execute_result"
    }
   ],
   "source": [
    "# Unique values in the 'Name' column\n",
    "imdb_person['Name'].unique()"
   ]
  },
  {
   "cell_type": "code",
   "execution_count": 47,
   "id": "e65a1eb6",
   "metadata": {},
   "outputs": [
    {
     "data": {
      "text/plain": [
       "array(['Male', 'Female', None], dtype=object)"
      ]
     },
     "execution_count": 47,
     "metadata": {},
     "output_type": "execute_result"
    }
   ],
   "source": [
    "# Unique values in the 'Gender' column\n",
    "imdb_person['Gender'].unique()"
   ]
  },
  {
   "cell_type": "code",
   "execution_count": 48,
   "id": "1418b4de",
   "metadata": {},
   "outputs": [
    {
     "data": {
      "text/plain": [
       "nm0000288    1\n",
       "nm1624623    1\n",
       "nm0045140    1\n",
       "nm0457253    1\n",
       "nm1007338    1\n",
       "            ..\n",
       "nm0619684    1\n",
       "nm0465930    1\n",
       "nm0318693    1\n",
       "nm0594104    1\n",
       "nm0298158    1\n",
       "Name: PID, Length: 37565, dtype: int64"
      ]
     },
     "execution_count": 48,
     "metadata": {},
     "output_type": "execute_result"
    }
   ],
   "source": [
    "# Value count of the 'PID' column\n",
    "imdb_person['PID'].value_counts()"
   ]
  },
  {
   "cell_type": "code",
   "execution_count": 49,
   "id": "24eaf3e8",
   "metadata": {},
   "outputs": [
    {
     "data": {
      "text/plain": [
       " Rajesh              12\n",
       " Rahul               11\n",
       " Imran Khan          10\n",
       " Deepak               9\n",
       " Sanjay               8\n",
       "                     ..\n",
       " Avinash Nemade       1\n",
       " Agesh Markam         1\n",
       " Khunni Lal Maina     1\n",
       " Lakshmi              1\n",
       "Adrian Fulle          1\n",
       "Name: Name, Length: 35599, dtype: int64"
      ]
     },
     "execution_count": 49,
     "metadata": {},
     "output_type": "execute_result"
    }
   ],
   "source": [
    "# Value count of the 'Name' column\n",
    "imdb_person['Name'].value_counts()"
   ]
  },
  {
   "cell_type": "code",
   "execution_count": 50,
   "id": "7d74fc84",
   "metadata": {},
   "outputs": [
    {
     "data": {
      "text/plain": [
       "Male      19925\n",
       "Female     9416\n",
       "Name: Gender, dtype: int64"
      ]
     },
     "execution_count": 50,
     "metadata": {},
     "output_type": "execute_result"
    }
   ],
   "source": [
    "# Value count of the 'Gender' column\n",
    "imdb_person['Gender'].value_counts()"
   ]
  },
  {
   "cell_type": "code",
   "execution_count": 51,
   "id": "11e8eed0",
   "metadata": {},
   "outputs": [
    {
     "data": {
      "text/plain": [
       "PID          1\n",
       "Name         1\n",
       "Gender    8225\n",
       "dtype: int64"
      ]
     },
     "execution_count": 51,
     "metadata": {},
     "output_type": "execute_result"
    }
   ],
   "source": [
    "# Checking for null values in imdb_person\n",
    "imdb_person.isna().sum()"
   ]
  },
  {
   "cell_type": "markdown",
   "id": "1b55217d",
   "metadata": {},
   "source": [
    "Null values are present in all the columns"
   ]
  },
  {
   "cell_type": "code",
   "execution_count": 52,
   "id": "d218faf7",
   "metadata": {},
   "outputs": [
    {
     "data": {
      "text/plain": [
       "PID       0\n",
       "Name      0\n",
       "Gender    0\n",
       "dtype: int64"
      ]
     },
     "execution_count": 52,
     "metadata": {},
     "output_type": "execute_result"
    }
   ],
   "source": [
    "# Dropping null rows\n",
    "imdb_person.dropna(how='all', inplace=True)\n",
    "\n",
    "# Treating null values in imdb_person\n",
    "imdb_person['Gender'] = imdb_person['Gender'].fillna('Unknown')\n",
    "\n",
    "# Again checking for null values in imdb_person\n",
    "imdb_person.isna().sum()"
   ]
  },
  {
   "cell_type": "code",
   "execution_count": 53,
   "id": "1277d01f",
   "metadata": {},
   "outputs": [
    {
     "data": {
      "text/html": [
       "<div>\n",
       "<style scoped>\n",
       "    .dataframe tbody tr th:only-of-type {\n",
       "        vertical-align: middle;\n",
       "    }\n",
       "\n",
       "    .dataframe tbody tr th {\n",
       "        vertical-align: top;\n",
       "    }\n",
       "\n",
       "    .dataframe thead th {\n",
       "        text-align: right;\n",
       "    }\n",
       "</style>\n",
       "<table border=\"1\" class=\"dataframe\">\n",
       "  <thead>\n",
       "    <tr style=\"text-align: right;\">\n",
       "      <th></th>\n",
       "      <th>PID</th>\n",
       "      <th>Name</th>\n",
       "      <th>Gender</th>\n",
       "    </tr>\n",
       "  </thead>\n",
       "  <tbody>\n",
       "  </tbody>\n",
       "</table>\n",
       "</div>"
      ],
      "text/plain": [
       "Empty DataFrame\n",
       "Columns: [PID, Name, Gender]\n",
       "Index: []"
      ]
     },
     "execution_count": 53,
     "metadata": {},
     "output_type": "execute_result"
    }
   ],
   "source": [
    "# Checking for duplicate rows in imdb_person\n",
    "imdb_person[imdb_person.duplicated()]"
   ]
  },
  {
   "cell_type": "markdown",
   "id": "cfd7dc6e",
   "metadata": {},
   "source": [
    "No duplicate rows found in imdb_person"
   ]
  },
  {
   "cell_type": "code",
   "execution_count": 54,
   "id": "e5d1614d",
   "metadata": {},
   "outputs": [],
   "source": [
    "# Removing empty space seen at the start of the string \n",
    "imdb_person['Name'] = imdb_person['Name'].str.strip(' ')"
   ]
  },
  {
   "cell_type": "code",
   "execution_count": 55,
   "id": "ddbe3a1a",
   "metadata": {},
   "outputs": [
    {
     "data": {
      "image/png": "[encoded data removed]",
      "text/plain": [
       "<Figure size 432x288 with 1 Axes>"
      ]
     },
     "metadata": {
      "needs_background": "light"
     },
     "output_type": "display_data"
    }
   ],
   "source": [
    "# Count plot of 'Gender' column\n",
    "sns.countplot(data=imdb_person, x='Gender')\n",
    "plt.show()"
   ]
  },
  {
   "cell_type": "markdown",
   "id": "c6c11c56",
   "metadata": {},
   "source": [
    "The count of the 'Male' is greater than the 'Female' count"
   ]
  },
  {
   "cell_type": "markdown",
   "id": "bf0322b8",
   "metadata": {},
   "source": [
    "### Genre"
   ]
  },
  {
   "cell_type": "code",
   "execution_count": 56,
   "id": "b0fa465b",
   "metadata": {},
   "outputs": [
    {
     "data": {
      "text/html": [
       "<div>\n",
       "<style scoped>\n",
       "    .dataframe tbody tr th:only-of-type {\n",
       "        vertical-align: middle;\n",
       "    }\n",
       "\n",
       "    .dataframe tbody tr th {\n",
       "        vertical-align: top;\n",
       "    }\n",
       "\n",
       "    .dataframe thead th {\n",
       "        text-align: right;\n",
       "    }\n",
       "</style>\n",
       "<table border=\"1\" class=\"dataframe\">\n",
       "  <thead>\n",
       "    <tr style=\"text-align: right;\">\n",
       "      <th></th>\n",
       "      <th>index</th>\n",
       "      <th>Name</th>\n",
       "      <th>GID</th>\n",
       "    </tr>\n",
       "  </thead>\n",
       "  <tbody>\n",
       "    <tr>\n",
       "      <th>0</th>\n",
       "      <td>0</td>\n",
       "      <td>Adventure, Drama, Fantasy</td>\n",
       "      <td>0</td>\n",
       "    </tr>\n",
       "    <tr>\n",
       "      <th>1</th>\n",
       "      <td>1</td>\n",
       "      <td>Action, Comedy, Crime</td>\n",
       "      <td>1</td>\n",
       "    </tr>\n",
       "    <tr>\n",
       "      <th>2</th>\n",
       "      <td>2</td>\n",
       "      <td>Action, Adventure, Fantasy</td>\n",
       "      <td>2</td>\n",
       "    </tr>\n",
       "    <tr>\n",
       "      <th>3</th>\n",
       "      <td>3</td>\n",
       "      <td>Action, Adventure, Sci-Fi</td>\n",
       "      <td>3</td>\n",
       "    </tr>\n",
       "    <tr>\n",
       "      <th>4</th>\n",
       "      <td>4</td>\n",
       "      <td>Drama, Horror, Thriller</td>\n",
       "      <td>4</td>\n",
       "    </tr>\n",
       "  </tbody>\n",
       "</table>\n",
       "</div>"
      ],
      "text/plain": [
       "   index                                    Name  GID\n",
       "0      0   Adventure, Drama, Fantasy                0\n",
       "1      1       Action, Comedy, Crime                1\n",
       "2      2  Action, Adventure, Fantasy                2\n",
       "3      3   Action, Adventure, Sci-Fi                3\n",
       "4      4     Drama, Horror, Thriller                4"
      ]
     },
     "execution_count": 56,
     "metadata": {},
     "output_type": "execute_result"
    }
   ],
   "source": [
    "sql_query_genre = \"\"\"SELECT * FROM Genre\"\"\"\n",
    "imdb_genre = pd.read_sql_query(sql_query_genre, conne)\n",
    "\n",
    "# First few rows of imdb_genre\n",
    "imdb_genre.head()"
   ]
  },
  {
   "cell_type": "code",
   "execution_count": 57,
   "id": "f79c9be3",
   "metadata": {},
   "outputs": [],
   "source": [
    "# Dropping 'index' column from imdb_genre\n",
    "imdb_genre.drop('index', axis=1, inplace=True)"
   ]
  },
  {
   "cell_type": "code",
   "execution_count": 58,
   "id": "5531562e",
   "metadata": {},
   "outputs": [
    {
     "data": {
      "text/html": [
       "<div>\n",
       "<style scoped>\n",
       "    .dataframe tbody tr th:only-of-type {\n",
       "        vertical-align: middle;\n",
       "    }\n",
       "\n",
       "    .dataframe tbody tr th {\n",
       "        vertical-align: top;\n",
       "    }\n",
       "\n",
       "    .dataframe thead th {\n",
       "        text-align: right;\n",
       "    }\n",
       "</style>\n",
       "<table border=\"1\" class=\"dataframe\">\n",
       "  <thead>\n",
       "    <tr style=\"text-align: right;\">\n",
       "      <th></th>\n",
       "      <th>Name</th>\n",
       "      <th>GID</th>\n",
       "    </tr>\n",
       "  </thead>\n",
       "  <tbody>\n",
       "    <tr>\n",
       "      <th>323</th>\n",
       "      <td>Animation, Adventure, Fantasy</td>\n",
       "      <td>323</td>\n",
       "    </tr>\n",
       "    <tr>\n",
       "      <th>324</th>\n",
       "      <td>Biography, Drama, War</td>\n",
       "      <td>324</td>\n",
       "    </tr>\n",
       "    <tr>\n",
       "      <th>325</th>\n",
       "      <td>Animation, Drama, Adventure</td>\n",
       "      <td>325</td>\n",
       "    </tr>\n",
       "    <tr>\n",
       "      <th>326</th>\n",
       "      <td>Drama, Action</td>\n",
       "      <td>326</td>\n",
       "    </tr>\n",
       "    <tr>\n",
       "      <th>327</th>\n",
       "      <td>Drama, Mystery, Sci-Fi</td>\n",
       "      <td>327</td>\n",
       "    </tr>\n",
       "  </tbody>\n",
       "</table>\n",
       "</div>"
      ],
      "text/plain": [
       "                                          Name  GID\n",
       "323  Animation, Adventure, Fantasy              323\n",
       "324          Biography, Drama, War              324\n",
       "325    Animation, Drama, Adventure              325\n",
       "326                  Drama, Action              326\n",
       "327         Drama, Mystery, Sci-Fi              327"
      ]
     },
     "execution_count": 58,
     "metadata": {},
     "output_type": "execute_result"
    }
   ],
   "source": [
    "# Last few rows of imdb_genre\n",
    "imdb_genre.tail()"
   ]
  },
  {
   "cell_type": "code",
   "execution_count": 59,
   "id": "c84def45",
   "metadata": {},
   "outputs": [
    {
     "name": "stdout",
     "output_type": "stream",
     "text": [
      "imdb_genre shape: (328, 2)\n",
      "imdb_genre size: 656\n",
      "imdb_genre columns: Index(['Name', 'GID'], dtype='object')\n",
      "imdb_genre dimensions: 2\n",
      "imdb_genre index: RangeIndex(start=0, stop=328, step=1)\n"
     ]
    }
   ],
   "source": [
    "print(\"imdb_genre shape:\", imdb_genre.shape)\n",
    "print(\"imdb_genre size:\", imdb_genre.size)\n",
    "print(\"imdb_genre columns:\", imdb_genre.columns)\n",
    "print(\"imdb_genre dimensions:\", imdb_genre.ndim)\n",
    "print(\"imdb_genre index:\", imdb_genre.index)"
   ]
  },
  {
   "cell_type": "code",
   "execution_count": 60,
   "id": "43413c87",
   "metadata": {},
   "outputs": [
    {
     "name": "stdout",
     "output_type": "stream",
     "text": [
      "<class 'pandas.core.frame.DataFrame'>\n",
      "RangeIndex: 328 entries, 0 to 327\n",
      "Data columns (total 2 columns):\n",
      " #   Column  Non-Null Count  Dtype \n",
      "---  ------  --------------  ----- \n",
      " 0   Name    328 non-null    object\n",
      " 1   GID     328 non-null    int64 \n",
      "dtypes: int64(1), object(1)\n",
      "memory usage: 5.2+ KB\n"
     ]
    }
   ],
   "source": [
    "# Info of imdb_genre\n",
    "imdb_genre.info()"
   ]
  },
  {
   "cell_type": "code",
   "execution_count": 61,
   "id": "3cdeaf26",
   "metadata": {},
   "outputs": [
    {
     "data": {
      "text/html": [
       "<div>\n",
       "<style scoped>\n",
       "    .dataframe tbody tr th:only-of-type {\n",
       "        vertical-align: middle;\n",
       "    }\n",
       "\n",
       "    .dataframe tbody tr th {\n",
       "        vertical-align: top;\n",
       "    }\n",
       "\n",
       "    .dataframe thead th {\n",
       "        text-align: right;\n",
       "    }\n",
       "</style>\n",
       "<table border=\"1\" class=\"dataframe\">\n",
       "  <thead>\n",
       "    <tr style=\"text-align: right;\">\n",
       "      <th></th>\n",
       "      <th>Name</th>\n",
       "      <th>GID</th>\n",
       "    </tr>\n",
       "  </thead>\n",
       "  <tbody>\n",
       "    <tr>\n",
       "      <th>count</th>\n",
       "      <td>328</td>\n",
       "      <td>328.000000</td>\n",
       "    </tr>\n",
       "    <tr>\n",
       "      <th>unique</th>\n",
       "      <td>328</td>\n",
       "      <td>NaN</td>\n",
       "    </tr>\n",
       "    <tr>\n",
       "      <th>top</th>\n",
       "      <td>Adventure, Drama, Fantasy</td>\n",
       "      <td>NaN</td>\n",
       "    </tr>\n",
       "    <tr>\n",
       "      <th>freq</th>\n",
       "      <td>1</td>\n",
       "      <td>NaN</td>\n",
       "    </tr>\n",
       "    <tr>\n",
       "      <th>mean</th>\n",
       "      <td>NaN</td>\n",
       "      <td>163.500000</td>\n",
       "    </tr>\n",
       "    <tr>\n",
       "      <th>std</th>\n",
       "      <td>NaN</td>\n",
       "      <td>94.829672</td>\n",
       "    </tr>\n",
       "    <tr>\n",
       "      <th>min</th>\n",
       "      <td>NaN</td>\n",
       "      <td>0.000000</td>\n",
       "    </tr>\n",
       "    <tr>\n",
       "      <th>25%</th>\n",
       "      <td>NaN</td>\n",
       "      <td>81.750000</td>\n",
       "    </tr>\n",
       "    <tr>\n",
       "      <th>50%</th>\n",
       "      <td>NaN</td>\n",
       "      <td>163.500000</td>\n",
       "    </tr>\n",
       "    <tr>\n",
       "      <th>75%</th>\n",
       "      <td>NaN</td>\n",
       "      <td>245.250000</td>\n",
       "    </tr>\n",
       "    <tr>\n",
       "      <th>max</th>\n",
       "      <td>NaN</td>\n",
       "      <td>327.000000</td>\n",
       "    </tr>\n",
       "  </tbody>\n",
       "</table>\n",
       "</div>"
      ],
      "text/plain": [
       "                                         Name         GID\n",
       "count                                     328  328.000000\n",
       "unique                                    328         NaN\n",
       "top     Adventure, Drama, Fantasy                     NaN\n",
       "freq                                        1         NaN\n",
       "mean                                      NaN  163.500000\n",
       "std                                       NaN   94.829672\n",
       "min                                       NaN    0.000000\n",
       "25%                                       NaN   81.750000\n",
       "50%                                       NaN  163.500000\n",
       "75%                                       NaN  245.250000\n",
       "max                                       NaN  327.000000"
      ]
     },
     "execution_count": 61,
     "metadata": {},
     "output_type": "execute_result"
    }
   ],
   "source": [
    "# Statistical analysis using describe\n",
    "imdb_genre.describe(include='all')"
   ]
  },
  {
   "cell_type": "code",
   "execution_count": 62,
   "id": "c972966c",
   "metadata": {},
   "outputs": [
    {
     "data": {
      "text/plain": [
       "Name    328\n",
       "GID     328\n",
       "dtype: int64"
      ]
     },
     "execution_count": 62,
     "metadata": {},
     "output_type": "execute_result"
    }
   ],
   "source": [
    "# Number of unique values in each column\n",
    "imdb_genre.nunique()"
   ]
  },
  {
   "cell_type": "code",
   "execution_count": 63,
   "id": "46a41453",
   "metadata": {},
   "outputs": [
    {
     "data": {
      "text/plain": [
       "array(['Adventure, Drama, Fantasy            ',\n",
       "       'Action, Comedy, Crime            ',\n",
       "       'Action, Adventure, Fantasy            ',\n",
       "       'Action, Adventure, Sci-Fi            ',\n",
       "       'Drama, Horror, Thriller            ',\n",
       "       'Drama, Romance            ',\n",
       "       'Comedy, Crime, Thriller            ',\n",
       "       'Biography, Drama            ',\n",
       "       'Comedy, Drama, Family            ',\n",
       "       'Action, Sci-Fi, Thriller            ', 'Comedy            ',\n",
       "       'Drama, Sci-Fi            ', 'Action, Thriller            ',\n",
       "       'Action, Comedy, Sci-Fi            ', 'Comedy, Horror            ',\n",
       "       'Action, Adventure            ', 'Comedy, Drama            ',\n",
       "       'Crime, Drama, History            ',\n",
       "       'Adventure, Comedy, Drama            ', 'Drama            ',\n",
       "       'Comedy, Drama, Romance            ',\n",
       "       'Action, Biography, Drama            ', 'Romance            ',\n",
       "       'Action, Comedy, Drama            ',\n",
       "       'Drama, Romance, Sci-Fi            ',\n",
       "       'Adventure, Comedy            ', 'Drama, Family            ',\n",
       "       'Action, Drama, History            ',\n",
       "       'Comedy, Drama, Fantasy            ',\n",
       "       'Adventure, Biography, Drama            ',\n",
       "       'Action, Adventure, Thriller            ',\n",
       "       'Crime, Drama, Romance            ',\n",
       "       'Biography, Drama, History            ',\n",
       "       'Biography, Comedy, Drama            ',\n",
       "       'Drama, Thriller            ',\n",
       "       'Action, Drama, Mystery            ',\n",
       "       'Action, Adventure, Comedy            ',\n",
       "       'Adventure, Drama, Thriller            ',\n",
       "       'Drama, History, Romance            ',\n",
       "       'Action, Drama, Thriller            ',\n",
       "       'Comedy, Romance            ',\n",
       "       'Adventure, Drama, Musical            ',\n",
       "       'Action, Crime, Thriller            ',\n",
       "       'Crime, Drama, Mystery            ',\n",
       "       'Action, Drama, Fantasy            ',\n",
       "       'Drama, History, Sport            ', 'Action, Drama            ',\n",
       "       'Biography, Drama, Sport            ',\n",
       "       'Action, Drama, Sport            ',\n",
       "       'Comedy, Drama, Musical            ',\n",
       "       'Crime, Drama, Thriller            ',\n",
       "       'Adventure, Drama, History            ',\n",
       "       'Drama, Musical, Romance            ',\n",
       "       'Crime, Thriller            ', 'Action, Crime, Drama            ',\n",
       "       'Crime, Drama            ', 'Biography, Crime, Drama            ',\n",
       "       'Mystery, Thriller            ',\n",
       "       'Action, Drama, Romance            ',\n",
       "       'Animation, Adventure, Comedy            ',\n",
       "       'Drama, Family, Romance            ',\n",
       "       'Biography, Sport            ', 'Drama, History            ',\n",
       "       'Drama, Music, Musical            ', 'Drama, Music            ',\n",
       "       'Action, Comedy, Romance            ', 'Horror            ',\n",
       "       'Action, Drama, Musical            ',\n",
       "       'Drama, Mystery, Thriller            ',\n",
       "       'Action, Adventure, Romance            ', 'Drama, War            ',\n",
       "       'Drama, Family, Musical            ', 'Action, Comedy            ',\n",
       "       'Comedy, Drama, Music            ',\n",
       "       'Action, Biography, Crime            ', 'Drama, Sport            ',\n",
       "       'Comedy, Thriller            ',\n",
       "       'Comedy, Drama, Horror            ',\n",
       "       'Fantasy, Horror, Mystery            ',\n",
       "       'Drama, Family, Sport            ',\n",
       "       'Action, Adventure, Crime            ',\n",
       "       'Comedy, Music, Romance            ',\n",
       "       'Action, Comedy, History            ',\n",
       "       'Musical, Drama, Romance            ', 'Thriller            ',\n",
       "       'Comedy, Crime, Drama            ',\n",
       "       'Adventure, Crime, Drama            ',\n",
       "       'Action, Romance            ',\n",
       "       'Action, Comedy, Musical            ',\n",
       "       'Action, Comedy, Fantasy            ',\n",
       "       'Action, Adventure, Drama            ',\n",
       "       'Action, Romance, Thriller            ',\n",
       "       'Action, Crime, History            ',\n",
       "       'Biography, Drama, Thriller            ',\n",
       "       'Drama, Fantasy, Mystery            ',\n",
       "       'Musical, Romance, Drama            ',\n",
       "       'Action, History, Thriller            ',\n",
       "       'Action, Drama, Music            ', 'Horror, Mystery            ',\n",
       "       'Comedy, Family, Romance            ', 'Comedy, Crime            ',\n",
       "       'Crime, Drama, Musical            ',\n",
       "       'Crime, Mystery, Thriller            ',\n",
       "       'Comedy, Drama, Sport            ',\n",
       "       'Drama, Fantasy, Romance            ',\n",
       "       'Musical, Romance            ',\n",
       "       'Biography, Drama, Music            ',\n",
       "       'Drama, Mystery, Romance            ', 'Comedy, Sport            ',\n",
       "       'Comedy, Musical, Romance            ',\n",
       "       'Comedy, Family, Sci-Fi            ',\n",
       "       'Action, Drama, Horror            ', 'Action            ',\n",
       "       'Romance, Comedy, Drama            ',\n",
       "       'Horror, Thriller            ', 'Crime, Mystery            ',\n",
       "       'Drama, Romance, Thriller            ',\n",
       "       'Comedy, Horror, Mystery            ',\n",
       "       'Animation, Family            ',\n",
       "       'Animation, Action, Adventure            ',\n",
       "       'Adventure, Drama            ', 'Romance, Comedy            ',\n",
       "       'Adventure, Horror, Mystery            ',\n",
       "       'Action, Drama, War            ',\n",
       "       'Adventure, Comedy, Crime            ',\n",
       "       'Adventure, Thriller            ',\n",
       "       'Romance, Action, Drama            ',\n",
       "       'Comedy, Romance, Sci-Fi            ',\n",
       "       'Animation, Action            ',\n",
       "       'Action, Biography, History            ',\n",
       "       'Drama, Musical, Family            ',\n",
       "       'Drama, Romance, Sport            ',\n",
       "       'Adventure, Drama, Romance            ',\n",
       "       'Horror, Mystery, Romance            ', 'Sci-Fi            ',\n",
       "       'Drama, Horror, Romance            ',\n",
       "       'Biography, Drama, Romance            ',\n",
       "       'Drama, Musical            ', 'Action, Crime, Musical            ',\n",
       "       'Adventure, Drama, Crime            ',\n",
       "       'Action, Romance, Comedy            ',\n",
       "       'Drama, Romance, Musical            ',\n",
       "       'Fantasy, Horror, Romance            ',\n",
       "       'Action, Musical, Romance            ',\n",
       "       'Action, Horror, Thriller            ',\n",
       "       'Musical, Drama, Family            ',\n",
       "       'Musical, Comedy, Romance            ',\n",
       "       'Adventure, Drama, Family            ',\n",
       "       'Drama, Thriller, Action            ',\n",
       "       'Action, Comedy, Thriller            ',\n",
       "       'Animation, Family, Musical            ',\n",
       "       'Drama, Mystery            ',\n",
       "       'Action, Thriller, Crime            ',\n",
       "       'Drama, Family, Music            ',\n",
       "       'Mystery, Romance, Thriller            ',\n",
       "       'Drama, History, War            ', 'Fantasy, Drama            ',\n",
       "       'Comedy, Musical            ', 'Romance, Drama            ',\n",
       "       'Drama, Horror, Mystery            ',\n",
       "       'Horror, Sci-Fi, Thriller            ',\n",
       "       'Action, Mystery, Thriller            ',\n",
       "       'Drama, Horror, Musical            ',\n",
       "       'Drama, History, Thriller            ',\n",
       "       'Action, Mystery, Romance            ',\n",
       "       'Action, Musical, War            ',\n",
       "       'Comedy, Musical, Mystery            ',\n",
       "       'Animation, Sci-Fi            ',\n",
       "       'Horror, Romance, Thriller            ',\n",
       "       'Romance, Thriller            ', 'Drama, Romance, War            ',\n",
       "       'Comedy, Mystery            ',\n",
       "       'Family, Romance, Sport            ',\n",
       "       'Drama, Action, Crime            ',\n",
       "       'Musical, Drama, Action            ',\n",
       "       'Fantasy, Romance            ', 'Animation            ',\n",
       "       'Musical, Drama, Comedy            ', 'Crime            ',\n",
       "       'Action, Crime            ',\n",
       "       'Comedy, Fantasy, Romance            ',\n",
       "       'Comedy, Mystery, Thriller            ',\n",
       "       'Musical, Mystery, Romance            ',\n",
       "       'Drama, Action, Adventure            ',\n",
       "       'Adventure, Romance            ',\n",
       "       'Action, Crime, Romance            ', 'Family            ',\n",
       "       'Comedy, Romance, Musical            ',\n",
       "       'Drama, Romance, Family            ',\n",
       "       'Drama, Musical, Mystery            ',\n",
       "       'Comedy, Fantasy            ',\n",
       "       'Comedy, Musical, Drama            ', 'Drama, Horror            ',\n",
       "       'Action, Musical, Drama            ',\n",
       "       'Romance, Musical, Drama            ',\n",
       "       'Comedy, Crime, Mystery            ',\n",
       "       'Musical, Drama, Thriller            ',\n",
       "       'Thriller, Musical, Mystery            ',\n",
       "       'Romance, Musical, Action            ',\n",
       "       'Action, Crime, Sci-Fi            ',\n",
       "       'Horror, Mystery, Thriller            ',\n",
       "       'Action, Fantasy, Sci-Fi            ',\n",
       "       'Action, Crime, Horror            ',\n",
       "       'Action, Comedy, Mystery            ',\n",
       "       'Drama, Comedy, Family            ',\n",
       "       'Mystery, Drama, Thriller            ',\n",
       "       'Adventure, Horror, Romance            ',\n",
       "       'Adventure, Comedy, Family            ', 'Fantasy            ',\n",
       "       'Comedy, Drama, Thriller            ',\n",
       "       'Musical, Fantasy            ',\n",
       "       'Comedy, Mystery, Crime            ',\n",
       "       'Romance, Action, Crime            ',\n",
       "       'Musical, Family, Romance            ',\n",
       "       'Drama, Family, Comedy            ',\n",
       "       'Drama, Music, Romance            ', 'Musical            ',\n",
       "       'Action, Fantasy, Thriller            ',\n",
       "       'Animation, History            ', 'Family, Drama            ',\n",
       "       'Animation, Adventure, Family            ',\n",
       "       'Action, Drama, Family            ', 'Drama, Fantasy            ',\n",
       "       'Mystery, Sci-Fi, Thriller            ',\n",
       "       'Fantasy, Family            ',\n",
       "       'Drama, Family, History            ',\n",
       "       'Fantasy, Thriller            ', 'Family, Romance            ',\n",
       "       'Drama, Fantasy, Musical            ',\n",
       "       'Crime, Drama, Fantasy            ',\n",
       "       'Action, Musical, Mystery            ',\n",
       "       'Musical, Mystery, Drama            ',\n",
       "       'Drama, Crime, Family            ',\n",
       "       'Family, Musical, Romance            ',\n",
       "       'Comedy, Crime, Romance            ',\n",
       "       'Comedy, Romance, Drama            ',\n",
       "       'Musical, Action, Drama            ',\n",
       "       'Adventure, Fantasy, Sci-Fi            ',\n",
       "       'Drama, History, Musical            ',\n",
       "       'Fantasy, Thriller, Action            ',\n",
       "       'Romance, Musical, Comedy            ',\n",
       "       'Action, Adventure, Family            ',\n",
       "       'Drama, Adventure, Action            ',\n",
       "       'Crime, Romance, Thriller            ',\n",
       "       'Musical, Drama, Crime            ', 'Comedy, Family            ',\n",
       "       'Comedy, Romance, Thriller            ',\n",
       "       'Fantasy, Mystery, Romance            ',\n",
       "       'Action, Drama, Comedy            ',\n",
       "       'Comedy, Drama, Mystery            ',\n",
       "       'Drama, Family, Thriller            ',\n",
       "       'Action, Crime, Mystery            ',\n",
       "       'Musical, Romance, Thriller            ',\n",
       "       'Crime, Musical, Romance            ',\n",
       "       'Fantasy, Musical, Romance            ',\n",
       "       'Musical, Thriller            ',\n",
       "       'Comedy, Drama, History            ',\n",
       "       'Drama, Family, Mystery            ',\n",
       "       'History, Musical, Romance            ',\n",
       "       'Crime, Romance            ', 'Drama, Family, Fantasy            ',\n",
       "       'Horror, Drama, Mystery            ',\n",
       "       'Family, Fantasy            ', 'Drama, Crime, Mystery            ',\n",
       "       'Action, Family            ', 'Comedy, War            ',\n",
       "       'Mystery            ', 'Drama, Action, Comedy            ',\n",
       "       'Family, Mystery            ', 'Horror, Romance            ',\n",
       "       'Mystery, Sci-Fi            ',\n",
       "       'Action, Horror, Sci-Fi            ',\n",
       "       'Romance, Sci-Fi, Thriller            ',\n",
       "       'Drama, Fantasy, Thriller            ', 'Action, War            ',\n",
       "       'Adventure, Drama, Sci-Fi            ',\n",
       "       'Thriller, Action, Crime            ',\n",
       "       'Comedy, Crime, Family            ',\n",
       "       'Mystery, Romance, Musical            ',\n",
       "       'Biography, History            ', 'Drama, Comedy            ',\n",
       "       'Musical, Drama            ', 'History            ',\n",
       "       'Animation, Comedy, Drama            ',\n",
       "       'Crime, Drama, Action            ',\n",
       "       'Family, Musical, Drama            ',\n",
       "       'Thriller, Mystery            ',\n",
       "       'Action, Drama, Western            ',\n",
       "       'Comedy, Family, Fantasy            ',\n",
       "       'Crime, Mystery, Romance            ', 'Biography            ',\n",
       "       'Action, Thriller, Romance            ',\n",
       "       'Mystery, Musical, Romance            ',\n",
       "       'Crime, Horror, Mystery            ',\n",
       "       'Action, Fantasy            ',\n",
       "       'Action, Horror, Mystery            ',\n",
       "       'Musical, Thriller, Mystery            ',\n",
       "       'Action, Adventure, Musical            ',\n",
       "       'Crime, Drama, Horror            ',\n",
       "       'Drama, Action, Musical            ',\n",
       "       'Animation, Drama, Musical            ',\n",
       "       'Thriller, Action            ',\n",
       "       'Family, Romance, Drama            ',\n",
       "       'Fantasy, Horror            ', 'Adventure, History            ',\n",
       "       'Family, Romance, Comedy            ',\n",
       "       'Adventure, Musical, Romance            ',\n",
       "       'Family, Adventure, Fantasy            ',\n",
       "       'Musical, Mystery, Thriller            ', 'Null',\n",
       "       'Comedy, Drama, Sci-Fi            ',\n",
       "       'Comedy, Musical, Family            ',\n",
       "       'Action, Drama, Crime            ',\n",
       "       'Adventure, Mystery, Thriller            ',\n",
       "       'Comedy, Action            ',\n",
       "       'Comedy, Musical, Action            ',\n",
       "       'Comedy, Sci-Fi            ', 'Crime, Drama, Family            ',\n",
       "       'Drama, Crime            ', 'Animation, Adventure            ',\n",
       "       'Biography, Crime, Thriller            ',\n",
       "       'Adventure, Comedy, Fantasy            ',\n",
       "       'Comedy, Horror, Musical            ',\n",
       "       'Animation, Adventure, Fantasy            ',\n",
       "       'Biography, Drama, War            ',\n",
       "       'Animation, Drama, Adventure            ',\n",
       "       'Drama, Action            ', 'Drama, Mystery, Sci-Fi            '],\n",
       "      dtype=object)"
      ]
     },
     "execution_count": 63,
     "metadata": {},
     "output_type": "execute_result"
    }
   ],
   "source": [
    "# Unique values in the 'Name' column\n",
    "imdb_genre['Name'].unique()"
   ]
  },
  {
   "cell_type": "code",
   "execution_count": 64,
   "id": "93cd596a",
   "metadata": {},
   "outputs": [
    {
     "data": {
      "text/plain": [
       "array([  0,   1,   2,   3,   4,   5,   6,   7,   8,   9,  10,  11,  12,\n",
       "        13,  14,  15,  16,  17,  18,  19,  20,  21,  22,  23,  24,  25,\n",
       "        26,  27,  28,  29,  30,  31,  32,  33,  34,  35,  36,  37,  38,\n",
       "        39,  40,  41,  42,  43,  44,  45,  46,  47,  48,  49,  50,  51,\n",
       "        52,  53,  54,  55,  56,  57,  58,  59,  60,  61,  62,  63,  64,\n",
       "        65,  66,  67,  68,  69,  70,  71,  72,  73,  74,  75,  76,  77,\n",
       "        78,  79,  80,  81,  82,  83,  84,  85,  86,  87,  88,  89,  90,\n",
       "        91,  92,  93,  94,  95,  96,  97,  98,  99, 100, 101, 102, 103,\n",
       "       104, 105, 106, 107, 108, 109, 110, 111, 112, 113, 114, 115, 116,\n",
       "       117, 118, 119, 120, 121, 122, 123, 124, 125, 126, 127, 128, 129,\n",
       "       130, 131, 132, 133, 134, 135, 136, 137, 138, 139, 140, 141, 142,\n",
       "       143, 144, 145, 146, 147, 148, 149, 150, 151, 152, 153, 154, 155,\n",
       "       156, 157, 158, 159, 160, 161, 162, 163, 164, 165, 166, 167, 168,\n",
       "       169, 170, 171, 172, 173, 174, 175, 176, 177, 178, 179, 180, 181,\n",
       "       182, 183, 184, 185, 186, 187, 188, 189, 190, 191, 192, 193, 194,\n",
       "       195, 196, 197, 198, 199, 200, 201, 202, 203, 204, 205, 206, 207,\n",
       "       208, 209, 210, 211, 212, 213, 214, 215, 216, 217, 218, 219, 220,\n",
       "       221, 222, 223, 224, 225, 226, 227, 228, 229, 230, 231, 232, 233,\n",
       "       234, 235, 236, 237, 238, 239, 240, 241, 242, 243, 244, 245, 246,\n",
       "       247, 248, 249, 250, 251, 252, 253, 254, 255, 256, 257, 258, 259,\n",
       "       260, 261, 262, 263, 264, 265, 266, 267, 268, 269, 270, 271, 272,\n",
       "       273, 274, 275, 276, 277, 278, 279, 280, 281, 282, 283, 284, 285,\n",
       "       286, 287, 288, 289, 290, 291, 292, 293, 294, 295, 296, 297, 298,\n",
       "       299, 300, 301, 302, 303, 304, 305, 306, 307, 308, 309, 310, 311,\n",
       "       312, 313, 314, 315, 316, 317, 318, 319, 320, 321, 322, 323, 324,\n",
       "       325, 326, 327], dtype=int64)"
      ]
     },
     "execution_count": 64,
     "metadata": {},
     "output_type": "execute_result"
    }
   ],
   "source": [
    "# Unique values in the 'GID' column\n",
    "imdb_genre['GID'].unique()"
   ]
  },
  {
   "cell_type": "code",
   "execution_count": 65,
   "id": "0e64cb8b",
   "metadata": {},
   "outputs": [
    {
     "data": {
      "text/plain": [
       "Adventure, Drama, Fantasy                1\n",
       "Drama, Family, History                   1\n",
       "Mystery, Sci-Fi, Thriller                1\n",
       "Drama, Fantasy                           1\n",
       "Action, Drama, Family                    1\n",
       "                                        ..\n",
       "Comedy, Sport                            1\n",
       "Drama, Mystery, Romance                  1\n",
       "Biography, Drama, Music                  1\n",
       "Musical, Romance                         1\n",
       "Drama, Mystery, Sci-Fi                   1\n",
       "Name: Name, Length: 328, dtype: int64"
      ]
     },
     "execution_count": 65,
     "metadata": {},
     "output_type": "execute_result"
    }
   ],
   "source": [
    "# Value count of the 'Name' column\n",
    "imdb_genre['Name'].value_counts()"
   ]
  },
  {
   "cell_type": "code",
   "execution_count": 66,
   "id": "b999d7ae",
   "metadata": {},
   "outputs": [
    {
     "data": {
      "text/plain": [
       "0      1\n",
       "225    1\n",
       "223    1\n",
       "222    1\n",
       "221    1\n",
       "      ..\n",
       "108    1\n",
       "107    1\n",
       "106    1\n",
       "105    1\n",
       "327    1\n",
       "Name: GID, Length: 328, dtype: int64"
      ]
     },
     "execution_count": 66,
     "metadata": {},
     "output_type": "execute_result"
    }
   ],
   "source": [
    "# Value count of the 'GID' column\n",
    "imdb_genre['GID'].value_counts()"
   ]
  },
  {
   "cell_type": "code",
   "execution_count": 67,
   "id": "c0d1d322",
   "metadata": {},
   "outputs": [
    {
     "data": {
      "image/png": "[encoded data removed]",
      "text/plain": [
       "<Figure size 432x288 with 1 Axes>"
      ]
     },
     "metadata": {
      "needs_background": "light"
     },
     "output_type": "display_data"
    }
   ],
   "source": [
    "# boxplot of 'GID' column from imdb_genre\n",
    "sns.boxplot(data=imdb_genre, x='GID')\n",
    "plt.show()"
   ]
  },
  {
   "cell_type": "markdown",
   "id": "51bebae2",
   "metadata": {},
   "source": [
    "No outliers are present in the 'GID' column "
   ]
  },
  {
   "cell_type": "code",
   "execution_count": 68,
   "id": "71ac8470",
   "metadata": {},
   "outputs": [
    {
     "data": {
      "text/plain": [
       "Name    0\n",
       "GID     0\n",
       "dtype: int64"
      ]
     },
     "execution_count": 68,
     "metadata": {},
     "output_type": "execute_result"
    }
   ],
   "source": [
    "# Checking for null values in imdb_genre\n",
    "imdb_genre.isna().sum()"
   ]
  },
  {
   "cell_type": "markdown",
   "id": "09712b41",
   "metadata": {},
   "source": [
    "Null values are not present in any columns"
   ]
  },
  {
   "cell_type": "code",
   "execution_count": 69,
   "id": "718a1803",
   "metadata": {},
   "outputs": [
    {
     "data": {
      "text/html": [
       "<div>\n",
       "<style scoped>\n",
       "    .dataframe tbody tr th:only-of-type {\n",
       "        vertical-align: middle;\n",
       "    }\n",
       "\n",
       "    .dataframe tbody tr th {\n",
       "        vertical-align: top;\n",
       "    }\n",
       "\n",
       "    .dataframe thead th {\n",
       "        text-align: right;\n",
       "    }\n",
       "</style>\n",
       "<table border=\"1\" class=\"dataframe\">\n",
       "  <thead>\n",
       "    <tr style=\"text-align: right;\">\n",
       "      <th></th>\n",
       "      <th>Name</th>\n",
       "      <th>GID</th>\n",
       "    </tr>\n",
       "  </thead>\n",
       "  <tbody>\n",
       "  </tbody>\n",
       "</table>\n",
       "</div>"
      ],
      "text/plain": [
       "Empty DataFrame\n",
       "Columns: [Name, GID]\n",
       "Index: []"
      ]
     },
     "execution_count": 69,
     "metadata": {},
     "output_type": "execute_result"
    }
   ],
   "source": [
    "# Checking for duplicate rows in imdb_genre\n",
    "imdb_genre[imdb_genre.duplicated()]"
   ]
  },
  {
   "cell_type": "markdown",
   "id": "65162b09",
   "metadata": {},
   "source": [
    "No duplicate rows found in imdb_genre"
   ]
  },
  {
   "cell_type": "code",
   "execution_count": 70,
   "id": "03e6c6db",
   "metadata": {},
   "outputs": [],
   "source": [
    "# Removing extra space from 'Name' column\n",
    "imdb_genre['Name'] = imdb_genre['Name'].str.strip(' ')"
   ]
  },
  {
   "cell_type": "markdown",
   "id": "3be67dcc",
   "metadata": {},
   "source": [
    "### Language"
   ]
  },
  {
   "cell_type": "code",
   "execution_count": 71,
   "id": "2dbbee4a",
   "metadata": {},
   "outputs": [
    {
     "data": {
      "text/html": [
       "<div>\n",
       "<style scoped>\n",
       "    .dataframe tbody tr th:only-of-type {\n",
       "        vertical-align: middle;\n",
       "    }\n",
       "\n",
       "    .dataframe tbody tr th {\n",
       "        vertical-align: top;\n",
       "    }\n",
       "\n",
       "    .dataframe thead th {\n",
       "        text-align: right;\n",
       "    }\n",
       "</style>\n",
       "<table border=\"1\" class=\"dataframe\">\n",
       "  <thead>\n",
       "    <tr style=\"text-align: right;\">\n",
       "      <th></th>\n",
       "      <th>index</th>\n",
       "      <th>Name</th>\n",
       "      <th>LAID</th>\n",
       "    </tr>\n",
       "  </thead>\n",
       "  <tbody>\n",
       "    <tr>\n",
       "      <th>0</th>\n",
       "      <td>0</td>\n",
       "      <td>English</td>\n",
       "      <td>0</td>\n",
       "    </tr>\n",
       "    <tr>\n",
       "      <th>1</th>\n",
       "      <td>1</td>\n",
       "      <td>Marathi</td>\n",
       "      <td>1</td>\n",
       "    </tr>\n",
       "    <tr>\n",
       "      <th>2</th>\n",
       "      <td>2</td>\n",
       "      <td>Hindi</td>\n",
       "      <td>2</td>\n",
       "    </tr>\n",
       "    <tr>\n",
       "      <th>3</th>\n",
       "      <td>3</td>\n",
       "      <td>Cantonese</td>\n",
       "      <td>3</td>\n",
       "    </tr>\n",
       "    <tr>\n",
       "      <th>4</th>\n",
       "      <td>4</td>\n",
       "      <td>Telugu</td>\n",
       "      <td>4</td>\n",
       "    </tr>\n",
       "  </tbody>\n",
       "</table>\n",
       "</div>"
      ],
      "text/plain": [
       "   index       Name  LAID\n",
       "0      0    English     0\n",
       "1      1    Marathi     1\n",
       "2      2      Hindi     2\n",
       "3      3  Cantonese     3\n",
       "4      4     Telugu     4"
      ]
     },
     "execution_count": 71,
     "metadata": {},
     "output_type": "execute_result"
    }
   ],
   "source": [
    "sql_query_language = \"\"\"SELECT * FROM Language\"\"\"\n",
    "imdb_language = pd.read_sql_query(sql_query_language, conne)\n",
    "\n",
    "# First few rows of imdb_language\n",
    "imdb_language.head()"
   ]
  },
  {
   "cell_type": "code",
   "execution_count": 72,
   "id": "6303a929",
   "metadata": {},
   "outputs": [],
   "source": [
    "# Dropping 'index' column from imdb_language\n",
    "imdb_language.drop('index', axis=1, inplace=True)"
   ]
  },
  {
   "cell_type": "code",
   "execution_count": 73,
   "id": "6e29264e",
   "metadata": {},
   "outputs": [
    {
     "data": {
      "text/html": [
       "<div>\n",
       "<style scoped>\n",
       "    .dataframe tbody tr th:only-of-type {\n",
       "        vertical-align: middle;\n",
       "    }\n",
       "\n",
       "    .dataframe tbody tr th {\n",
       "        vertical-align: top;\n",
       "    }\n",
       "\n",
       "    .dataframe thead th {\n",
       "        text-align: right;\n",
       "    }\n",
       "</style>\n",
       "<table border=\"1\" class=\"dataframe\">\n",
       "  <thead>\n",
       "    <tr style=\"text-align: right;\">\n",
       "      <th></th>\n",
       "      <th>Name</th>\n",
       "      <th>LAID</th>\n",
       "    </tr>\n",
       "  </thead>\n",
       "  <tbody>\n",
       "    <tr>\n",
       "      <th>27</th>\n",
       "      <td>Persian</td>\n",
       "      <td>27</td>\n",
       "    </tr>\n",
       "    <tr>\n",
       "      <th>28</th>\n",
       "      <td>Italian</td>\n",
       "      <td>28</td>\n",
       "    </tr>\n",
       "    <tr>\n",
       "      <th>29</th>\n",
       "      <td>Bhojpuri</td>\n",
       "      <td>29</td>\n",
       "    </tr>\n",
       "    <tr>\n",
       "      <th>30</th>\n",
       "      <td>Swiss German</td>\n",
       "      <td>30</td>\n",
       "    </tr>\n",
       "    <tr>\n",
       "      <th>31</th>\n",
       "      <td>Georgian</td>\n",
       "      <td>31</td>\n",
       "    </tr>\n",
       "  </tbody>\n",
       "</table>\n",
       "</div>"
      ],
      "text/plain": [
       "            Name  LAID\n",
       "27       Persian    27\n",
       "28       Italian    28\n",
       "29      Bhojpuri    29\n",
       "30  Swiss German    30\n",
       "31      Georgian    31"
      ]
     },
     "execution_count": 73,
     "metadata": {},
     "output_type": "execute_result"
    }
   ],
   "source": [
    "# Last few rows of imdb_language\n",
    "imdb_language.tail()"
   ]
  },
  {
   "cell_type": "code",
   "execution_count": 74,
   "id": "d0578b62",
   "metadata": {},
   "outputs": [
    {
     "name": "stdout",
     "output_type": "stream",
     "text": [
      "imdb_language shape: (32, 2)\n",
      "imdb_language size: 64\n",
      "imdb_language columns: Index(['Name', 'LAID'], dtype='object')\n",
      "imdb_language dimensions: 2\n",
      "imdb_language index: RangeIndex(start=0, stop=32, step=1)\n"
     ]
    }
   ],
   "source": [
    "print(\"imdb_language shape:\", imdb_language.shape)\n",
    "print(\"imdb_language size:\", imdb_language.size)\n",
    "print(\"imdb_language columns:\", imdb_language.columns)\n",
    "print(\"imdb_language dimensions:\", imdb_language.ndim)\n",
    "print(\"imdb_language index:\", imdb_language.index)"
   ]
  },
  {
   "cell_type": "code",
   "execution_count": 75,
   "id": "b65c7539",
   "metadata": {},
   "outputs": [
    {
     "name": "stdout",
     "output_type": "stream",
     "text": [
      "<class 'pandas.core.frame.DataFrame'>\n",
      "RangeIndex: 32 entries, 0 to 31\n",
      "Data columns (total 2 columns):\n",
      " #   Column  Non-Null Count  Dtype \n",
      "---  ------  --------------  ----- \n",
      " 0   Name    32 non-null     object\n",
      " 1   LAID    32 non-null     int64 \n",
      "dtypes: int64(1), object(1)\n",
      "memory usage: 640.0+ bytes\n"
     ]
    }
   ],
   "source": [
    "# Info of imdb_language\n",
    "imdb_language.info()"
   ]
  },
  {
   "cell_type": "code",
   "execution_count": 76,
   "id": "48d618ad",
   "metadata": {},
   "outputs": [
    {
     "data": {
      "text/html": [
       "<div>\n",
       "<style scoped>\n",
       "    .dataframe tbody tr th:only-of-type {\n",
       "        vertical-align: middle;\n",
       "    }\n",
       "\n",
       "    .dataframe tbody tr th {\n",
       "        vertical-align: top;\n",
       "    }\n",
       "\n",
       "    .dataframe thead th {\n",
       "        text-align: right;\n",
       "    }\n",
       "</style>\n",
       "<table border=\"1\" class=\"dataframe\">\n",
       "  <thead>\n",
       "    <tr style=\"text-align: right;\">\n",
       "      <th></th>\n",
       "      <th>Name</th>\n",
       "      <th>LAID</th>\n",
       "    </tr>\n",
       "  </thead>\n",
       "  <tbody>\n",
       "    <tr>\n",
       "      <th>count</th>\n",
       "      <td>32</td>\n",
       "      <td>32.000000</td>\n",
       "    </tr>\n",
       "    <tr>\n",
       "      <th>unique</th>\n",
       "      <td>32</td>\n",
       "      <td>NaN</td>\n",
       "    </tr>\n",
       "    <tr>\n",
       "      <th>top</th>\n",
       "      <td>English</td>\n",
       "      <td>NaN</td>\n",
       "    </tr>\n",
       "    <tr>\n",
       "      <th>freq</th>\n",
       "      <td>1</td>\n",
       "      <td>NaN</td>\n",
       "    </tr>\n",
       "    <tr>\n",
       "      <th>mean</th>\n",
       "      <td>NaN</td>\n",
       "      <td>15.500000</td>\n",
       "    </tr>\n",
       "    <tr>\n",
       "      <th>std</th>\n",
       "      <td>NaN</td>\n",
       "      <td>9.380832</td>\n",
       "    </tr>\n",
       "    <tr>\n",
       "      <th>min</th>\n",
       "      <td>NaN</td>\n",
       "      <td>0.000000</td>\n",
       "    </tr>\n",
       "    <tr>\n",
       "      <th>25%</th>\n",
       "      <td>NaN</td>\n",
       "      <td>7.750000</td>\n",
       "    </tr>\n",
       "    <tr>\n",
       "      <th>50%</th>\n",
       "      <td>NaN</td>\n",
       "      <td>15.500000</td>\n",
       "    </tr>\n",
       "    <tr>\n",
       "      <th>75%</th>\n",
       "      <td>NaN</td>\n",
       "      <td>23.250000</td>\n",
       "    </tr>\n",
       "    <tr>\n",
       "      <th>max</th>\n",
       "      <td>NaN</td>\n",
       "      <td>31.000000</td>\n",
       "    </tr>\n",
       "  </tbody>\n",
       "</table>\n",
       "</div>"
      ],
      "text/plain": [
       "           Name       LAID\n",
       "count        32  32.000000\n",
       "unique       32        NaN\n",
       "top     English        NaN\n",
       "freq          1        NaN\n",
       "mean        NaN  15.500000\n",
       "std         NaN   9.380832\n",
       "min         NaN   0.000000\n",
       "25%         NaN   7.750000\n",
       "50%         NaN  15.500000\n",
       "75%         NaN  23.250000\n",
       "max         NaN  31.000000"
      ]
     },
     "execution_count": 76,
     "metadata": {},
     "output_type": "execute_result"
    }
   ],
   "source": [
    "# Statistical analysis using describe\n",
    "imdb_language.describe(include='all')"
   ]
  },
  {
   "cell_type": "code",
   "execution_count": 77,
   "id": "6a1364bc",
   "metadata": {},
   "outputs": [
    {
     "data": {
      "text/plain": [
       "Name    32\n",
       "LAID    32\n",
       "dtype: int64"
      ]
     },
     "execution_count": 77,
     "metadata": {},
     "output_type": "execute_result"
    }
   ],
   "source": [
    "# Number of unique values in each column\n",
    "imdb_language.nunique()"
   ]
  },
  {
   "cell_type": "code",
   "execution_count": 78,
   "id": "186128e3",
   "metadata": {},
   "outputs": [
    {
     "data": {
      "text/plain": [
       "array(['English', 'Marathi', 'Hindi', 'Cantonese', 'Telugu', 'Mandarin',\n",
       "       'Tamil', 'Punjabi', 'Danish', 'Korean', 'Spanish', 'Arabic',\n",
       "       'Urdu', 'Tibetan', 'Dutch', 'Kannada', 'Japanese', 'Bengali',\n",
       "       'Sinhalese', 'Malayalam', 'French', 'Russian', 'Gujarati',\n",
       "       'Sanskrit', 'Himachali', 'Zulu', 'German', 'Persian', 'Italian',\n",
       "       'Bhojpuri', 'Swiss German', 'Georgian'], dtype=object)"
      ]
     },
     "execution_count": 78,
     "metadata": {},
     "output_type": "execute_result"
    }
   ],
   "source": [
    "# Unique values in the 'Name' column\n",
    "imdb_language['Name'].unique()"
   ]
  },
  {
   "cell_type": "code",
   "execution_count": 79,
   "id": "f1034a10",
   "metadata": {},
   "outputs": [
    {
     "data": {
      "text/plain": [
       "array([ 0,  1,  2,  3,  4,  5,  6,  7,  8,  9, 10, 11, 12, 13, 14, 15, 16,\n",
       "       17, 18, 19, 20, 21, 22, 23, 24, 25, 26, 27, 28, 29, 30, 31],\n",
       "      dtype=int64)"
      ]
     },
     "execution_count": 79,
     "metadata": {},
     "output_type": "execute_result"
    }
   ],
   "source": [
    "# Unique values in the 'LAID' column\n",
    "imdb_language['LAID'].unique()"
   ]
  },
  {
   "cell_type": "code",
   "execution_count": 80,
   "id": "ff172318",
   "metadata": {},
   "outputs": [
    {
     "data": {
      "text/plain": [
       "English         1\n",
       "Marathi         1\n",
       "Swiss German    1\n",
       "Bhojpuri        1\n",
       "Italian         1\n",
       "Persian         1\n",
       "German          1\n",
       "Zulu            1\n",
       "Himachali       1\n",
       "Sanskrit        1\n",
       "Gujarati        1\n",
       "Russian         1\n",
       "French          1\n",
       "Malayalam       1\n",
       "Sinhalese       1\n",
       "Bengali         1\n",
       "Japanese        1\n",
       "Kannada         1\n",
       "Dutch           1\n",
       "Tibetan         1\n",
       "Urdu            1\n",
       "Arabic          1\n",
       "Spanish         1\n",
       "Korean          1\n",
       "Danish          1\n",
       "Punjabi         1\n",
       "Tamil           1\n",
       "Mandarin        1\n",
       "Telugu          1\n",
       "Cantonese       1\n",
       "Hindi           1\n",
       "Georgian        1\n",
       "Name: Name, dtype: int64"
      ]
     },
     "execution_count": 80,
     "metadata": {},
     "output_type": "execute_result"
    }
   ],
   "source": [
    "# Value count of the 'Name' column\n",
    "imdb_language['Name'].value_counts()"
   ]
  },
  {
   "cell_type": "code",
   "execution_count": 81,
   "id": "d9e69de6",
   "metadata": {},
   "outputs": [
    {
     "data": {
      "text/plain": [
       "0     1\n",
       "1     1\n",
       "30    1\n",
       "29    1\n",
       "28    1\n",
       "27    1\n",
       "26    1\n",
       "25    1\n",
       "24    1\n",
       "23    1\n",
       "22    1\n",
       "21    1\n",
       "20    1\n",
       "19    1\n",
       "18    1\n",
       "17    1\n",
       "16    1\n",
       "15    1\n",
       "14    1\n",
       "13    1\n",
       "12    1\n",
       "11    1\n",
       "10    1\n",
       "9     1\n",
       "8     1\n",
       "7     1\n",
       "6     1\n",
       "5     1\n",
       "4     1\n",
       "3     1\n",
       "2     1\n",
       "31    1\n",
       "Name: LAID, dtype: int64"
      ]
     },
     "execution_count": 81,
     "metadata": {},
     "output_type": "execute_result"
    }
   ],
   "source": [
    "# Value count of the 'LAID' column\n",
    "imdb_language['LAID'].value_counts()"
   ]
  },
  {
   "cell_type": "code",
   "execution_count": 82,
   "id": "b0d1e442",
   "metadata": {},
   "outputs": [
    {
     "data": {
      "image/png": "[encoded data removed]",
      "text/plain": [
       "<Figure size 432x288 with 1 Axes>"
      ]
     },
     "metadata": {
      "needs_background": "light"
     },
     "output_type": "display_data"
    }
   ],
   "source": [
    "# boxplot of 'LAID' column from imdb_language\n",
    "sns.boxplot(data=imdb_language, x='LAID')\n",
    "plt.show()"
   ]
  },
  {
   "cell_type": "markdown",
   "id": "4941447d",
   "metadata": {},
   "source": [
    "No outliers are present in the 'LAID' column "
   ]
  },
  {
   "cell_type": "code",
   "execution_count": 83,
   "id": "770e74a0",
   "metadata": {},
   "outputs": [
    {
     "data": {
      "text/plain": [
       "Name    0\n",
       "LAID    0\n",
       "dtype: int64"
      ]
     },
     "execution_count": 83,
     "metadata": {},
     "output_type": "execute_result"
    }
   ],
   "source": [
    "# Checking for null values in imdb_language\n",
    "imdb_language.isna().sum()"
   ]
  },
  {
   "cell_type": "markdown",
   "id": "aa56821e",
   "metadata": {},
   "source": [
    "Null values are not present in any columns"
   ]
  },
  {
   "cell_type": "code",
   "execution_count": 84,
   "id": "1686e275",
   "metadata": {},
   "outputs": [
    {
     "data": {
      "text/html": [
       "<div>\n",
       "<style scoped>\n",
       "    .dataframe tbody tr th:only-of-type {\n",
       "        vertical-align: middle;\n",
       "    }\n",
       "\n",
       "    .dataframe tbody tr th {\n",
       "        vertical-align: top;\n",
       "    }\n",
       "\n",
       "    .dataframe thead th {\n",
       "        text-align: right;\n",
       "    }\n",
       "</style>\n",
       "<table border=\"1\" class=\"dataframe\">\n",
       "  <thead>\n",
       "    <tr style=\"text-align: right;\">\n",
       "      <th></th>\n",
       "      <th>Name</th>\n",
       "      <th>LAID</th>\n",
       "    </tr>\n",
       "  </thead>\n",
       "  <tbody>\n",
       "  </tbody>\n",
       "</table>\n",
       "</div>"
      ],
      "text/plain": [
       "Empty DataFrame\n",
       "Columns: [Name, LAID]\n",
       "Index: []"
      ]
     },
     "execution_count": 84,
     "metadata": {},
     "output_type": "execute_result"
    }
   ],
   "source": [
    "# Checking for duplicate rows in imdb_language\n",
    "imdb_language[imdb_language.duplicated()]"
   ]
  },
  {
   "cell_type": "markdown",
   "id": "777f486b",
   "metadata": {},
   "source": [
    "No duplicate rows found in imdb_language"
   ]
  },
  {
   "cell_type": "markdown",
   "id": "47a0d59d",
   "metadata": {},
   "source": [
    "### Country"
   ]
  },
  {
   "cell_type": "code",
   "execution_count": 85,
   "id": "8ac5c6b2",
   "metadata": {},
   "outputs": [
    {
     "data": {
      "text/html": [
       "<div>\n",
       "<style scoped>\n",
       "    .dataframe tbody tr th:only-of-type {\n",
       "        vertical-align: middle;\n",
       "    }\n",
       "\n",
       "    .dataframe tbody tr th {\n",
       "        vertical-align: top;\n",
       "    }\n",
       "\n",
       "    .dataframe thead th {\n",
       "        text-align: right;\n",
       "    }\n",
       "</style>\n",
       "<table border=\"1\" class=\"dataframe\">\n",
       "  <thead>\n",
       "    <tr style=\"text-align: right;\">\n",
       "      <th></th>\n",
       "      <th>index</th>\n",
       "      <th>Name</th>\n",
       "      <th>CID</th>\n",
       "    </tr>\n",
       "  </thead>\n",
       "  <tbody>\n",
       "    <tr>\n",
       "      <th>0</th>\n",
       "      <td>0</td>\n",
       "      <td>UK</td>\n",
       "      <td>0</td>\n",
       "    </tr>\n",
       "    <tr>\n",
       "      <th>1</th>\n",
       "      <td>1</td>\n",
       "      <td>USA</td>\n",
       "      <td>1</td>\n",
       "    </tr>\n",
       "    <tr>\n",
       "      <th>2</th>\n",
       "      <td>2</td>\n",
       "      <td>India</td>\n",
       "      <td>2</td>\n",
       "    </tr>\n",
       "    <tr>\n",
       "      <th>3</th>\n",
       "      <td>3</td>\n",
       "      <td>Australia</td>\n",
       "      <td>3</td>\n",
       "    </tr>\n",
       "    <tr>\n",
       "      <th>4</th>\n",
       "      <td>4</td>\n",
       "      <td>Hong Kong</td>\n",
       "      <td>4</td>\n",
       "    </tr>\n",
       "  </tbody>\n",
       "</table>\n",
       "</div>"
      ],
      "text/plain": [
       "   index       Name  CID\n",
       "0      0         UK    0\n",
       "1      1        USA    1\n",
       "2      2      India    2\n",
       "3      3  Australia    3\n",
       "4      4  Hong Kong    4"
      ]
     },
     "execution_count": 85,
     "metadata": {},
     "output_type": "execute_result"
    }
   ],
   "source": [
    "sql_query_country = \"\"\"SELECT * FROM Country\"\"\"\n",
    "imdb_country = pd.read_sql_query(sql_query_country, conne)\n",
    "\n",
    "# First few rows of imdb_country\n",
    "imdb_country.head()"
   ]
  },
  {
   "cell_type": "code",
   "execution_count": 86,
   "id": "4a103284",
   "metadata": {},
   "outputs": [],
   "source": [
    "# Dropping 'index' column from\n",
    "imdb_country.drop('index', axis=1, inplace=True)"
   ]
  },
  {
   "cell_type": "code",
   "execution_count": 87,
   "id": "1e110775",
   "metadata": {},
   "outputs": [
    {
     "data": {
      "text/html": [
       "<div>\n",
       "<style scoped>\n",
       "    .dataframe tbody tr th:only-of-type {\n",
       "        vertical-align: middle;\n",
       "    }\n",
       "\n",
       "    .dataframe tbody tr th {\n",
       "        vertical-align: top;\n",
       "    }\n",
       "\n",
       "    .dataframe thead th {\n",
       "        text-align: right;\n",
       "    }\n",
       "</style>\n",
       "<table border=\"1\" class=\"dataframe\">\n",
       "  <thead>\n",
       "    <tr style=\"text-align: right;\">\n",
       "      <th></th>\n",
       "      <th>Name</th>\n",
       "      <th>CID</th>\n",
       "    </tr>\n",
       "  </thead>\n",
       "  <tbody>\n",
       "    <tr>\n",
       "      <th>29</th>\n",
       "      <td>Sweden</td>\n",
       "      <td>29</td>\n",
       "    </tr>\n",
       "    <tr>\n",
       "      <th>30</th>\n",
       "      <td>Spain</td>\n",
       "      <td>30</td>\n",
       "    </tr>\n",
       "    <tr>\n",
       "      <th>31</th>\n",
       "      <td>Italy</td>\n",
       "      <td>31</td>\n",
       "    </tr>\n",
       "    <tr>\n",
       "      <th>32</th>\n",
       "      <td>New Zealand</td>\n",
       "      <td>32</td>\n",
       "    </tr>\n",
       "    <tr>\n",
       "      <th>33</th>\n",
       "      <td>Georgia</td>\n",
       "      <td>33</td>\n",
       "    </tr>\n",
       "  </tbody>\n",
       "</table>\n",
       "</div>"
      ],
      "text/plain": [
       "           Name  CID\n",
       "29       Sweden   29\n",
       "30        Spain   30\n",
       "31        Italy   31\n",
       "32  New Zealand   32\n",
       "33      Georgia   33"
      ]
     },
     "execution_count": 87,
     "metadata": {},
     "output_type": "execute_result"
    }
   ],
   "source": [
    "# Last few rows of imdb_country\n",
    "imdb_country.tail()"
   ]
  },
  {
   "cell_type": "code",
   "execution_count": 88,
   "id": "fb883a23",
   "metadata": {},
   "outputs": [
    {
     "name": "stdout",
     "output_type": "stream",
     "text": [
      "imdb_country shape: (34, 2)\n",
      "imdb_country size: 68\n",
      "imdb_country columns: Index(['Name', 'CID'], dtype='object')\n",
      "imdb_country dimensions: 2\n",
      "imdb_country index: RangeIndex(start=0, stop=34, step=1)\n"
     ]
    }
   ],
   "source": [
    "print(\"imdb_country shape:\", imdb_country.shape)\n",
    "print(\"imdb_country size:\", imdb_country.size)\n",
    "print(\"imdb_country columns:\", imdb_country.columns)\n",
    "print(\"imdb_country dimensions:\", imdb_country.ndim)\n",
    "print(\"imdb_country index:\", imdb_country.index)"
   ]
  },
  {
   "cell_type": "code",
   "execution_count": 89,
   "id": "3fb02421",
   "metadata": {},
   "outputs": [
    {
     "name": "stdout",
     "output_type": "stream",
     "text": [
      "<class 'pandas.core.frame.DataFrame'>\n",
      "RangeIndex: 34 entries, 0 to 33\n",
      "Data columns (total 2 columns):\n",
      " #   Column  Non-Null Count  Dtype \n",
      "---  ------  --------------  ----- \n",
      " 0   Name    34 non-null     object\n",
      " 1   CID     34 non-null     int64 \n",
      "dtypes: int64(1), object(1)\n",
      "memory usage: 672.0+ bytes\n"
     ]
    }
   ],
   "source": [
    "# Info of imdb_country\n",
    "imdb_country.info()"
   ]
  },
  {
   "cell_type": "code",
   "execution_count": 90,
   "id": "6de60398",
   "metadata": {},
   "outputs": [
    {
     "data": {
      "text/html": [
       "<div>\n",
       "<style scoped>\n",
       "    .dataframe tbody tr th:only-of-type {\n",
       "        vertical-align: middle;\n",
       "    }\n",
       "\n",
       "    .dataframe tbody tr th {\n",
       "        vertical-align: top;\n",
       "    }\n",
       "\n",
       "    .dataframe thead th {\n",
       "        text-align: right;\n",
       "    }\n",
       "</style>\n",
       "<table border=\"1\" class=\"dataframe\">\n",
       "  <thead>\n",
       "    <tr style=\"text-align: right;\">\n",
       "      <th></th>\n",
       "      <th>Name</th>\n",
       "      <th>CID</th>\n",
       "    </tr>\n",
       "  </thead>\n",
       "  <tbody>\n",
       "    <tr>\n",
       "      <th>count</th>\n",
       "      <td>34</td>\n",
       "      <td>34.000000</td>\n",
       "    </tr>\n",
       "    <tr>\n",
       "      <th>unique</th>\n",
       "      <td>34</td>\n",
       "      <td>NaN</td>\n",
       "    </tr>\n",
       "    <tr>\n",
       "      <th>top</th>\n",
       "      <td>UK</td>\n",
       "      <td>NaN</td>\n",
       "    </tr>\n",
       "    <tr>\n",
       "      <th>freq</th>\n",
       "      <td>1</td>\n",
       "      <td>NaN</td>\n",
       "    </tr>\n",
       "    <tr>\n",
       "      <th>mean</th>\n",
       "      <td>NaN</td>\n",
       "      <td>16.500000</td>\n",
       "    </tr>\n",
       "    <tr>\n",
       "      <th>std</th>\n",
       "      <td>NaN</td>\n",
       "      <td>9.958246</td>\n",
       "    </tr>\n",
       "    <tr>\n",
       "      <th>min</th>\n",
       "      <td>NaN</td>\n",
       "      <td>0.000000</td>\n",
       "    </tr>\n",
       "    <tr>\n",
       "      <th>25%</th>\n",
       "      <td>NaN</td>\n",
       "      <td>8.250000</td>\n",
       "    </tr>\n",
       "    <tr>\n",
       "      <th>50%</th>\n",
       "      <td>NaN</td>\n",
       "      <td>16.500000</td>\n",
       "    </tr>\n",
       "    <tr>\n",
       "      <th>75%</th>\n",
       "      <td>NaN</td>\n",
       "      <td>24.750000</td>\n",
       "    </tr>\n",
       "    <tr>\n",
       "      <th>max</th>\n",
       "      <td>NaN</td>\n",
       "      <td>33.000000</td>\n",
       "    </tr>\n",
       "  </tbody>\n",
       "</table>\n",
       "</div>"
      ],
      "text/plain": [
       "       Name        CID\n",
       "count    34  34.000000\n",
       "unique   34        NaN\n",
       "top      UK        NaN\n",
       "freq      1        NaN\n",
       "mean    NaN  16.500000\n",
       "std     NaN   9.958246\n",
       "min     NaN   0.000000\n",
       "25%     NaN   8.250000\n",
       "50%     NaN  16.500000\n",
       "75%     NaN  24.750000\n",
       "max     NaN  33.000000"
      ]
     },
     "execution_count": 90,
     "metadata": {},
     "output_type": "execute_result"
    }
   ],
   "source": [
    "# Statistical analysis using describe\n",
    "imdb_country.describe(include='all')"
   ]
  },
  {
   "cell_type": "code",
   "execution_count": 91,
   "id": "d797aafd",
   "metadata": {},
   "outputs": [
    {
     "data": {
      "text/plain": [
       "Name    34\n",
       "CID     34\n",
       "dtype: int64"
      ]
     },
     "execution_count": 91,
     "metadata": {},
     "output_type": "execute_result"
    }
   ],
   "source": [
    "# Number of unique values in each column\n",
    "imdb_country.nunique()"
   ]
  },
  {
   "cell_type": "code",
   "execution_count": 92,
   "id": "9d510861",
   "metadata": {},
   "outputs": [
    {
     "data": {
      "text/plain": [
       "array(['UK', 'USA', 'India', 'Australia', 'Hong Kong', 'Germany',\n",
       "       'Canada', 'Denmark', 'Belgium', 'South Korea', 'China',\n",
       "       'Argentina', 'Libya', 'Switzerland', 'Netherlands', 'France',\n",
       "       'Pakistan', 'Japan', 'Sri Lanka', 'United Arab Emirates', 'Bhutan',\n",
       "       'Soviet Union', 'Iceland', 'Afghanistan', 'South Africa', 'Egypt',\n",
       "       'Hungary', 'Iran', 'Suriname', 'Sweden', 'Spain', 'Italy',\n",
       "       'New Zealand', 'Georgia'], dtype=object)"
      ]
     },
     "execution_count": 92,
     "metadata": {},
     "output_type": "execute_result"
    }
   ],
   "source": [
    "# Unique values in the 'Name' column\n",
    "imdb_country['Name'].unique()"
   ]
  },
  {
   "cell_type": "code",
   "execution_count": 93,
   "id": "b003d967",
   "metadata": {},
   "outputs": [
    {
     "data": {
      "text/plain": [
       "array([ 0,  1,  2,  3,  4,  5,  6,  7,  8,  9, 10, 11, 12, 13, 14, 15, 16,\n",
       "       17, 18, 19, 20, 21, 22, 23, 24, 25, 26, 27, 28, 29, 30, 31, 32, 33],\n",
       "      dtype=int64)"
      ]
     },
     "execution_count": 93,
     "metadata": {},
     "output_type": "execute_result"
    }
   ],
   "source": [
    "# Unique values in the 'CID' column\n",
    "imdb_country['CID'].unique()"
   ]
  },
  {
   "cell_type": "code",
   "execution_count": 94,
   "id": "2f3a5aa0",
   "metadata": {},
   "outputs": [
    {
     "data": {
      "text/plain": [
       "UK                      1\n",
       "Egypt                   1\n",
       "United Arab Emirates    1\n",
       "Bhutan                  1\n",
       "Soviet Union            1\n",
       "Iceland                 1\n",
       "Afghanistan             1\n",
       "South Africa            1\n",
       "Hungary                 1\n",
       "USA                     1\n",
       "Iran                    1\n",
       "Suriname                1\n",
       "Sweden                  1\n",
       "Spain                   1\n",
       "Italy                   1\n",
       "New Zealand             1\n",
       "Sri Lanka               1\n",
       "Japan                   1\n",
       "Pakistan                1\n",
       "France                  1\n",
       "Netherlands             1\n",
       "Switzerland             1\n",
       "Libya                   1\n",
       "Argentina               1\n",
       "China                   1\n",
       "South Korea             1\n",
       "Belgium                 1\n",
       "Denmark                 1\n",
       "Canada                  1\n",
       "Germany                 1\n",
       "Hong Kong               1\n",
       "Australia               1\n",
       "India                   1\n",
       "Georgia                 1\n",
       "Name: Name, dtype: int64"
      ]
     },
     "execution_count": 94,
     "metadata": {},
     "output_type": "execute_result"
    }
   ],
   "source": [
    "# Value count of the 'Name' column\n",
    "imdb_country['Name'].value_counts()"
   ]
  },
  {
   "cell_type": "code",
   "execution_count": 95,
   "id": "f85db207",
   "metadata": {},
   "outputs": [
    {
     "data": {
      "text/plain": [
       "0     1\n",
       "25    1\n",
       "19    1\n",
       "20    1\n",
       "21    1\n",
       "22    1\n",
       "23    1\n",
       "24    1\n",
       "26    1\n",
       "1     1\n",
       "27    1\n",
       "28    1\n",
       "29    1\n",
       "30    1\n",
       "31    1\n",
       "32    1\n",
       "18    1\n",
       "17    1\n",
       "16    1\n",
       "15    1\n",
       "14    1\n",
       "13    1\n",
       "12    1\n",
       "11    1\n",
       "10    1\n",
       "9     1\n",
       "8     1\n",
       "7     1\n",
       "6     1\n",
       "5     1\n",
       "4     1\n",
       "3     1\n",
       "2     1\n",
       "33    1\n",
       "Name: CID, dtype: int64"
      ]
     },
     "execution_count": 95,
     "metadata": {},
     "output_type": "execute_result"
    }
   ],
   "source": [
    "# Value count of the 'CID' column\n",
    "imdb_country['CID'].value_counts()"
   ]
  },
  {
   "cell_type": "code",
   "execution_count": 96,
   "id": "571fc372",
   "metadata": {},
   "outputs": [
    {
     "data": {
      "image/png": "[encoded data removed]",
      "text/plain": [
       "<Figure size 432x288 with 1 Axes>"
      ]
     },
     "metadata": {
      "needs_background": "light"
     },
     "output_type": "display_data"
    }
   ],
   "source": [
    "# boxplot of 'CID' column from imdb_country\n",
    "sns.boxplot(data=imdb_country, x='CID')\n",
    "plt.show()"
   ]
  },
  {
   "cell_type": "markdown",
   "id": "f1a81fb9",
   "metadata": {},
   "source": [
    "No outliers are present in the 'CID' column "
   ]
  },
  {
   "cell_type": "code",
   "execution_count": 97,
   "id": "7d38fb23",
   "metadata": {},
   "outputs": [
    {
     "data": {
      "text/plain": [
       "Name    0\n",
       "CID     0\n",
       "dtype: int64"
      ]
     },
     "execution_count": 97,
     "metadata": {},
     "output_type": "execute_result"
    }
   ],
   "source": [
    "# Checking for null values in imdb_country\n",
    "imdb_country.isna().sum()"
   ]
  },
  {
   "cell_type": "markdown",
   "id": "d1b2c9b9",
   "metadata": {},
   "source": [
    "Null values are not present in any columns"
   ]
  },
  {
   "cell_type": "code",
   "execution_count": 98,
   "id": "a8e18aef",
   "metadata": {},
   "outputs": [
    {
     "data": {
      "text/html": [
       "<div>\n",
       "<style scoped>\n",
       "    .dataframe tbody tr th:only-of-type {\n",
       "        vertical-align: middle;\n",
       "    }\n",
       "\n",
       "    .dataframe tbody tr th {\n",
       "        vertical-align: top;\n",
       "    }\n",
       "\n",
       "    .dataframe thead th {\n",
       "        text-align: right;\n",
       "    }\n",
       "</style>\n",
       "<table border=\"1\" class=\"dataframe\">\n",
       "  <thead>\n",
       "    <tr style=\"text-align: right;\">\n",
       "      <th></th>\n",
       "      <th>Name</th>\n",
       "      <th>CID</th>\n",
       "    </tr>\n",
       "  </thead>\n",
       "  <tbody>\n",
       "  </tbody>\n",
       "</table>\n",
       "</div>"
      ],
      "text/plain": [
       "Empty DataFrame\n",
       "Columns: [Name, CID]\n",
       "Index: []"
      ]
     },
     "execution_count": 98,
     "metadata": {},
     "output_type": "execute_result"
    }
   ],
   "source": [
    "# Checking for duplicate rows in imdb_country\n",
    "imdb_country[imdb_country.duplicated()]"
   ]
  },
  {
   "cell_type": "markdown",
   "id": "711c8695",
   "metadata": {},
   "source": [
    "No duplicate rows found in imdb_country"
   ]
  },
  {
   "cell_type": "markdown",
   "id": "cc8fade7",
   "metadata": {},
   "source": [
    "### location"
   ]
  },
  {
   "cell_type": "code",
   "execution_count": 99,
   "id": "c594d6b2",
   "metadata": {},
   "outputs": [
    {
     "data": {
      "text/html": [
       "<div>\n",
       "<style scoped>\n",
       "    .dataframe tbody tr th:only-of-type {\n",
       "        vertical-align: middle;\n",
       "    }\n",
       "\n",
       "    .dataframe tbody tr th {\n",
       "        vertical-align: top;\n",
       "    }\n",
       "\n",
       "    .dataframe thead th {\n",
       "        text-align: right;\n",
       "    }\n",
       "</style>\n",
       "<table border=\"1\" class=\"dataframe\">\n",
       "  <thead>\n",
       "    <tr style=\"text-align: right;\">\n",
       "      <th></th>\n",
       "      <th>index</th>\n",
       "      <th>Name</th>\n",
       "      <th>LID</th>\n",
       "    </tr>\n",
       "  </thead>\n",
       "  <tbody>\n",
       "    <tr>\n",
       "      <th>0</th>\n",
       "      <td>0</td>\n",
       "      <td>Durban, South Africa</td>\n",
       "      <td>0</td>\n",
       "    </tr>\n",
       "    <tr>\n",
       "      <th>1</th>\n",
       "      <td>1</td>\n",
       "      <td>New York City, New York, USA</td>\n",
       "      <td>1</td>\n",
       "    </tr>\n",
       "    <tr>\n",
       "      <th>2</th>\n",
       "      <td>2</td>\n",
       "      <td>Cape Town Film Studios, Cape Town, Western Cap...</td>\n",
       "      <td>2</td>\n",
       "    </tr>\n",
       "    <tr>\n",
       "      <th>3</th>\n",
       "      <td>3</td>\n",
       "      <td>Pittsburgh, Pennsylvania, USA</td>\n",
       "      <td>3</td>\n",
       "    </tr>\n",
       "    <tr>\n",
       "      <th>4</th>\n",
       "      <td>4</td>\n",
       "      <td>Atlanta, Georgia, USA</td>\n",
       "      <td>4</td>\n",
       "    </tr>\n",
       "  </tbody>\n",
       "</table>\n",
       "</div>"
      ],
      "text/plain": [
       "   index                                               Name  LID\n",
       "0      0                               Durban, South Africa    0\n",
       "1      1                       New York City, New York, USA    1\n",
       "2      2  Cape Town Film Studios, Cape Town, Western Cap...    2\n",
       "3      3                      Pittsburgh, Pennsylvania, USA    3\n",
       "4      4                              Atlanta, Georgia, USA    4"
      ]
     },
     "execution_count": 99,
     "metadata": {},
     "output_type": "execute_result"
    }
   ],
   "source": [
    "sql_query_location = \"\"\"SELECT * FROM location\"\"\"\n",
    "imdb_location = pd.read_sql_query(sql_query_location, conne)\n",
    "\n",
    "# First few rows of imdb_location\n",
    "imdb_location.head()"
   ]
  },
  {
   "cell_type": "code",
   "execution_count": 100,
   "id": "fcffa2c1",
   "metadata": {},
   "outputs": [],
   "source": [
    "# Dropping 'index' column from imdb_location\n",
    "imdb_location.drop('index', axis=1, inplace=True)"
   ]
  },
  {
   "cell_type": "code",
   "execution_count": 101,
   "id": "622fdaca",
   "metadata": {},
   "outputs": [
    {
     "data": {
      "text/html": [
       "<div>\n",
       "<style scoped>\n",
       "    .dataframe tbody tr th:only-of-type {\n",
       "        vertical-align: middle;\n",
       "    }\n",
       "\n",
       "    .dataframe tbody tr th {\n",
       "        vertical-align: top;\n",
       "    }\n",
       "\n",
       "    .dataframe thead th {\n",
       "        text-align: right;\n",
       "    }\n",
       "</style>\n",
       "<table border=\"1\" class=\"dataframe\">\n",
       "  <thead>\n",
       "    <tr style=\"text-align: right;\">\n",
       "      <th></th>\n",
       "      <th>Name</th>\n",
       "      <th>LID</th>\n",
       "    </tr>\n",
       "  </thead>\n",
       "  <tbody>\n",
       "    <tr>\n",
       "      <th>554</th>\n",
       "      <td>Perumbavoor, Kerala, India</td>\n",
       "      <td>554</td>\n",
       "    </tr>\n",
       "    <tr>\n",
       "      <th>555</th>\n",
       "      <td>Jersey City, New Jersey, USA</td>\n",
       "      <td>555</td>\n",
       "    </tr>\n",
       "    <tr>\n",
       "      <th>556</th>\n",
       "      <td>Berner Oberland, Kanton Bern, Switzerland</td>\n",
       "      <td>556</td>\n",
       "    </tr>\n",
       "    <tr>\n",
       "      <th>557</th>\n",
       "      <td>Aeroporti, Tbilisi, Georgia</td>\n",
       "      <td>557</td>\n",
       "    </tr>\n",
       "    <tr>\n",
       "      <th>558</th>\n",
       "      <td>Aftab Studio, India</td>\n",
       "      <td>558</td>\n",
       "    </tr>\n",
       "  </tbody>\n",
       "</table>\n",
       "</div>"
      ],
      "text/plain": [
       "                                          Name  LID\n",
       "554                 Perumbavoor, Kerala, India  554\n",
       "555               Jersey City, New Jersey, USA  555\n",
       "556  Berner Oberland, Kanton Bern, Switzerland  556\n",
       "557                Aeroporti, Tbilisi, Georgia  557\n",
       "558                        Aftab Studio, India  558"
      ]
     },
     "execution_count": 101,
     "metadata": {},
     "output_type": "execute_result"
    }
   ],
   "source": [
    "# Last few rows of imdb_location\n",
    "imdb_location.tail()"
   ]
  },
  {
   "cell_type": "code",
   "execution_count": 102,
   "id": "d7d1fac2",
   "metadata": {},
   "outputs": [
    {
     "name": "stdout",
     "output_type": "stream",
     "text": [
      "imdb_location shape: (559, 2)\n",
      "imdb_location size: 1118\n",
      "imdb_location columns: Index(['Name', 'LID'], dtype='object')\n",
      "imdb_location dimensions: 2\n",
      "imdb_location index: RangeIndex(start=0, stop=559, step=1)\n"
     ]
    }
   ],
   "source": [
    "print(\"imdb_location shape:\", imdb_location.shape)\n",
    "print(\"imdb_location size:\", imdb_location.size)\n",
    "print(\"imdb_location columns:\", imdb_location.columns)\n",
    "print(\"imdb_location dimensions:\", imdb_location.ndim)\n",
    "print(\"imdb_location index:\", imdb_location.index)"
   ]
  },
  {
   "cell_type": "code",
   "execution_count": 103,
   "id": "798ceedd",
   "metadata": {},
   "outputs": [
    {
     "name": "stdout",
     "output_type": "stream",
     "text": [
      "<class 'pandas.core.frame.DataFrame'>\n",
      "RangeIndex: 559 entries, 0 to 558\n",
      "Data columns (total 2 columns):\n",
      " #   Column  Non-Null Count  Dtype \n",
      "---  ------  --------------  ----- \n",
      " 0   Name    559 non-null    object\n",
      " 1   LID     559 non-null    int64 \n",
      "dtypes: int64(1), object(1)\n",
      "memory usage: 8.9+ KB\n"
     ]
    }
   ],
   "source": [
    "# Info of imdb_location\n",
    "imdb_location.info()"
   ]
  },
  {
   "cell_type": "code",
   "execution_count": 104,
   "id": "900c7475",
   "metadata": {},
   "outputs": [
    {
     "data": {
      "text/html": [
       "<div>\n",
       "<style scoped>\n",
       "    .dataframe tbody tr th:only-of-type {\n",
       "        vertical-align: middle;\n",
       "    }\n",
       "\n",
       "    .dataframe tbody tr th {\n",
       "        vertical-align: top;\n",
       "    }\n",
       "\n",
       "    .dataframe thead th {\n",
       "        text-align: right;\n",
       "    }\n",
       "</style>\n",
       "<table border=\"1\" class=\"dataframe\">\n",
       "  <thead>\n",
       "    <tr style=\"text-align: right;\">\n",
       "      <th></th>\n",
       "      <th>Name</th>\n",
       "      <th>LID</th>\n",
       "    </tr>\n",
       "  </thead>\n",
       "  <tbody>\n",
       "    <tr>\n",
       "      <th>count</th>\n",
       "      <td>559</td>\n",
       "      <td>559.000000</td>\n",
       "    </tr>\n",
       "    <tr>\n",
       "      <th>unique</th>\n",
       "      <td>559</td>\n",
       "      <td>NaN</td>\n",
       "    </tr>\n",
       "    <tr>\n",
       "      <th>top</th>\n",
       "      <td>Durban, South Africa</td>\n",
       "      <td>NaN</td>\n",
       "    </tr>\n",
       "    <tr>\n",
       "      <th>freq</th>\n",
       "      <td>1</td>\n",
       "      <td>NaN</td>\n",
       "    </tr>\n",
       "    <tr>\n",
       "      <th>mean</th>\n",
       "      <td>NaN</td>\n",
       "      <td>279.000000</td>\n",
       "    </tr>\n",
       "    <tr>\n",
       "      <th>std</th>\n",
       "      <td>NaN</td>\n",
       "      <td>161.513673</td>\n",
       "    </tr>\n",
       "    <tr>\n",
       "      <th>min</th>\n",
       "      <td>NaN</td>\n",
       "      <td>0.000000</td>\n",
       "    </tr>\n",
       "    <tr>\n",
       "      <th>25%</th>\n",
       "      <td>NaN</td>\n",
       "      <td>139.500000</td>\n",
       "    </tr>\n",
       "    <tr>\n",
       "      <th>50%</th>\n",
       "      <td>NaN</td>\n",
       "      <td>279.000000</td>\n",
       "    </tr>\n",
       "    <tr>\n",
       "      <th>75%</th>\n",
       "      <td>NaN</td>\n",
       "      <td>418.500000</td>\n",
       "    </tr>\n",
       "    <tr>\n",
       "      <th>max</th>\n",
       "      <td>NaN</td>\n",
       "      <td>558.000000</td>\n",
       "    </tr>\n",
       "  </tbody>\n",
       "</table>\n",
       "</div>"
      ],
      "text/plain": [
       "                        Name         LID\n",
       "count                    559  559.000000\n",
       "unique                   559         NaN\n",
       "top     Durban, South Africa         NaN\n",
       "freq                       1         NaN\n",
       "mean                     NaN  279.000000\n",
       "std                      NaN  161.513673\n",
       "min                      NaN    0.000000\n",
       "25%                      NaN  139.500000\n",
       "50%                      NaN  279.000000\n",
       "75%                      NaN  418.500000\n",
       "max                      NaN  558.000000"
      ]
     },
     "execution_count": 104,
     "metadata": {},
     "output_type": "execute_result"
    }
   ],
   "source": [
    "# Statistical analysis using describe\n",
    "imdb_location.describe(include='all')"
   ]
  },
  {
   "cell_type": "code",
   "execution_count": 105,
   "id": "56b79db4",
   "metadata": {},
   "outputs": [
    {
     "data": {
      "text/plain": [
       "Name    559\n",
       "LID     559\n",
       "dtype: int64"
      ]
     },
     "execution_count": 105,
     "metadata": {},
     "output_type": "execute_result"
    }
   ],
   "source": [
    "# Number of unique values in each column\n",
    "imdb_location.nunique()"
   ]
  },
  {
   "cell_type": "code",
   "execution_count": 106,
   "id": "8119284a",
   "metadata": {},
   "outputs": [
    {
     "data": {
      "text/plain": [
       "array(['Durban, South Africa', 'New York City, New York, USA',\n",
       "       'Cape Town Film Studios, Cape Town, Western Cape, South Africa',\n",
       "       'Pittsburgh, Pennsylvania, USA', 'Atlanta, Georgia, USA',\n",
       "       'Hobart, Tasmania, Australia', 'Hong Kong, China', 'India',\n",
       "       'Las Vegas, Nevada, USA',\n",
       "       'Mobile Civic Center, Civic Center Drive, Mobile, Alabama, USA',\n",
       "       'Montréal, Québec, Canada', 'Hungary', 'Toronto, Ontario, Canada',\n",
       "       'Sihore, Madhya Pradesh, India', 'Malta',\n",
       "       'Adelaide, South Australia, Australia', 'Mumbai, India',\n",
       "       'Bara Hall Park, Hayes, Middlesex, England, UK',\n",
       "       'Ludhiana, Punjab, India',\n",
       "       'Lincoln Memorial, National Mall, Washington, District of Columbia, USA',\n",
       "       'Sierra de Organos, Sombrerete, Zacatecas, Mexico',\n",
       "       'Brooklyn, New York, USA', 'Canada', 'Bangalore, Karnataka, India',\n",
       "       'Panchgani, Maharashtra, India', 'Rajasthan, India', 'France',\n",
       "       'Varanasi, Uttar Pradesh, India',\n",
       "       'Campbell River, British Columbia, Canada',\n",
       "       'Agra Fort, Agra, Uttar Pradesh, India',\n",
       "       'Chungking Mansions, 36-44 Nathan Road, Tsim Sha Tsui, Kowloon, Hong Kong',\n",
       "       'Cairngorms, Highland, Scotland, UK', 'Madhya Pradesh, India',\n",
       "       'Berlin, Germany',\n",
       "       'Film City, Goregaon, Mumbai, Maharashtra, India',\n",
       "       'Jaipur, Rajasthan, India', 'Germany',\n",
       "       'Songimvelo Game Reserve, Mpumalanga, South Africa',\n",
       "       'Bhuj, Gujarat, India', \"St. Xavier's College, Mumbai, India\",\n",
       "       'USA', 'Tehri, Uttarakhand, India', 'Langkawi Island, Malaysia',\n",
       "       'Nahargarh Fort, Jaipur, Rajasthan, India',\n",
       "       'Mumbai, Maharashtra, India',\n",
       "       'Ramoji Film City, Hyderabad, Telangana, India',\n",
       "       'Annapurna Studios, Hyderabad, India',\n",
       "       'Abbeydale Sports Club, Sheffield, South Yorkshire, England, UK',\n",
       "       'Conde Nast Building - 4 Times Square, Manhattan, New York City, New York, USA',\n",
       "       'Darjeeling, Gorkhaland Territorial Authority, India',\n",
       "       'Stage 11, Warner Brothers Burbank Studios - 4000 Warner Boulevard, Burbank, California, USA',\n",
       "       'South Mumbai, Mumbai, India', 'Corsica, France',\n",
       "       'Bareilly, India', 'Amritsar, Punjab, India',\n",
       "       'Howrah station, Howrah, West Bengal, India',\n",
       "       'Bangalore Palace, Bangalore, Karnataka, India', 'Bahriya, Egypt',\n",
       "       'Jodhpur, Rajasthan, India',\n",
       "       'Dalli Rajhara Forest, Balod, Chhatishgarh, India',\n",
       "       'White Waltham Airfield, Westacott Way, White Waltham, Maidenhead, Berkshire, England, UK',\n",
       "       'Lucknow, Uttar Pradesh, India', 'Paris, France',\n",
       "       'Kolkata, West Bengal, India',\n",
       "       'The Carrington Hotel, Katoomba, New South Wales, Australia',\n",
       "       'Bangkok, Thailand', 'Afghan Church, Mumbai, Maharashtra, India',\n",
       "       'Serbia', 'Hotel Holiday Inn, Juhu, Mumbai, Maharashtra, India',\n",
       "       'Jaisalmer, Rajasthan, India', 'Aarey Colony, India',\n",
       "       'London, England, UK', 'New Delhi, India', 'Florida, USA',\n",
       "       'Delhi, India', 'Denham, Buckinghamshire, England, UK',\n",
       "       'Chicago, Illinois, USA', 'Udaipur, Rajasthan, India',\n",
       "       'Rewari, Haryana, India', 'Mathura, Uttar Pradesh, India',\n",
       "       'Angel Underground Station, Islington, London, England, UK',\n",
       "       'Chandigarh, Punjab, India', 'Denmark',\n",
       "       'Abu Dhabi, United Arab Emirates',\n",
       "       '679 E 22nd St, New York City, New York, USA',\n",
       "       'Coonoor, Tamil Nadu, India', 'Bulgaria', 'Budapest, Hungary',\n",
       "       'Goubert Avenue, Pondicherry, India', 'Prague, Czech Republic',\n",
       "       'Blackrock Cottage, Glen Coe, Highland, Scotland, UK',\n",
       "       'Khandala, Maharashtra, India', 'Kashmir',\n",
       "       'Pinewood Studios, Iver Heath, Buckinghamshire, England, UK',\n",
       "       'Ladhak, India',\n",
       "       'Stansted Airport - Bassingbourn Rd, Stansted CM24 1QW, London, England, UK',\n",
       "       'Amer Fort, Jaipur, Rajasthan, India',\n",
       "       'Chhatrapati Shivaji Terminus, Mumbai, Maharashtra, India',\n",
       "       'Macedonia', 'Barcelona, Spain', 'Ahmedabad, Gujarat, India',\n",
       "       'Manali, Himachal Pradesh, India',\n",
       "       'Goddard Space Flight Center - Greenbelt Road, Greenbelt, Maryland, USA',\n",
       "       'Kuala Lumpur, Malaysia', 'Canary wharf, London, England, UK',\n",
       "       'Bronx, New York, USA', 'Krabi, Thailand', 'Punjab, India',\n",
       "       'Stage 8, 20th Century Fox Studios - 10201 Pico Blvd., Century City, Los Angeles, California, USA',\n",
       "       'Australia', 'Amsterdam, Noord-Holland, Netherlands',\n",
       "       'Mehboob Studios, Mumbai, Maharashtra, India',\n",
       "       'Calcutta, West Bengal, India', 'Kraków, Malopolskie, Poland',\n",
       "       'Bay Ridge, Brooklyn, New York City, New York, USA',\n",
       "       'New Delhi, Delhi, India', 'Beirut, Lebanon',\n",
       "       'Kochi, Kerala, India', 'Bhor, Maharashtra, India', 'Malaysia',\n",
       "       'Ciudad de las Artes y las Ciencias, Valencia, Spain',\n",
       "       'Abrol Towers, Malad West, Mumbai, Maharashtra, India',\n",
       "       'Blenheim Palace, Woodstock, Oxfordshire, England, UK',\n",
       "       'New Delhi, Punjab, India', 'Goa, India',\n",
       "       'Champs Elysées, Paris 8, Paris, France',\n",
       "       'Sandia Mountains, New Mexico, USA', 'Dubai, United Arab Emirates',\n",
       "       'Mauritius', 'Himachal Pradesh, India',\n",
       "       'Apa Villa - Illuketia, Galle, Southern Province, Sri Lanka',\n",
       "       'Africa', 'Bandra Lake, Bandra, Mumbai, Maharashtra, India',\n",
       "       'Phuket, Thailand', 'Sri Lanka', 'Darjeeling, West Bengal, India',\n",
       "       'Canterbury, Kent, England, UK',\n",
       "       'Flughafen Zürich Kloten, Kloten, Kanton Zürich, Switzerland',\n",
       "       'Allahabad, Uttar Pradesh, India',\n",
       "       'Alleppey, Alappuzha District, Kerala, India',\n",
       "       'Pattaya, Chonburi, Thailand', 'Assam, India',\n",
       "       'Surrey, England, UK', 'New York, USA',\n",
       "       'Southall, Middlesex, England, UK',\n",
       "       'Banff National Park, Alberta, Canada', 'Sun City, South Africa',\n",
       "       'Uttar Pradesh, India', 'Casa Colvale, Goa, India',\n",
       "       '30th Street Station - 3001 Market Street, Philadelphia, Pennsylvania, USA',\n",
       "       'Albert Memorial, Kensington Gardens, Kensington, London, England, UK',\n",
       "       'Apta Railway Station, Maharashtra, India', 'Turkey',\n",
       "       'Jamshedpur, Jharkhand, India',\n",
       "       'Forbidden City, Dongcheng District, Beijing, China',\n",
       "       'Bassein Fort, Vasai, Palghar, Maharashtra, India',\n",
       "       'Cortlandt Alley, Chinatown, Manhattan, New York City, New York, USA',\n",
       "       'Mahabat Maqbara, Junagadh, Gujarat, India', 'Santiago, Chile',\n",
       "       'Hans Raj College, University of Delhi, New Delhi, Delhi, India',\n",
       "       \"Brenner's Park-Hotel & Spa, Baden-Baden, Baden-Württemberg, Germany\",\n",
       "       'Alton Towers, Farley, Staffordshire, England, UK',\n",
       "       'Koh-e-Fiza, Bhopal, Madhya Pradesh, India', 'Argentina',\n",
       "       'Essel Studios, Mumbai, Maharashtra, India',\n",
       "       'Hutatma Chowk, Mumbai, India', 'Romania',\n",
       "       'Alexandria Hotel - 501 S. Spring Street, Downtown, Los Angeles, California, USA',\n",
       "       'Nepal', 'Darling Harbour, Sydney, New South Wales, Australia',\n",
       "       'Ooty Lake, India', 'Libya', 'Iver, Buckinghamshire, England, UK',\n",
       "       'Hotel Tara Palace, Chandni Chowk, Old Delhi, Central Delhi, Delhi, India',\n",
       "       'Aryanivas, Kalvadevi, Mumbai, Maharashtra, India',\n",
       "       'Modern Studio, Andheri, Mumbai, Maharashtra, India', 'Mumbai',\n",
       "       'Moscow, Russia', 'Bhopal, India', 'Chennai, Tamil Nadu, India',\n",
       "       'Hyderabad, Telangana, India',\n",
       "       'Laxmi Vilas Palace, Vadodara, Gujarat, India', 'Thailand',\n",
       "       'Apex Bar and Restaurant, Raddison Hampshire, Leicester Square, Soho, London, England, UK',\n",
       "       'School For the Blind, Jogeshwari, Mumbai, Maharashtra, India',\n",
       "       'Dehradun, Uttar Pradesh, India',\n",
       "       'Burj Al Arab, Jumeira, Dubai, United Arab Emirates',\n",
       "       'Ratenberg, Tylor, Austria',\n",
       "       'Marlow, Buckinghamshire, England, UK', 'Glasgow, Scotland, UK',\n",
       "       'Central Province, Sri Lanka', 'Thornhill, Ontario, Canada',\n",
       "       'Bondi Beach, Sydney, New South Wales, Australia',\n",
       "       'Rumi Darwaza, Lucknow, Uttar Pradesh, India', 'South Africa',\n",
       "       'Greece', 'Parikhara, Ballia, Uttar Pradesh, India',\n",
       "       'Swapnanagari Holiday Resort, Panvel, Maharashtra, India',\n",
       "       'Switzerland', 'Haji Ali Mosque, Mumbai, Maharashtra, India',\n",
       "       'Agra, Uttar Pradesh, India',\n",
       "       'Elphinstone Technical High School, Mumbai, Maharashtra, India',\n",
       "       'Chomu Palace, Jaipur, Rajasthan, India', 'Kolkata, India',\n",
       "       'Amber Fort, Amber, Rajasthan, India',\n",
       "       'Dalhousie, Himachal Pradesh, India', 'Diu, Daman and Diu, India',\n",
       "       'Bhopal, Madhya Pradesh, India',\n",
       "       'Alex Fraser Bridge, Delta, British Columbia, Canada',\n",
       "       'Maratha Mandir, Mumbai, Maharashtra, India', 'Riga, Latvia',\n",
       "       'Leeds, West Yorkshire, England, UK',\n",
       "       'Filmistan Studios, Mumbai, Maharashtra, India',\n",
       "       'Alberobello, Bari, Apulia, Italy',\n",
       "       'Sicilian Avenue, Holborn, London, England, UK',\n",
       "       'Bandra Fort, Mumbai, Maharashtra, India', 'Fiji', 'New Zealand',\n",
       "       'Cape Town, Western Cape, South Africa',\n",
       "       'Chandivali Studio, Mumbai, Maharashtra, India',\n",
       "       'Nainital, Uttaranchal, India', 'Kasauli, India',\n",
       "       'Rann of Kutch, Gujarat, India',\n",
       "       'Aspinalls, Curzon Street, Mayfair, London, England, UK',\n",
       "       'Reading, Berkshire, England, UK',\n",
       "       'Aamandi bungalow, Madh Island, Mumbai, Maharashtra, India',\n",
       "       'Apulia, Italy', 'Arthan, Surat, India', 'Maharashtra, India',\n",
       "       'Tso Moriri, Ladakh, India', 'Winchester, Hampshire, England, UK',\n",
       "       'Wentworth Woodhouse, Wentworth, South Yorkshire, England, UK',\n",
       "       'Alfanagar, Bundi, Rajasthan, India', 'Munar, Kerala, India',\n",
       "       'N D Studio, Karjat, India',\n",
       "       'Worli Village, Worli Koliwada, Mumbai, Maharashtra, India',\n",
       "       'Mohan Studios, Mumbai, Maharashtra, India', 'Beloeil, Belgium',\n",
       "       'Prasad Studios, Chennai, Tamil Nadu, India',\n",
       "       'Annapoorna Studios, Hyderabad, Telangana, India',\n",
       "       'Pollachi, Tamil Nadu, India', 'Gurgaon, India',\n",
       "       'The Ancient City, Bangkok, Thailand',\n",
       "       'Naini Lake, Nainital, Uttaranchal, India',\n",
       "       'Hyde Park, London, England, UK', 'Calgary, Alberta, Canada',\n",
       "       'Indian School of Business, Hyderabad, Telangana, India',\n",
       "       'Kuchaman City, Rajasthan, India', 'Thar Desert, Rajasthan, India',\n",
       "       'South Australia, Australia', 'Belapur, Maharashtra, India',\n",
       "       'Bridavan Garden, Baroda, Gujarat, India',\n",
       "       'Famous Cine Studios, Tardeo, India',\n",
       "       'Aaam Khas Bagh, Sirhind, Fatehgarh Sahib, Punjab',\n",
       "       'Frankfurt am Main, Hesse, Germany',\n",
       "       'Central Famous Kardar Studios, Mumbai, Maharashtra, India',\n",
       "       'Aksa Beach, Malad, Mumbai, Maharashtra, India',\n",
       "       'Chamundeswari Studios, Banglore, Karnataka, India',\n",
       "       'Langanbal Bridge, Anantnag-Pahalgam Road, Kashmir, India',\n",
       "       'Natraj Studios, Mumbai, Maharashtra, India',\n",
       "       'AVM Studios, Madras, India', 'A.G. House, India', 'Ireland',\n",
       "       'K. Asif Studios, Andheri, Mumbai, Maharashtra, India',\n",
       "       'Chitkul, Himachal Pradesh, India',\n",
       "       'Asha Studios, Chembur, Mumbai, Maharashtra, India',\n",
       "       'Charlie Chaplin Statue, Quai Perdonnet, Vevey, Canton de Vaud, Switzerland',\n",
       "       'Ranjit Vilas Palace, Wankaner, Rajkot, Gujarat, India', 'Brazil',\n",
       "       'England, UK', 'Hotel Radissions, Lonavala, Maharashtra, India',\n",
       "       'Los Angeles, California, USA', 'Lahore, Pakistan',\n",
       "       'Old Delhi, Central Delhi, Delhi, India',\n",
       "       'D. Rama Naidu Studios, Hyderabad, Telangana, India',\n",
       "       'Upper Lake, Bhopal, Madhya Pradesh, India', 'Dallas, Texas, USA',\n",
       "       'Ooty, Tamil Nadu, India',\n",
       "       'Keukenhof Tulip Gardens, Lisse, Th Netherlands',\n",
       "       'Kathmandu, Nepal', 'Leicester, Leicestershire, England, UK',\n",
       "       'Dhanushkodi, Tamil Nadu, India',\n",
       "       'Vauhini Studios, Chennai, Tamil Nadu, India',\n",
       "       'Rajmahal, Devgadh Baria, Gujarat, India', 'Uttarakhand, India',\n",
       "       'Ladakh, Jammu & Kashmir, India',\n",
       "       'City Palace, Jaipur, Rajasthan, India',\n",
       "       'Leh, Ladakh, Jammu & Kashmir, India',\n",
       "       'Lethbridge, Alberta, Canada',\n",
       "       'Benares, Varanasi, Uttar Pradesh, India', 'Balaji, Mumbai, India',\n",
       "       \"Bhalla's Bunglow, India\",\n",
       "       'Burghley House, Stamford, Lincolnshire, England, UK',\n",
       "       'Kamalistan Studios, Andheri, Mumbai, Maharashtra, India',\n",
       "       'Draycott, Derbyshire, England, UK', 'Amandi Bunglow, India',\n",
       "       'Aberdeen, North Carolina, USA',\n",
       "       'R.K. Studios, Chembur, Mumbai, Maharashtra, India',\n",
       "       'Philadelphia, Pennsylvania, USA',\n",
       "       \"Kekee Manzil Bungalow, H.K. Bhaba Road, Land's End, Ranwar, Bandra West, Mumbai, Maharashtra, India\",\n",
       "       'Perth and Kinross, Scotland, UK', 'Dow hill, Kurseong, India',\n",
       "       'Pondicherry, India',\n",
       "       'Rochester Castle, Rochester, Kent, England, UK',\n",
       "       'Kullu, Himachal Pradesh, India',\n",
       "       'Market Place, Örlikon, Zürich, Kanton Zürich, Switzerland',\n",
       "       'Campa Cola Studios, Chennai, Tamil Nadu, India',\n",
       "       'Arunachal Pradesh, India', 'FilmCity, Mumbai, India',\n",
       "       'Bikaner, Rajasthan, India',\n",
       "       'Neptune Studios, Chennai, Tamil Nadu, India',\n",
       "       'Rajkamal Studios, Parel, Mumbai, Maharashtra, India',\n",
       "       'Hotel Grand Hyatt, Dubai, United Arab Emirates',\n",
       "       'Rajkot, Gujarat, India', 'Gwalior, Madhya Pradesh, India',\n",
       "       'Karnal, Haryana, India', 'Bagdogra Airport, West Bengal, India',\n",
       "       'Hotel Sea Princess Ark Bar Resstaurant, Mumbai, India',\n",
       "       'Athirappally, Kerala, India',\n",
       "       'Air India Mock Up, Mumbai, Maharashtra, India',\n",
       "       'Gateshead, Tyne & Wear, England, UK',\n",
       "       'Filmalaya Studio, Mumbai, Maharashtra, India',\n",
       "       'Dubai International Airport, Dubai, United Arab Emirates',\n",
       "       'Aga Khan Palace, Nagar Rd, Pune, Maharashtra, India',\n",
       "       'Chand Shah Dargah, Saki Vihar, Powai, Mumbai, Maharashtra, India',\n",
       "       \"Lord's Cricket Ground, St John's Wood, London, England, UK\",\n",
       "       'Manipal Hospital, Bangalore, Karnataka, India',\n",
       "       'Andheri Sports Complex, Mumbai, Maharashtra, India',\n",
       "       'Sirsa, Haryana, India', 'Suphanburi, Thailand',\n",
       "       'Hagia Sophia, Istanbul, Turkey',\n",
       "       'Antop Hill, Mumbai, Maharashtra, India',\n",
       "       'Kamal Studios, Mumbai, Maharashtra, India', 'Crown Studio, India',\n",
       "       'Christchurch, Canterbury, New Zealand',\n",
       "       'Bhind, Madhya Pradesh, India', 'Mangalore, Karnataka, India',\n",
       "       'Amazon Rainforest, Brazil', 'Wai, Maharashtra, India',\n",
       "       'Royal Castle, Budapest, Hungary', 'Centaur Hotel, India',\n",
       "       'Dolbadarn Castle, Gwynedd, Wales, UK',\n",
       "       'Himalayas, West Bengal, India', 'Bir, Himachal Pradesh, India',\n",
       "       'Afghanistan', 'Hyderabad, India',\n",
       "       'Barna Village, Jaisalmer, Rajasthan, India',\n",
       "       'CN Tower - 301 Front Street West, Toronto, Ontario, Canada',\n",
       "       'Holy Spirit Hospital, Andheri, Mumbai, Maharashtra, India',\n",
       "       'Swarovski Crystal Worlds, Austria',\n",
       "       'Pachmahri, Madhya Pradesh, India', 'Trichy, Tamil Nadu, India',\n",
       "       'Fern Hill Palace, Goby, India', 'Coorg, Karnataka, India',\n",
       "       'Rewalsar, Himachal Pradesh, India',\n",
       "       'George Square, Glasgow, Strathyclyde, Scotland, UK',\n",
       "       'Satara, Maharashtra, India',\n",
       "       'Gateway of India, Apollo Bunder, Mumbai, Maharashtra, India',\n",
       "       'Basant Studio, Chembur, Mumbai, Maharashtra, India',\n",
       "       \"'Nab' school for blinds, India\",\n",
       "       'Matoshree Sports Complex, Jogeshwari, Mumbai, Maharashtra, India',\n",
       "       'Madh Quilla, Madh Island, Mumbai, Maharashtra, India',\n",
       "       'N.T. Studio, India', 'Brisbane, Queensland, Australia',\n",
       "       'Warner Brothers Burbank Studios - 4000 Warner Boulevard, Burbank, California, USA',\n",
       "       'Bhatan Tunnel, Mumbai Pune Expressway, India',\n",
       "       'Bombay, Hyderabad, Telangana, India', 'Pune, Maharashtra, India',\n",
       "       'Alexander Thomson Hotel, Glasgow, Strathclyde, Scotland, UK',\n",
       "       'Ansal Plaza, New Delhi, Delhi, India',\n",
       "       'Steep Holm, Bristol Channel, Somerset, England, UK',\n",
       "       'Aarey Milk Colony, Mumbai, Maharashtra, India',\n",
       "       'Chiplun Railway Station, Chiplun, Maharashtra, India',\n",
       "       'Old Khiva, Khiva, Uzbekistan', 'Convent Villa, India',\n",
       "       'Ashoka Hotel, Bangalore, Karnataka, India',\n",
       "       'Taj Mahal, Agra, Uttar Pradesh, India',\n",
       "       'Golden Temple, Amritsar, Punjab, India', 'Vienna, Austria',\n",
       "       'Akbarally, India', 'Kerala, India',\n",
       "       'Famous Cine Lab & Studios, Moses Rd, Mumbai, Maharashtra, India',\n",
       "       'Tehran, Iran', 'Guru Dutt Studios, Mumbai, Maharashtra, India',\n",
       "       'Surat, Gujarat, India', 'Kashmir, India',\n",
       "       'Bangalore City College, Bangalore, Karnataka, India',\n",
       "       'Karnataka, India', 'Lorraine, France', 'Sweden',\n",
       "       'Manipal, Karnataka, India', 'Hampi, Karnataka, India',\n",
       "       'Fort Aguada, Goa, India',\n",
       "       'Dr Bhanu Pratap Street , Raipur, Chhattisgarh, India',\n",
       "       'University Campus Kalina Bombay India', 'Scotland, UK',\n",
       "       'Allerton Castle, Knaresborough, North Yorkshire, England, UK',\n",
       "       'Vishakhapatnam, Andhra Pradesh, India',\n",
       "       'Central Studios, Tardeo, Mumbai, Maharashtra, India',\n",
       "       'Bhaidas Hall, India',\n",
       "       'Harrods, Brompton Road, Knightsbridge, London, England, UK',\n",
       "       'AA de Moira Football Club, Goa, India',\n",
       "       'Lonavala, Maharashtra, India',\n",
       "       'AVM Studios, Chennai, Tamil Nadu, India',\n",
       "       'Jyoti Studios, Mumbai, Maharashtra, India',\n",
       "       'Charing Cross Underground Station, Charing Cross, London, England, UK',\n",
       "       'Kangaroo Island, South Australia, Australia',\n",
       "       'Sydney, New South Wales, Australia',\n",
       "       'Walcot Hall, Lydbury North, Shropshire, England, UK',\n",
       "       'Esplanade du Trocadéro, Paris 16, Paris, France',\n",
       "       'Lucerne, Switzerland', 'Indore, Madhya Pradesh, India',\n",
       "       'Pochampally, Andhra Pradesh, India',\n",
       "       'Talkatora garden, New delhi, India',\n",
       "       \"Mannat Bungalow, H.K. Bhaba Road, Land's End, Ranwar, Bandra West, Mumbai, Maharashtra, India\",\n",
       "       'Orange County, California, USA',\n",
       "       'Emirates Golf Course, Dubai, United Arab Emirates',\n",
       "       'Escorts Dry Dock, Maldives', 'Bahrain',\n",
       "       'Karjat, Mumbai, Maharashtra, India', 'Purnea,Bihar,India',\n",
       "       'Haryana, India',\n",
       "       'Bohra Studio, Gandhinagar, Ahmedabad, Gujarat, India',\n",
       "       'Bellary, Karnataka, India', 'Barista, Mumbai, Maharashtra, India',\n",
       "       'Paramount Studios, Andheri, Mumbai, Maharashtra, India',\n",
       "       'Fiji Islands, Fiji',\n",
       "       'Club Link, Goregaon, Mumbai, Maharashtra, India',\n",
       "       'M Resturant, The Grand Hyatt Hotel, Mumbai, Maharashtra, India',\n",
       "       'Fariyas Hotel, Lonavala, Maharashtra, India',\n",
       "       'Melbourne, Victoria, Australia', 'Houston, Texas, USA',\n",
       "       'Bern, Kanton Bern, Switzerland',\n",
       "       'Mahabaleshwar, Maharashtra, India',\n",
       "       'Famous Studios, Mumbai, Maharashtra, India',\n",
       "       'Shreekant Studios, Chembur, Mumbai, Maharashtra, India',\n",
       "       'Bran Castle, Bran, Brasov County, Romania', 'Austria',\n",
       "       'Hubli-Dharwar, Karnataka, India',\n",
       "       'Kutná Hora, Stredoceský, Czech Republic', 'Cochin, Kerala, India',\n",
       "       'Art Bunglow, India',\n",
       "       'S.K. Malik Studios, Mumbai, Maharashtra, India',\n",
       "       'Anand Bunglow, India', 'Palani, Tamil Nadu, India',\n",
       "       'Indrapuri Studios, Calcutta, West Bengal, India',\n",
       "       'Bombay Studios Limited, Goregaon, India',\n",
       "       'Walt Disney World, Lake Buena Vista, Florida, USA',\n",
       "       'Miami, Florida, USA', 'Russia', 'Alibaug, Maharashtra, India',\n",
       "       'Indoor Stadium, Rajkot, Gujarat, India', 'Netherlands',\n",
       "       'Valrico, Florida, USA', 'Melukote, Karnataka, India',\n",
       "       'Lodhi Gardens, South Delhi, Delhi, India', 'Ahmed Mills, India',\n",
       "       'Ascona, Cantone Ticino, Switzerland',\n",
       "       'Venus Combines, Chennai, Tamil Nadu, India',\n",
       "       'Builth Wells, Powys, Wales, UK',\n",
       "       'Brindavan Gardens, Mysuru, Karnataka',\n",
       "       'Vancouver International Airport, Sea Island, Richmond, British Columbia, Canada',\n",
       "       'Bern, Switzerland',\n",
       "       'Drottningholm Palace, Ekerö, Stockholms län, Sweden',\n",
       "       'Koh Phi Phi, Thailand',\n",
       "       'Malvan, Sindhudurg District, Maharashtra, India',\n",
       "       'Bombay Talkies Studios, Malad, India',\n",
       "       'Hotel Horizon, Juhu, Mumbai, Maharashtra, India',\n",
       "       'Merdeka Square, Jalan Raja, Kuala Lumpur, Malaysia',\n",
       "       'Polachi, Kerala, India', 'Johannesburg, South Africa',\n",
       "       'Apollo Video & Audio, 7154 Airport Rd, Mississauga, Ontario, Canada',\n",
       "       'Hollywood, Los Angeles, California, USA',\n",
       "       'Krabi Beach, Bangkok, Thailand',\n",
       "       'Byculla District Prison, Clare Road, Byculla, Mumbai, Maharashtra, India',\n",
       "       'Peradeniya Botanical Gardens, Central Province, Sri Lanka',\n",
       "       'Columbia University - Broadway & 116th Street, Manhattan, New York City, New York, USA',\n",
       "       'Pont Alexandre III, Paris 7, Paris, France',\n",
       "       'Banaras Hindu University - BHU, Varanasi, Uttar Pradesh, India',\n",
       "       'Kulu Manali, Himachal Pradesh, India',\n",
       "       'Bhagirathi Neetia Women and Child Care Centre, Calcutta, West Bengal, India',\n",
       "       'Paramount Studios - 5555 Melrose Avenue, Hollywood, Los Angeles, California, USA',\n",
       "       'Karachi, Sindh, Pakistan', 'Adalaj, Gujarat, India',\n",
       "       'Jagrati Studios, Chembur, Mumbai, Maharashtra, India',\n",
       "       'Burma Shell, India', 'Pattaya, Thailand', 'West Bengal, India',\n",
       "       'Dream River, Kajrat, India', 'Shimla, Himachal Pradesh, India',\n",
       "       'Mussourie, India', 'Gorai, Mumbai, Maharashtra, India',\n",
       "       'Vicenza, Veneto, Italy', 'Auckland, New Zealand',\n",
       "       'Bhandup, India', 'Film City, Chennai, Tamil Nadu, India',\n",
       "       'Edison, New Jersey, USA', 'Patiala, Punjab, India',\n",
       "       'Brahmaputra Riverside, Assam, India',\n",
       "       'Badrinath Tower, Andheri, Mumbai, Maharashtra, India',\n",
       "       'Mumbai International Airport, Mumbai, Maharashtra, India',\n",
       "       'Botanical Garden, Canberra, Australian Capital Territory, Australia',\n",
       "       'Edinburgh Castle, Edinburgh, Scotland, UK',\n",
       "       'Eastern Studios, Mumbai, Maharashtra, India',\n",
       "       'Central Jail, Bangalore, Karnataka, India',\n",
       "       'Saint-Césaire, Québec, Canada', 'Gadchiroli, Maharashtra, India',\n",
       "       'Air Force Academy, Dundigal, Hyderabad, Telangana, India',\n",
       "       'Andhra Pradesh, India', 'Imphal, India',\n",
       "       'Jabalpur, Madhya Pradesh, India', 'Vagamon, Kerala, India',\n",
       "       'Lovedale Railway Station, Lovedale, Tamilnadu, India',\n",
       "       'Lake District, Cumbria, England, UK',\n",
       "       'Banaras, Uttar Pradesh, India',\n",
       "       'Ahmedganj palace, earstwhile palace of Nawab of Ahmedganj in Murud',\n",
       "       'Kuala Lumpur International Airport, Sepang, Selangor, Malaysia',\n",
       "       'Ashok Studios, India', 'Kho Chang, Khao Yai, Bangkok, Thailand',\n",
       "       'Sheffield, South Yorkshire, England, UK',\n",
       "       'Dharamsala, Himachal Pradesh, India',\n",
       "       'Uxbridge, Middlesex, England, UK', 'Kerakat, Jaunpur, India',\n",
       "       'Brooklyn, New York City, New York, USA', 'Tamil Nadu, India',\n",
       "       'Shree Sound Studio, Dadar, Mumbai, Maharashtra, India',\n",
       "       'Murugalaya Studio, Chennai, Tamil Nadu, India', 'New Jersey, USA',\n",
       "       'Hubli, Karnataka, India', 'Bangladesh',\n",
       "       'Altenburg, Thuringia, Germany', 'Beverly Hills, California, USA',\n",
       "       'Gokak, Bijapura, Karnataka, India',\n",
       "       'Cinevistaas Studios, Mumbai, Maharashtra, India',\n",
       "       'Zürich, Kanton Zürich, Switzerland',\n",
       "       'Belgaon Jail, Belgaon, Karnataka, India',\n",
       "       'Ranjit Studios, Mumbai, Maharashtra, India',\n",
       "       'Kårsta, Stockholms län, Sweden',\n",
       "       'Ye Olde Cheshire Cheese, Fleet Street, London, UK',\n",
       "       'Carteret, New Jersey, USA',\n",
       "       'Paramount Studios, Chennai, Tamil Nadu, India',\n",
       "       'Chambal Valley, Madhya Pradesh, India',\n",
       "       'Borunda, Jodhpur, Rajasthan, India', 'Ajmer, Rajhastan, India',\n",
       "       'Munich, Bavaria, Germany', 'Gujarat, India',\n",
       "       'Thiruvananthapuram, Kerala, India', 'Ernakulam, Kerala, India',\n",
       "       'Central Park, Manhattan, New York City, New York, USA',\n",
       "       'Dehradun, Uttarakhand, India', 'Ratnagiri, Maharashtra, India',\n",
       "       \"Bishop Westcott Boys' School, Namkum, Ranchi, Jharkhand, India\",\n",
       "       'Borivali Railway Platform, Mumbai, Maharashtra, India',\n",
       "       'Brampton, Ontario, Canada', 'Perumbavoor, Kerala, India',\n",
       "       'Jersey City, New Jersey, USA',\n",
       "       'Berner Oberland, Kanton Bern, Switzerland',\n",
       "       'Aeroporti, Tbilisi, Georgia', 'Aftab Studio, India'], dtype=object)"
      ]
     },
     "execution_count": 106,
     "metadata": {},
     "output_type": "execute_result"
    }
   ],
   "source": [
    "# Unique values in the 'Name' column\n",
    "imdb_location['Name'].unique()"
   ]
  },
  {
   "cell_type": "code",
   "execution_count": 107,
   "id": "98f6afcf",
   "metadata": {},
   "outputs": [
    {
     "data": {
      "text/plain": [
       "array([  0,   1,   2,   3,   4,   5,   6,   7,   8,   9,  10,  11,  12,\n",
       "        13,  14,  15,  16,  17,  18,  19,  20,  21,  22,  23,  24,  25,\n",
       "        26,  27,  28,  29,  30,  31,  32,  33,  34,  35,  36,  37,  38,\n",
       "        39,  40,  41,  42,  43,  44,  45,  46,  47,  48,  49,  50,  51,\n",
       "        52,  53,  54,  55,  56,  57,  58,  59,  60,  61,  62,  63,  64,\n",
       "        65,  66,  67,  68,  69,  70,  71,  72,  73,  74,  75,  76,  77,\n",
       "        78,  79,  80,  81,  82,  83,  84,  85,  86,  87,  88,  89,  90,\n",
       "        91,  92,  93,  94,  95,  96,  97,  98,  99, 100, 101, 102, 103,\n",
       "       104, 105, 106, 107, 108, 109, 110, 111, 112, 113, 114, 115, 116,\n",
       "       117, 118, 119, 120, 121, 122, 123, 124, 125, 126, 127, 128, 129,\n",
       "       130, 131, 132, 133, 134, 135, 136, 137, 138, 139, 140, 141, 142,\n",
       "       143, 144, 145, 146, 147, 148, 149, 150, 151, 152, 153, 154, 155,\n",
       "       156, 157, 158, 159, 160, 161, 162, 163, 164, 165, 166, 167, 168,\n",
       "       169, 170, 171, 172, 173, 174, 175, 176, 177, 178, 179, 180, 181,\n",
       "       182, 183, 184, 185, 186, 187, 188, 189, 190, 191, 192, 193, 194,\n",
       "       195, 196, 197, 198, 199, 200, 201, 202, 203, 204, 205, 206, 207,\n",
       "       208, 209, 210, 211, 212, 213, 214, 215, 216, 217, 218, 219, 220,\n",
       "       221, 222, 223, 224, 225, 226, 227, 228, 229, 230, 231, 232, 233,\n",
       "       234, 235, 236, 237, 238, 239, 240, 241, 242, 243, 244, 245, 246,\n",
       "       247, 248, 249, 250, 251, 252, 253, 254, 255, 256, 257, 258, 259,\n",
       "       260, 261, 262, 263, 264, 265, 266, 267, 268, 269, 270, 271, 272,\n",
       "       273, 274, 275, 276, 277, 278, 279, 280, 281, 282, 283, 284, 285,\n",
       "       286, 287, 288, 289, 290, 291, 292, 293, 294, 295, 296, 297, 298,\n",
       "       299, 300, 301, 302, 303, 304, 305, 306, 307, 308, 309, 310, 311,\n",
       "       312, 313, 314, 315, 316, 317, 318, 319, 320, 321, 322, 323, 324,\n",
       "       325, 326, 327, 328, 329, 330, 331, 332, 333, 334, 335, 336, 337,\n",
       "       338, 339, 340, 341, 342, 343, 344, 345, 346, 347, 348, 349, 350,\n",
       "       351, 352, 353, 354, 355, 356, 357, 358, 359, 360, 361, 362, 363,\n",
       "       364, 365, 366, 367, 368, 369, 370, 371, 372, 373, 374, 375, 376,\n",
       "       377, 378, 379, 380, 381, 382, 383, 384, 385, 386, 387, 388, 389,\n",
       "       390, 391, 392, 393, 394, 395, 396, 397, 398, 399, 400, 401, 402,\n",
       "       403, 404, 405, 406, 407, 408, 409, 410, 411, 412, 413, 414, 415,\n",
       "       416, 417, 418, 419, 420, 421, 422, 423, 424, 425, 426, 427, 428,\n",
       "       429, 430, 431, 432, 433, 434, 435, 436, 437, 438, 439, 440, 441,\n",
       "       442, 443, 444, 445, 446, 447, 448, 449, 450, 451, 452, 453, 454,\n",
       "       455, 456, 457, 458, 459, 460, 461, 462, 463, 464, 465, 466, 467,\n",
       "       468, 469, 470, 471, 472, 473, 474, 475, 476, 477, 478, 479, 480,\n",
       "       481, 482, 483, 484, 485, 486, 487, 488, 489, 490, 491, 492, 493,\n",
       "       494, 495, 496, 497, 498, 499, 500, 501, 502, 503, 504, 505, 506,\n",
       "       507, 508, 509, 510, 511, 512, 513, 514, 515, 516, 517, 518, 519,\n",
       "       520, 521, 522, 523, 524, 525, 526, 527, 528, 529, 530, 531, 532,\n",
       "       533, 534, 535, 536, 537, 538, 539, 540, 541, 542, 543, 544, 545,\n",
       "       546, 547, 548, 549, 550, 551, 552, 553, 554, 555, 556, 557, 558],\n",
       "      dtype=int64)"
      ]
     },
     "execution_count": 107,
     "metadata": {},
     "output_type": "execute_result"
    }
   ],
   "source": [
    "# Unique values in the 'LID' column\n",
    "imdb_location['LID'].unique()"
   ]
  },
  {
   "cell_type": "code",
   "execution_count": 108,
   "id": "4fb0b8f4",
   "metadata": {},
   "outputs": [
    {
     "data": {
      "text/plain": [
       "Durban, South Africa                                  1\n",
       "Ashoka Hotel, Bangalore, Karnataka, India             1\n",
       "Ansal Plaza, New Delhi, Delhi, India                  1\n",
       "Steep Holm, Bristol Channel, Somerset, England, UK    1\n",
       "Aarey Milk Colony, Mumbai, Maharashtra, India         1\n",
       "                                                     ..\n",
       "Hyderabad, Telangana, India                           1\n",
       "Chennai, Tamil Nadu, India                            1\n",
       "Bhopal, India                                         1\n",
       "Moscow, Russia                                        1\n",
       "Aftab Studio, India                                   1\n",
       "Name: Name, Length: 559, dtype: int64"
      ]
     },
     "execution_count": 108,
     "metadata": {},
     "output_type": "execute_result"
    }
   ],
   "source": [
    "# Value count of the 'Name' column\n",
    "imdb_location['Name'].value_counts()"
   ]
  },
  {
   "cell_type": "code",
   "execution_count": 109,
   "id": "8d84e54a",
   "metadata": {},
   "outputs": [
    {
     "data": {
      "text/plain": [
       "0      1\n",
       "375    1\n",
       "369    1\n",
       "370    1\n",
       "371    1\n",
       "      ..\n",
       "180    1\n",
       "179    1\n",
       "178    1\n",
       "177    1\n",
       "558    1\n",
       "Name: LID, Length: 559, dtype: int64"
      ]
     },
     "execution_count": 109,
     "metadata": {},
     "output_type": "execute_result"
    }
   ],
   "source": [
    "# Value count of the 'LID' column\n",
    "imdb_location['LID'].value_counts()"
   ]
  },
  {
   "cell_type": "code",
   "execution_count": 110,
   "id": "17677755",
   "metadata": {},
   "outputs": [
    {
     "data": {
      "image/png": "[encoded data removed]",
      "text/plain": [
       "<Figure size 432x288 with 1 Axes>"
      ]
     },
     "metadata": {
      "needs_background": "light"
     },
     "output_type": "display_data"
    }
   ],
   "source": [
    "# boxplot of 'LID' column from imdb_location\n",
    "sns.boxplot(data=imdb_location, x='LID')\n",
    "plt.show()"
   ]
  },
  {
   "cell_type": "markdown",
   "id": "717a3533",
   "metadata": {},
   "source": [
    "No outliers are present in the 'LID' column "
   ]
  },
  {
   "cell_type": "code",
   "execution_count": 111,
   "id": "9de3b385",
   "metadata": {},
   "outputs": [
    {
     "data": {
      "text/plain": [
       "Name    0\n",
       "LID     0\n",
       "dtype: int64"
      ]
     },
     "execution_count": 111,
     "metadata": {},
     "output_type": "execute_result"
    }
   ],
   "source": [
    "# Checking for null values in imdb_location\n",
    "imdb_location.isna().sum()"
   ]
  },
  {
   "cell_type": "markdown",
   "id": "c755a6e3",
   "metadata": {},
   "source": [
    "Null values are not present in any columns"
   ]
  },
  {
   "cell_type": "code",
   "execution_count": 112,
   "id": "d0d89187",
   "metadata": {},
   "outputs": [
    {
     "data": {
      "text/html": [
       "<div>\n",
       "<style scoped>\n",
       "    .dataframe tbody tr th:only-of-type {\n",
       "        vertical-align: middle;\n",
       "    }\n",
       "\n",
       "    .dataframe tbody tr th {\n",
       "        vertical-align: top;\n",
       "    }\n",
       "\n",
       "    .dataframe thead th {\n",
       "        text-align: right;\n",
       "    }\n",
       "</style>\n",
       "<table border=\"1\" class=\"dataframe\">\n",
       "  <thead>\n",
       "    <tr style=\"text-align: right;\">\n",
       "      <th></th>\n",
       "      <th>Name</th>\n",
       "      <th>LID</th>\n",
       "    </tr>\n",
       "  </thead>\n",
       "  <tbody>\n",
       "  </tbody>\n",
       "</table>\n",
       "</div>"
      ],
      "text/plain": [
       "Empty DataFrame\n",
       "Columns: [Name, LID]\n",
       "Index: []"
      ]
     },
     "execution_count": 112,
     "metadata": {},
     "output_type": "execute_result"
    }
   ],
   "source": [
    "# Checking for duplicate rows in imdb_location\n",
    "imdb_location[imdb_location.duplicated()]"
   ]
  },
  {
   "cell_type": "markdown",
   "id": "c7d604f4",
   "metadata": {},
   "source": [
    "No duplicate rows found in imdb_location"
   ]
  },
  {
   "cell_type": "markdown",
   "id": "443f085b",
   "metadata": {},
   "source": [
    "### M_Producer"
   ]
  },
  {
   "cell_type": "code",
   "execution_count": 113,
   "id": "915bd31b",
   "metadata": {},
   "outputs": [
    {
     "data": {
      "text/html": [
       "<div>\n",
       "<style scoped>\n",
       "    .dataframe tbody tr th:only-of-type {\n",
       "        vertical-align: middle;\n",
       "    }\n",
       "\n",
       "    .dataframe tbody tr th {\n",
       "        vertical-align: top;\n",
       "    }\n",
       "\n",
       "    .dataframe thead th {\n",
       "        text-align: right;\n",
       "    }\n",
       "</style>\n",
       "<table border=\"1\" class=\"dataframe\">\n",
       "  <thead>\n",
       "    <tr style=\"text-align: right;\">\n",
       "      <th></th>\n",
       "      <th>index</th>\n",
       "      <th>MID</th>\n",
       "      <th>PID</th>\n",
       "      <th>ID</th>\n",
       "    </tr>\n",
       "  </thead>\n",
       "  <tbody>\n",
       "    <tr>\n",
       "      <th>0</th>\n",
       "      <td>0</td>\n",
       "      <td>tt2388771</td>\n",
       "      <td>nm0057655</td>\n",
       "      <td>0</td>\n",
       "    </tr>\n",
       "    <tr>\n",
       "      <th>1</th>\n",
       "      <td>1</td>\n",
       "      <td>tt2388771</td>\n",
       "      <td>nm0147080</td>\n",
       "      <td>1</td>\n",
       "    </tr>\n",
       "    <tr>\n",
       "      <th>2</th>\n",
       "      <td>2</td>\n",
       "      <td>tt2388771</td>\n",
       "      <td>nm0389414</td>\n",
       "      <td>2</td>\n",
       "    </tr>\n",
       "    <tr>\n",
       "      <th>3</th>\n",
       "      <td>3</td>\n",
       "      <td>tt2388771</td>\n",
       "      <td>nm0460141</td>\n",
       "      <td>3</td>\n",
       "    </tr>\n",
       "    <tr>\n",
       "      <th>4</th>\n",
       "      <td>4</td>\n",
       "      <td>tt2388771</td>\n",
       "      <td>nm0672248</td>\n",
       "      <td>4</td>\n",
       "    </tr>\n",
       "  </tbody>\n",
       "</table>\n",
       "</div>"
      ],
      "text/plain": [
       "   index        MID         PID  ID\n",
       "0      0  tt2388771   nm0057655   0\n",
       "1      1  tt2388771   nm0147080   1\n",
       "2      2  tt2388771   nm0389414   2\n",
       "3      3  tt2388771   nm0460141   3\n",
       "4      4  tt2388771   nm0672248   4"
      ]
     },
     "execution_count": 113,
     "metadata": {},
     "output_type": "execute_result"
    }
   ],
   "source": [
    "sql_query_M_producer = \"\"\"SELECT * FROM M_Producer\"\"\"\n",
    "imdb_M_producer = pd.read_sql_query(sql_query_M_producer, conne)\n",
    "\n",
    "# First few rows of imdb_M_producer\n",
    "imdb_M_producer.head()"
   ]
  },
  {
   "cell_type": "code",
   "execution_count": 114,
   "id": "17fe872f",
   "metadata": {},
   "outputs": [],
   "source": [
    "# Dropping 'index' column from\n",
    "imdb_M_producer.drop('index', axis=1, inplace=True)"
   ]
  },
  {
   "cell_type": "code",
   "execution_count": 115,
   "id": "b36cb426",
   "metadata": {},
   "outputs": [
    {
     "data": {
      "text/html": [
       "<div>\n",
       "<style scoped>\n",
       "    .dataframe tbody tr th:only-of-type {\n",
       "        vertical-align: middle;\n",
       "    }\n",
       "\n",
       "    .dataframe tbody tr th {\n",
       "        vertical-align: top;\n",
       "    }\n",
       "\n",
       "    .dataframe thead th {\n",
       "        text-align: right;\n",
       "    }\n",
       "</style>\n",
       "<table border=\"1\" class=\"dataframe\">\n",
       "  <thead>\n",
       "    <tr style=\"text-align: right;\">\n",
       "      <th></th>\n",
       "      <th>MID</th>\n",
       "      <th>PID</th>\n",
       "      <th>ID</th>\n",
       "    </tr>\n",
       "  </thead>\n",
       "  <tbody>\n",
       "    <tr>\n",
       "      <th>11744</th>\n",
       "      <td>tt0852989</td>\n",
       "      <td>nm2371237</td>\n",
       "      <td>11746</td>\n",
       "    </tr>\n",
       "    <tr>\n",
       "      <th>11745</th>\n",
       "      <td>tt0852989</td>\n",
       "      <td>nm2371184</td>\n",
       "      <td>11747</td>\n",
       "    </tr>\n",
       "    <tr>\n",
       "      <th>11746</th>\n",
       "      <td>tt0852989</td>\n",
       "      <td>nm1246080</td>\n",
       "      <td>11748</td>\n",
       "    </tr>\n",
       "    <tr>\n",
       "      <th>11747</th>\n",
       "      <td>tt0375882</td>\n",
       "      <td>None</td>\n",
       "      <td>11749</td>\n",
       "    </tr>\n",
       "    <tr>\n",
       "      <th>11748</th>\n",
       "      <td>tt0375890</td>\n",
       "      <td>nm1421793</td>\n",
       "      <td>11750</td>\n",
       "    </tr>\n",
       "  </tbody>\n",
       "</table>\n",
       "</div>"
      ],
      "text/plain": [
       "             MID         PID     ID\n",
       "11744  tt0852989   nm2371237  11746\n",
       "11745  tt0852989   nm2371184  11747\n",
       "11746  tt0852989   nm1246080  11748\n",
       "11747  tt0375882        None  11749\n",
       "11748  tt0375890   nm1421793  11750"
      ]
     },
     "execution_count": 115,
     "metadata": {},
     "output_type": "execute_result"
    }
   ],
   "source": [
    "# Last few rows of imdb_M_producer\n",
    "imdb_M_producer.tail()"
   ]
  },
  {
   "cell_type": "code",
   "execution_count": 116,
   "id": "d0c77ff5",
   "metadata": {},
   "outputs": [
    {
     "name": "stdout",
     "output_type": "stream",
     "text": [
      "imdb_M_producer shape: (11749, 3)\n",
      "imdb_M_producer size: 35247\n",
      "imdb_M_producer columns: Index(['MID', 'PID', 'ID'], dtype='object')\n",
      "imdb_M_producer dimensions: 2\n",
      "imdb_M_producer index: RangeIndex(start=0, stop=11749, step=1)\n"
     ]
    }
   ],
   "source": [
    "print(\"imdb_M_producer shape:\", imdb_M_producer.shape)\n",
    "print(\"imdb_M_producer size:\", imdb_M_producer.size)\n",
    "print(\"imdb_M_producer columns:\", imdb_M_producer.columns)\n",
    "print(\"imdb_M_producer dimensions:\", imdb_M_producer.ndim)\n",
    "print(\"imdb_M_producer index:\", imdb_M_producer.index)"
   ]
  },
  {
   "cell_type": "code",
   "execution_count": 117,
   "id": "1fb48bdb",
   "metadata": {},
   "outputs": [
    {
     "name": "stdout",
     "output_type": "stream",
     "text": [
      "<class 'pandas.core.frame.DataFrame'>\n",
      "RangeIndex: 11749 entries, 0 to 11748\n",
      "Data columns (total 3 columns):\n",
      " #   Column  Non-Null Count  Dtype \n",
      "---  ------  --------------  ----- \n",
      " 0   MID     11749 non-null  object\n",
      " 1   PID     11730 non-null  object\n",
      " 2   ID      11749 non-null  int64 \n",
      "dtypes: int64(1), object(2)\n",
      "memory usage: 275.5+ KB\n"
     ]
    }
   ],
   "source": [
    "# Info of imdb_M_producer\n",
    "imdb_M_producer.info()"
   ]
  },
  {
   "cell_type": "code",
   "execution_count": 118,
   "id": "3b511588",
   "metadata": {},
   "outputs": [
    {
     "data": {
      "text/html": [
       "<div>\n",
       "<style scoped>\n",
       "    .dataframe tbody tr th:only-of-type {\n",
       "        vertical-align: middle;\n",
       "    }\n",
       "\n",
       "    .dataframe tbody tr th {\n",
       "        vertical-align: top;\n",
       "    }\n",
       "\n",
       "    .dataframe thead th {\n",
       "        text-align: right;\n",
       "    }\n",
       "</style>\n",
       "<table border=\"1\" class=\"dataframe\">\n",
       "  <thead>\n",
       "    <tr style=\"text-align: right;\">\n",
       "      <th></th>\n",
       "      <th>MID</th>\n",
       "      <th>PID</th>\n",
       "      <th>ID</th>\n",
       "    </tr>\n",
       "  </thead>\n",
       "  <tbody>\n",
       "    <tr>\n",
       "      <th>count</th>\n",
       "      <td>11749</td>\n",
       "      <td>11730</td>\n",
       "      <td>11749.000000</td>\n",
       "    </tr>\n",
       "    <tr>\n",
       "      <th>unique</th>\n",
       "      <td>3473</td>\n",
       "      <td>5436</td>\n",
       "      <td>NaN</td>\n",
       "    </tr>\n",
       "    <tr>\n",
       "      <th>top</th>\n",
       "      <td>tt2575290</td>\n",
       "      <td>nm0780098</td>\n",
       "      <td>NaN</td>\n",
       "    </tr>\n",
       "    <tr>\n",
       "      <th>freq</th>\n",
       "      <td>40</td>\n",
       "      <td>60</td>\n",
       "      <td>NaN</td>\n",
       "    </tr>\n",
       "    <tr>\n",
       "      <th>mean</th>\n",
       "      <td>NaN</td>\n",
       "      <td>NaN</td>\n",
       "      <td>5874.066048</td>\n",
       "    </tr>\n",
       "    <tr>\n",
       "      <th>std</th>\n",
       "      <td>NaN</td>\n",
       "      <td>NaN</td>\n",
       "      <td>3391.895799</td>\n",
       "    </tr>\n",
       "    <tr>\n",
       "      <th>min</th>\n",
       "      <td>NaN</td>\n",
       "      <td>NaN</td>\n",
       "      <td>0.000000</td>\n",
       "    </tr>\n",
       "    <tr>\n",
       "      <th>25%</th>\n",
       "      <td>NaN</td>\n",
       "      <td>NaN</td>\n",
       "      <td>2937.000000</td>\n",
       "    </tr>\n",
       "    <tr>\n",
       "      <th>50%</th>\n",
       "      <td>NaN</td>\n",
       "      <td>NaN</td>\n",
       "      <td>5874.000000</td>\n",
       "    </tr>\n",
       "    <tr>\n",
       "      <th>75%</th>\n",
       "      <td>NaN</td>\n",
       "      <td>NaN</td>\n",
       "      <td>8811.000000</td>\n",
       "    </tr>\n",
       "    <tr>\n",
       "      <th>max</th>\n",
       "      <td>NaN</td>\n",
       "      <td>NaN</td>\n",
       "      <td>11750.000000</td>\n",
       "    </tr>\n",
       "  </tbody>\n",
       "</table>\n",
       "</div>"
      ],
      "text/plain": [
       "              MID         PID            ID\n",
       "count       11749       11730  11749.000000\n",
       "unique       3473        5436           NaN\n",
       "top     tt2575290   nm0780098           NaN\n",
       "freq           40          60           NaN\n",
       "mean          NaN         NaN   5874.066048\n",
       "std           NaN         NaN   3391.895799\n",
       "min           NaN         NaN      0.000000\n",
       "25%           NaN         NaN   2937.000000\n",
       "50%           NaN         NaN   5874.000000\n",
       "75%           NaN         NaN   8811.000000\n",
       "max           NaN         NaN  11750.000000"
      ]
     },
     "execution_count": 118,
     "metadata": {},
     "output_type": "execute_result"
    }
   ],
   "source": [
    "# Statistical analysis using describe\n",
    "imdb_M_producer.describe(include='all')"
   ]
  },
  {
   "cell_type": "code",
   "execution_count": 119,
   "id": "32b95e42",
   "metadata": {},
   "outputs": [
    {
     "data": {
      "text/plain": [
       "MID     3473\n",
       "PID     5436\n",
       "ID     11749\n",
       "dtype: int64"
      ]
     },
     "execution_count": 119,
     "metadata": {},
     "output_type": "execute_result"
    }
   ],
   "source": [
    "# Number of unique values in each column\n",
    "imdb_M_producer.nunique()"
   ]
  },
  {
   "cell_type": "code",
   "execution_count": 120,
   "id": "93f22fe4",
   "metadata": {},
   "outputs": [
    {
     "data": {
      "text/plain": [
       "array(['tt2388771', 'tt5164214', 'tt1365519', ..., 'tt0852989',\n",
       "       'tt0375882', 'tt0375890'], dtype=object)"
      ]
     },
     "execution_count": 120,
     "metadata": {},
     "output_type": "execute_result"
    }
   ],
   "source": [
    "# Unique values in the 'MID' column\n",
    "imdb_M_producer['MID'].unique()"
   ]
  },
  {
   "cell_type": "code",
   "execution_count": 121,
   "id": "869d5338",
   "metadata": {},
   "outputs": [
    {
     "data": {
      "text/plain": [
       "array([' nm0057655', ' nm0147080', ' nm0389414', ..., ' nm2371184',\n",
       "       ' nm1246080', ' nm1421793'], dtype=object)"
      ]
     },
     "execution_count": 121,
     "metadata": {},
     "output_type": "execute_result"
    }
   ],
   "source": [
    "# Unique values in the 'PID' column\n",
    "imdb_M_producer['PID'].unique()"
   ]
  },
  {
   "cell_type": "code",
   "execution_count": 122,
   "id": "1657c355",
   "metadata": {},
   "outputs": [
    {
     "data": {
      "text/plain": [
       "array([    0,     1,     2, ..., 11748, 11749, 11750], dtype=int64)"
      ]
     },
     "execution_count": 122,
     "metadata": {},
     "output_type": "execute_result"
    }
   ],
   "source": [
    "# Unique values in the 'ID' column\n",
    "imdb_M_producer['ID'].unique()"
   ]
  },
  {
   "cell_type": "code",
   "execution_count": 123,
   "id": "6caf9d01",
   "metadata": {},
   "outputs": [
    {
     "data": {
      "text/plain": [
       "tt2575290    40\n",
       "tt5461944    33\n",
       "tt2350496    27\n",
       "tt1629295    26\n",
       "tt1411956    23\n",
       "             ..\n",
       "tt0358020     1\n",
       "tt1582601     1\n",
       "tt0085165     1\n",
       "tt0373935     1\n",
       "tt0375890     1\n",
       "Name: MID, Length: 3473, dtype: int64"
      ]
     },
     "execution_count": 123,
     "metadata": {},
     "output_type": "execute_result"
    }
   ],
   "source": [
    "# Value count of the 'MID' column\n",
    "imdb_M_producer['MID'].value_counts()"
   ]
  },
  {
   "cell_type": "code",
   "execution_count": 124,
   "id": "e0b082c0",
   "metadata": {},
   "outputs": [
    {
     "data": {
      "text/plain": [
       " nm0780098    60\n",
       " nm0159147    54\n",
       " nm0080319    53\n",
       " nm4482460    53\n",
       " nm1024685    47\n",
       "              ..\n",
       " nm1768431     1\n",
       " nm1226200     1\n",
       " nm1768441     1\n",
       " nm4424681     1\n",
       " nm1421793     1\n",
       "Name: PID, Length: 5436, dtype: int64"
      ]
     },
     "execution_count": 124,
     "metadata": {},
     "output_type": "execute_result"
    }
   ],
   "source": [
    "# Value count of the 'PID' column\n",
    "imdb_M_producer['PID'].value_counts()"
   ]
  },
  {
   "cell_type": "code",
   "execution_count": 125,
   "id": "a5f53cff",
   "metadata": {},
   "outputs": [
    {
     "data": {
      "text/plain": [
       "0        1\n",
       "7826     1\n",
       "7828     1\n",
       "7829     1\n",
       "7830     1\n",
       "        ..\n",
       "3918     1\n",
       "3919     1\n",
       "3920     1\n",
       "3921     1\n",
       "11750    1\n",
       "Name: ID, Length: 11749, dtype: int64"
      ]
     },
     "execution_count": 125,
     "metadata": {},
     "output_type": "execute_result"
    }
   ],
   "source": [
    "# Value count of the 'ID' column\n",
    "imdb_M_producer['ID'].value_counts()"
   ]
  },
  {
   "cell_type": "code",
   "execution_count": 126,
   "id": "d30d9714",
   "metadata": {},
   "outputs": [
    {
     "data": {
      "image/png": "[encoded data removed]",
      "text/plain": [
       "<Figure size 432x288 with 1 Axes>"
      ]
     },
     "metadata": {
      "needs_background": "light"
     },
     "output_type": "display_data"
    }
   ],
   "source": [
    "# boxplot of 'ID' column from imdb_M_producer\n",
    "sns.boxplot(data=imdb_M_producer, x='ID')\n",
    "plt.show()"
   ]
  },
  {
   "cell_type": "markdown",
   "id": "7201ac0b",
   "metadata": {},
   "source": [
    "No outliers are present in the 'ID' column "
   ]
  },
  {
   "cell_type": "code",
   "execution_count": 127,
   "id": "4be4c369",
   "metadata": {},
   "outputs": [
    {
     "data": {
      "text/plain": [
       "MID     0\n",
       "PID    19\n",
       "ID      0\n",
       "dtype: int64"
      ]
     },
     "execution_count": 127,
     "metadata": {},
     "output_type": "execute_result"
    }
   ],
   "source": [
    "# Checking for null values in imdb_M_producer\n",
    "imdb_M_producer.isna().sum()"
   ]
  },
  {
   "cell_type": "markdown",
   "id": "019be333",
   "metadata": {},
   "source": [
    "Null values are present in 'PID' column"
   ]
  },
  {
   "cell_type": "code",
   "execution_count": 128,
   "id": "6f0f5aaf",
   "metadata": {},
   "outputs": [
    {
     "data": {
      "text/plain": [
       "MID    0\n",
       "PID    0\n",
       "ID     0\n",
       "dtype: int64"
      ]
     },
     "execution_count": 128,
     "metadata": {},
     "output_type": "execute_result"
    }
   ],
   "source": [
    "# Treating null values in 'PID' column from imdb_M_producer\n",
    "imdb_M_producer['PID'] = imdb_M_producer['PID'].fillna('Unknown')\n",
    "\n",
    "# Again checking for null values in imdb_M_producer\n",
    "imdb_M_producer.isna().sum()"
   ]
  },
  {
   "cell_type": "code",
   "execution_count": 129,
   "id": "750b26a0",
   "metadata": {},
   "outputs": [
    {
     "data": {
      "text/html": [
       "<div>\n",
       "<style scoped>\n",
       "    .dataframe tbody tr th:only-of-type {\n",
       "        vertical-align: middle;\n",
       "    }\n",
       "\n",
       "    .dataframe tbody tr th {\n",
       "        vertical-align: top;\n",
       "    }\n",
       "\n",
       "    .dataframe thead th {\n",
       "        text-align: right;\n",
       "    }\n",
       "</style>\n",
       "<table border=\"1\" class=\"dataframe\">\n",
       "  <thead>\n",
       "    <tr style=\"text-align: right;\">\n",
       "      <th></th>\n",
       "      <th>MID</th>\n",
       "      <th>PID</th>\n",
       "      <th>ID</th>\n",
       "    </tr>\n",
       "  </thead>\n",
       "  <tbody>\n",
       "  </tbody>\n",
       "</table>\n",
       "</div>"
      ],
      "text/plain": [
       "Empty DataFrame\n",
       "Columns: [MID, PID, ID]\n",
       "Index: []"
      ]
     },
     "execution_count": 129,
     "metadata": {},
     "output_type": "execute_result"
    }
   ],
   "source": [
    "# Checking for duplicate rows in imdb_M_producer\n",
    "imdb_M_producer[imdb_M_producer.duplicated()]"
   ]
  },
  {
   "cell_type": "markdown",
   "id": "6f2799a8",
   "metadata": {},
   "source": [
    "No duplicate rows found in imdb_M_producer"
   ]
  },
  {
   "cell_type": "markdown",
   "id": "41775737",
   "metadata": {},
   "source": [
    "### M_Director"
   ]
  },
  {
   "cell_type": "code",
   "execution_count": 130,
   "id": "72f528d6",
   "metadata": {},
   "outputs": [
    {
     "data": {
      "text/html": [
       "<div>\n",
       "<style scoped>\n",
       "    .dataframe tbody tr th:only-of-type {\n",
       "        vertical-align: middle;\n",
       "    }\n",
       "\n",
       "    .dataframe tbody tr th {\n",
       "        vertical-align: top;\n",
       "    }\n",
       "\n",
       "    .dataframe thead th {\n",
       "        text-align: right;\n",
       "    }\n",
       "</style>\n",
       "<table border=\"1\" class=\"dataframe\">\n",
       "  <thead>\n",
       "    <tr style=\"text-align: right;\">\n",
       "      <th></th>\n",
       "      <th>index</th>\n",
       "      <th>MID</th>\n",
       "      <th>PID</th>\n",
       "      <th>ID</th>\n",
       "    </tr>\n",
       "  </thead>\n",
       "  <tbody>\n",
       "    <tr>\n",
       "      <th>0</th>\n",
       "      <td>0</td>\n",
       "      <td>tt2388771</td>\n",
       "      <td>nm0785227</td>\n",
       "      <td>0</td>\n",
       "    </tr>\n",
       "    <tr>\n",
       "      <th>1</th>\n",
       "      <td>1</td>\n",
       "      <td>tt5164214</td>\n",
       "      <td>nm0002657</td>\n",
       "      <td>1</td>\n",
       "    </tr>\n",
       "    <tr>\n",
       "      <th>2</th>\n",
       "      <td>2</td>\n",
       "      <td>tt1365519</td>\n",
       "      <td>nm1012385</td>\n",
       "      <td>2</td>\n",
       "    </tr>\n",
       "    <tr>\n",
       "      <th>3</th>\n",
       "      <td>3</td>\n",
       "      <td>tt0848228</td>\n",
       "      <td>nm0923736</td>\n",
       "      <td>3</td>\n",
       "    </tr>\n",
       "    <tr>\n",
       "      <th>4</th>\n",
       "      <td>4</td>\n",
       "      <td>tt8239946</td>\n",
       "      <td>nm9751348</td>\n",
       "      <td>4</td>\n",
       "    </tr>\n",
       "  </tbody>\n",
       "</table>\n",
       "</div>"
      ],
      "text/plain": [
       "   index        MID        PID  ID\n",
       "0      0  tt2388771  nm0785227   0\n",
       "1      1  tt5164214  nm0002657   1\n",
       "2      2  tt1365519  nm1012385   2\n",
       "3      3  tt0848228  nm0923736   3\n",
       "4      4  tt8239946  nm9751348   4"
      ]
     },
     "execution_count": 130,
     "metadata": {},
     "output_type": "execute_result"
    }
   ],
   "source": [
    "sql_query_M_director = \"\"\"SELECT * FROM M_Director\"\"\"\n",
    "imdb_M_director = pd.read_sql_query(sql_query_M_director, conne)\n",
    "\n",
    "# First few rows of imdb_M_director\n",
    "imdb_M_director.head()"
   ]
  },
  {
   "cell_type": "code",
   "execution_count": 131,
   "id": "0cc18e92",
   "metadata": {},
   "outputs": [],
   "source": [
    "# Dropping 'index' column from imdb_M_director\n",
    "imdb_M_director.drop('index', axis=1, inplace=True)"
   ]
  },
  {
   "cell_type": "code",
   "execution_count": 132,
   "id": "116f78db",
   "metadata": {},
   "outputs": [
    {
     "data": {
      "text/html": [
       "<div>\n",
       "<style scoped>\n",
       "    .dataframe tbody tr th:only-of-type {\n",
       "        vertical-align: middle;\n",
       "    }\n",
       "\n",
       "    .dataframe tbody tr th {\n",
       "        vertical-align: top;\n",
       "    }\n",
       "\n",
       "    .dataframe thead th {\n",
       "        text-align: right;\n",
       "    }\n",
       "</style>\n",
       "<table border=\"1\" class=\"dataframe\">\n",
       "  <thead>\n",
       "    <tr style=\"text-align: right;\">\n",
       "      <th></th>\n",
       "      <th>MID</th>\n",
       "      <th>PID</th>\n",
       "      <th>ID</th>\n",
       "    </tr>\n",
       "  </thead>\n",
       "  <tbody>\n",
       "    <tr>\n",
       "      <th>3468</th>\n",
       "      <td>tt0090611</td>\n",
       "      <td>nm0220823</td>\n",
       "      <td>3470</td>\n",
       "    </tr>\n",
       "    <tr>\n",
       "      <th>3469</th>\n",
       "      <td>tt0106270</td>\n",
       "      <td>nm0613517</td>\n",
       "      <td>3471</td>\n",
       "    </tr>\n",
       "    <tr>\n",
       "      <th>3470</th>\n",
       "      <td>tt0852989</td>\n",
       "      <td>nm2312263</td>\n",
       "      <td>3472</td>\n",
       "    </tr>\n",
       "    <tr>\n",
       "      <th>3471</th>\n",
       "      <td>tt0375882</td>\n",
       "      <td>nm0066829</td>\n",
       "      <td>3473</td>\n",
       "    </tr>\n",
       "    <tr>\n",
       "      <th>3472</th>\n",
       "      <td>tt0375890</td>\n",
       "      <td>nm1421793</td>\n",
       "      <td>3474</td>\n",
       "    </tr>\n",
       "  </tbody>\n",
       "</table>\n",
       "</div>"
      ],
      "text/plain": [
       "            MID        PID    ID\n",
       "3468  tt0090611  nm0220823  3470\n",
       "3469  tt0106270  nm0613517  3471\n",
       "3470  tt0852989  nm2312263  3472\n",
       "3471  tt0375882  nm0066829  3473\n",
       "3472  tt0375890  nm1421793  3474"
      ]
     },
     "execution_count": 132,
     "metadata": {},
     "output_type": "execute_result"
    }
   ],
   "source": [
    "# Last few rows of imdb_M_director\n",
    "imdb_M_director.tail()"
   ]
  },
  {
   "cell_type": "code",
   "execution_count": 133,
   "id": "1d2f2200",
   "metadata": {},
   "outputs": [
    {
     "name": "stdout",
     "output_type": "stream",
     "text": [
      "imdb_M_director shape: (3473, 3)\n",
      "imdb_M_director size: 10419\n",
      "imdb_M_director columns: Index(['MID', 'PID', 'ID'], dtype='object')\n",
      "imdb_M_director dimensions: 2\n",
      "imdb_M_director index: RangeIndex(start=0, stop=3473, step=1)\n"
     ]
    }
   ],
   "source": [
    "print(\"imdb_M_director shape:\", imdb_M_director.shape)\n",
    "print(\"imdb_M_director size:\", imdb_M_director.size)\n",
    "print(\"imdb_M_director columns:\", imdb_M_director.columns)\n",
    "print(\"imdb_M_director dimensions:\", imdb_M_director.ndim)\n",
    "print(\"imdb_M_director index:\", imdb_M_director.index)"
   ]
  },
  {
   "cell_type": "code",
   "execution_count": 134,
   "id": "e4e3b7ef",
   "metadata": {},
   "outputs": [
    {
     "name": "stdout",
     "output_type": "stream",
     "text": [
      "<class 'pandas.core.frame.DataFrame'>\n",
      "RangeIndex: 3473 entries, 0 to 3472\n",
      "Data columns (total 3 columns):\n",
      " #   Column  Non-Null Count  Dtype \n",
      "---  ------  --------------  ----- \n",
      " 0   MID     3473 non-null   object\n",
      " 1   PID     3473 non-null   object\n",
      " 2   ID      3473 non-null   int64 \n",
      "dtypes: int64(1), object(2)\n",
      "memory usage: 81.5+ KB\n"
     ]
    }
   ],
   "source": [
    "# Info of imdb_M_director\n",
    "imdb_M_director.info()"
   ]
  },
  {
   "cell_type": "code",
   "execution_count": 135,
   "id": "27320566",
   "metadata": {},
   "outputs": [
    {
     "data": {
      "text/html": [
       "<div>\n",
       "<style scoped>\n",
       "    .dataframe tbody tr th:only-of-type {\n",
       "        vertical-align: middle;\n",
       "    }\n",
       "\n",
       "    .dataframe tbody tr th {\n",
       "        vertical-align: top;\n",
       "    }\n",
       "\n",
       "    .dataframe thead th {\n",
       "        text-align: right;\n",
       "    }\n",
       "</style>\n",
       "<table border=\"1\" class=\"dataframe\">\n",
       "  <thead>\n",
       "    <tr style=\"text-align: right;\">\n",
       "      <th></th>\n",
       "      <th>MID</th>\n",
       "      <th>PID</th>\n",
       "      <th>ID</th>\n",
       "    </tr>\n",
       "  </thead>\n",
       "  <tbody>\n",
       "    <tr>\n",
       "      <th>count</th>\n",
       "      <td>3473</td>\n",
       "      <td>3473</td>\n",
       "      <td>3473.000000</td>\n",
       "    </tr>\n",
       "    <tr>\n",
       "      <th>unique</th>\n",
       "      <td>3473</td>\n",
       "      <td>1462</td>\n",
       "      <td>NaN</td>\n",
       "    </tr>\n",
       "    <tr>\n",
       "      <th>top</th>\n",
       "      <td>tt2388771</td>\n",
       "      <td>nm0223522</td>\n",
       "      <td>NaN</td>\n",
       "    </tr>\n",
       "    <tr>\n",
       "      <th>freq</th>\n",
       "      <td>1</td>\n",
       "      <td>39</td>\n",
       "      <td>NaN</td>\n",
       "    </tr>\n",
       "    <tr>\n",
       "      <th>mean</th>\n",
       "      <td>NaN</td>\n",
       "      <td>NaN</td>\n",
       "      <td>1736.105096</td>\n",
       "    </tr>\n",
       "    <tr>\n",
       "      <th>std</th>\n",
       "      <td>NaN</td>\n",
       "      <td>NaN</td>\n",
       "      <td>1002.877540</td>\n",
       "    </tr>\n",
       "    <tr>\n",
       "      <th>min</th>\n",
       "      <td>NaN</td>\n",
       "      <td>NaN</td>\n",
       "      <td>0.000000</td>\n",
       "    </tr>\n",
       "    <tr>\n",
       "      <th>25%</th>\n",
       "      <td>NaN</td>\n",
       "      <td>NaN</td>\n",
       "      <td>868.000000</td>\n",
       "    </tr>\n",
       "    <tr>\n",
       "      <th>50%</th>\n",
       "      <td>NaN</td>\n",
       "      <td>NaN</td>\n",
       "      <td>1736.000000</td>\n",
       "    </tr>\n",
       "    <tr>\n",
       "      <th>75%</th>\n",
       "      <td>NaN</td>\n",
       "      <td>NaN</td>\n",
       "      <td>2604.000000</td>\n",
       "    </tr>\n",
       "    <tr>\n",
       "      <th>max</th>\n",
       "      <td>NaN</td>\n",
       "      <td>NaN</td>\n",
       "      <td>3474.000000</td>\n",
       "    </tr>\n",
       "  </tbody>\n",
       "</table>\n",
       "</div>"
      ],
      "text/plain": [
       "              MID        PID           ID\n",
       "count        3473       3473  3473.000000\n",
       "unique       3473       1462          NaN\n",
       "top     tt2388771  nm0223522          NaN\n",
       "freq            1         39          NaN\n",
       "mean          NaN        NaN  1736.105096\n",
       "std           NaN        NaN  1002.877540\n",
       "min           NaN        NaN     0.000000\n",
       "25%           NaN        NaN   868.000000\n",
       "50%           NaN        NaN  1736.000000\n",
       "75%           NaN        NaN  2604.000000\n",
       "max           NaN        NaN  3474.000000"
      ]
     },
     "execution_count": 135,
     "metadata": {},
     "output_type": "execute_result"
    }
   ],
   "source": [
    "# Statistical analysis using describe\n",
    "imdb_M_director.describe(include='all')"
   ]
  },
  {
   "cell_type": "code",
   "execution_count": 136,
   "id": "7a78fb70",
   "metadata": {},
   "outputs": [
    {
     "data": {
      "text/plain": [
       "MID    3473\n",
       "PID    1462\n",
       "ID     3473\n",
       "dtype: int64"
      ]
     },
     "execution_count": 136,
     "metadata": {},
     "output_type": "execute_result"
    }
   ],
   "source": [
    "# Number of unique values in each column\n",
    "imdb_M_director.nunique()"
   ]
  },
  {
   "cell_type": "code",
   "execution_count": 137,
   "id": "dfe29231",
   "metadata": {},
   "outputs": [
    {
     "data": {
      "text/plain": [
       "array(['tt2388771', 'tt5164214', 'tt1365519', ..., 'tt0852989',\n",
       "       'tt0375882', 'tt0375890'], dtype=object)"
      ]
     },
     "execution_count": 137,
     "metadata": {},
     "output_type": "execute_result"
    }
   ],
   "source": [
    "# Unique values in the 'MID' column\n",
    "imdb_M_director['MID'].unique()"
   ]
  },
  {
   "cell_type": "code",
   "execution_count": 138,
   "id": "998a9f3a",
   "metadata": {},
   "outputs": [
    {
     "data": {
      "text/plain": [
       "array(['nm0785227', 'nm0002657', 'nm1012385', ..., 'nm0474806',\n",
       "       'nm0066829', 'nm1421793'], dtype=object)"
      ]
     },
     "execution_count": 138,
     "metadata": {},
     "output_type": "execute_result"
    }
   ],
   "source": [
    "# Unique values in the 'PID' column\n",
    "imdb_M_director['PID'].unique()"
   ]
  },
  {
   "cell_type": "code",
   "execution_count": 139,
   "id": "3bc840e0",
   "metadata": {},
   "outputs": [
    {
     "data": {
      "text/plain": [
       "array([   0,    1,    2, ..., 3472, 3473, 3474], dtype=int64)"
      ]
     },
     "execution_count": 139,
     "metadata": {},
     "output_type": "execute_result"
    }
   ],
   "source": [
    "# Unique values in the 'ID' column\n",
    "imdb_M_director['ID'].unique()"
   ]
  },
  {
   "cell_type": "code",
   "execution_count": 140,
   "id": "43a51186",
   "metadata": {},
   "outputs": [
    {
     "data": {
      "text/plain": [
       "tt2388771    1\n",
       "tt0286907    1\n",
       "tt0070097    1\n",
       "tt0264415    1\n",
       "tt0140784    1\n",
       "            ..\n",
       "tt1372266    1\n",
       "tt0110140    1\n",
       "tt3422462    1\n",
       "tt0345177    1\n",
       "tt0375890    1\n",
       "Name: MID, Length: 3473, dtype: int64"
      ]
     },
     "execution_count": 140,
     "metadata": {},
     "output_type": "execute_result"
    }
   ],
   "source": [
    "# Value count of the 'MID' column\n",
    "imdb_M_director['MID'].value_counts()"
   ]
  },
  {
   "cell_type": "code",
   "execution_count": 141,
   "id": "62e71550",
   "metadata": {},
   "outputs": [
    {
     "data": {
      "text/plain": [
       "nm0223522    39\n",
       "nm0080315    35\n",
       "nm0890060    30\n",
       "nm0698184    30\n",
       "nm0080333    29\n",
       "             ..\n",
       "nm4824234     1\n",
       "nm1414846     1\n",
       "nm1070287     1\n",
       "nm3328918     1\n",
       "nm1421793     1\n",
       "Name: PID, Length: 1462, dtype: int64"
      ]
     },
     "execution_count": 141,
     "metadata": {},
     "output_type": "execute_result"
    }
   ],
   "source": [
    "# Value count of the 'PID' column\n",
    "imdb_M_director['PID'].value_counts()"
   ]
  },
  {
   "cell_type": "code",
   "execution_count": 142,
   "id": "3f709ffc",
   "metadata": {},
   "outputs": [
    {
     "data": {
      "text/plain": [
       "0       1\n",
       "2320    1\n",
       "2309    1\n",
       "2310    1\n",
       "2311    1\n",
       "       ..\n",
       "1161    1\n",
       "1162    1\n",
       "1163    1\n",
       "1164    1\n",
       "3474    1\n",
       "Name: ID, Length: 3473, dtype: int64"
      ]
     },
     "execution_count": 142,
     "metadata": {},
     "output_type": "execute_result"
    }
   ],
   "source": [
    "# Value count of the 'ID' column\n",
    "imdb_M_director['ID'].value_counts()"
   ]
  },
  {
   "cell_type": "code",
   "execution_count": 143,
   "id": "e99d42f4",
   "metadata": {},
   "outputs": [
    {
     "data": {
      "image/png": "[encoded data removed]",
      "text/plain": [
       "<Figure size 432x288 with 1 Axes>"
      ]
     },
     "metadata": {
      "needs_background": "light"
     },
     "output_type": "display_data"
    }
   ],
   "source": [
    "# boxplot of 'ID' column from imdb_M_director\n",
    "sns.boxplot(data=imdb_M_director, x='ID')\n",
    "plt.show()"
   ]
  },
  {
   "cell_type": "markdown",
   "id": "14443c50",
   "metadata": {},
   "source": [
    "No outliers are present in the 'ID' column "
   ]
  },
  {
   "cell_type": "code",
   "execution_count": 144,
   "id": "1865b348",
   "metadata": {},
   "outputs": [
    {
     "data": {
      "text/plain": [
       "MID    0\n",
       "PID    0\n",
       "ID     0\n",
       "dtype: int64"
      ]
     },
     "execution_count": 144,
     "metadata": {},
     "output_type": "execute_result"
    }
   ],
   "source": [
    "# Checking for null values in imdb_M_director\n",
    "imdb_M_director.isna().sum()"
   ]
  },
  {
   "cell_type": "markdown",
   "id": "413b85fe",
   "metadata": {},
   "source": [
    "Null values are not present in any columns"
   ]
  },
  {
   "cell_type": "code",
   "execution_count": 145,
   "id": "09288f7d",
   "metadata": {},
   "outputs": [
    {
     "data": {
      "text/html": [
       "<div>\n",
       "<style scoped>\n",
       "    .dataframe tbody tr th:only-of-type {\n",
       "        vertical-align: middle;\n",
       "    }\n",
       "\n",
       "    .dataframe tbody tr th {\n",
       "        vertical-align: top;\n",
       "    }\n",
       "\n",
       "    .dataframe thead th {\n",
       "        text-align: right;\n",
       "    }\n",
       "</style>\n",
       "<table border=\"1\" class=\"dataframe\">\n",
       "  <thead>\n",
       "    <tr style=\"text-align: right;\">\n",
       "      <th></th>\n",
       "      <th>MID</th>\n",
       "      <th>PID</th>\n",
       "      <th>ID</th>\n",
       "    </tr>\n",
       "  </thead>\n",
       "  <tbody>\n",
       "  </tbody>\n",
       "</table>\n",
       "</div>"
      ],
      "text/plain": [
       "Empty DataFrame\n",
       "Columns: [MID, PID, ID]\n",
       "Index: []"
      ]
     },
     "execution_count": 145,
     "metadata": {},
     "output_type": "execute_result"
    }
   ],
   "source": [
    "# Checking for duplicate rows in imdb_M_director\n",
    "imdb_M_director[imdb_M_director.duplicated()]"
   ]
  },
  {
   "cell_type": "markdown",
   "id": "d6968f3a",
   "metadata": {},
   "source": [
    "No duplicate rows found in imdb_M_director"
   ]
  },
  {
   "cell_type": "markdown",
   "id": "abf8b0e2",
   "metadata": {},
   "source": [
    "### M_Cast"
   ]
  },
  {
   "cell_type": "code",
   "execution_count": 146,
   "id": "e3b156d9",
   "metadata": {},
   "outputs": [
    {
     "data": {
      "text/html": [
       "<div>\n",
       "<style scoped>\n",
       "    .dataframe tbody tr th:only-of-type {\n",
       "        vertical-align: middle;\n",
       "    }\n",
       "\n",
       "    .dataframe tbody tr th {\n",
       "        vertical-align: top;\n",
       "    }\n",
       "\n",
       "    .dataframe thead th {\n",
       "        text-align: right;\n",
       "    }\n",
       "</style>\n",
       "<table border=\"1\" class=\"dataframe\">\n",
       "  <thead>\n",
       "    <tr style=\"text-align: right;\">\n",
       "      <th></th>\n",
       "      <th>index</th>\n",
       "      <th>MID</th>\n",
       "      <th>PID</th>\n",
       "      <th>ID</th>\n",
       "    </tr>\n",
       "  </thead>\n",
       "  <tbody>\n",
       "    <tr>\n",
       "      <th>0</th>\n",
       "      <td>0</td>\n",
       "      <td>tt2388771</td>\n",
       "      <td>nm0000288</td>\n",
       "      <td>0</td>\n",
       "    </tr>\n",
       "    <tr>\n",
       "      <th>1</th>\n",
       "      <td>1</td>\n",
       "      <td>tt2388771</td>\n",
       "      <td>nm0000949</td>\n",
       "      <td>1</td>\n",
       "    </tr>\n",
       "    <tr>\n",
       "      <th>2</th>\n",
       "      <td>2</td>\n",
       "      <td>tt2388771</td>\n",
       "      <td>nm1212722</td>\n",
       "      <td>2</td>\n",
       "    </tr>\n",
       "    <tr>\n",
       "      <th>3</th>\n",
       "      <td>3</td>\n",
       "      <td>tt2388771</td>\n",
       "      <td>nm0365140</td>\n",
       "      <td>3</td>\n",
       "    </tr>\n",
       "    <tr>\n",
       "      <th>4</th>\n",
       "      <td>4</td>\n",
       "      <td>tt2388771</td>\n",
       "      <td>nm0785227</td>\n",
       "      <td>4</td>\n",
       "    </tr>\n",
       "  </tbody>\n",
       "</table>\n",
       "</div>"
      ],
      "text/plain": [
       "   index        MID         PID  ID\n",
       "0      0  tt2388771   nm0000288   0\n",
       "1      1  tt2388771   nm0000949   1\n",
       "2      2  tt2388771   nm1212722   2\n",
       "3      3  tt2388771   nm0365140   3\n",
       "4      4  tt2388771   nm0785227   4"
      ]
     },
     "execution_count": 146,
     "metadata": {},
     "output_type": "execute_result"
    }
   ],
   "source": [
    "sql_query_M_cast = \"\"\"SELECT * FROM M_Cast\"\"\"\n",
    "imdb_M_cast = pd.read_sql_query(sql_query_M_cast, conne)\n",
    "\n",
    "# First few rows of imdb_M_cast\n",
    "imdb_M_cast.head()"
   ]
  },
  {
   "cell_type": "code",
   "execution_count": 147,
   "id": "13271889",
   "metadata": {},
   "outputs": [],
   "source": [
    "# Dropping 'index' column from\n",
    "imdb_M_cast.drop('index', axis=1, inplace=True)"
   ]
  },
  {
   "cell_type": "code",
   "execution_count": 148,
   "id": "9339f03c",
   "metadata": {},
   "outputs": [
    {
     "data": {
      "text/html": [
       "<div>\n",
       "<style scoped>\n",
       "    .dataframe tbody tr th:only-of-type {\n",
       "        vertical-align: middle;\n",
       "    }\n",
       "\n",
       "    .dataframe tbody tr th {\n",
       "        vertical-align: top;\n",
       "    }\n",
       "\n",
       "    .dataframe thead th {\n",
       "        text-align: right;\n",
       "    }\n",
       "</style>\n",
       "<table border=\"1\" class=\"dataframe\">\n",
       "  <thead>\n",
       "    <tr style=\"text-align: right;\">\n",
       "      <th></th>\n",
       "      <th>MID</th>\n",
       "      <th>PID</th>\n",
       "      <th>ID</th>\n",
       "    </tr>\n",
       "  </thead>\n",
       "  <tbody>\n",
       "    <tr>\n",
       "      <th>82830</th>\n",
       "      <td>tt0375890</td>\n",
       "      <td>nm0664109</td>\n",
       "      <td>82832</td>\n",
       "    </tr>\n",
       "    <tr>\n",
       "      <th>82831</th>\n",
       "      <td>tt0375890</td>\n",
       "      <td>nm0505323</td>\n",
       "      <td>82833</td>\n",
       "    </tr>\n",
       "    <tr>\n",
       "      <th>82832</th>\n",
       "      <td>tt0375890</td>\n",
       "      <td>nm0019427</td>\n",
       "      <td>82834</td>\n",
       "    </tr>\n",
       "    <tr>\n",
       "      <th>82833</th>\n",
       "      <td>tt0375890</td>\n",
       "      <td>nm0197582</td>\n",
       "      <td>82835</td>\n",
       "    </tr>\n",
       "    <tr>\n",
       "      <th>82834</th>\n",
       "      <td>tt0375890</td>\n",
       "      <td>nm0438467</td>\n",
       "      <td>82836</td>\n",
       "    </tr>\n",
       "  </tbody>\n",
       "</table>\n",
       "</div>"
      ],
      "text/plain": [
       "             MID         PID     ID\n",
       "82830  tt0375890   nm0664109  82832\n",
       "82831  tt0375890   nm0505323  82833\n",
       "82832  tt0375890   nm0019427  82834\n",
       "82833  tt0375890   nm0197582  82835\n",
       "82834  tt0375890   nm0438467  82836"
      ]
     },
     "execution_count": 148,
     "metadata": {},
     "output_type": "execute_result"
    }
   ],
   "source": [
    "# Last few rows of imdb_M_cast\n",
    "imdb_M_cast.tail()"
   ]
  },
  {
   "cell_type": "code",
   "execution_count": 149,
   "id": "439224f3",
   "metadata": {},
   "outputs": [
    {
     "name": "stdout",
     "output_type": "stream",
     "text": [
      "imdb_M_cast shape: (82835, 3)\n",
      "imdb_M_cast size: 248505\n",
      "imdb_M_cast columns: Index(['MID', 'PID', 'ID'], dtype='object')\n",
      "imdb_M_cast dimensions: 2\n",
      "imdb_M_cast index: RangeIndex(start=0, stop=82835, step=1)\n"
     ]
    }
   ],
   "source": [
    "print(\"imdb_M_cast shape:\", imdb_M_cast.shape)\n",
    "print(\"imdb_M_cast size:\", imdb_M_cast.size)\n",
    "print(\"imdb_M_cast columns:\", imdb_M_cast.columns)\n",
    "print(\"imdb_M_cast dimensions:\", imdb_M_cast.ndim)\n",
    "print(\"imdb_M_cast index:\", imdb_M_cast.index)"
   ]
  },
  {
   "cell_type": "code",
   "execution_count": 150,
   "id": "caa208e6",
   "metadata": {},
   "outputs": [
    {
     "name": "stdout",
     "output_type": "stream",
     "text": [
      "<class 'pandas.core.frame.DataFrame'>\n",
      "RangeIndex: 82835 entries, 0 to 82834\n",
      "Data columns (total 3 columns):\n",
      " #   Column  Non-Null Count  Dtype \n",
      "---  ------  --------------  ----- \n",
      " 0   MID     82835 non-null  object\n",
      " 1   PID     82835 non-null  object\n",
      " 2   ID      82835 non-null  int64 \n",
      "dtypes: int64(1), object(2)\n",
      "memory usage: 1.9+ MB\n"
     ]
    }
   ],
   "source": [
    "# Info of imdb_M_cast\n",
    "imdb_M_cast.info()"
   ]
  },
  {
   "cell_type": "code",
   "execution_count": 151,
   "id": "d7f50db3",
   "metadata": {},
   "outputs": [
    {
     "data": {
      "text/html": [
       "<div>\n",
       "<style scoped>\n",
       "    .dataframe tbody tr th:only-of-type {\n",
       "        vertical-align: middle;\n",
       "    }\n",
       "\n",
       "    .dataframe tbody tr th {\n",
       "        vertical-align: top;\n",
       "    }\n",
       "\n",
       "    .dataframe thead th {\n",
       "        text-align: right;\n",
       "    }\n",
       "</style>\n",
       "<table border=\"1\" class=\"dataframe\">\n",
       "  <thead>\n",
       "    <tr style=\"text-align: right;\">\n",
       "      <th></th>\n",
       "      <th>MID</th>\n",
       "      <th>PID</th>\n",
       "      <th>ID</th>\n",
       "    </tr>\n",
       "  </thead>\n",
       "  <tbody>\n",
       "    <tr>\n",
       "      <th>count</th>\n",
       "      <td>82835</td>\n",
       "      <td>82835</td>\n",
       "      <td>82835.000000</td>\n",
       "    </tr>\n",
       "    <tr>\n",
       "      <th>unique</th>\n",
       "      <td>3473</td>\n",
       "      <td>32127</td>\n",
       "      <td>NaN</td>\n",
       "    </tr>\n",
       "    <tr>\n",
       "      <th>top</th>\n",
       "      <td>tt5164214</td>\n",
       "      <td>nm0451600</td>\n",
       "      <td>NaN</td>\n",
       "    </tr>\n",
       "    <tr>\n",
       "      <th>freq</th>\n",
       "      <td>238</td>\n",
       "      <td>243</td>\n",
       "      <td>NaN</td>\n",
       "    </tr>\n",
       "    <tr>\n",
       "      <th>mean</th>\n",
       "      <td>NaN</td>\n",
       "      <td>NaN</td>\n",
       "      <td>41417.072771</td>\n",
       "    </tr>\n",
       "    <tr>\n",
       "      <th>std</th>\n",
       "      <td>NaN</td>\n",
       "      <td>NaN</td>\n",
       "      <td>23912.666593</td>\n",
       "    </tr>\n",
       "    <tr>\n",
       "      <th>min</th>\n",
       "      <td>NaN</td>\n",
       "      <td>NaN</td>\n",
       "      <td>0.000000</td>\n",
       "    </tr>\n",
       "    <tr>\n",
       "      <th>25%</th>\n",
       "      <td>NaN</td>\n",
       "      <td>NaN</td>\n",
       "      <td>20708.500000</td>\n",
       "    </tr>\n",
       "    <tr>\n",
       "      <th>50%</th>\n",
       "      <td>NaN</td>\n",
       "      <td>NaN</td>\n",
       "      <td>41417.000000</td>\n",
       "    </tr>\n",
       "    <tr>\n",
       "      <th>75%</th>\n",
       "      <td>NaN</td>\n",
       "      <td>NaN</td>\n",
       "      <td>62125.500000</td>\n",
       "    </tr>\n",
       "    <tr>\n",
       "      <th>max</th>\n",
       "      <td>NaN</td>\n",
       "      <td>NaN</td>\n",
       "      <td>82836.000000</td>\n",
       "    </tr>\n",
       "  </tbody>\n",
       "</table>\n",
       "</div>"
      ],
      "text/plain": [
       "              MID         PID            ID\n",
       "count       82835       82835  82835.000000\n",
       "unique       3473       32127           NaN\n",
       "top     tt5164214   nm0451600           NaN\n",
       "freq          238         243           NaN\n",
       "mean          NaN         NaN  41417.072771\n",
       "std           NaN         NaN  23912.666593\n",
       "min           NaN         NaN      0.000000\n",
       "25%           NaN         NaN  20708.500000\n",
       "50%           NaN         NaN  41417.000000\n",
       "75%           NaN         NaN  62125.500000\n",
       "max           NaN         NaN  82836.000000"
      ]
     },
     "execution_count": 151,
     "metadata": {},
     "output_type": "execute_result"
    }
   ],
   "source": [
    "# Statistical analysis using describe\n",
    "imdb_M_cast.describe(include='all')"
   ]
  },
  {
   "cell_type": "code",
   "execution_count": 152,
   "id": "e298f9ed",
   "metadata": {},
   "outputs": [
    {
     "data": {
      "text/plain": [
       "MID     3473\n",
       "PID    32127\n",
       "ID     82835\n",
       "dtype: int64"
      ]
     },
     "execution_count": 152,
     "metadata": {},
     "output_type": "execute_result"
    }
   ],
   "source": [
    "# Number of unique values in each column\n",
    "imdb_M_cast.nunique()"
   ]
  },
  {
   "cell_type": "code",
   "execution_count": 153,
   "id": "50ac126c",
   "metadata": {},
   "outputs": [
    {
     "data": {
      "text/plain": [
       "array(['tt2388771', 'tt5164214', 'tt1365519', ..., 'tt0852989',\n",
       "       'tt0375882', 'tt0375890'], dtype=object)"
      ]
     },
     "execution_count": 153,
     "metadata": {},
     "output_type": "execute_result"
    }
   ],
   "source": [
    "# Unique values in the 'MID' column\n",
    "imdb_M_cast['MID'].unique()"
   ]
  },
  {
   "cell_type": "code",
   "execution_count": 154,
   "id": "510b9819",
   "metadata": {},
   "outputs": [
    {
     "data": {
      "text/plain": [
       "array([' nm0000288', ' nm0000949', ' nm1212722', ..., ' nm2370589',\n",
       "       ' nm1866356', ' nm0066829'], dtype=object)"
      ]
     },
     "execution_count": 154,
     "metadata": {},
     "output_type": "execute_result"
    }
   ],
   "source": [
    "# Unique values in the 'PID' column\n",
    "imdb_M_cast['PID'].unique()"
   ]
  },
  {
   "cell_type": "code",
   "execution_count": 155,
   "id": "8faa45dc",
   "metadata": {},
   "outputs": [
    {
     "data": {
      "text/plain": [
       "array([    0,     1,     2, ..., 82834, 82835, 82836], dtype=int64)"
      ]
     },
     "execution_count": 155,
     "metadata": {},
     "output_type": "execute_result"
    }
   ],
   "source": [
    "# Unique values in the 'ID' column\n",
    "imdb_M_cast['ID'].unique()"
   ]
  },
  {
   "cell_type": "code",
   "execution_count": 156,
   "id": "fa4ad3ad",
   "metadata": {},
   "outputs": [
    {
     "data": {
      "text/plain": [
       "tt5164214    238\n",
       "tt0451631    233\n",
       "tt6173990    215\n",
       "tt1188996    213\n",
       "tt3498820    191\n",
       "            ... \n",
       "tt6246170      1\n",
       "tt1169841      1\n",
       "tt5049906      1\n",
       "tt8338754      1\n",
       "tt0375882      1\n",
       "Name: MID, Length: 3473, dtype: int64"
      ]
     },
     "execution_count": 156,
     "metadata": {},
     "output_type": "execute_result"
    }
   ],
   "source": [
    "# Value count of the 'MID' column\n",
    "imdb_M_cast['MID'].value_counts()"
   ]
  },
  {
   "cell_type": "code",
   "execution_count": 157,
   "id": "12d42861",
   "metadata": {},
   "outputs": [
    {
     "data": {
      "text/plain": [
       " nm0451600    243\n",
       " nm0007106    225\n",
       " nm0000821    204\n",
       " nm0004109    200\n",
       " nm2147526    186\n",
       "             ... \n",
       " nm7197040      1\n",
       " nm0746976      1\n",
       " nm1213738      1\n",
       " nm4574155      1\n",
       " nm0066829      1\n",
       "Name: PID, Length: 32127, dtype: int64"
      ]
     },
     "execution_count": 157,
     "metadata": {},
     "output_type": "execute_result"
    }
   ],
   "source": [
    "# Value count of the 'PID' column\n",
    "imdb_M_cast['PID'].value_counts()"
   ]
  },
  {
   "cell_type": "code",
   "execution_count": 158,
   "id": "eb237cc2",
   "metadata": {},
   "outputs": [
    {
     "data": {
      "text/plain": [
       "0        1\n",
       "55250    1\n",
       "55228    1\n",
       "55227    1\n",
       "55226    1\n",
       "        ..\n",
       "27610    1\n",
       "27609    1\n",
       "27608    1\n",
       "27607    1\n",
       "82836    1\n",
       "Name: ID, Length: 82835, dtype: int64"
      ]
     },
     "execution_count": 158,
     "metadata": {},
     "output_type": "execute_result"
    }
   ],
   "source": [
    "# Value count of the 'ID' column\n",
    "imdb_M_cast['ID'].value_counts()"
   ]
  },
  {
   "cell_type": "code",
   "execution_count": 159,
   "id": "51924e79",
   "metadata": {},
   "outputs": [
    {
     "data": {
      "image/png": "[encoded data removed]",
      "text/plain": [
       "<Figure size 432x288 with 1 Axes>"
      ]
     },
     "metadata": {
      "needs_background": "light"
     },
     "output_type": "display_data"
    }
   ],
   "source": [
    "# boxplot of 'ID' column from imdb_M_cast\n",
    "sns.boxplot(data=imdb_M_cast, x='ID')\n",
    "plt.show()"
   ]
  },
  {
   "cell_type": "markdown",
   "id": "471c5a18",
   "metadata": {},
   "source": [
    "No outliers are present in the 'ID' column "
   ]
  },
  {
   "cell_type": "code",
   "execution_count": 160,
   "id": "9b9b54c9",
   "metadata": {},
   "outputs": [
    {
     "data": {
      "text/plain": [
       "MID    0\n",
       "PID    0\n",
       "ID     0\n",
       "dtype: int64"
      ]
     },
     "execution_count": 160,
     "metadata": {},
     "output_type": "execute_result"
    }
   ],
   "source": [
    "# Checking for null values in imdb_M_cast\n",
    "imdb_M_cast.isna().sum()"
   ]
  },
  {
   "cell_type": "markdown",
   "id": "0bd43f83",
   "metadata": {},
   "source": [
    "Null values are not present in any columns"
   ]
  },
  {
   "cell_type": "code",
   "execution_count": 161,
   "id": "51f8b822",
   "metadata": {},
   "outputs": [
    {
     "data": {
      "text/html": [
       "<div>\n",
       "<style scoped>\n",
       "    .dataframe tbody tr th:only-of-type {\n",
       "        vertical-align: middle;\n",
       "    }\n",
       "\n",
       "    .dataframe tbody tr th {\n",
       "        vertical-align: top;\n",
       "    }\n",
       "\n",
       "    .dataframe thead th {\n",
       "        text-align: right;\n",
       "    }\n",
       "</style>\n",
       "<table border=\"1\" class=\"dataframe\">\n",
       "  <thead>\n",
       "    <tr style=\"text-align: right;\">\n",
       "      <th></th>\n",
       "      <th>MID</th>\n",
       "      <th>PID</th>\n",
       "      <th>ID</th>\n",
       "    </tr>\n",
       "  </thead>\n",
       "  <tbody>\n",
       "  </tbody>\n",
       "</table>\n",
       "</div>"
      ],
      "text/plain": [
       "Empty DataFrame\n",
       "Columns: [MID, PID, ID]\n",
       "Index: []"
      ]
     },
     "execution_count": 161,
     "metadata": {},
     "output_type": "execute_result"
    }
   ],
   "source": [
    "# Checking for duplicate rows in imdb_M_cast\n",
    "imdb_M_cast[imdb_M_cast.duplicated()]"
   ]
  },
  {
   "cell_type": "markdown",
   "id": "3284f4ec",
   "metadata": {},
   "source": [
    "No duplicate rows found in imdb_M_cast"
   ]
  },
  {
   "cell_type": "markdown",
   "id": "9c3db019",
   "metadata": {},
   "source": [
    "### M_Genre"
   ]
  },
  {
   "cell_type": "code",
   "execution_count": 162,
   "id": "c6e199b2",
   "metadata": {},
   "outputs": [
    {
     "data": {
      "text/html": [
       "<div>\n",
       "<style scoped>\n",
       "    .dataframe tbody tr th:only-of-type {\n",
       "        vertical-align: middle;\n",
       "    }\n",
       "\n",
       "    .dataframe tbody tr th {\n",
       "        vertical-align: top;\n",
       "    }\n",
       "\n",
       "    .dataframe thead th {\n",
       "        text-align: right;\n",
       "    }\n",
       "</style>\n",
       "<table border=\"1\" class=\"dataframe\">\n",
       "  <thead>\n",
       "    <tr style=\"text-align: right;\">\n",
       "      <th></th>\n",
       "      <th>index</th>\n",
       "      <th>MID</th>\n",
       "      <th>GID</th>\n",
       "      <th>ID</th>\n",
       "    </tr>\n",
       "  </thead>\n",
       "  <tbody>\n",
       "    <tr>\n",
       "      <th>0</th>\n",
       "      <td>0</td>\n",
       "      <td>tt2388771</td>\n",
       "      <td>0</td>\n",
       "      <td>0</td>\n",
       "    </tr>\n",
       "    <tr>\n",
       "      <th>1</th>\n",
       "      <td>1</td>\n",
       "      <td>tt5164214</td>\n",
       "      <td>1</td>\n",
       "      <td>1</td>\n",
       "    </tr>\n",
       "    <tr>\n",
       "      <th>2</th>\n",
       "      <td>2</td>\n",
       "      <td>tt1365519</td>\n",
       "      <td>2</td>\n",
       "      <td>2</td>\n",
       "    </tr>\n",
       "    <tr>\n",
       "      <th>3</th>\n",
       "      <td>3</td>\n",
       "      <td>tt0848228</td>\n",
       "      <td>3</td>\n",
       "      <td>3</td>\n",
       "    </tr>\n",
       "    <tr>\n",
       "      <th>4</th>\n",
       "      <td>4</td>\n",
       "      <td>tt8239946</td>\n",
       "      <td>4</td>\n",
       "      <td>4</td>\n",
       "    </tr>\n",
       "  </tbody>\n",
       "</table>\n",
       "</div>"
      ],
      "text/plain": [
       "   index        MID  GID  ID\n",
       "0      0  tt2388771    0   0\n",
       "1      1  tt5164214    1   1\n",
       "2      2  tt1365519    2   2\n",
       "3      3  tt0848228    3   3\n",
       "4      4  tt8239946    4   4"
      ]
     },
     "execution_count": 162,
     "metadata": {},
     "output_type": "execute_result"
    }
   ],
   "source": [
    "sql_query_M_genre = \"\"\"SELECT * FROM M_Genre\"\"\"\n",
    "imdb_M_genre = pd.read_sql_query(sql_query_M_genre, conne)\n",
    "\n",
    "# First few rows of imdb_M_genre\n",
    "imdb_M_genre.head()"
   ]
  },
  {
   "cell_type": "code",
   "execution_count": 163,
   "id": "8368bb79",
   "metadata": {},
   "outputs": [],
   "source": [
    "# Dropping 'index' column from\n",
    "imdb_M_genre.drop('index', axis=1, inplace=True)"
   ]
  },
  {
   "cell_type": "code",
   "execution_count": 164,
   "id": "1a884a9a",
   "metadata": {},
   "outputs": [
    {
     "data": {
      "text/html": [
       "<div>\n",
       "<style scoped>\n",
       "    .dataframe tbody tr th:only-of-type {\n",
       "        vertical-align: middle;\n",
       "    }\n",
       "\n",
       "    .dataframe tbody tr th {\n",
       "        vertical-align: top;\n",
       "    }\n",
       "\n",
       "    .dataframe thead th {\n",
       "        text-align: right;\n",
       "    }\n",
       "</style>\n",
       "<table border=\"1\" class=\"dataframe\">\n",
       "  <thead>\n",
       "    <tr style=\"text-align: right;\">\n",
       "      <th></th>\n",
       "      <th>MID</th>\n",
       "      <th>GID</th>\n",
       "      <th>ID</th>\n",
       "    </tr>\n",
       "  </thead>\n",
       "  <tbody>\n",
       "    <tr>\n",
       "      <th>3468</th>\n",
       "      <td>tt0090611</td>\n",
       "      <td>46</td>\n",
       "      <td>3470</td>\n",
       "    </tr>\n",
       "    <tr>\n",
       "      <th>3469</th>\n",
       "      <td>tt0106270</td>\n",
       "      <td>20</td>\n",
       "      <td>3471</td>\n",
       "    </tr>\n",
       "    <tr>\n",
       "      <th>3470</th>\n",
       "      <td>tt0852989</td>\n",
       "      <td>19</td>\n",
       "      <td>3472</td>\n",
       "    </tr>\n",
       "    <tr>\n",
       "      <th>3471</th>\n",
       "      <td>tt0375882</td>\n",
       "      <td>309</td>\n",
       "      <td>3473</td>\n",
       "    </tr>\n",
       "    <tr>\n",
       "      <th>3472</th>\n",
       "      <td>tt0375890</td>\n",
       "      <td>46</td>\n",
       "      <td>3474</td>\n",
       "    </tr>\n",
       "  </tbody>\n",
       "</table>\n",
       "</div>"
      ],
      "text/plain": [
       "            MID  GID    ID\n",
       "3468  tt0090611   46  3470\n",
       "3469  tt0106270   20  3471\n",
       "3470  tt0852989   19  3472\n",
       "3471  tt0375882  309  3473\n",
       "3472  tt0375890   46  3474"
      ]
     },
     "execution_count": 164,
     "metadata": {},
     "output_type": "execute_result"
    }
   ],
   "source": [
    "# Last few rows of imdb_M_genre\n",
    "imdb_M_genre.tail()"
   ]
  },
  {
   "cell_type": "code",
   "execution_count": 165,
   "id": "7c04cff1",
   "metadata": {},
   "outputs": [
    {
     "name": "stdout",
     "output_type": "stream",
     "text": [
      "imdb_M_genre shape: (3473, 3)\n",
      "imdb_M_genre size: 10419\n",
      "imdb_M_genre columns: Index(['MID', 'GID', 'ID'], dtype='object')\n",
      "imdb_M_genre dimensions: 2\n",
      "imdb_M_genre index: RangeIndex(start=0, stop=3473, step=1)\n"
     ]
    }
   ],
   "source": [
    "print(\"imdb_M_genre shape:\", imdb_M_genre.shape)\n",
    "print(\"imdb_M_genre size:\", imdb_M_genre.size)\n",
    "print(\"imdb_M_genre columns:\", imdb_M_genre.columns)\n",
    "print(\"imdb_M_genre dimensions:\", imdb_M_genre.ndim)\n",
    "print(\"imdb_M_genre index:\", imdb_M_genre.index)"
   ]
  },
  {
   "cell_type": "code",
   "execution_count": 166,
   "id": "6a7878ac",
   "metadata": {},
   "outputs": [
    {
     "name": "stdout",
     "output_type": "stream",
     "text": [
      "<class 'pandas.core.frame.DataFrame'>\n",
      "RangeIndex: 3473 entries, 0 to 3472\n",
      "Data columns (total 3 columns):\n",
      " #   Column  Non-Null Count  Dtype \n",
      "---  ------  --------------  ----- \n",
      " 0   MID     3473 non-null   object\n",
      " 1   GID     3473 non-null   int64 \n",
      " 2   ID      3473 non-null   int64 \n",
      "dtypes: int64(2), object(1)\n",
      "memory usage: 81.5+ KB\n"
     ]
    }
   ],
   "source": [
    "# Info of imdb_M_genre\n",
    "imdb_M_genre.info()"
   ]
  },
  {
   "cell_type": "code",
   "execution_count": 167,
   "id": "5c2dc5ca",
   "metadata": {},
   "outputs": [
    {
     "data": {
      "text/html": [
       "<div>\n",
       "<style scoped>\n",
       "    .dataframe tbody tr th:only-of-type {\n",
       "        vertical-align: middle;\n",
       "    }\n",
       "\n",
       "    .dataframe tbody tr th {\n",
       "        vertical-align: top;\n",
       "    }\n",
       "\n",
       "    .dataframe thead th {\n",
       "        text-align: right;\n",
       "    }\n",
       "</style>\n",
       "<table border=\"1\" class=\"dataframe\">\n",
       "  <thead>\n",
       "    <tr style=\"text-align: right;\">\n",
       "      <th></th>\n",
       "      <th>MID</th>\n",
       "      <th>GID</th>\n",
       "      <th>ID</th>\n",
       "    </tr>\n",
       "  </thead>\n",
       "  <tbody>\n",
       "    <tr>\n",
       "      <th>count</th>\n",
       "      <td>3473</td>\n",
       "      <td>3473.000000</td>\n",
       "      <td>3473.000000</td>\n",
       "    </tr>\n",
       "    <tr>\n",
       "      <th>unique</th>\n",
       "      <td>3473</td>\n",
       "      <td>NaN</td>\n",
       "      <td>NaN</td>\n",
       "    </tr>\n",
       "    <tr>\n",
       "      <th>top</th>\n",
       "      <td>tt2388771</td>\n",
       "      <td>NaN</td>\n",
       "      <td>NaN</td>\n",
       "    </tr>\n",
       "    <tr>\n",
       "      <th>freq</th>\n",
       "      <td>1</td>\n",
       "      <td>NaN</td>\n",
       "      <td>NaN</td>\n",
       "    </tr>\n",
       "    <tr>\n",
       "      <th>mean</th>\n",
       "      <td>NaN</td>\n",
       "      <td>62.634322</td>\n",
       "      <td>1736.105096</td>\n",
       "    </tr>\n",
       "    <tr>\n",
       "      <th>std</th>\n",
       "      <td>NaN</td>\n",
       "      <td>65.283050</td>\n",
       "      <td>1002.877540</td>\n",
       "    </tr>\n",
       "    <tr>\n",
       "      <th>min</th>\n",
       "      <td>NaN</td>\n",
       "      <td>0.000000</td>\n",
       "      <td>0.000000</td>\n",
       "    </tr>\n",
       "    <tr>\n",
       "      <th>25%</th>\n",
       "      <td>NaN</td>\n",
       "      <td>19.000000</td>\n",
       "      <td>868.000000</td>\n",
       "    </tr>\n",
       "    <tr>\n",
       "      <th>50%</th>\n",
       "      <td>NaN</td>\n",
       "      <td>46.000000</td>\n",
       "      <td>1736.000000</td>\n",
       "    </tr>\n",
       "    <tr>\n",
       "      <th>75%</th>\n",
       "      <td>NaN</td>\n",
       "      <td>76.000000</td>\n",
       "      <td>2604.000000</td>\n",
       "    </tr>\n",
       "    <tr>\n",
       "      <th>max</th>\n",
       "      <td>NaN</td>\n",
       "      <td>327.000000</td>\n",
       "      <td>3474.000000</td>\n",
       "    </tr>\n",
       "  </tbody>\n",
       "</table>\n",
       "</div>"
      ],
      "text/plain": [
       "              MID          GID           ID\n",
       "count        3473  3473.000000  3473.000000\n",
       "unique       3473          NaN          NaN\n",
       "top     tt2388771          NaN          NaN\n",
       "freq            1          NaN          NaN\n",
       "mean          NaN    62.634322  1736.105096\n",
       "std           NaN    65.283050  1002.877540\n",
       "min           NaN     0.000000     0.000000\n",
       "25%           NaN    19.000000   868.000000\n",
       "50%           NaN    46.000000  1736.000000\n",
       "75%           NaN    76.000000  2604.000000\n",
       "max           NaN   327.000000  3474.000000"
      ]
     },
     "execution_count": 167,
     "metadata": {},
     "output_type": "execute_result"
    }
   ],
   "source": [
    "# Statistical analysis using describe\n",
    "imdb_M_genre.describe(include='all')"
   ]
  },
  {
   "cell_type": "code",
   "execution_count": 168,
   "id": "cb4ea6e4",
   "metadata": {},
   "outputs": [
    {
     "data": {
      "text/plain": [
       "MID    3473\n",
       "GID     327\n",
       "ID     3473\n",
       "dtype: int64"
      ]
     },
     "execution_count": 168,
     "metadata": {},
     "output_type": "execute_result"
    }
   ],
   "source": [
    "# Number of unique values in each column\n",
    "imdb_M_genre.nunique()"
   ]
  },
  {
   "cell_type": "code",
   "execution_count": 169,
   "id": "3f97c317",
   "metadata": {},
   "outputs": [
    {
     "data": {
      "text/plain": [
       "array(['tt2388771', 'tt5164214', 'tt1365519', ..., 'tt0852989',\n",
       "       'tt0375882', 'tt0375890'], dtype=object)"
      ]
     },
     "execution_count": 169,
     "metadata": {},
     "output_type": "execute_result"
    }
   ],
   "source": [
    "# Unique values in the 'MID' column\n",
    "imdb_M_genre['MID'].unique()"
   ]
  },
  {
   "cell_type": "code",
   "execution_count": 170,
   "id": "cb853044",
   "metadata": {},
   "outputs": [
    {
     "data": {
      "text/plain": [
       "array([  0,   1,   2,   3,   4,   5,   6,   7,   8,   9,  10,  11,  12,\n",
       "        13,  14,  15,  16,  17,  18,  19,  20,  21,  22,  23,  24,  25,\n",
       "        26,  27,  28,  29,  30,  31,  32,  33,  34,  35,  36,  37,  38,\n",
       "        39,  40,  41,  42,  43,  44,  45,  46,  47,  48,  49,  50,  51,\n",
       "        52,  53,  54,  55,  56,  57,  58,  59,  60,  61,  62,  63,  64,\n",
       "        65,  66,  67,  68,  69,  70,  71,  72,  73,  74,  75,  76,  77,\n",
       "        78,  79,  80,  81,  82,  83,  84,  85,  86,  87,  88,  89,  90,\n",
       "        91,  92,  93,  94,  95,  96,  97,  98,  99, 100, 101, 102, 103,\n",
       "       104, 105, 106, 107, 108, 109, 110, 111, 112, 113, 114, 115, 116,\n",
       "       117, 118, 119, 120, 121, 122, 123, 124, 125, 126, 127, 128, 129,\n",
       "       130, 131, 132, 133, 134, 135, 136, 137, 138, 139, 140, 141, 142,\n",
       "       143, 144, 145, 146, 147, 148, 149, 150, 151, 152, 153, 154, 155,\n",
       "       156, 157, 158, 159, 160, 161, 162, 163, 164, 165, 166, 167, 168,\n",
       "       169, 170, 171, 172, 173, 174, 175, 176, 177, 178, 179, 180, 181,\n",
       "       182, 183, 184, 185, 186, 187, 188, 189, 190, 191, 192, 193, 194,\n",
       "       195, 196, 197, 198, 199, 200, 201, 202, 203, 204, 205, 206, 207,\n",
       "       208, 209, 210, 211, 212, 213, 214, 215, 216, 217, 218, 219, 220,\n",
       "       221, 222, 223, 224, 225, 226, 227, 228, 229, 230, 231, 232, 233,\n",
       "       234, 235, 236, 237, 238, 239, 240, 241, 242, 243, 244, 245, 246,\n",
       "       247, 248, 249, 250, 251, 252, 253, 254, 255, 256, 257, 258, 259,\n",
       "       260, 261, 262, 263, 264, 265, 266, 267, 268, 269, 270, 271, 272,\n",
       "       273, 274, 275, 276, 277, 278, 279, 280, 281, 282, 283, 284, 285,\n",
       "       286, 287, 288, 289, 290, 291, 292, 293, 294, 295, 296, 297, 298,\n",
       "       299, 300, 301, 302, 303, 304, 305, 306, 307, 308, 309, 310, 311,\n",
       "       312, 313, 314, 315, 316, 317, 318, 320, 321, 322, 323, 324, 325,\n",
       "       326, 327], dtype=int64)"
      ]
     },
     "execution_count": 170,
     "metadata": {},
     "output_type": "execute_result"
    }
   ],
   "source": [
    "# Unique values in the 'GID' column\n",
    "imdb_M_genre['GID'].unique()"
   ]
  },
  {
   "cell_type": "code",
   "execution_count": 171,
   "id": "f2690962",
   "metadata": {},
   "outputs": [
    {
     "data": {
      "text/plain": [
       "array([   0,    1,    2, ..., 3472, 3473, 3474], dtype=int64)"
      ]
     },
     "execution_count": 171,
     "metadata": {},
     "output_type": "execute_result"
    }
   ],
   "source": [
    "# Unique values in the 'ID' column\n",
    "imdb_M_genre['ID'].unique()"
   ]
  },
  {
   "cell_type": "code",
   "execution_count": 172,
   "id": "dad880a3",
   "metadata": {},
   "outputs": [
    {
     "data": {
      "text/plain": [
       "tt2388771    1\n",
       "tt0286907    1\n",
       "tt0070097    1\n",
       "tt0264415    1\n",
       "tt0140784    1\n",
       "            ..\n",
       "tt1372266    1\n",
       "tt0110140    1\n",
       "tt3422462    1\n",
       "tt0345177    1\n",
       "tt0375890    1\n",
       "Name: MID, Length: 3473, dtype: int64"
      ]
     },
     "execution_count": 172,
     "metadata": {},
     "output_type": "execute_result"
    }
   ],
   "source": [
    "# Value count of the 'MID' column\n",
    "imdb_M_genre['MID'].value_counts()"
   ]
  },
  {
   "cell_type": "code",
   "execution_count": 173,
   "id": "b41bc2dd",
   "metadata": {},
   "outputs": [
    {
     "data": {
      "text/plain": [
       "19     342\n",
       "54     218\n",
       "5      206\n",
       "20     149\n",
       "16     137\n",
       "      ... \n",
       "210      1\n",
       "211      1\n",
       "212      1\n",
       "213      1\n",
       "327      1\n",
       "Name: GID, Length: 327, dtype: int64"
      ]
     },
     "execution_count": 173,
     "metadata": {},
     "output_type": "execute_result"
    }
   ],
   "source": [
    "# Value count of the 'GID' column\n",
    "imdb_M_genre['GID'].value_counts()"
   ]
  },
  {
   "cell_type": "code",
   "execution_count": 174,
   "id": "4cb702f2",
   "metadata": {},
   "outputs": [
    {
     "data": {
      "text/plain": [
       "0       1\n",
       "2320    1\n",
       "2309    1\n",
       "2310    1\n",
       "2311    1\n",
       "       ..\n",
       "1161    1\n",
       "1162    1\n",
       "1163    1\n",
       "1164    1\n",
       "3474    1\n",
       "Name: ID, Length: 3473, dtype: int64"
      ]
     },
     "execution_count": 174,
     "metadata": {},
     "output_type": "execute_result"
    }
   ],
   "source": [
    "# Value count of the 'ID' column\n",
    "imdb_M_genre['ID'].value_counts()"
   ]
  },
  {
   "cell_type": "code",
   "execution_count": 175,
   "id": "06a44d2c",
   "metadata": {},
   "outputs": [
    {
     "data": {
      "image/png": "[encoded data removed]",
      "text/plain": [
       "<Figure size 432x288 with 1 Axes>"
      ]
     },
     "metadata": {
      "needs_background": "light"
     },
     "output_type": "display_data"
    }
   ],
   "source": [
    "# boxplot of 'GID' column from imdb_M_genre\n",
    "sns.boxplot(data=imdb_M_genre, x='GID')\n",
    "plt.show()"
   ]
  },
  {
   "cell_type": "markdown",
   "id": "227527ae",
   "metadata": {},
   "source": [
    "- Outliers are present in the 'GID' column \n",
    "- We might need all 'GID' columns values so outliers are not removed in the dataset."
   ]
  },
  {
   "cell_type": "code",
   "execution_count": 176,
   "id": "bf0488b8",
   "metadata": {},
   "outputs": [
    {
     "data": {
      "image/png": "[encoded data removed]",
      "text/plain": [
       "<Figure size 432x288 with 1 Axes>"
      ]
     },
     "metadata": {
      "needs_background": "light"
     },
     "output_type": "display_data"
    }
   ],
   "source": [
    "# boxplot of 'ID' column from imdb_M_genre\n",
    "sns.boxplot(data=imdb_M_genre, x='ID')\n",
    "plt.show()"
   ]
  },
  {
   "cell_type": "markdown",
   "id": "49868eeb",
   "metadata": {},
   "source": [
    "No outliers are present in the 'ID' column "
   ]
  },
  {
   "cell_type": "code",
   "execution_count": 177,
   "id": "ed0724da",
   "metadata": {},
   "outputs": [
    {
     "data": {
      "text/plain": [
       "MID    0\n",
       "GID    0\n",
       "ID     0\n",
       "dtype: int64"
      ]
     },
     "execution_count": 177,
     "metadata": {},
     "output_type": "execute_result"
    }
   ],
   "source": [
    "# Checking for null values in imdb_M_genre\n",
    "imdb_M_genre.isna().sum()"
   ]
  },
  {
   "cell_type": "markdown",
   "id": "faeba1e9",
   "metadata": {},
   "source": [
    "Null values are not present in any columns"
   ]
  },
  {
   "cell_type": "code",
   "execution_count": 178,
   "id": "2031ad58",
   "metadata": {},
   "outputs": [
    {
     "data": {
      "text/html": [
       "<div>\n",
       "<style scoped>\n",
       "    .dataframe tbody tr th:only-of-type {\n",
       "        vertical-align: middle;\n",
       "    }\n",
       "\n",
       "    .dataframe tbody tr th {\n",
       "        vertical-align: top;\n",
       "    }\n",
       "\n",
       "    .dataframe thead th {\n",
       "        text-align: right;\n",
       "    }\n",
       "</style>\n",
       "<table border=\"1\" class=\"dataframe\">\n",
       "  <thead>\n",
       "    <tr style=\"text-align: right;\">\n",
       "      <th></th>\n",
       "      <th>MID</th>\n",
       "      <th>GID</th>\n",
       "      <th>ID</th>\n",
       "    </tr>\n",
       "  </thead>\n",
       "  <tbody>\n",
       "  </tbody>\n",
       "</table>\n",
       "</div>"
      ],
      "text/plain": [
       "Empty DataFrame\n",
       "Columns: [MID, GID, ID]\n",
       "Index: []"
      ]
     },
     "execution_count": 178,
     "metadata": {},
     "output_type": "execute_result"
    }
   ],
   "source": [
    "# Checking for duplicate rows in imdb_M_genre\n",
    "imdb_M_genre[imdb_M_genre.duplicated()]"
   ]
  },
  {
   "cell_type": "markdown",
   "id": "d1b4fa6f",
   "metadata": {},
   "source": [
    "No duplicate rows found in imdb_M_genre"
   ]
  },
  {
   "cell_type": "markdown",
   "id": "4d39c217",
   "metadata": {},
   "source": [
    "### M_Language"
   ]
  },
  {
   "cell_type": "code",
   "execution_count": 179,
   "id": "e24826bc",
   "metadata": {},
   "outputs": [
    {
     "data": {
      "text/html": [
       "<div>\n",
       "<style scoped>\n",
       "    .dataframe tbody tr th:only-of-type {\n",
       "        vertical-align: middle;\n",
       "    }\n",
       "\n",
       "    .dataframe tbody tr th {\n",
       "        vertical-align: top;\n",
       "    }\n",
       "\n",
       "    .dataframe thead th {\n",
       "        text-align: right;\n",
       "    }\n",
       "</style>\n",
       "<table border=\"1\" class=\"dataframe\">\n",
       "  <thead>\n",
       "    <tr style=\"text-align: right;\">\n",
       "      <th></th>\n",
       "      <th>index</th>\n",
       "      <th>MID</th>\n",
       "      <th>LAID</th>\n",
       "      <th>ID</th>\n",
       "    </tr>\n",
       "  </thead>\n",
       "  <tbody>\n",
       "    <tr>\n",
       "      <th>0</th>\n",
       "      <td>0</td>\n",
       "      <td>tt2388771</td>\n",
       "      <td>0</td>\n",
       "      <td>0</td>\n",
       "    </tr>\n",
       "    <tr>\n",
       "      <th>1</th>\n",
       "      <td>1</td>\n",
       "      <td>tt5164214</td>\n",
       "      <td>0</td>\n",
       "      <td>1</td>\n",
       "    </tr>\n",
       "    <tr>\n",
       "      <th>2</th>\n",
       "      <td>2</td>\n",
       "      <td>tt1365519</td>\n",
       "      <td>0</td>\n",
       "      <td>2</td>\n",
       "    </tr>\n",
       "    <tr>\n",
       "      <th>3</th>\n",
       "      <td>3</td>\n",
       "      <td>tt0848228</td>\n",
       "      <td>0</td>\n",
       "      <td>3</td>\n",
       "    </tr>\n",
       "    <tr>\n",
       "      <th>4</th>\n",
       "      <td>4</td>\n",
       "      <td>tt8239946</td>\n",
       "      <td>1</td>\n",
       "      <td>4</td>\n",
       "    </tr>\n",
       "  </tbody>\n",
       "</table>\n",
       "</div>"
      ],
      "text/plain": [
       "   index        MID  LAID  ID\n",
       "0      0  tt2388771     0   0\n",
       "1      1  tt5164214     0   1\n",
       "2      2  tt1365519     0   2\n",
       "3      3  tt0848228     0   3\n",
       "4      4  tt8239946     1   4"
      ]
     },
     "execution_count": 179,
     "metadata": {},
     "output_type": "execute_result"
    }
   ],
   "source": [
    "sql_query_M_language = \"\"\"SELECT * FROM M_Language\"\"\"\n",
    "imdb_M_language = pd.read_sql_query(sql_query_M_language, conne)\n",
    "\n",
    "# First few rows of imdb_M_language\n",
    "imdb_M_language.head()"
   ]
  },
  {
   "cell_type": "code",
   "execution_count": 180,
   "id": "4e0dea12",
   "metadata": {},
   "outputs": [],
   "source": [
    "# Dropping 'index' column from\n",
    "imdb_M_language.drop('index', axis=1, inplace=True)"
   ]
  },
  {
   "cell_type": "code",
   "execution_count": 181,
   "id": "9b3469c8",
   "metadata": {},
   "outputs": [
    {
     "data": {
      "text/html": [
       "<div>\n",
       "<style scoped>\n",
       "    .dataframe tbody tr th:only-of-type {\n",
       "        vertical-align: middle;\n",
       "    }\n",
       "\n",
       "    .dataframe tbody tr th {\n",
       "        vertical-align: top;\n",
       "    }\n",
       "\n",
       "    .dataframe thead th {\n",
       "        text-align: right;\n",
       "    }\n",
       "</style>\n",
       "<table border=\"1\" class=\"dataframe\">\n",
       "  <thead>\n",
       "    <tr style=\"text-align: right;\">\n",
       "      <th></th>\n",
       "      <th>MID</th>\n",
       "      <th>LAID</th>\n",
       "      <th>ID</th>\n",
       "    </tr>\n",
       "  </thead>\n",
       "  <tbody>\n",
       "    <tr>\n",
       "      <th>3468</th>\n",
       "      <td>tt0090611</td>\n",
       "      <td>2</td>\n",
       "      <td>3470</td>\n",
       "    </tr>\n",
       "    <tr>\n",
       "      <th>3469</th>\n",
       "      <td>tt0106270</td>\n",
       "      <td>2</td>\n",
       "      <td>3471</td>\n",
       "    </tr>\n",
       "    <tr>\n",
       "      <th>3470</th>\n",
       "      <td>tt0852989</td>\n",
       "      <td>2</td>\n",
       "      <td>3472</td>\n",
       "    </tr>\n",
       "    <tr>\n",
       "      <th>3471</th>\n",
       "      <td>tt0375882</td>\n",
       "      <td>2</td>\n",
       "      <td>3473</td>\n",
       "    </tr>\n",
       "    <tr>\n",
       "      <th>3472</th>\n",
       "      <td>tt0375890</td>\n",
       "      <td>2</td>\n",
       "      <td>3474</td>\n",
       "    </tr>\n",
       "  </tbody>\n",
       "</table>\n",
       "</div>"
      ],
      "text/plain": [
       "            MID  LAID    ID\n",
       "3468  tt0090611     2  3470\n",
       "3469  tt0106270     2  3471\n",
       "3470  tt0852989     2  3472\n",
       "3471  tt0375882     2  3473\n",
       "3472  tt0375890     2  3474"
      ]
     },
     "execution_count": 181,
     "metadata": {},
     "output_type": "execute_result"
    }
   ],
   "source": [
    "# Last few rows of imdb_M_language\n",
    "imdb_M_language.tail()"
   ]
  },
  {
   "cell_type": "code",
   "execution_count": 182,
   "id": "59c4c8b4",
   "metadata": {},
   "outputs": [
    {
     "name": "stdout",
     "output_type": "stream",
     "text": [
      "imdb_M_language shape: (3473, 3)\n",
      "imdb_M_language size: 10419\n",
      "imdb_M_language columns: Index(['MID', 'LAID', 'ID'], dtype='object')\n",
      "imdb_M_language dimensions: 2\n",
      "imdb_M_language index: RangeIndex(start=0, stop=3473, step=1)\n"
     ]
    }
   ],
   "source": [
    "print(\"imdb_M_language shape:\", imdb_M_language.shape)\n",
    "print(\"imdb_M_language size:\", imdb_M_language.size)\n",
    "print(\"imdb_M_language columns:\", imdb_M_language.columns)\n",
    "print(\"imdb_M_language dimensions:\", imdb_M_language.ndim)\n",
    "print(\"imdb_M_language index:\", imdb_M_language.index)"
   ]
  },
  {
   "cell_type": "code",
   "execution_count": 183,
   "id": "147806b2",
   "metadata": {},
   "outputs": [
    {
     "name": "stdout",
     "output_type": "stream",
     "text": [
      "<class 'pandas.core.frame.DataFrame'>\n",
      "RangeIndex: 3473 entries, 0 to 3472\n",
      "Data columns (total 3 columns):\n",
      " #   Column  Non-Null Count  Dtype \n",
      "---  ------  --------------  ----- \n",
      " 0   MID     3473 non-null   object\n",
      " 1   LAID    3473 non-null   int64 \n",
      " 2   ID      3473 non-null   int64 \n",
      "dtypes: int64(2), object(1)\n",
      "memory usage: 81.5+ KB\n"
     ]
    }
   ],
   "source": [
    "# Info of imdb_M_language\n",
    "imdb_M_language.info()"
   ]
  },
  {
   "cell_type": "code",
   "execution_count": 184,
   "id": "800b43ed",
   "metadata": {},
   "outputs": [
    {
     "data": {
      "text/html": [
       "<div>\n",
       "<style scoped>\n",
       "    .dataframe tbody tr th:only-of-type {\n",
       "        vertical-align: middle;\n",
       "    }\n",
       "\n",
       "    .dataframe tbody tr th {\n",
       "        vertical-align: top;\n",
       "    }\n",
       "\n",
       "    .dataframe thead th {\n",
       "        text-align: right;\n",
       "    }\n",
       "</style>\n",
       "<table border=\"1\" class=\"dataframe\">\n",
       "  <thead>\n",
       "    <tr style=\"text-align: right;\">\n",
       "      <th></th>\n",
       "      <th>MID</th>\n",
       "      <th>LAID</th>\n",
       "      <th>ID</th>\n",
       "    </tr>\n",
       "  </thead>\n",
       "  <tbody>\n",
       "    <tr>\n",
       "      <th>count</th>\n",
       "      <td>3473</td>\n",
       "      <td>3473.000000</td>\n",
       "      <td>3473.000000</td>\n",
       "    </tr>\n",
       "    <tr>\n",
       "      <th>unique</th>\n",
       "      <td>3473</td>\n",
       "      <td>NaN</td>\n",
       "      <td>NaN</td>\n",
       "    </tr>\n",
       "    <tr>\n",
       "      <th>top</th>\n",
       "      <td>tt2388771</td>\n",
       "      <td>NaN</td>\n",
       "      <td>NaN</td>\n",
       "    </tr>\n",
       "    <tr>\n",
       "      <th>freq</th>\n",
       "      <td>1</td>\n",
       "      <td>NaN</td>\n",
       "      <td>NaN</td>\n",
       "    </tr>\n",
       "    <tr>\n",
       "      <th>mean</th>\n",
       "      <td>NaN</td>\n",
       "      <td>2.552836</td>\n",
       "      <td>1736.105096</td>\n",
       "    </tr>\n",
       "    <tr>\n",
       "      <th>std</th>\n",
       "      <td>NaN</td>\n",
       "      <td>2.811091</td>\n",
       "      <td>1002.877540</td>\n",
       "    </tr>\n",
       "    <tr>\n",
       "      <th>min</th>\n",
       "      <td>NaN</td>\n",
       "      <td>0.000000</td>\n",
       "      <td>0.000000</td>\n",
       "    </tr>\n",
       "    <tr>\n",
       "      <th>25%</th>\n",
       "      <td>NaN</td>\n",
       "      <td>2.000000</td>\n",
       "      <td>868.000000</td>\n",
       "    </tr>\n",
       "    <tr>\n",
       "      <th>50%</th>\n",
       "      <td>NaN</td>\n",
       "      <td>2.000000</td>\n",
       "      <td>1736.000000</td>\n",
       "    </tr>\n",
       "    <tr>\n",
       "      <th>75%</th>\n",
       "      <td>NaN</td>\n",
       "      <td>2.000000</td>\n",
       "      <td>2604.000000</td>\n",
       "    </tr>\n",
       "    <tr>\n",
       "      <th>max</th>\n",
       "      <td>NaN</td>\n",
       "      <td>31.000000</td>\n",
       "      <td>3474.000000</td>\n",
       "    </tr>\n",
       "  </tbody>\n",
       "</table>\n",
       "</div>"
      ],
      "text/plain": [
       "              MID         LAID           ID\n",
       "count        3473  3473.000000  3473.000000\n",
       "unique       3473          NaN          NaN\n",
       "top     tt2388771          NaN          NaN\n",
       "freq            1          NaN          NaN\n",
       "mean          NaN     2.552836  1736.105096\n",
       "std           NaN     2.811091  1002.877540\n",
       "min           NaN     0.000000     0.000000\n",
       "25%           NaN     2.000000   868.000000\n",
       "50%           NaN     2.000000  1736.000000\n",
       "75%           NaN     2.000000  2604.000000\n",
       "max           NaN    31.000000  3474.000000"
      ]
     },
     "execution_count": 184,
     "metadata": {},
     "output_type": "execute_result"
    }
   ],
   "source": [
    "# Statistical analysis using describe\n",
    "imdb_M_language.describe(include='all')"
   ]
  },
  {
   "cell_type": "code",
   "execution_count": 185,
   "id": "2b24b072",
   "metadata": {},
   "outputs": [
    {
     "data": {
      "text/plain": [
       "MID     3473\n",
       "LAID      32\n",
       "ID      3473\n",
       "dtype: int64"
      ]
     },
     "execution_count": 185,
     "metadata": {},
     "output_type": "execute_result"
    }
   ],
   "source": [
    "# Number of unique values in each column\n",
    "imdb_M_language.nunique()"
   ]
  },
  {
   "cell_type": "code",
   "execution_count": 186,
   "id": "5c390527",
   "metadata": {},
   "outputs": [
    {
     "data": {
      "text/plain": [
       "array(['tt2388771', 'tt5164214', 'tt1365519', ..., 'tt0852989',\n",
       "       'tt0375882', 'tt0375890'], dtype=object)"
      ]
     },
     "execution_count": 186,
     "metadata": {},
     "output_type": "execute_result"
    }
   ],
   "source": [
    "# Unique values in the 'MID' column\n",
    "imdb_M_language['MID'].unique()"
   ]
  },
  {
   "cell_type": "code",
   "execution_count": 187,
   "id": "f2cbb7c8",
   "metadata": {},
   "outputs": [
    {
     "data": {
      "text/plain": [
       "array([ 0,  1,  2,  3,  4,  5,  6,  7,  8,  9, 10, 11, 12, 13, 14, 15, 16,\n",
       "       17, 18, 19, 20, 21, 22, 23, 24, 25, 26, 27, 28, 29, 30, 31],\n",
       "      dtype=int64)"
      ]
     },
     "execution_count": 187,
     "metadata": {},
     "output_type": "execute_result"
    }
   ],
   "source": [
    "# Unique values in the 'LAID' column\n",
    "imdb_M_language['LAID'].unique()"
   ]
  },
  {
   "cell_type": "code",
   "execution_count": 188,
   "id": "7bdafa98",
   "metadata": {},
   "outputs": [
    {
     "data": {
      "text/plain": [
       "array([   0,    1,    2, ..., 3472, 3473, 3474], dtype=int64)"
      ]
     },
     "execution_count": 188,
     "metadata": {},
     "output_type": "execute_result"
    }
   ],
   "source": [
    "# Unique values in the 'ID' column\n",
    "imdb_M_language['ID'].unique()"
   ]
  },
  {
   "cell_type": "code",
   "execution_count": 189,
   "id": "806fbecd",
   "metadata": {},
   "outputs": [
    {
     "data": {
      "text/plain": [
       "tt2388771    1\n",
       "tt0286907    1\n",
       "tt0070097    1\n",
       "tt0264415    1\n",
       "tt0140784    1\n",
       "            ..\n",
       "tt1372266    1\n",
       "tt0110140    1\n",
       "tt3422462    1\n",
       "tt0345177    1\n",
       "tt0375890    1\n",
       "Name: MID, Length: 3473, dtype: int64"
      ]
     },
     "execution_count": 189,
     "metadata": {},
     "output_type": "execute_result"
    }
   ],
   "source": [
    "# Value count of the 'MID' column\n",
    "imdb_M_language['MID'].value_counts()"
   ]
  },
  {
   "cell_type": "code",
   "execution_count": 190,
   "id": "4de9d7bf",
   "metadata": {},
   "outputs": [
    {
     "data": {
      "text/plain": [
       "2     2988\n",
       "0      151\n",
       "6       98\n",
       "4       93\n",
       "15      29\n",
       "17      17\n",
       "1       17\n",
       "12      17\n",
       "19      16\n",
       "7       11\n",
       "3        4\n",
       "11       3\n",
       "14       3\n",
       "27       3\n",
       "22       3\n",
       "9        2\n",
       "5        2\n",
       "20       2\n",
       "30       1\n",
       "29       1\n",
       "24       1\n",
       "28       1\n",
       "26       1\n",
       "25       1\n",
       "16       1\n",
       "23       1\n",
       "21       1\n",
       "18       1\n",
       "13       1\n",
       "10       1\n",
       "8        1\n",
       "31       1\n",
       "Name: LAID, dtype: int64"
      ]
     },
     "execution_count": 190,
     "metadata": {},
     "output_type": "execute_result"
    }
   ],
   "source": [
    "# Value count of the 'LAID' column\n",
    "imdb_M_language['LAID'].value_counts()"
   ]
  },
  {
   "cell_type": "code",
   "execution_count": 191,
   "id": "47e0d7c7",
   "metadata": {},
   "outputs": [
    {
     "data": {
      "text/plain": [
       "0       1\n",
       "2320    1\n",
       "2309    1\n",
       "2310    1\n",
       "2311    1\n",
       "       ..\n",
       "1161    1\n",
       "1162    1\n",
       "1163    1\n",
       "1164    1\n",
       "3474    1\n",
       "Name: ID, Length: 3473, dtype: int64"
      ]
     },
     "execution_count": 191,
     "metadata": {},
     "output_type": "execute_result"
    }
   ],
   "source": [
    "# Value count of the 'ID' column\n",
    "imdb_M_language['ID'].value_counts()"
   ]
  },
  {
   "cell_type": "code",
   "execution_count": 192,
   "id": "41e3d690",
   "metadata": {},
   "outputs": [
    {
     "data": {
      "image/png": "[encoded data removed]",
      "text/plain": [
       "<Figure size 432x288 with 1 Axes>"
      ]
     },
     "metadata": {
      "needs_background": "light"
     },
     "output_type": "display_data"
    }
   ],
   "source": [
    "# boxplot of 'LAID' column from imdb_M_language\n",
    "sns.boxplot(data=imdb_M_language, x='LAID')\n",
    "plt.show()"
   ]
  },
  {
   "cell_type": "markdown",
   "id": "605849e2",
   "metadata": {},
   "source": [
    "- Outliers are present in the column 'LAID'\n",
    "- We might require all 'LAID' columns values so outliers are not removed in the dataset"
   ]
  },
  {
   "cell_type": "code",
   "execution_count": 193,
   "id": "f6b57784",
   "metadata": {},
   "outputs": [
    {
     "data": {
      "image/png": "[encoded data removed]",
      "text/plain": [
       "<Figure size 432x288 with 1 Axes>"
      ]
     },
     "metadata": {
      "needs_background": "light"
     },
     "output_type": "display_data"
    }
   ],
   "source": [
    "# boxplot of 'ID' column from imdb_M_language\n",
    "sns.boxplot(data=imdb_M_language, x='ID')\n",
    "plt.show()"
   ]
  },
  {
   "cell_type": "markdown",
   "id": "e853fcb3",
   "metadata": {},
   "source": [
    "No outliers are present in the 'ID' column "
   ]
  },
  {
   "cell_type": "code",
   "execution_count": 194,
   "id": "2ebb0d84",
   "metadata": {},
   "outputs": [
    {
     "data": {
      "text/plain": [
       "MID     0\n",
       "LAID    0\n",
       "ID      0\n",
       "dtype: int64"
      ]
     },
     "execution_count": 194,
     "metadata": {},
     "output_type": "execute_result"
    }
   ],
   "source": [
    "# Checking for null values in imdb_M_language\n",
    "imdb_M_language.isna().sum()"
   ]
  },
  {
   "cell_type": "markdown",
   "id": "2ddc0609",
   "metadata": {},
   "source": [
    "Null values are not present in any columns"
   ]
  },
  {
   "cell_type": "code",
   "execution_count": 195,
   "id": "7add53c9",
   "metadata": {},
   "outputs": [
    {
     "data": {
      "text/html": [
       "<div>\n",
       "<style scoped>\n",
       "    .dataframe tbody tr th:only-of-type {\n",
       "        vertical-align: middle;\n",
       "    }\n",
       "\n",
       "    .dataframe tbody tr th {\n",
       "        vertical-align: top;\n",
       "    }\n",
       "\n",
       "    .dataframe thead th {\n",
       "        text-align: right;\n",
       "    }\n",
       "</style>\n",
       "<table border=\"1\" class=\"dataframe\">\n",
       "  <thead>\n",
       "    <tr style=\"text-align: right;\">\n",
       "      <th></th>\n",
       "      <th>MID</th>\n",
       "      <th>LAID</th>\n",
       "      <th>ID</th>\n",
       "    </tr>\n",
       "  </thead>\n",
       "  <tbody>\n",
       "  </tbody>\n",
       "</table>\n",
       "</div>"
      ],
      "text/plain": [
       "Empty DataFrame\n",
       "Columns: [MID, LAID, ID]\n",
       "Index: []"
      ]
     },
     "execution_count": 195,
     "metadata": {},
     "output_type": "execute_result"
    }
   ],
   "source": [
    "# Checking for duplicate rows in imdb_M_language\n",
    "imdb_M_language[imdb_M_language.duplicated()]"
   ]
  },
  {
   "cell_type": "markdown",
   "id": "d83e1008",
   "metadata": {},
   "source": [
    "No duplicate rows found in imdb_M_language"
   ]
  },
  {
   "cell_type": "markdown",
   "id": "19b7281c",
   "metadata": {},
   "source": [
    "### M_Country"
   ]
  },
  {
   "cell_type": "code",
   "execution_count": 196,
   "id": "99bea032",
   "metadata": {},
   "outputs": [
    {
     "data": {
      "text/html": [
       "<div>\n",
       "<style scoped>\n",
       "    .dataframe tbody tr th:only-of-type {\n",
       "        vertical-align: middle;\n",
       "    }\n",
       "\n",
       "    .dataframe tbody tr th {\n",
       "        vertical-align: top;\n",
       "    }\n",
       "\n",
       "    .dataframe thead th {\n",
       "        text-align: right;\n",
       "    }\n",
       "</style>\n",
       "<table border=\"1\" class=\"dataframe\">\n",
       "  <thead>\n",
       "    <tr style=\"text-align: right;\">\n",
       "      <th></th>\n",
       "      <th>index</th>\n",
       "      <th>MID</th>\n",
       "      <th>CID</th>\n",
       "      <th>ID</th>\n",
       "    </tr>\n",
       "  </thead>\n",
       "  <tbody>\n",
       "    <tr>\n",
       "      <th>0</th>\n",
       "      <td>0</td>\n",
       "      <td>tt2388771</td>\n",
       "      <td>0.0</td>\n",
       "      <td>0</td>\n",
       "    </tr>\n",
       "    <tr>\n",
       "      <th>1</th>\n",
       "      <td>1</td>\n",
       "      <td>tt5164214</td>\n",
       "      <td>1.0</td>\n",
       "      <td>1</td>\n",
       "    </tr>\n",
       "    <tr>\n",
       "      <th>2</th>\n",
       "      <td>2</td>\n",
       "      <td>tt1365519</td>\n",
       "      <td>0.0</td>\n",
       "      <td>2</td>\n",
       "    </tr>\n",
       "    <tr>\n",
       "      <th>3</th>\n",
       "      <td>3</td>\n",
       "      <td>tt0848228</td>\n",
       "      <td>1.0</td>\n",
       "      <td>3</td>\n",
       "    </tr>\n",
       "    <tr>\n",
       "      <th>4</th>\n",
       "      <td>4</td>\n",
       "      <td>tt8239946</td>\n",
       "      <td>2.0</td>\n",
       "      <td>4</td>\n",
       "    </tr>\n",
       "  </tbody>\n",
       "</table>\n",
       "</div>"
      ],
      "text/plain": [
       "   index        MID  CID  ID\n",
       "0      0  tt2388771  0.0   0\n",
       "1      1  tt5164214  1.0   1\n",
       "2      2  tt1365519  0.0   2\n",
       "3      3  tt0848228  1.0   3\n",
       "4      4  tt8239946  2.0   4"
      ]
     },
     "execution_count": 196,
     "metadata": {},
     "output_type": "execute_result"
    }
   ],
   "source": [
    "sql_query_M_country = \"\"\"SELECT * FROM M_Country\"\"\"\n",
    "imdb_M_country = pd.read_sql_query(sql_query_M_country, conne)\n",
    "\n",
    "# First few rows of imdb_M_country\n",
    "imdb_M_country.head()"
   ]
  },
  {
   "cell_type": "code",
   "execution_count": 197,
   "id": "e2419fb6",
   "metadata": {},
   "outputs": [],
   "source": [
    "# Dropping 'index' column from\n",
    "imdb_M_country.drop('index', axis=1, inplace=True)"
   ]
  },
  {
   "cell_type": "code",
   "execution_count": 198,
   "id": "1912bce4",
   "metadata": {},
   "outputs": [
    {
     "data": {
      "text/html": [
       "<div>\n",
       "<style scoped>\n",
       "    .dataframe tbody tr th:only-of-type {\n",
       "        vertical-align: middle;\n",
       "    }\n",
       "\n",
       "    .dataframe tbody tr th {\n",
       "        vertical-align: top;\n",
       "    }\n",
       "\n",
       "    .dataframe thead th {\n",
       "        text-align: right;\n",
       "    }\n",
       "</style>\n",
       "<table border=\"1\" class=\"dataframe\">\n",
       "  <thead>\n",
       "    <tr style=\"text-align: right;\">\n",
       "      <th></th>\n",
       "      <th>MID</th>\n",
       "      <th>CID</th>\n",
       "      <th>ID</th>\n",
       "    </tr>\n",
       "  </thead>\n",
       "  <tbody>\n",
       "    <tr>\n",
       "      <th>3468</th>\n",
       "      <td>tt0090611</td>\n",
       "      <td>2.0</td>\n",
       "      <td>3470</td>\n",
       "    </tr>\n",
       "    <tr>\n",
       "      <th>3469</th>\n",
       "      <td>tt0106270</td>\n",
       "      <td>2.0</td>\n",
       "      <td>3471</td>\n",
       "    </tr>\n",
       "    <tr>\n",
       "      <th>3470</th>\n",
       "      <td>tt0852989</td>\n",
       "      <td>2.0</td>\n",
       "      <td>3472</td>\n",
       "    </tr>\n",
       "    <tr>\n",
       "      <th>3471</th>\n",
       "      <td>tt0375882</td>\n",
       "      <td>2.0</td>\n",
       "      <td>3473</td>\n",
       "    </tr>\n",
       "    <tr>\n",
       "      <th>3472</th>\n",
       "      <td>tt0375890</td>\n",
       "      <td>2.0</td>\n",
       "      <td>3474</td>\n",
       "    </tr>\n",
       "  </tbody>\n",
       "</table>\n",
       "</div>"
      ],
      "text/plain": [
       "            MID  CID    ID\n",
       "3468  tt0090611  2.0  3470\n",
       "3469  tt0106270  2.0  3471\n",
       "3470  tt0852989  2.0  3472\n",
       "3471  tt0375882  2.0  3473\n",
       "3472  tt0375890  2.0  3474"
      ]
     },
     "execution_count": 198,
     "metadata": {},
     "output_type": "execute_result"
    }
   ],
   "source": [
    "# Last few rows of imdb_M_country\n",
    "imdb_M_country.tail()"
   ]
  },
  {
   "cell_type": "code",
   "execution_count": 199,
   "id": "cc8516c7",
   "metadata": {},
   "outputs": [
    {
     "name": "stdout",
     "output_type": "stream",
     "text": [
      "imdb_M_country shape: (3473, 3)\n",
      "imdb_M_country size: 10419\n",
      "imdb_M_country columns: Index(['MID', 'CID', 'ID'], dtype='object')\n",
      "imdb_M_country dimensions: 2\n",
      "imdb_M_country index: RangeIndex(start=0, stop=3473, step=1)\n"
     ]
    }
   ],
   "source": [
    "print(\"imdb_M_country shape:\", imdb_M_country.shape)\n",
    "print(\"imdb_M_country size:\", imdb_M_country.size)\n",
    "print(\"imdb_M_country columns:\", imdb_M_country.columns)\n",
    "print(\"imdb_M_country dimensions:\", imdb_M_country.ndim)\n",
    "print(\"imdb_M_country index:\", imdb_M_country.index)"
   ]
  },
  {
   "cell_type": "code",
   "execution_count": 200,
   "id": "33486867",
   "metadata": {},
   "outputs": [
    {
     "name": "stdout",
     "output_type": "stream",
     "text": [
      "<class 'pandas.core.frame.DataFrame'>\n",
      "RangeIndex: 3473 entries, 0 to 3472\n",
      "Data columns (total 3 columns):\n",
      " #   Column  Non-Null Count  Dtype  \n",
      "---  ------  --------------  -----  \n",
      " 0   MID     3473 non-null   object \n",
      " 1   CID     3468 non-null   float64\n",
      " 2   ID      3473 non-null   int64  \n",
      "dtypes: float64(1), int64(1), object(1)\n",
      "memory usage: 81.5+ KB\n"
     ]
    }
   ],
   "source": [
    "# Info of imdb_M_country\n",
    "imdb_M_country.info()"
   ]
  },
  {
   "cell_type": "code",
   "execution_count": 201,
   "id": "ba940b89",
   "metadata": {},
   "outputs": [
    {
     "data": {
      "text/html": [
       "<div>\n",
       "<style scoped>\n",
       "    .dataframe tbody tr th:only-of-type {\n",
       "        vertical-align: middle;\n",
       "    }\n",
       "\n",
       "    .dataframe tbody tr th {\n",
       "        vertical-align: top;\n",
       "    }\n",
       "\n",
       "    .dataframe thead th {\n",
       "        text-align: right;\n",
       "    }\n",
       "</style>\n",
       "<table border=\"1\" class=\"dataframe\">\n",
       "  <thead>\n",
       "    <tr style=\"text-align: right;\">\n",
       "      <th></th>\n",
       "      <th>MID</th>\n",
       "      <th>CID</th>\n",
       "      <th>ID</th>\n",
       "    </tr>\n",
       "  </thead>\n",
       "  <tbody>\n",
       "    <tr>\n",
       "      <th>count</th>\n",
       "      <td>3473</td>\n",
       "      <td>3468.000000</td>\n",
       "      <td>3473.000000</td>\n",
       "    </tr>\n",
       "    <tr>\n",
       "      <th>unique</th>\n",
       "      <td>3473</td>\n",
       "      <td>NaN</td>\n",
       "      <td>NaN</td>\n",
       "    </tr>\n",
       "    <tr>\n",
       "      <th>top</th>\n",
       "      <td>tt2388771</td>\n",
       "      <td>NaN</td>\n",
       "      <td>NaN</td>\n",
       "    </tr>\n",
       "    <tr>\n",
       "      <th>freq</th>\n",
       "      <td>1</td>\n",
       "      <td>NaN</td>\n",
       "      <td>NaN</td>\n",
       "    </tr>\n",
       "    <tr>\n",
       "      <th>mean</th>\n",
       "      <td>NaN</td>\n",
       "      <td>2.170127</td>\n",
       "      <td>1736.105096</td>\n",
       "    </tr>\n",
       "    <tr>\n",
       "      <th>std</th>\n",
       "      <td>NaN</td>\n",
       "      <td>1.927562</td>\n",
       "      <td>1002.877540</td>\n",
       "    </tr>\n",
       "    <tr>\n",
       "      <th>min</th>\n",
       "      <td>NaN</td>\n",
       "      <td>0.000000</td>\n",
       "      <td>0.000000</td>\n",
       "    </tr>\n",
       "    <tr>\n",
       "      <th>25%</th>\n",
       "      <td>NaN</td>\n",
       "      <td>2.000000</td>\n",
       "      <td>868.000000</td>\n",
       "    </tr>\n",
       "    <tr>\n",
       "      <th>50%</th>\n",
       "      <td>NaN</td>\n",
       "      <td>2.000000</td>\n",
       "      <td>1736.000000</td>\n",
       "    </tr>\n",
       "    <tr>\n",
       "      <th>75%</th>\n",
       "      <td>NaN</td>\n",
       "      <td>2.000000</td>\n",
       "      <td>2604.000000</td>\n",
       "    </tr>\n",
       "    <tr>\n",
       "      <th>max</th>\n",
       "      <td>NaN</td>\n",
       "      <td>33.000000</td>\n",
       "      <td>3474.000000</td>\n",
       "    </tr>\n",
       "  </tbody>\n",
       "</table>\n",
       "</div>"
      ],
      "text/plain": [
       "              MID          CID           ID\n",
       "count        3473  3468.000000  3473.000000\n",
       "unique       3473          NaN          NaN\n",
       "top     tt2388771          NaN          NaN\n",
       "freq            1          NaN          NaN\n",
       "mean          NaN     2.170127  1736.105096\n",
       "std           NaN     1.927562  1002.877540\n",
       "min           NaN     0.000000     0.000000\n",
       "25%           NaN     2.000000   868.000000\n",
       "50%           NaN     2.000000  1736.000000\n",
       "75%           NaN     2.000000  2604.000000\n",
       "max           NaN    33.000000  3474.000000"
      ]
     },
     "execution_count": 201,
     "metadata": {},
     "output_type": "execute_result"
    }
   ],
   "source": [
    "# Statistical analysis using describe\n",
    "imdb_M_country.describe(include='all')"
   ]
  },
  {
   "cell_type": "code",
   "execution_count": 202,
   "id": "e8d0a493",
   "metadata": {},
   "outputs": [
    {
     "data": {
      "text/plain": [
       "MID    3473\n",
       "CID      33\n",
       "ID     3473\n",
       "dtype: int64"
      ]
     },
     "execution_count": 202,
     "metadata": {},
     "output_type": "execute_result"
    }
   ],
   "source": [
    "# Number of unique values in each column\n",
    "imdb_M_country.nunique()"
   ]
  },
  {
   "cell_type": "code",
   "execution_count": 203,
   "id": "d13f5512",
   "metadata": {},
   "outputs": [
    {
     "data": {
      "text/plain": [
       "array(['tt2388771', 'tt5164214', 'tt1365519', ..., 'tt0852989',\n",
       "       'tt0375882', 'tt0375890'], dtype=object)"
      ]
     },
     "execution_count": 203,
     "metadata": {},
     "output_type": "execute_result"
    }
   ],
   "source": [
    "# Unique values in the 'MID' column\n",
    "imdb_M_country['MID'].unique()"
   ]
  },
  {
   "cell_type": "code",
   "execution_count": 204,
   "id": "8507730a",
   "metadata": {},
   "outputs": [
    {
     "data": {
      "text/plain": [
       "array([ 0.,  1.,  2.,  3.,  4.,  5.,  6.,  7.,  8.,  9., 10., 11., 12.,\n",
       "       13., 14., 15., 16., 17., 18., 19., 20., 21., 22., nan, 23., 24.,\n",
       "       25., 26., 27., 28., 29., 31., 32., 33.])"
      ]
     },
     "execution_count": 204,
     "metadata": {},
     "output_type": "execute_result"
    }
   ],
   "source": [
    "# Unique values in the 'CID' column\n",
    "imdb_M_country['CID'].unique()"
   ]
  },
  {
   "cell_type": "code",
   "execution_count": 205,
   "id": "2ea0690f",
   "metadata": {},
   "outputs": [
    {
     "data": {
      "text/plain": [
       "array([   0,    1,    2, ..., 3472, 3473, 3474], dtype=int64)"
      ]
     },
     "execution_count": 205,
     "metadata": {},
     "output_type": "execute_result"
    }
   ],
   "source": [
    "# Unique values in the 'ID' column\n",
    "imdb_M_country['ID'].unique()"
   ]
  },
  {
   "cell_type": "code",
   "execution_count": 206,
   "id": "001dee2e",
   "metadata": {},
   "outputs": [
    {
     "data": {
      "text/plain": [
       "tt2388771    1\n",
       "tt0286907    1\n",
       "tt0070097    1\n",
       "tt0264415    1\n",
       "tt0140784    1\n",
       "            ..\n",
       "tt1372266    1\n",
       "tt0110140    1\n",
       "tt3422462    1\n",
       "tt0345177    1\n",
       "tt0375890    1\n",
       "Name: MID, Length: 3473, dtype: int64"
      ]
     },
     "execution_count": 206,
     "metadata": {},
     "output_type": "execute_result"
    }
   ],
   "source": [
    "# Value count of the 'MID' column\n",
    "imdb_M_country['MID'].value_counts()"
   ]
  },
  {
   "cell_type": "code",
   "execution_count": 207,
   "id": "2528cde1",
   "metadata": {},
   "outputs": [
    {
     "data": {
      "text/plain": [
       "2.0     3295\n",
       "1.0       65\n",
       "0.0       41\n",
       "6.0       16\n",
       "16.0       6\n",
       "3.0        4\n",
       "5.0        3\n",
       "13.0       3\n",
       "4.0        3\n",
       "9.0        3\n",
       "15.0       3\n",
       "21.0       2\n",
       "27.0       2\n",
       "14.0       2\n",
       "10.0       2\n",
       "23.0       1\n",
       "28.0       1\n",
       "29.0       1\n",
       "26.0       1\n",
       "31.0       1\n",
       "25.0       1\n",
       "32.0       1\n",
       "24.0       1\n",
       "19.0       1\n",
       "22.0       1\n",
       "20.0       1\n",
       "18.0       1\n",
       "17.0       1\n",
       "12.0       1\n",
       "11.0       1\n",
       "8.0        1\n",
       "7.0        1\n",
       "33.0       1\n",
       "Name: CID, dtype: int64"
      ]
     },
     "execution_count": 207,
     "metadata": {},
     "output_type": "execute_result"
    }
   ],
   "source": [
    "# Value count of the 'CID' column\n",
    "imdb_M_country['CID'].value_counts()"
   ]
  },
  {
   "cell_type": "code",
   "execution_count": 208,
   "id": "0ea2e8db",
   "metadata": {},
   "outputs": [
    {
     "data": {
      "text/plain": [
       "0       1\n",
       "2320    1\n",
       "2309    1\n",
       "2310    1\n",
       "2311    1\n",
       "       ..\n",
       "1161    1\n",
       "1162    1\n",
       "1163    1\n",
       "1164    1\n",
       "3474    1\n",
       "Name: ID, Length: 3473, dtype: int64"
      ]
     },
     "execution_count": 208,
     "metadata": {},
     "output_type": "execute_result"
    }
   ],
   "source": [
    "# Value count of the 'ID' column\n",
    "imdb_M_country['ID'].value_counts()"
   ]
  },
  {
   "cell_type": "code",
   "execution_count": 209,
   "id": "2e030d91",
   "metadata": {},
   "outputs": [
    {
     "data": {
      "image/png": "[encoded data removed]",
      "text/plain": [
       "<Figure size 432x288 with 1 Axes>"
      ]
     },
     "metadata": {
      "needs_background": "light"
     },
     "output_type": "display_data"
    }
   ],
   "source": [
    "# boxplot of 'CID' column from imdb_M_country\n",
    "sns.boxplot(data=imdb_M_country, x='CID')\n",
    "plt.show()"
   ]
  },
  {
   "cell_type": "markdown",
   "id": "d5bbdb16",
   "metadata": {},
   "source": [
    "- Outliers are present in the column 'CID'\n",
    "- But we might need all 'CID' columns values so outliers are not removed in the dataset"
   ]
  },
  {
   "cell_type": "code",
   "execution_count": 210,
   "id": "ac3bb0ad",
   "metadata": {},
   "outputs": [
    {
     "data": {
      "image/png": "[encoded data removed]",
      "text/plain": [
       "<Figure size 432x288 with 1 Axes>"
      ]
     },
     "metadata": {
      "needs_background": "light"
     },
     "output_type": "display_data"
    }
   ],
   "source": [
    "# boxplot of 'ID' column from imdb_M_country\n",
    "sns.boxplot(data=imdb_M_country, x='ID')\n",
    "plt.show()"
   ]
  },
  {
   "cell_type": "markdown",
   "id": "4ecf498e",
   "metadata": {},
   "source": [
    "No outliers are present in the 'ID' column "
   ]
  },
  {
   "cell_type": "code",
   "execution_count": 211,
   "id": "fb2e241c",
   "metadata": {},
   "outputs": [
    {
     "data": {
      "text/plain": [
       "MID    0\n",
       "CID    5\n",
       "ID     0\n",
       "dtype: int64"
      ]
     },
     "execution_count": 211,
     "metadata": {},
     "output_type": "execute_result"
    }
   ],
   "source": [
    "# Checking for null values in imdb_M_country\n",
    "imdb_M_country.isna().sum()"
   ]
  },
  {
   "cell_type": "markdown",
   "id": "59328bc8",
   "metadata": {},
   "source": [
    "Null values are present in the 'CID' column"
   ]
  },
  {
   "cell_type": "code",
   "execution_count": 212,
   "id": "e459eecb",
   "metadata": {},
   "outputs": [
    {
     "data": {
      "text/plain": [
       "MID    0\n",
       "CID    0\n",
       "ID     0\n",
       "dtype: int64"
      ]
     },
     "execution_count": 212,
     "metadata": {},
     "output_type": "execute_result"
    }
   ],
   "source": [
    "# Treating null values in 'CID' column from imdb_M_country\n",
    "imdb_M_country['CID'] = imdb_M_country['CID'].fillna('Unknown')\n",
    "\n",
    "# Again checking for null values in imdb_M_country\n",
    "imdb_M_country.isna().sum()"
   ]
  },
  {
   "cell_type": "code",
   "execution_count": 213,
   "id": "60aa617d",
   "metadata": {},
   "outputs": [
    {
     "data": {
      "text/html": [
       "<div>\n",
       "<style scoped>\n",
       "    .dataframe tbody tr th:only-of-type {\n",
       "        vertical-align: middle;\n",
       "    }\n",
       "\n",
       "    .dataframe tbody tr th {\n",
       "        vertical-align: top;\n",
       "    }\n",
       "\n",
       "    .dataframe thead th {\n",
       "        text-align: right;\n",
       "    }\n",
       "</style>\n",
       "<table border=\"1\" class=\"dataframe\">\n",
       "  <thead>\n",
       "    <tr style=\"text-align: right;\">\n",
       "      <th></th>\n",
       "      <th>MID</th>\n",
       "      <th>CID</th>\n",
       "      <th>ID</th>\n",
       "    </tr>\n",
       "  </thead>\n",
       "  <tbody>\n",
       "  </tbody>\n",
       "</table>\n",
       "</div>"
      ],
      "text/plain": [
       "Empty DataFrame\n",
       "Columns: [MID, CID, ID]\n",
       "Index: []"
      ]
     },
     "execution_count": 213,
     "metadata": {},
     "output_type": "execute_result"
    }
   ],
   "source": [
    "# Checking for duplicate rows in imdb_M_country\n",
    "imdb_M_country[imdb_M_country.duplicated()]"
   ]
  },
  {
   "cell_type": "markdown",
   "id": "9c644079",
   "metadata": {},
   "source": [
    "No duplicate rows found in imdb_M_country"
   ]
  },
  {
   "cell_type": "markdown",
   "id": "6165c9c5",
   "metadata": {},
   "source": [
    "### M_Location"
   ]
  },
  {
   "cell_type": "code",
   "execution_count": 214,
   "id": "333c130e",
   "metadata": {},
   "outputs": [
    {
     "data": {
      "text/html": [
       "<div>\n",
       "<style scoped>\n",
       "    .dataframe tbody tr th:only-of-type {\n",
       "        vertical-align: middle;\n",
       "    }\n",
       "\n",
       "    .dataframe tbody tr th {\n",
       "        vertical-align: top;\n",
       "    }\n",
       "\n",
       "    .dataframe thead th {\n",
       "        text-align: right;\n",
       "    }\n",
       "</style>\n",
       "<table border=\"1\" class=\"dataframe\">\n",
       "  <thead>\n",
       "    <tr style=\"text-align: right;\">\n",
       "      <th></th>\n",
       "      <th>index</th>\n",
       "      <th>MID</th>\n",
       "      <th>LID</th>\n",
       "      <th>ID</th>\n",
       "    </tr>\n",
       "  </thead>\n",
       "  <tbody>\n",
       "    <tr>\n",
       "      <th>0</th>\n",
       "      <td>0</td>\n",
       "      <td>tt2388771</td>\n",
       "      <td>0.0</td>\n",
       "      <td>0</td>\n",
       "    </tr>\n",
       "    <tr>\n",
       "      <th>1</th>\n",
       "      <td>1</td>\n",
       "      <td>tt5164214</td>\n",
       "      <td>1.0</td>\n",
       "      <td>1</td>\n",
       "    </tr>\n",
       "    <tr>\n",
       "      <th>2</th>\n",
       "      <td>2</td>\n",
       "      <td>tt1365519</td>\n",
       "      <td>2.0</td>\n",
       "      <td>2</td>\n",
       "    </tr>\n",
       "    <tr>\n",
       "      <th>3</th>\n",
       "      <td>3</td>\n",
       "      <td>tt0848228</td>\n",
       "      <td>3.0</td>\n",
       "      <td>3</td>\n",
       "    </tr>\n",
       "    <tr>\n",
       "      <th>4</th>\n",
       "      <td>4</td>\n",
       "      <td>tt8239946</td>\n",
       "      <td>NaN</td>\n",
       "      <td>4</td>\n",
       "    </tr>\n",
       "  </tbody>\n",
       "</table>\n",
       "</div>"
      ],
      "text/plain": [
       "   index        MID  LID  ID\n",
       "0      0  tt2388771  0.0   0\n",
       "1      1  tt5164214  1.0   1\n",
       "2      2  tt1365519  2.0   2\n",
       "3      3  tt0848228  3.0   3\n",
       "4      4  tt8239946  NaN   4"
      ]
     },
     "execution_count": 214,
     "metadata": {},
     "output_type": "execute_result"
    }
   ],
   "source": [
    "sql_query_M_location = \"\"\"SELECT * FROM M_Location\"\"\"\n",
    "imdb_M_location = pd.read_sql_query(sql_query_M_location, conne)\n",
    "\n",
    "# First few rows of imdb_M_location\n",
    "imdb_M_location.head()"
   ]
  },
  {
   "cell_type": "code",
   "execution_count": 215,
   "id": "52d371ad",
   "metadata": {},
   "outputs": [],
   "source": [
    "# Dropping 'index' column from\n",
    "imdb_M_location.drop('index', axis=1, inplace=True)"
   ]
  },
  {
   "cell_type": "code",
   "execution_count": 216,
   "id": "ad34bc5d",
   "metadata": {},
   "outputs": [
    {
     "data": {
      "text/html": [
       "<div>\n",
       "<style scoped>\n",
       "    .dataframe tbody tr th:only-of-type {\n",
       "        vertical-align: middle;\n",
       "    }\n",
       "\n",
       "    .dataframe tbody tr th {\n",
       "        vertical-align: top;\n",
       "    }\n",
       "\n",
       "    .dataframe thead th {\n",
       "        text-align: right;\n",
       "    }\n",
       "</style>\n",
       "<table border=\"1\" class=\"dataframe\">\n",
       "  <thead>\n",
       "    <tr style=\"text-align: right;\">\n",
       "      <th></th>\n",
       "      <th>MID</th>\n",
       "      <th>LID</th>\n",
       "      <th>ID</th>\n",
       "    </tr>\n",
       "  </thead>\n",
       "  <tbody>\n",
       "    <tr>\n",
       "      <th>3468</th>\n",
       "      <td>tt0090611</td>\n",
       "      <td>219.0</td>\n",
       "      <td>3470</td>\n",
       "    </tr>\n",
       "    <tr>\n",
       "      <th>3469</th>\n",
       "      <td>tt0106270</td>\n",
       "      <td>NaN</td>\n",
       "      <td>3471</td>\n",
       "    </tr>\n",
       "    <tr>\n",
       "      <th>3470</th>\n",
       "      <td>tt0852989</td>\n",
       "      <td>164.0</td>\n",
       "      <td>3472</td>\n",
       "    </tr>\n",
       "    <tr>\n",
       "      <th>3471</th>\n",
       "      <td>tt0375882</td>\n",
       "      <td>NaN</td>\n",
       "      <td>3473</td>\n",
       "    </tr>\n",
       "    <tr>\n",
       "      <th>3472</th>\n",
       "      <td>tt0375890</td>\n",
       "      <td>7.0</td>\n",
       "      <td>3474</td>\n",
       "    </tr>\n",
       "  </tbody>\n",
       "</table>\n",
       "</div>"
      ],
      "text/plain": [
       "            MID    LID    ID\n",
       "3468  tt0090611  219.0  3470\n",
       "3469  tt0106270    NaN  3471\n",
       "3470  tt0852989  164.0  3472\n",
       "3471  tt0375882    NaN  3473\n",
       "3472  tt0375890    7.0  3474"
      ]
     },
     "execution_count": 216,
     "metadata": {},
     "output_type": "execute_result"
    }
   ],
   "source": [
    "# Last few rows of imdb_M_location\n",
    "imdb_M_location.tail()"
   ]
  },
  {
   "cell_type": "code",
   "execution_count": 217,
   "id": "8f1efa60",
   "metadata": {},
   "outputs": [
    {
     "name": "stdout",
     "output_type": "stream",
     "text": [
      "imdb_M_location shape: (3473, 3)\n",
      "imdb_M_location size: 10419\n",
      "imdb_M_location columns: Index(['MID', 'LID', 'ID'], dtype='object')\n",
      "imdb_M_location dimensions: 2\n",
      "imdb_M_location index: RangeIndex(start=0, stop=3473, step=1)\n"
     ]
    }
   ],
   "source": [
    "print(\"imdb_M_location shape:\", imdb_M_location.shape)\n",
    "print(\"imdb_M_location size:\", imdb_M_location.size)\n",
    "print(\"imdb_M_location columns:\", imdb_M_location.columns)\n",
    "print(\"imdb_M_location dimensions:\", imdb_M_location.ndim)\n",
    "print(\"imdb_M_location index:\", imdb_M_location.index)"
   ]
  },
  {
   "cell_type": "code",
   "execution_count": 218,
   "id": "ae0d0e45",
   "metadata": {},
   "outputs": [
    {
     "name": "stdout",
     "output_type": "stream",
     "text": [
      "<class 'pandas.core.frame.DataFrame'>\n",
      "RangeIndex: 3473 entries, 0 to 3472\n",
      "Data columns (total 3 columns):\n",
      " #   Column  Non-Null Count  Dtype  \n",
      "---  ------  --------------  -----  \n",
      " 0   MID     3473 non-null   object \n",
      " 1   LID     1849 non-null   float64\n",
      " 2   ID      3473 non-null   int64  \n",
      "dtypes: float64(1), int64(1), object(1)\n",
      "memory usage: 81.5+ KB\n"
     ]
    }
   ],
   "source": [
    "# Info of imdb_M_location\n",
    "imdb_M_location.info()"
   ]
  },
  {
   "cell_type": "code",
   "execution_count": 219,
   "id": "c5db927b",
   "metadata": {},
   "outputs": [
    {
     "data": {
      "text/html": [
       "<div>\n",
       "<style scoped>\n",
       "    .dataframe tbody tr th:only-of-type {\n",
       "        vertical-align: middle;\n",
       "    }\n",
       "\n",
       "    .dataframe tbody tr th {\n",
       "        vertical-align: top;\n",
       "    }\n",
       "\n",
       "    .dataframe thead th {\n",
       "        text-align: right;\n",
       "    }\n",
       "</style>\n",
       "<table border=\"1\" class=\"dataframe\">\n",
       "  <thead>\n",
       "    <tr style=\"text-align: right;\">\n",
       "      <th></th>\n",
       "      <th>MID</th>\n",
       "      <th>LID</th>\n",
       "      <th>ID</th>\n",
       "    </tr>\n",
       "  </thead>\n",
       "  <tbody>\n",
       "    <tr>\n",
       "      <th>count</th>\n",
       "      <td>3473</td>\n",
       "      <td>1849.000000</td>\n",
       "      <td>3473.000000</td>\n",
       "    </tr>\n",
       "    <tr>\n",
       "      <th>unique</th>\n",
       "      <td>3473</td>\n",
       "      <td>NaN</td>\n",
       "      <td>NaN</td>\n",
       "    </tr>\n",
       "    <tr>\n",
       "      <th>top</th>\n",
       "      <td>tt2388771</td>\n",
       "      <td>NaN</td>\n",
       "      <td>NaN</td>\n",
       "    </tr>\n",
       "    <tr>\n",
       "      <th>freq</th>\n",
       "      <td>1</td>\n",
       "      <td>NaN</td>\n",
       "      <td>NaN</td>\n",
       "    </tr>\n",
       "    <tr>\n",
       "      <th>mean</th>\n",
       "      <td>NaN</td>\n",
       "      <td>166.055706</td>\n",
       "      <td>1736.105096</td>\n",
       "    </tr>\n",
       "    <tr>\n",
       "      <th>std</th>\n",
       "      <td>NaN</td>\n",
       "      <td>150.188459</td>\n",
       "      <td>1002.877540</td>\n",
       "    </tr>\n",
       "    <tr>\n",
       "      <th>min</th>\n",
       "      <td>NaN</td>\n",
       "      <td>0.000000</td>\n",
       "      <td>0.000000</td>\n",
       "    </tr>\n",
       "    <tr>\n",
       "      <th>25%</th>\n",
       "      <td>NaN</td>\n",
       "      <td>35.000000</td>\n",
       "      <td>868.000000</td>\n",
       "    </tr>\n",
       "    <tr>\n",
       "      <th>50%</th>\n",
       "      <td>NaN</td>\n",
       "      <td>124.000000</td>\n",
       "      <td>1736.000000</td>\n",
       "    </tr>\n",
       "    <tr>\n",
       "      <th>75%</th>\n",
       "      <td>NaN</td>\n",
       "      <td>259.000000</td>\n",
       "      <td>2604.000000</td>\n",
       "    </tr>\n",
       "    <tr>\n",
       "      <th>max</th>\n",
       "      <td>NaN</td>\n",
       "      <td>558.000000</td>\n",
       "      <td>3474.000000</td>\n",
       "    </tr>\n",
       "  </tbody>\n",
       "</table>\n",
       "</div>"
      ],
      "text/plain": [
       "              MID          LID           ID\n",
       "count        3473  1849.000000  3473.000000\n",
       "unique       3473          NaN          NaN\n",
       "top     tt2388771          NaN          NaN\n",
       "freq            1          NaN          NaN\n",
       "mean          NaN   166.055706  1736.105096\n",
       "std           NaN   150.188459  1002.877540\n",
       "min           NaN     0.000000     0.000000\n",
       "25%           NaN    35.000000   868.000000\n",
       "50%           NaN   124.000000  1736.000000\n",
       "75%           NaN   259.000000  2604.000000\n",
       "max           NaN   558.000000  3474.000000"
      ]
     },
     "execution_count": 219,
     "metadata": {},
     "output_type": "execute_result"
    }
   ],
   "source": [
    "# Statistical analysis using describe\n",
    "imdb_M_location.describe(include='all')"
   ]
  },
  {
   "cell_type": "code",
   "execution_count": 220,
   "id": "294e9751",
   "metadata": {},
   "outputs": [
    {
     "data": {
      "text/plain": [
       "MID    3473\n",
       "LID     559\n",
       "ID     3473\n",
       "dtype: int64"
      ]
     },
     "execution_count": 220,
     "metadata": {},
     "output_type": "execute_result"
    }
   ],
   "source": [
    "# Number of unique values in each column\n",
    "imdb_M_location.nunique()"
   ]
  },
  {
   "cell_type": "code",
   "execution_count": 221,
   "id": "f94f0373",
   "metadata": {},
   "outputs": [
    {
     "data": {
      "text/plain": [
       "array(['tt2388771', 'tt5164214', 'tt1365519', ..., 'tt0852989',\n",
       "       'tt0375882', 'tt0375890'], dtype=object)"
      ]
     },
     "execution_count": 221,
     "metadata": {},
     "output_type": "execute_result"
    }
   ],
   "source": [
    "# Unique values in the 'MID' column\n",
    "imdb_M_location['MID'].unique()"
   ]
  },
  {
   "cell_type": "code",
   "execution_count": 222,
   "id": "daa4b720",
   "metadata": {},
   "outputs": [
    {
     "data": {
      "text/plain": [
       "array([  0.,   1.,   2.,   3.,  nan,   4.,   5.,   6.,   7.,   8.,   9.,\n",
       "        10.,  11.,  12.,  13.,  14.,  15.,  16.,  17.,  18.,  19.,  20.,\n",
       "        21.,  22.,  23.,  24.,  25.,  26.,  27.,  28.,  29.,  30.,  31.,\n",
       "        32.,  33.,  34.,  35.,  36.,  37.,  38.,  39.,  40.,  41.,  42.,\n",
       "        43.,  44.,  45.,  46.,  47.,  48.,  49.,  50.,  51.,  52.,  53.,\n",
       "        54.,  55.,  56.,  57.,  58.,  59.,  60.,  61.,  62.,  63.,  64.,\n",
       "        65.,  66.,  67.,  68.,  69.,  70.,  71.,  72.,  73.,  74.,  75.,\n",
       "        76.,  77.,  78.,  79.,  80.,  81.,  82.,  83.,  84.,  85.,  86.,\n",
       "        87.,  88.,  89.,  90.,  91.,  92.,  93.,  94.,  95.,  96.,  97.,\n",
       "        98.,  99., 100., 101., 102., 103., 104., 105., 106., 107., 108.,\n",
       "       109., 110., 111., 112., 113., 114., 115., 116., 117., 118., 119.,\n",
       "       120., 121., 122., 123., 124., 125., 126., 127., 128., 129., 130.,\n",
       "       131., 132., 133., 134., 135., 136., 137., 138., 139., 140., 141.,\n",
       "       142., 143., 144., 145., 146., 147., 148., 149., 150., 151., 152.,\n",
       "       153., 154., 155., 156., 157., 158., 159., 160., 161., 162., 163.,\n",
       "       164., 165., 166., 167., 168., 169., 170., 171., 172., 173., 174.,\n",
       "       175., 176., 177., 178., 179., 180., 181., 182., 183., 184., 185.,\n",
       "       186., 187., 188., 189., 190., 191., 192., 193., 194., 195., 196.,\n",
       "       197., 198., 199., 200., 201., 202., 203., 204., 205., 206., 207.,\n",
       "       208., 209., 210., 211., 212., 213., 214., 215., 216., 217., 218.,\n",
       "       219., 220., 221., 222., 223., 224., 225., 226., 227., 228., 229.,\n",
       "       230., 231., 232., 233., 234., 235., 236., 237., 238., 239., 240.,\n",
       "       241., 242., 243., 244., 245., 246., 247., 248., 249., 250., 251.,\n",
       "       252., 253., 254., 255., 256., 257., 258., 259., 260., 261., 262.,\n",
       "       263., 264., 265., 266., 267., 268., 269., 270., 271., 272., 273.,\n",
       "       274., 275., 276., 277., 278., 279., 280., 281., 282., 283., 284.,\n",
       "       285., 286., 287., 288., 289., 290., 291., 292., 293., 294., 295.,\n",
       "       296., 297., 298., 299., 300., 301., 302., 303., 304., 305., 306.,\n",
       "       307., 308., 309., 310., 311., 312., 313., 314., 315., 316., 317.,\n",
       "       318., 319., 320., 321., 322., 323., 324., 325., 326., 327., 328.,\n",
       "       329., 330., 331., 332., 333., 334., 335., 336., 337., 338., 339.,\n",
       "       340., 341., 342., 343., 344., 345., 346., 347., 348., 349., 350.,\n",
       "       351., 352., 353., 354., 355., 356., 357., 358., 359., 360., 361.,\n",
       "       362., 363., 364., 365., 366., 367., 368., 369., 370., 371., 372.,\n",
       "       373., 374., 375., 376., 377., 378., 379., 380., 381., 382., 383.,\n",
       "       384., 385., 386., 387., 388., 389., 390., 391., 392., 393., 394.,\n",
       "       395., 396., 397., 398., 399., 400., 401., 402., 403., 404., 405.,\n",
       "       406., 407., 408., 409., 410., 411., 412., 413., 414., 415., 416.,\n",
       "       417., 418., 419., 420., 421., 422., 423., 424., 425., 426., 427.,\n",
       "       428., 429., 430., 431., 432., 433., 434., 435., 436., 437., 438.,\n",
       "       439., 440., 441., 442., 443., 444., 445., 446., 447., 448., 449.,\n",
       "       450., 451., 452., 453., 454., 455., 456., 457., 458., 459., 460.,\n",
       "       461., 462., 463., 464., 465., 466., 467., 468., 469., 470., 471.,\n",
       "       472., 473., 474., 475., 476., 477., 478., 479., 480., 481., 482.,\n",
       "       483., 484., 485., 486., 487., 488., 489., 490., 491., 492., 493.,\n",
       "       494., 495., 496., 497., 498., 499., 500., 501., 502., 503., 504.,\n",
       "       505., 506., 507., 508., 509., 510., 511., 512., 513., 514., 515.,\n",
       "       516., 517., 518., 519., 520., 521., 522., 523., 524., 525., 526.,\n",
       "       527., 528., 529., 530., 531., 532., 533., 534., 535., 536., 537.,\n",
       "       538., 539., 540., 541., 542., 543., 544., 545., 546., 547., 548.,\n",
       "       549., 550., 551., 552., 553., 554., 555., 556., 557., 558.])"
      ]
     },
     "execution_count": 222,
     "metadata": {},
     "output_type": "execute_result"
    }
   ],
   "source": [
    "# Unique values in the 'LID' column\n",
    "imdb_M_location['LID'].unique()"
   ]
  },
  {
   "cell_type": "code",
   "execution_count": 223,
   "id": "254f54e5",
   "metadata": {},
   "outputs": [
    {
     "data": {
      "text/plain": [
       "array([   0,    1,    2, ..., 3472, 3473, 3474], dtype=int64)"
      ]
     },
     "execution_count": 223,
     "metadata": {},
     "output_type": "execute_result"
    }
   ],
   "source": [
    "# Unique values in the 'ID' column\n",
    "imdb_M_location['ID'].unique()"
   ]
  },
  {
   "cell_type": "code",
   "execution_count": 224,
   "id": "8822d6ff",
   "metadata": {},
   "outputs": [
    {
     "data": {
      "text/plain": [
       "tt2388771    1\n",
       "tt0286907    1\n",
       "tt0070097    1\n",
       "tt0264415    1\n",
       "tt0140784    1\n",
       "            ..\n",
       "tt1372266    1\n",
       "tt0110140    1\n",
       "tt3422462    1\n",
       "tt0345177    1\n",
       "tt0375890    1\n",
       "Name: MID, Length: 3473, dtype: int64"
      ]
     },
     "execution_count": 224,
     "metadata": {},
     "output_type": "execute_result"
    }
   ],
   "source": [
    "# Value count of the 'MID' column\n",
    "imdb_M_location['MID'].value_counts()"
   ]
  },
  {
   "cell_type": "code",
   "execution_count": 225,
   "id": "13973234",
   "metadata": {},
   "outputs": [
    {
     "data": {
      "text/plain": [
       "7.0      262\n",
       "44.0     137\n",
       "34.0      99\n",
       "219.0     48\n",
       "212.0     39\n",
       "        ... \n",
       "232.0      1\n",
       "231.0      1\n",
       "230.0      1\n",
       "229.0      1\n",
       "558.0      1\n",
       "Name: LID, Length: 559, dtype: int64"
      ]
     },
     "execution_count": 225,
     "metadata": {},
     "output_type": "execute_result"
    }
   ],
   "source": [
    "# Value count of the 'LID' column\n",
    "imdb_M_location['LID'].value_counts()"
   ]
  },
  {
   "cell_type": "code",
   "execution_count": 226,
   "id": "aeb7d11d",
   "metadata": {},
   "outputs": [
    {
     "data": {
      "text/plain": [
       "0       1\n",
       "2320    1\n",
       "2309    1\n",
       "2310    1\n",
       "2311    1\n",
       "       ..\n",
       "1161    1\n",
       "1162    1\n",
       "1163    1\n",
       "1164    1\n",
       "3474    1\n",
       "Name: ID, Length: 3473, dtype: int64"
      ]
     },
     "execution_count": 226,
     "metadata": {},
     "output_type": "execute_result"
    }
   ],
   "source": [
    "# Value count of the 'MID' column\n",
    "imdb_M_location['ID'].value_counts()"
   ]
  },
  {
   "cell_type": "code",
   "execution_count": 227,
   "id": "f586cc40",
   "metadata": {},
   "outputs": [
    {
     "data": {
      "image/png": "[encoded data removed]",
      "text/plain": [
       "<Figure size 432x288 with 1 Axes>"
      ]
     },
     "metadata": {
      "needs_background": "light"
     },
     "output_type": "display_data"
    }
   ],
   "source": [
    "# boxplot of 'LID' column from imdb_M_location\n",
    "sns.boxplot(data=imdb_M_location, x='LID')\n",
    "plt.show()"
   ]
  },
  {
   "cell_type": "markdown",
   "id": "5d3d5888",
   "metadata": {},
   "source": [
    "No outliers are present in the 'LID' column "
   ]
  },
  {
   "cell_type": "code",
   "execution_count": 228,
   "id": "54b6daa6",
   "metadata": {},
   "outputs": [
    {
     "data": {
      "image/png": "[encoded data removed]",
      "text/plain": [
       "<Figure size 432x288 with 1 Axes>"
      ]
     },
     "metadata": {
      "needs_background": "light"
     },
     "output_type": "display_data"
    }
   ],
   "source": [
    "# boxplot of 'ID' column from imdb_M_location\n",
    "sns.boxplot(data=imdb_M_location, x='ID')\n",
    "plt.show()"
   ]
  },
  {
   "cell_type": "markdown",
   "id": "5f8ee970",
   "metadata": {},
   "source": [
    "No outliers are present in the 'ID' column "
   ]
  },
  {
   "cell_type": "code",
   "execution_count": 229,
   "id": "15b2e560",
   "metadata": {},
   "outputs": [
    {
     "data": {
      "text/plain": [
       "MID       0\n",
       "LID    1624\n",
       "ID        0\n",
       "dtype: int64"
      ]
     },
     "execution_count": 229,
     "metadata": {},
     "output_type": "execute_result"
    }
   ],
   "source": [
    "# Checking for null values in imdb_M_location\n",
    "imdb_M_location.isna().sum()"
   ]
  },
  {
   "cell_type": "markdown",
   "id": "2a079d1e",
   "metadata": {},
   "source": [
    "Null values are present in 'LID' column"
   ]
  },
  {
   "cell_type": "code",
   "execution_count": 230,
   "id": "29d79331",
   "metadata": {},
   "outputs": [
    {
     "data": {
      "text/plain": [
       "MID    0\n",
       "LID    0\n",
       "ID     0\n",
       "dtype: int64"
      ]
     },
     "execution_count": 230,
     "metadata": {},
     "output_type": "execute_result"
    }
   ],
   "source": [
    "# Treating null values in 'LID' column from imdb_M_location \n",
    "imdb_M_location['LID'] = imdb_M_location['LID'].fillna('Unknown')\n",
    "\n",
    "# Again checking for null values in imdb_M_location\n",
    "imdb_M_location.isna().sum()"
   ]
  },
  {
   "cell_type": "code",
   "execution_count": 231,
   "id": "8d9ae318",
   "metadata": {},
   "outputs": [
    {
     "data": {
      "text/html": [
       "<div>\n",
       "<style scoped>\n",
       "    .dataframe tbody tr th:only-of-type {\n",
       "        vertical-align: middle;\n",
       "    }\n",
       "\n",
       "    .dataframe tbody tr th {\n",
       "        vertical-align: top;\n",
       "    }\n",
       "\n",
       "    .dataframe thead th {\n",
       "        text-align: right;\n",
       "    }\n",
       "</style>\n",
       "<table border=\"1\" class=\"dataframe\">\n",
       "  <thead>\n",
       "    <tr style=\"text-align: right;\">\n",
       "      <th></th>\n",
       "      <th>MID</th>\n",
       "      <th>LID</th>\n",
       "      <th>ID</th>\n",
       "    </tr>\n",
       "  </thead>\n",
       "  <tbody>\n",
       "  </tbody>\n",
       "</table>\n",
       "</div>"
      ],
      "text/plain": [
       "Empty DataFrame\n",
       "Columns: [MID, LID, ID]\n",
       "Index: []"
      ]
     },
     "execution_count": 231,
     "metadata": {},
     "output_type": "execute_result"
    }
   ],
   "source": [
    "# Checking for duplicate rows in imdb_M_location\n",
    "imdb_M_location[imdb_M_location.duplicated()]"
   ]
  },
  {
   "cell_type": "markdown",
   "id": "9a3561f2",
   "metadata": {},
   "source": [
    "No duplicate rows found in imdb_M_location"
   ]
  },
  {
   "cell_type": "markdown",
   "id": "9d9926ab",
   "metadata": {},
   "source": [
    "## Analysis of Director"
   ]
  },
  {
   "cell_type": "code",
   "execution_count": 232,
   "id": "7f5d74f4",
   "metadata": {},
   "outputs": [
    {
     "data": {
      "text/html": [
       "<div>\n",
       "<style scoped>\n",
       "    .dataframe tbody tr th:only-of-type {\n",
       "        vertical-align: middle;\n",
       "    }\n",
       "\n",
       "    .dataframe tbody tr th {\n",
       "        vertical-align: top;\n",
       "    }\n",
       "\n",
       "    .dataframe thead th {\n",
       "        text-align: right;\n",
       "    }\n",
       "</style>\n",
       "<table border=\"1\" class=\"dataframe\">\n",
       "  <thead>\n",
       "    <tr style=\"text-align: right;\">\n",
       "      <th></th>\n",
       "      <th>MID</th>\n",
       "      <th>title</th>\n",
       "      <th>year</th>\n",
       "      <th>rating</th>\n",
       "      <th>num_votes</th>\n",
       "      <th>log_num_votes</th>\n",
       "      <th>n_year</th>\n",
       "      <th>bin_rating</th>\n",
       "      <th>PID</th>\n",
       "      <th>ID</th>\n",
       "    </tr>\n",
       "  </thead>\n",
       "  <tbody>\n",
       "    <tr>\n",
       "      <th>0</th>\n",
       "      <td>tt2388771</td>\n",
       "      <td>Mowgli</td>\n",
       "      <td>2018</td>\n",
       "      <td>6.6</td>\n",
       "      <td>21967</td>\n",
       "      <td>9.997297</td>\n",
       "      <td>2018</td>\n",
       "      <td>6-10 rating</td>\n",
       "      <td>nm0785227</td>\n",
       "      <td>0</td>\n",
       "    </tr>\n",
       "    <tr>\n",
       "      <th>1</th>\n",
       "      <td>tt5164214</td>\n",
       "      <td>Ocean's Eight</td>\n",
       "      <td>2018</td>\n",
       "      <td>6.2</td>\n",
       "      <td>110861</td>\n",
       "      <td>11.616032</td>\n",
       "      <td>2018</td>\n",
       "      <td>6-10 rating</td>\n",
       "      <td>nm0002657</td>\n",
       "      <td>1</td>\n",
       "    </tr>\n",
       "    <tr>\n",
       "      <th>2</th>\n",
       "      <td>tt1365519</td>\n",
       "      <td>Tomb Raider</td>\n",
       "      <td>2018</td>\n",
       "      <td>6.4</td>\n",
       "      <td>142585</td>\n",
       "      <td>11.867694</td>\n",
       "      <td>2018</td>\n",
       "      <td>6-10 rating</td>\n",
       "      <td>nm1012385</td>\n",
       "      <td>2</td>\n",
       "    </tr>\n",
       "    <tr>\n",
       "      <th>3</th>\n",
       "      <td>tt0848228</td>\n",
       "      <td>The Avengers</td>\n",
       "      <td>2012</td>\n",
       "      <td>8.1</td>\n",
       "      <td>1137529</td>\n",
       "      <td>13.944369</td>\n",
       "      <td>2012</td>\n",
       "      <td>6-10 rating</td>\n",
       "      <td>nm0923736</td>\n",
       "      <td>3</td>\n",
       "    </tr>\n",
       "    <tr>\n",
       "      <th>4</th>\n",
       "      <td>tt8239946</td>\n",
       "      <td>Tumbbad</td>\n",
       "      <td>2018</td>\n",
       "      <td>8.5</td>\n",
       "      <td>7483</td>\n",
       "      <td>8.920389</td>\n",
       "      <td>2018</td>\n",
       "      <td>6-10 rating</td>\n",
       "      <td>nm9751348</td>\n",
       "      <td>4</td>\n",
       "    </tr>\n",
       "  </tbody>\n",
       "</table>\n",
       "</div>"
      ],
      "text/plain": [
       "         MID          title  year  rating  num_votes  log_num_votes  n_year  \\\n",
       "0  tt2388771         Mowgli  2018     6.6      21967       9.997297    2018   \n",
       "1  tt5164214  Ocean's Eight  2018     6.2     110861      11.616032    2018   \n",
       "2  tt1365519    Tomb Raider  2018     6.4     142585      11.867694    2018   \n",
       "3  tt0848228   The Avengers  2012     8.1    1137529      13.944369    2012   \n",
       "4  tt8239946        Tumbbad  2018     8.5       7483       8.920389    2018   \n",
       "\n",
       "    bin_rating        PID  ID  \n",
       "0  6-10 rating  nm0785227   0  \n",
       "1  6-10 rating  nm0002657   1  \n",
       "2  6-10 rating  nm1012385   2  \n",
       "3  6-10 rating  nm0923736   3  \n",
       "4  6-10 rating  nm9751348   4  "
      ]
     },
     "execution_count": 232,
     "metadata": {},
     "output_type": "execute_result"
    }
   ],
   "source": [
    "# Merging imdb_movie and imdb_M_director on 'MID' column\n",
    "movie_m_director = imdb_movie.merge(imdb_M_director, on='MID')\n",
    "movie_m_director.head()"
   ]
  },
  {
   "cell_type": "markdown",
   "id": "6fbee947",
   "metadata": {},
   "source": [
    "Here 'ID' column has director's id"
   ]
  },
  {
   "cell_type": "code",
   "execution_count": 233,
   "id": "aac95854",
   "metadata": {},
   "outputs": [],
   "source": [
    "# Renaming 'ID' column to 'Director_ID' column\n",
    "movie_m_director.rename(columns={'ID':'Director_ID'}, inplace=True)"
   ]
  },
  {
   "cell_type": "code",
   "execution_count": 234,
   "id": "ee4f709c",
   "metadata": {},
   "outputs": [
    {
     "data": {
      "text/html": [
       "<div>\n",
       "<style scoped>\n",
       "    .dataframe tbody tr th:only-of-type {\n",
       "        vertical-align: middle;\n",
       "    }\n",
       "\n",
       "    .dataframe tbody tr th {\n",
       "        vertical-align: top;\n",
       "    }\n",
       "\n",
       "    .dataframe thead th {\n",
       "        text-align: right;\n",
       "    }\n",
       "</style>\n",
       "<table border=\"1\" class=\"dataframe\">\n",
       "  <thead>\n",
       "    <tr style=\"text-align: right;\">\n",
       "      <th></th>\n",
       "      <th>PID</th>\n",
       "      <th>Name</th>\n",
       "      <th>Gender</th>\n",
       "      <th>MID</th>\n",
       "      <th>title</th>\n",
       "      <th>year</th>\n",
       "      <th>rating</th>\n",
       "      <th>num_votes</th>\n",
       "      <th>log_num_votes</th>\n",
       "      <th>n_year</th>\n",
       "      <th>bin_rating</th>\n",
       "      <th>Director_ID</th>\n",
       "    </tr>\n",
       "  </thead>\n",
       "  <tbody>\n",
       "    <tr>\n",
       "      <th>0</th>\n",
       "      <td>nm0785227</td>\n",
       "      <td>Andy Serkis</td>\n",
       "      <td>Male</td>\n",
       "      <td>tt2388771</td>\n",
       "      <td>Mowgli</td>\n",
       "      <td>2018</td>\n",
       "      <td>6.6</td>\n",
       "      <td>21967</td>\n",
       "      <td>9.997297</td>\n",
       "      <td>2018</td>\n",
       "      <td>6-10 rating</td>\n",
       "      <td>0</td>\n",
       "    </tr>\n",
       "    <tr>\n",
       "      <th>1</th>\n",
       "      <td>nm0001162</td>\n",
       "      <td>Griffin Dunne</td>\n",
       "      <td>Male</td>\n",
       "      <td>tt0809504</td>\n",
       "      <td>The Accidental Husband</td>\n",
       "      <td>2008</td>\n",
       "      <td>5.6</td>\n",
       "      <td>21636</td>\n",
       "      <td>9.982114</td>\n",
       "      <td>2008</td>\n",
       "      <td>6-10 rating</td>\n",
       "      <td>76</td>\n",
       "    </tr>\n",
       "    <tr>\n",
       "      <th>2</th>\n",
       "      <td>nm0438501</td>\n",
       "      <td>Rishi Kapoor</td>\n",
       "      <td>Male</td>\n",
       "      <td>tt0149568</td>\n",
       "      <td>Aa Ab Laut Chalen</td>\n",
       "      <td>1999</td>\n",
       "      <td>5.5</td>\n",
       "      <td>1386</td>\n",
       "      <td>7.234177</td>\n",
       "      <td>1999</td>\n",
       "      <td>6-10 rating</td>\n",
       "      <td>2568</td>\n",
       "    </tr>\n",
       "    <tr>\n",
       "      <th>3</th>\n",
       "      <td>nm0795661</td>\n",
       "      <td>Saurabh Shukla</td>\n",
       "      <td>Male</td>\n",
       "      <td>tt1340778</td>\n",
       "      <td>I Am 24</td>\n",
       "      <td>2010</td>\n",
       "      <td>6.7</td>\n",
       "      <td>1130</td>\n",
       "      <td>7.029973</td>\n",
       "      <td>2010</td>\n",
       "      <td>6-10 rating</td>\n",
       "      <td>2294</td>\n",
       "    </tr>\n",
       "    <tr>\n",
       "      <th>4</th>\n",
       "      <td>nm0795661</td>\n",
       "      <td>Saurabh Shukla</td>\n",
       "      <td>Male</td>\n",
       "      <td>tt1772332</td>\n",
       "      <td>Pappu Can't Dance Saala</td>\n",
       "      <td>2010</td>\n",
       "      <td>6.5</td>\n",
       "      <td>384</td>\n",
       "      <td>5.950643</td>\n",
       "      <td>2010</td>\n",
       "      <td>6-10 rating</td>\n",
       "      <td>2404</td>\n",
       "    </tr>\n",
       "  </tbody>\n",
       "</table>\n",
       "</div>"
      ],
      "text/plain": [
       "         PID            Name Gender        MID                    title  year  \\\n",
       "0  nm0785227     Andy Serkis   Male  tt2388771                   Mowgli  2018   \n",
       "1  nm0001162   Griffin Dunne   Male  tt0809504   The Accidental Husband  2008   \n",
       "2  nm0438501    Rishi Kapoor   Male  tt0149568        Aa Ab Laut Chalen  1999   \n",
       "3  nm0795661  Saurabh Shukla   Male  tt1340778                  I Am 24  2010   \n",
       "4  nm0795661  Saurabh Shukla   Male  tt1772332  Pappu Can't Dance Saala  2010   \n",
       "\n",
       "   rating  num_votes  log_num_votes  n_year   bin_rating  Director_ID  \n",
       "0     6.6      21967       9.997297    2018  6-10 rating            0  \n",
       "1     5.6      21636       9.982114    2008  6-10 rating           76  \n",
       "2     5.5       1386       7.234177    1999  6-10 rating         2568  \n",
       "3     6.7       1130       7.029973    2010  6-10 rating         2294  \n",
       "4     6.5        384       5.950643    2010  6-10 rating         2404  "
      ]
     },
     "execution_count": 234,
     "metadata": {},
     "output_type": "execute_result"
    }
   ],
   "source": [
    "# Merging imdb_person and movie_m_director on 'PID' column\n",
    "movie_person_director = imdb_person.merge(movie_m_director, on='PID')\n",
    "movie_person_director.head()"
   ]
  },
  {
   "cell_type": "markdown",
   "id": "7c3ae763",
   "metadata": {},
   "source": [
    "Here 'Name' column has directors Name"
   ]
  },
  {
   "cell_type": "code",
   "execution_count": 235,
   "id": "f69f10a8",
   "metadata": {},
   "outputs": [],
   "source": [
    "# Renaming 'Name' column to 'Director_Name' column\n",
    "movie_person_director.rename(columns={'Name':'Director_Name'}, inplace=True)"
   ]
  },
  {
   "cell_type": "code",
   "execution_count": 236,
   "id": "dfe1b5a4",
   "metadata": {},
   "outputs": [
    {
     "data": {
      "text/plain": [
       "Gender\n",
       "Female       32\n",
       "Male        294\n",
       "Unknown    3064\n",
       "Name: Director_ID, dtype: int64"
      ]
     },
     "execution_count": 236,
     "metadata": {},
     "output_type": "execute_result"
    }
   ],
   "source": [
    "# Count of female and male directors \n",
    "movie_person_director.groupby('Gender')['Director_ID'].count()"
   ]
  },
  {
   "cell_type": "code",
   "execution_count": 237,
   "id": "3e1e819a",
   "metadata": {},
   "outputs": [
    {
     "data": {
      "image/png": "[encoded data removed]",
      "text/plain": [
       "<Figure size 451.625x360 with 1 Axes>"
      ]
     },
     "metadata": {
      "needs_background": "light"
     },
     "output_type": "display_data"
    }
   ],
   "source": [
    "# Displot of 'n_year' where hue is 'bin_rating' column\n",
    "sns.displot(data=movie_person_director, x='n_year', hue='bin_rating', discrete=True, multiple='stack')\n",
    "plt.show()"
   ]
  },
  {
   "cell_type": "markdown",
   "id": "d8194981",
   "metadata": {},
   "source": [
    "The movies with '1–5 rating' started to appear in the plot after the year 1980."
   ]
  },
  {
   "cell_type": "code",
   "execution_count": 238,
   "id": "58ea2901",
   "metadata": {},
   "outputs": [
    {
     "data": {
      "image/png": "[encoded data removed]",
      "text/plain": [
       "<Figure size 432x288 with 1 Axes>"
      ]
     },
     "metadata": {
      "needs_background": "light"
     },
     "output_type": "display_data"
    }
   ],
   "source": [
    "# boxplot of 'Gender' and 'rating' from movie_person_director\n",
    "sns.boxplot(data=movie_person_director, x='Gender', y='rating')\n",
    "plt.show()"
   ]
  },
  {
   "cell_type": "markdown",
   "id": "ea26f38e",
   "metadata": {},
   "source": [
    "The 'Male' and 'Female' have the same median"
   ]
  },
  {
   "cell_type": "code",
   "execution_count": 239,
   "id": "cb748a99",
   "metadata": {},
   "outputs": [
    {
     "data": {
      "image/png": "[encoded data removed]",
      "text/plain": [
       "<Figure size 432x288 with 1 Axes>"
      ]
     },
     "metadata": {
      "needs_background": "light"
     },
     "output_type": "display_data"
    }
   ],
   "source": [
    "# boxplot of 'Gender' where hue is 'bin_rating' from movie_person_director\n",
    "sns.countplot(data=movie_person_director, x='Gender', hue='bin_rating')\n",
    "plt.show()"
   ]
  },
  {
   "cell_type": "markdown",
   "id": "f29a0412",
   "metadata": {},
   "source": [
    "Both 'Male' and 'Female' directors have more movies with a '6–10 rating' than a '1–5 rating'"
   ]
  },
  {
   "cell_type": "markdown",
   "id": "1a27c6cd",
   "metadata": {},
   "source": [
    "### Who are the top 7 directors with the highest count of movies?"
   ]
  },
  {
   "cell_type": "code",
   "execution_count": 240,
   "id": "1929ee65",
   "metadata": {},
   "outputs": [
    {
     "data": {
      "image/png": "[encoded data removed]",
      "text/plain": [
       "<Figure size 1080x360 with 1 Axes>"
      ]
     },
     "metadata": {
      "needs_background": "light"
     },
     "output_type": "display_data"
    }
   ],
   "source": [
    "plt.figure(figsize=(15, 5))\n",
    "sns.countplot(data=movie_person_director, x='Director_Name', \n",
    "              order=movie_person_director['Director_Name'].value_counts().index[:7])\n",
    "plt.show()"
   ]
  },
  {
   "cell_type": "markdown",
   "id": "d37df53d",
   "metadata": {},
   "source": [
    "Director David Dhawan has the highest count of movies "
   ]
  },
  {
   "cell_type": "markdown",
   "id": "ee48edb8",
   "metadata": {},
   "source": [
    "### Which directors have at least one movie with a rating greater than 9?"
   ]
  },
  {
   "cell_type": "code",
   "execution_count": 241,
   "id": "7debd481",
   "metadata": {},
   "outputs": [
    {
     "data": {
      "text/html": [
       "<div>\n",
       "<style scoped>\n",
       "    .dataframe tbody tr th:only-of-type {\n",
       "        vertical-align: middle;\n",
       "    }\n",
       "\n",
       "    .dataframe tbody tr th {\n",
       "        vertical-align: top;\n",
       "    }\n",
       "\n",
       "    .dataframe thead th {\n",
       "        text-align: right;\n",
       "    }\n",
       "</style>\n",
       "<table border=\"1\" class=\"dataframe\">\n",
       "  <thead>\n",
       "    <tr style=\"text-align: right;\">\n",
       "      <th></th>\n",
       "      <th>Director_Name</th>\n",
       "      <th>title</th>\n",
       "      <th>rating</th>\n",
       "    </tr>\n",
       "  </thead>\n",
       "  <tbody>\n",
       "    <tr>\n",
       "      <th>431</th>\n",
       "      <td>Abbas</td>\n",
       "      <td>Man on Mission Taqatwar</td>\n",
       "      <td>9.5</td>\n",
       "    </tr>\n",
       "    <tr>\n",
       "      <th>826</th>\n",
       "      <td>Nagarjuna Akkineni</td>\n",
       "      <td>Dilwale:The Brave Heart</td>\n",
       "      <td>9.3</td>\n",
       "    </tr>\n",
       "    <tr>\n",
       "      <th>1039</th>\n",
       "      <td>Mohan Babu</td>\n",
       "      <td>Main Hoon Khiladiyon Ka Khiladi</td>\n",
       "      <td>9.4</td>\n",
       "    </tr>\n",
       "    <tr>\n",
       "      <th>1041</th>\n",
       "      <td>Mohan Babu</td>\n",
       "      <td>Man on Mission Fauladi</td>\n",
       "      <td>9.6</td>\n",
       "    </tr>\n",
       "    <tr>\n",
       "      <th>1042</th>\n",
       "      <td>Mohan Babu</td>\n",
       "      <td>Mahakali Ka Insaaf</td>\n",
       "      <td>9.6</td>\n",
       "    </tr>\n",
       "    <tr>\n",
       "      <th>1043</th>\n",
       "      <td>Mohan Babu</td>\n",
       "      <td>Military Officer</td>\n",
       "      <td>9.4</td>\n",
       "    </tr>\n",
       "    <tr>\n",
       "      <th>1131</th>\n",
       "      <td>Kireet Khurana</td>\n",
       "      <td>T for Taj Mahal</td>\n",
       "      <td>9.3</td>\n",
       "    </tr>\n",
       "    <tr>\n",
       "      <th>3057</th>\n",
       "      <td>Sumnash Sri Kaljai</td>\n",
       "      <td>Leera the Soulmate</td>\n",
       "      <td>9.2</td>\n",
       "    </tr>\n",
       "    <tr>\n",
       "      <th>3324</th>\n",
       "      <td>Renjie</td>\n",
       "      <td>Gospel Movie: Who Is My Lord</td>\n",
       "      <td>9.1</td>\n",
       "    </tr>\n",
       "  </tbody>\n",
       "</table>\n",
       "</div>"
      ],
      "text/plain": [
       "           Director_Name                            title  rating\n",
       "431                Abbas          Man on Mission Taqatwar     9.5\n",
       "826   Nagarjuna Akkineni          Dilwale:The Brave Heart     9.3\n",
       "1039          Mohan Babu  Main Hoon Khiladiyon Ka Khiladi     9.4\n",
       "1041          Mohan Babu           Man on Mission Fauladi     9.6\n",
       "1042          Mohan Babu               Mahakali Ka Insaaf     9.6\n",
       "1043          Mohan Babu                 Military Officer     9.4\n",
       "1131      Kireet Khurana                  T for Taj Mahal     9.3\n",
       "3057  Sumnash Sri Kaljai               Leera the Soulmate     9.2\n",
       "3324              Renjie     Gospel Movie: Who Is My Lord     9.1"
      ]
     },
     "execution_count": 241,
     "metadata": {},
     "output_type": "execute_result"
    }
   ],
   "source": [
    "director_high_rating = movie_person_director[movie_person_director['rating']>9][['Director_Name', 'title', 'rating']]\n",
    "director_high_rating"
   ]
  },
  {
   "cell_type": "markdown",
   "id": "f7f9c7ca",
   "metadata": {},
   "source": [
    "### Which directors have more than one movie with a rating greater than 9? "
   ]
  },
  {
   "cell_type": "code",
   "execution_count": 242,
   "id": "49eaf009",
   "metadata": {},
   "outputs": [
    {
     "data": {
      "text/plain": [
       "Index(['Mohan Babu'], dtype='object')"
      ]
     },
     "execution_count": 242,
     "metadata": {},
     "output_type": "execute_result"
    }
   ],
   "source": [
    "director_high_rating['Director_Name'].value_counts().index[director_high_rating['Director_Name'].value_counts().values>1]"
   ]
  },
  {
   "cell_type": "markdown",
   "id": "236ca84f",
   "metadata": {},
   "source": [
    "### Which director has a movie with highest number of voting?"
   ]
  },
  {
   "cell_type": "code",
   "execution_count": 243,
   "id": "d02dd1b1",
   "metadata": {},
   "outputs": [
    {
     "data": {
      "text/html": [
       "<div>\n",
       "<style scoped>\n",
       "    .dataframe tbody tr th:only-of-type {\n",
       "        vertical-align: middle;\n",
       "    }\n",
       "\n",
       "    .dataframe tbody tr th {\n",
       "        vertical-align: top;\n",
       "    }\n",
       "\n",
       "    .dataframe thead th {\n",
       "        text-align: right;\n",
       "    }\n",
       "</style>\n",
       "<table border=\"1\" class=\"dataframe\">\n",
       "  <thead>\n",
       "    <tr style=\"text-align: right;\">\n",
       "      <th></th>\n",
       "      <th>Director_Name</th>\n",
       "      <th>title</th>\n",
       "      <th>n_year</th>\n",
       "      <th>num_votes</th>\n",
       "    </tr>\n",
       "  </thead>\n",
       "  <tbody>\n",
       "    <tr>\n",
       "      <th>2249</th>\n",
       "      <td>Joss Whedon</td>\n",
       "      <td>The Avengers</td>\n",
       "      <td>2012</td>\n",
       "      <td>1137529</td>\n",
       "    </tr>\n",
       "  </tbody>\n",
       "</table>\n",
       "</div>"
      ],
      "text/plain": [
       "     Director_Name         title  n_year  num_votes\n",
       "2249   Joss Whedon  The Avengers    2012    1137529"
      ]
     },
     "execution_count": 243,
     "metadata": {},
     "output_type": "execute_result"
    }
   ],
   "source": [
    "movie_person_director[movie_person_director['num_votes']==movie_person_director['num_votes'].max()][[\n",
    "    'Director_Name', 'title', 'n_year', 'num_votes']]"
   ]
  },
  {
   "cell_type": "markdown",
   "id": "58b41350",
   "metadata": {},
   "source": [
    "### Director - Movie - Language"
   ]
  },
  {
   "cell_type": "code",
   "execution_count": 244,
   "id": "6c55e81b",
   "metadata": {},
   "outputs": [
    {
     "data": {
      "text/html": [
       "<div>\n",
       "<style scoped>\n",
       "    .dataframe tbody tr th:only-of-type {\n",
       "        vertical-align: middle;\n",
       "    }\n",
       "\n",
       "    .dataframe tbody tr th {\n",
       "        vertical-align: top;\n",
       "    }\n",
       "\n",
       "    .dataframe thead th {\n",
       "        text-align: right;\n",
       "    }\n",
       "</style>\n",
       "<table border=\"1\" class=\"dataframe\">\n",
       "  <thead>\n",
       "    <tr style=\"text-align: right;\">\n",
       "      <th></th>\n",
       "      <th>PID</th>\n",
       "      <th>Director_Name</th>\n",
       "      <th>Gender</th>\n",
       "      <th>MID</th>\n",
       "      <th>title</th>\n",
       "      <th>year</th>\n",
       "      <th>rating</th>\n",
       "      <th>num_votes</th>\n",
       "      <th>log_num_votes</th>\n",
       "      <th>n_year</th>\n",
       "      <th>bin_rating</th>\n",
       "      <th>Director_ID</th>\n",
       "      <th>LAID</th>\n",
       "      <th>ID</th>\n",
       "    </tr>\n",
       "  </thead>\n",
       "  <tbody>\n",
       "    <tr>\n",
       "      <th>0</th>\n",
       "      <td>nm0785227</td>\n",
       "      <td>Andy Serkis</td>\n",
       "      <td>Male</td>\n",
       "      <td>tt2388771</td>\n",
       "      <td>Mowgli</td>\n",
       "      <td>2018</td>\n",
       "      <td>6.6</td>\n",
       "      <td>21967</td>\n",
       "      <td>9.997297</td>\n",
       "      <td>2018</td>\n",
       "      <td>6-10 rating</td>\n",
       "      <td>0</td>\n",
       "      <td>0</td>\n",
       "      <td>0</td>\n",
       "    </tr>\n",
       "    <tr>\n",
       "      <th>1</th>\n",
       "      <td>nm0001162</td>\n",
       "      <td>Griffin Dunne</td>\n",
       "      <td>Male</td>\n",
       "      <td>tt0809504</td>\n",
       "      <td>The Accidental Husband</td>\n",
       "      <td>2008</td>\n",
       "      <td>5.6</td>\n",
       "      <td>21636</td>\n",
       "      <td>9.982114</td>\n",
       "      <td>2008</td>\n",
       "      <td>6-10 rating</td>\n",
       "      <td>76</td>\n",
       "      <td>0</td>\n",
       "      <td>76</td>\n",
       "    </tr>\n",
       "    <tr>\n",
       "      <th>2</th>\n",
       "      <td>nm0438501</td>\n",
       "      <td>Rishi Kapoor</td>\n",
       "      <td>Male</td>\n",
       "      <td>tt0149568</td>\n",
       "      <td>Aa Ab Laut Chalen</td>\n",
       "      <td>1999</td>\n",
       "      <td>5.5</td>\n",
       "      <td>1386</td>\n",
       "      <td>7.234177</td>\n",
       "      <td>1999</td>\n",
       "      <td>6-10 rating</td>\n",
       "      <td>2568</td>\n",
       "      <td>2</td>\n",
       "      <td>2568</td>\n",
       "    </tr>\n",
       "    <tr>\n",
       "      <th>3</th>\n",
       "      <td>nm0795661</td>\n",
       "      <td>Saurabh Shukla</td>\n",
       "      <td>Male</td>\n",
       "      <td>tt1340778</td>\n",
       "      <td>I Am 24</td>\n",
       "      <td>2010</td>\n",
       "      <td>6.7</td>\n",
       "      <td>1130</td>\n",
       "      <td>7.029973</td>\n",
       "      <td>2010</td>\n",
       "      <td>6-10 rating</td>\n",
       "      <td>2294</td>\n",
       "      <td>2</td>\n",
       "      <td>2294</td>\n",
       "    </tr>\n",
       "    <tr>\n",
       "      <th>4</th>\n",
       "      <td>nm0795661</td>\n",
       "      <td>Saurabh Shukla</td>\n",
       "      <td>Male</td>\n",
       "      <td>tt1772332</td>\n",
       "      <td>Pappu Can't Dance Saala</td>\n",
       "      <td>2010</td>\n",
       "      <td>6.5</td>\n",
       "      <td>384</td>\n",
       "      <td>5.950643</td>\n",
       "      <td>2010</td>\n",
       "      <td>6-10 rating</td>\n",
       "      <td>2404</td>\n",
       "      <td>2</td>\n",
       "      <td>2404</td>\n",
       "    </tr>\n",
       "  </tbody>\n",
       "</table>\n",
       "</div>"
      ],
      "text/plain": [
       "         PID   Director_Name Gender        MID                    title  year  \\\n",
       "0  nm0785227     Andy Serkis   Male  tt2388771                   Mowgli  2018   \n",
       "1  nm0001162   Griffin Dunne   Male  tt0809504   The Accidental Husband  2008   \n",
       "2  nm0438501    Rishi Kapoor   Male  tt0149568        Aa Ab Laut Chalen  1999   \n",
       "3  nm0795661  Saurabh Shukla   Male  tt1340778                  I Am 24  2010   \n",
       "4  nm0795661  Saurabh Shukla   Male  tt1772332  Pappu Can't Dance Saala  2010   \n",
       "\n",
       "   rating  num_votes  log_num_votes  n_year   bin_rating  Director_ID  LAID  \\\n",
       "0     6.6      21967       9.997297    2018  6-10 rating            0     0   \n",
       "1     5.6      21636       9.982114    2008  6-10 rating           76     0   \n",
       "2     5.5       1386       7.234177    1999  6-10 rating         2568     2   \n",
       "3     6.7       1130       7.029973    2010  6-10 rating         2294     2   \n",
       "4     6.5        384       5.950643    2010  6-10 rating         2404     2   \n",
       "\n",
       "     ID  \n",
       "0     0  \n",
       "1    76  \n",
       "2  2568  \n",
       "3  2294  \n",
       "4  2404  "
      ]
     },
     "execution_count": 244,
     "metadata": {},
     "output_type": "execute_result"
    }
   ],
   "source": [
    "# Merging movie_person_director and imdb_M_language on the 'MID' column\n",
    "movie_person_director_mlang = movie_person_director.merge(imdb_M_language, on='MID')\n",
    "movie_person_director_mlang.head()"
   ]
  },
  {
   "cell_type": "code",
   "execution_count": 245,
   "id": "5cebe208",
   "metadata": {},
   "outputs": [],
   "source": [
    "# Renaming the 'ID' column to the 'm_lang_ID' column from movie_person_director_mlang\n",
    "movie_person_director_mlang.rename(columns={'ID':'m_lang_ID'}, inplace = True)"
   ]
  },
  {
   "cell_type": "code",
   "execution_count": 246,
   "id": "5b4a6709",
   "metadata": {},
   "outputs": [
    {
     "data": {
      "text/html": [
       "<div>\n",
       "<style scoped>\n",
       "    .dataframe tbody tr th:only-of-type {\n",
       "        vertical-align: middle;\n",
       "    }\n",
       "\n",
       "    .dataframe tbody tr th {\n",
       "        vertical-align: top;\n",
       "    }\n",
       "\n",
       "    .dataframe thead th {\n",
       "        text-align: right;\n",
       "    }\n",
       "</style>\n",
       "<table border=\"1\" class=\"dataframe\">\n",
       "  <thead>\n",
       "    <tr style=\"text-align: right;\">\n",
       "      <th></th>\n",
       "      <th>PID</th>\n",
       "      <th>Director_Name</th>\n",
       "      <th>Gender</th>\n",
       "      <th>MID</th>\n",
       "      <th>title</th>\n",
       "      <th>year</th>\n",
       "      <th>rating</th>\n",
       "      <th>num_votes</th>\n",
       "      <th>log_num_votes</th>\n",
       "      <th>n_year</th>\n",
       "      <th>bin_rating</th>\n",
       "      <th>Director_ID</th>\n",
       "      <th>LAID</th>\n",
       "      <th>m_lang_ID</th>\n",
       "      <th>Name</th>\n",
       "    </tr>\n",
       "  </thead>\n",
       "  <tbody>\n",
       "    <tr>\n",
       "      <th>0</th>\n",
       "      <td>nm0785227</td>\n",
       "      <td>Andy Serkis</td>\n",
       "      <td>Male</td>\n",
       "      <td>tt2388771</td>\n",
       "      <td>Mowgli</td>\n",
       "      <td>2018</td>\n",
       "      <td>6.6</td>\n",
       "      <td>21967</td>\n",
       "      <td>9.997297</td>\n",
       "      <td>2018</td>\n",
       "      <td>6-10 rating</td>\n",
       "      <td>0</td>\n",
       "      <td>0</td>\n",
       "      <td>0</td>\n",
       "      <td>English</td>\n",
       "    </tr>\n",
       "    <tr>\n",
       "      <th>1</th>\n",
       "      <td>nm0001162</td>\n",
       "      <td>Griffin Dunne</td>\n",
       "      <td>Male</td>\n",
       "      <td>tt0809504</td>\n",
       "      <td>The Accidental Husband</td>\n",
       "      <td>2008</td>\n",
       "      <td>5.6</td>\n",
       "      <td>21636</td>\n",
       "      <td>9.982114</td>\n",
       "      <td>2008</td>\n",
       "      <td>6-10 rating</td>\n",
       "      <td>76</td>\n",
       "      <td>0</td>\n",
       "      <td>76</td>\n",
       "      <td>English</td>\n",
       "    </tr>\n",
       "    <tr>\n",
       "      <th>2</th>\n",
       "      <td>nm0000187</td>\n",
       "      <td>Madonna</td>\n",
       "      <td>Unknown</td>\n",
       "      <td>tt1042499</td>\n",
       "      <td>Filth and Wisdom</td>\n",
       "      <td>2008</td>\n",
       "      <td>5.6</td>\n",
       "      <td>2319</td>\n",
       "      <td>7.748891</td>\n",
       "      <td>2008</td>\n",
       "      <td>6-10 rating</td>\n",
       "      <td>774</td>\n",
       "      <td>0</td>\n",
       "      <td>774</td>\n",
       "      <td>English</td>\n",
       "    </tr>\n",
       "    <tr>\n",
       "      <th>3</th>\n",
       "      <td>nm0149446</td>\n",
       "      <td>Gurinder Chadha</td>\n",
       "      <td>Unknown</td>\n",
       "      <td>tt0286499</td>\n",
       "      <td>Bend It Like Beckham</td>\n",
       "      <td>2002</td>\n",
       "      <td>6.7</td>\n",
       "      <td>97876</td>\n",
       "      <td>11.491457</td>\n",
       "      <td>2002</td>\n",
       "      <td>6-10 rating</td>\n",
       "      <td>25</td>\n",
       "      <td>0</td>\n",
       "      <td>25</td>\n",
       "      <td>English</td>\n",
       "    </tr>\n",
       "    <tr>\n",
       "      <th>4</th>\n",
       "      <td>nm0149446</td>\n",
       "      <td>Gurinder Chadha</td>\n",
       "      <td>Unknown</td>\n",
       "      <td>tt0361411</td>\n",
       "      <td>Bride &amp; Prejudice</td>\n",
       "      <td>2004</td>\n",
       "      <td>6.2</td>\n",
       "      <td>18827</td>\n",
       "      <td>9.843047</td>\n",
       "      <td>2004</td>\n",
       "      <td>6-10 rating</td>\n",
       "      <td>88</td>\n",
       "      <td>0</td>\n",
       "      <td>88</td>\n",
       "      <td>English</td>\n",
       "    </tr>\n",
       "  </tbody>\n",
       "</table>\n",
       "</div>"
      ],
      "text/plain": [
       "         PID    Director_Name   Gender        MID                   title  \\\n",
       "0  nm0785227      Andy Serkis     Male  tt2388771                  Mowgli   \n",
       "1  nm0001162    Griffin Dunne     Male  tt0809504  The Accidental Husband   \n",
       "2  nm0000187          Madonna  Unknown  tt1042499        Filth and Wisdom   \n",
       "3  nm0149446  Gurinder Chadha  Unknown  tt0286499    Bend It Like Beckham   \n",
       "4  nm0149446  Gurinder Chadha  Unknown  tt0361411       Bride & Prejudice   \n",
       "\n",
       "   year  rating  num_votes  log_num_votes  n_year   bin_rating  Director_ID  \\\n",
       "0  2018     6.6      21967       9.997297    2018  6-10 rating            0   \n",
       "1  2008     5.6      21636       9.982114    2008  6-10 rating           76   \n",
       "2  2008     5.6       2319       7.748891    2008  6-10 rating          774   \n",
       "3  2002     6.7      97876      11.491457    2002  6-10 rating           25   \n",
       "4  2004     6.2      18827       9.843047    2004  6-10 rating           88   \n",
       "\n",
       "   LAID  m_lang_ID     Name  \n",
       "0     0          0  English  \n",
       "1     0         76  English  \n",
       "2     0        774  English  \n",
       "3     0         25  English  \n",
       "4     0         88  English  "
      ]
     },
     "execution_count": 246,
     "metadata": {},
     "output_type": "execute_result"
    }
   ],
   "source": [
    "# Merging movie_person_director_mlang and imdb_language on the 'LAID' column\n",
    "director_language = movie_person_director_mlang.merge(imdb_language, on='LAID')\n",
    "director_language.head()"
   ]
  },
  {
   "cell_type": "code",
   "execution_count": 247,
   "id": "b7aef52f",
   "metadata": {},
   "outputs": [],
   "source": [
    "# Renaming the 'Name' column to the 'Language_Name' column from director_language\n",
    "director_language.rename(columns={'Name':'Language_Name'}, inplace = True)"
   ]
  },
  {
   "cell_type": "markdown",
   "id": "bcd9aa39",
   "metadata": {},
   "source": [
    "### Find the director of the highest-rated movie in each language."
   ]
  },
  {
   "cell_type": "code",
   "execution_count": 248,
   "id": "01d06f5c",
   "metadata": {},
   "outputs": [
    {
     "data": {
      "text/html": [
       "<div>\n",
       "<style scoped>\n",
       "    .dataframe tbody tr th:only-of-type {\n",
       "        vertical-align: middle;\n",
       "    }\n",
       "\n",
       "    .dataframe tbody tr th {\n",
       "        vertical-align: top;\n",
       "    }\n",
       "\n",
       "    .dataframe thead th {\n",
       "        text-align: right;\n",
       "    }\n",
       "</style>\n",
       "<table border=\"1\" class=\"dataframe\">\n",
       "  <thead>\n",
       "    <tr style=\"text-align: right;\">\n",
       "      <th></th>\n",
       "      <th>Director_Name</th>\n",
       "      <th>Movie_Title</th>\n",
       "      <th>Movie_Rating</th>\n",
       "    </tr>\n",
       "    <tr>\n",
       "      <th>Language_Name</th>\n",
       "      <th></th>\n",
       "      <th></th>\n",
       "      <th></th>\n",
       "    </tr>\n",
       "  </thead>\n",
       "  <tbody>\n",
       "    <tr>\n",
       "      <th>Arabic</th>\n",
       "      <td>Moustapha Akkad</td>\n",
       "      <td>Al-risâlah</td>\n",
       "      <td>8.9</td>\n",
       "    </tr>\n",
       "    <tr>\n",
       "      <th>Bengali</th>\n",
       "      <td>Mrinal Sen</td>\n",
       "      <td>Aamaar Bhuvan</td>\n",
       "      <td>8.0</td>\n",
       "    </tr>\n",
       "    <tr>\n",
       "      <th>Bhojpuri</th>\n",
       "      <td>Abhishek Chhadha</td>\n",
       "      <td>Ganga</td>\n",
       "      <td>5.0</td>\n",
       "    </tr>\n",
       "    <tr>\n",
       "      <th>Cantonese</th>\n",
       "      <td>Kar-Wai Wong</td>\n",
       "      <td>Chung Hing sam lam</td>\n",
       "      <td>8.1</td>\n",
       "    </tr>\n",
       "    <tr>\n",
       "      <th>Danish</th>\n",
       "      <td>Susanne Bier</td>\n",
       "      <td>Efter brylluppet</td>\n",
       "      <td>7.8</td>\n",
       "    </tr>\n",
       "    <tr>\n",
       "      <th>Dutch</th>\n",
       "      <td>Pim de la Parra</td>\n",
       "      <td>Wan Pipel</td>\n",
       "      <td>6.9</td>\n",
       "    </tr>\n",
       "    <tr>\n",
       "      <th>English</th>\n",
       "      <td>Renjie</td>\n",
       "      <td>Gospel Movie: Who Is My Lord</td>\n",
       "      <td>9.1</td>\n",
       "    </tr>\n",
       "    <tr>\n",
       "      <th>French</th>\n",
       "      <td>Eric Gravel</td>\n",
       "      <td>Crash Test Aglaé</td>\n",
       "      <td>6.5</td>\n",
       "    </tr>\n",
       "    <tr>\n",
       "      <th>Georgian</th>\n",
       "      <td>Avtandil Varsimashvili</td>\n",
       "      <td>Kvelaferi kargad iqneba</td>\n",
       "      <td>6.0</td>\n",
       "    </tr>\n",
       "    <tr>\n",
       "      <th>German</th>\n",
       "      <td>Ferenc Török</td>\n",
       "      <td>Overnight</td>\n",
       "      <td>5.1</td>\n",
       "    </tr>\n",
       "    <tr>\n",
       "      <th>Gujarati</th>\n",
       "      <td>Abhishek Jain</td>\n",
       "      <td>Kevi Rite Jaish</td>\n",
       "      <td>8.1</td>\n",
       "    </tr>\n",
       "    <tr>\n",
       "      <th>Himachali</th>\n",
       "      <td>Ajay Saklani</td>\n",
       "      <td>Saanjh</td>\n",
       "      <td>8.6</td>\n",
       "    </tr>\n",
       "    <tr>\n",
       "      <th>Hindi</th>\n",
       "      <td>Mohan Babu</td>\n",
       "      <td>Man on Mission Fauladi</td>\n",
       "      <td>9.6</td>\n",
       "    </tr>\n",
       "    <tr>\n",
       "      <th>Italian</th>\n",
       "      <td>Francesca Archibugi</td>\n",
       "      <td>Lezioni di volo</td>\n",
       "      <td>6.3</td>\n",
       "    </tr>\n",
       "    <tr>\n",
       "      <th>Japanese</th>\n",
       "      <td>Shûkô Murase</td>\n",
       "      <td>Gyakusatsu kikan</td>\n",
       "      <td>6.4</td>\n",
       "    </tr>\n",
       "    <tr>\n",
       "      <th>Kannada</th>\n",
       "      <td>Dhorairaj Bhagavan</td>\n",
       "      <td>Goa Dalli CID 999</td>\n",
       "      <td>8.5</td>\n",
       "    </tr>\n",
       "    <tr>\n",
       "      <th>Korean</th>\n",
       "      <td>Han-min Kim</td>\n",
       "      <td>Myeong-ryang</td>\n",
       "      <td>7.2</td>\n",
       "    </tr>\n",
       "    <tr>\n",
       "      <th>Malayalam</th>\n",
       "      <td>Priyadarshan</td>\n",
       "      <td>Kala Pani</td>\n",
       "      <td>8.4</td>\n",
       "    </tr>\n",
       "    <tr>\n",
       "      <th>Mandarin</th>\n",
       "      <td>Ang Lee</td>\n",
       "      <td>Se, jie</td>\n",
       "      <td>7.6</td>\n",
       "    </tr>\n",
       "    <tr>\n",
       "      <th>Marathi</th>\n",
       "      <td>Rahi Anil Barve</td>\n",
       "      <td>Tumbbad</td>\n",
       "      <td>8.5</td>\n",
       "    </tr>\n",
       "    <tr>\n",
       "      <th>Persian</th>\n",
       "      <td>Mohsen Makhmalbaf</td>\n",
       "      <td>Faryad moorcheha</td>\n",
       "      <td>6.2</td>\n",
       "    </tr>\n",
       "    <tr>\n",
       "      <th>Punjabi</th>\n",
       "      <td>Anurag Singh</td>\n",
       "      <td>Punjab 1984</td>\n",
       "      <td>8.5</td>\n",
       "    </tr>\n",
       "    <tr>\n",
       "      <th>Russian</th>\n",
       "      <td>Nana Kldiashvili</td>\n",
       "      <td>Rikki-Tikki-Tavi</td>\n",
       "      <td>7.7</td>\n",
       "    </tr>\n",
       "    <tr>\n",
       "      <th>Sanskrit</th>\n",
       "      <td>G.V. Iyer</td>\n",
       "      <td>Adi Shankaracharya</td>\n",
       "      <td>7.4</td>\n",
       "    </tr>\n",
       "    <tr>\n",
       "      <th>Sinhalese</th>\n",
       "      <td>Saman Weeraman</td>\n",
       "      <td>Sri Siddhartha Gautama</td>\n",
       "      <td>7.1</td>\n",
       "    </tr>\n",
       "    <tr>\n",
       "      <th>Spanish</th>\n",
       "      <td>Ricardo de Montreuil</td>\n",
       "      <td>La mujer de mi hermano</td>\n",
       "      <td>6.2</td>\n",
       "    </tr>\n",
       "    <tr>\n",
       "      <th>Swiss German</th>\n",
       "      <td>Oliver Paulus</td>\n",
       "      <td>Tandoori Love</td>\n",
       "      <td>5.2</td>\n",
       "    </tr>\n",
       "    <tr>\n",
       "      <th>Tamil</th>\n",
       "      <td>Mani Ratnam</td>\n",
       "      <td>Nayakan</td>\n",
       "      <td>8.8</td>\n",
       "    </tr>\n",
       "    <tr>\n",
       "      <th>Telugu</th>\n",
       "      <td>S.S. Rajamouli</td>\n",
       "      <td>Baahubali 2: The Conclusion</td>\n",
       "      <td>8.3</td>\n",
       "    </tr>\n",
       "    <tr>\n",
       "      <th>Tibetan</th>\n",
       "      <td>Pan Nalin</td>\n",
       "      <td>Samsara</td>\n",
       "      <td>7.8</td>\n",
       "    </tr>\n",
       "    <tr>\n",
       "      <th>Urdu</th>\n",
       "      <td>Shoaib Mansoor</td>\n",
       "      <td>Bol</td>\n",
       "      <td>8.3</td>\n",
       "    </tr>\n",
       "    <tr>\n",
       "      <th>Zulu</th>\n",
       "      <td>Avie Luthra</td>\n",
       "      <td>Lucky</td>\n",
       "      <td>7.1</td>\n",
       "    </tr>\n",
       "  </tbody>\n",
       "</table>\n",
       "</div>"
      ],
      "text/plain": [
       "                        Director_Name                   Movie_Title  \\\n",
       "Language_Name                                                         \n",
       "Arabic                Moustapha Akkad                    Al-risâlah   \n",
       "Bengali                    Mrinal Sen                 Aamaar Bhuvan   \n",
       "Bhojpuri             Abhishek Chhadha                         Ganga   \n",
       "Cantonese                Kar-Wai Wong            Chung Hing sam lam   \n",
       "Danish                   Susanne Bier              Efter brylluppet   \n",
       "Dutch                 Pim de la Parra                     Wan Pipel   \n",
       "English                        Renjie  Gospel Movie: Who Is My Lord   \n",
       "French                    Eric Gravel              Crash Test Aglaé   \n",
       "Georgian       Avtandil Varsimashvili       Kvelaferi kargad iqneba   \n",
       "German                   Ferenc Török                     Overnight   \n",
       "Gujarati                Abhishek Jain               Kevi Rite Jaish   \n",
       "Himachali                Ajay Saklani                        Saanjh   \n",
       "Hindi                      Mohan Babu        Man on Mission Fauladi   \n",
       "Italian           Francesca Archibugi               Lezioni di volo   \n",
       "Japanese                 Shûkô Murase              Gyakusatsu kikan   \n",
       "Kannada            Dhorairaj Bhagavan             Goa Dalli CID 999   \n",
       "Korean                    Han-min Kim                  Myeong-ryang   \n",
       "Malayalam                Priyadarshan                     Kala Pani   \n",
       "Mandarin                      Ang Lee                       Se, jie   \n",
       "Marathi               Rahi Anil Barve                       Tumbbad   \n",
       "Persian             Mohsen Makhmalbaf              Faryad moorcheha   \n",
       "Punjabi                  Anurag Singh                   Punjab 1984   \n",
       "Russian              Nana Kldiashvili              Rikki-Tikki-Tavi   \n",
       "Sanskrit                    G.V. Iyer            Adi Shankaracharya   \n",
       "Sinhalese              Saman Weeraman        Sri Siddhartha Gautama   \n",
       "Spanish          Ricardo de Montreuil        La mujer de mi hermano   \n",
       "Swiss German            Oliver Paulus                 Tandoori Love   \n",
       "Tamil                     Mani Ratnam                       Nayakan   \n",
       "Telugu                 S.S. Rajamouli   Baahubali 2: The Conclusion   \n",
       "Tibetan                     Pan Nalin                       Samsara   \n",
       "Urdu                   Shoaib Mansoor                           Bol   \n",
       "Zulu                      Avie Luthra                         Lucky   \n",
       "\n",
       "               Movie_Rating  \n",
       "Language_Name                \n",
       "Arabic                  8.9  \n",
       "Bengali                 8.0  \n",
       "Bhojpuri                5.0  \n",
       "Cantonese               8.1  \n",
       "Danish                  7.8  \n",
       "Dutch                   6.9  \n",
       "English                 9.1  \n",
       "French                  6.5  \n",
       "Georgian                6.0  \n",
       "German                  5.1  \n",
       "Gujarati                8.1  \n",
       "Himachali               8.6  \n",
       "Hindi                   9.6  \n",
       "Italian                 6.3  \n",
       "Japanese                6.4  \n",
       "Kannada                 8.5  \n",
       "Korean                  7.2  \n",
       "Malayalam               8.4  \n",
       "Mandarin                7.6  \n",
       "Marathi                 8.5  \n",
       "Persian                 6.2  \n",
       "Punjabi                 8.5  \n",
       "Russian                 7.7  \n",
       "Sanskrit                7.4  \n",
       "Sinhalese               7.1  \n",
       "Spanish                 6.2  \n",
       "Swiss German            5.2  \n",
       "Tamil                   8.8  \n",
       "Telugu                  8.3  \n",
       "Tibetan                 7.8  \n",
       "Urdu                    8.3  \n",
       "Zulu                    7.1  "
      ]
     },
     "execution_count": 248,
     "metadata": {},
     "output_type": "execute_result"
    }
   ],
   "source": [
    "director_language[['Director_Name', 'title', 'rating', 'Language_Name']].sort_values(\n",
    "    by=['Language_Name', 'rating'], ascending=[True, False]).groupby('Language_Name')[\n",
    "    ['Director_Name', 'title', 'rating']].agg(Director_Name=('Director_Name', 'first'),\n",
    "                                                Movie_Title=('title', 'first'),\n",
    "                                                Movie_Rating=('rating', 'first'))"
   ]
  },
  {
   "cell_type": "markdown",
   "id": "6f7cf6d0",
   "metadata": {},
   "source": [
    "### Director- Movie-  Country"
   ]
  },
  {
   "cell_type": "code",
   "execution_count": 249,
   "id": "1a3787e2",
   "metadata": {},
   "outputs": [
    {
     "data": {
      "text/html": [
       "<div>\n",
       "<style scoped>\n",
       "    .dataframe tbody tr th:only-of-type {\n",
       "        vertical-align: middle;\n",
       "    }\n",
       "\n",
       "    .dataframe tbody tr th {\n",
       "        vertical-align: top;\n",
       "    }\n",
       "\n",
       "    .dataframe thead th {\n",
       "        text-align: right;\n",
       "    }\n",
       "</style>\n",
       "<table border=\"1\" class=\"dataframe\">\n",
       "  <thead>\n",
       "    <tr style=\"text-align: right;\">\n",
       "      <th></th>\n",
       "      <th>PID</th>\n",
       "      <th>Director_Name</th>\n",
       "      <th>Gender</th>\n",
       "      <th>MID</th>\n",
       "      <th>title</th>\n",
       "      <th>year</th>\n",
       "      <th>rating</th>\n",
       "      <th>num_votes</th>\n",
       "      <th>log_num_votes</th>\n",
       "      <th>n_year</th>\n",
       "      <th>bin_rating</th>\n",
       "      <th>Director_ID</th>\n",
       "      <th>CID</th>\n",
       "      <th>ID</th>\n",
       "    </tr>\n",
       "  </thead>\n",
       "  <tbody>\n",
       "    <tr>\n",
       "      <th>0</th>\n",
       "      <td>nm0785227</td>\n",
       "      <td>Andy Serkis</td>\n",
       "      <td>Male</td>\n",
       "      <td>tt2388771</td>\n",
       "      <td>Mowgli</td>\n",
       "      <td>2018</td>\n",
       "      <td>6.6</td>\n",
       "      <td>21967</td>\n",
       "      <td>9.997297</td>\n",
       "      <td>2018</td>\n",
       "      <td>6-10 rating</td>\n",
       "      <td>0</td>\n",
       "      <td>0.0</td>\n",
       "      <td>0</td>\n",
       "    </tr>\n",
       "    <tr>\n",
       "      <th>1</th>\n",
       "      <td>nm0001162</td>\n",
       "      <td>Griffin Dunne</td>\n",
       "      <td>Male</td>\n",
       "      <td>tt0809504</td>\n",
       "      <td>The Accidental Husband</td>\n",
       "      <td>2008</td>\n",
       "      <td>5.6</td>\n",
       "      <td>21636</td>\n",
       "      <td>9.982114</td>\n",
       "      <td>2008</td>\n",
       "      <td>6-10 rating</td>\n",
       "      <td>76</td>\n",
       "      <td>1.0</td>\n",
       "      <td>76</td>\n",
       "    </tr>\n",
       "    <tr>\n",
       "      <th>2</th>\n",
       "      <td>nm0438501</td>\n",
       "      <td>Rishi Kapoor</td>\n",
       "      <td>Male</td>\n",
       "      <td>tt0149568</td>\n",
       "      <td>Aa Ab Laut Chalen</td>\n",
       "      <td>1999</td>\n",
       "      <td>5.5</td>\n",
       "      <td>1386</td>\n",
       "      <td>7.234177</td>\n",
       "      <td>1999</td>\n",
       "      <td>6-10 rating</td>\n",
       "      <td>2568</td>\n",
       "      <td>2.0</td>\n",
       "      <td>2568</td>\n",
       "    </tr>\n",
       "    <tr>\n",
       "      <th>3</th>\n",
       "      <td>nm0795661</td>\n",
       "      <td>Saurabh Shukla</td>\n",
       "      <td>Male</td>\n",
       "      <td>tt1340778</td>\n",
       "      <td>I Am 24</td>\n",
       "      <td>2010</td>\n",
       "      <td>6.7</td>\n",
       "      <td>1130</td>\n",
       "      <td>7.029973</td>\n",
       "      <td>2010</td>\n",
       "      <td>6-10 rating</td>\n",
       "      <td>2294</td>\n",
       "      <td>2.0</td>\n",
       "      <td>2294</td>\n",
       "    </tr>\n",
       "    <tr>\n",
       "      <th>4</th>\n",
       "      <td>nm0795661</td>\n",
       "      <td>Saurabh Shukla</td>\n",
       "      <td>Male</td>\n",
       "      <td>tt1772332</td>\n",
       "      <td>Pappu Can't Dance Saala</td>\n",
       "      <td>2010</td>\n",
       "      <td>6.5</td>\n",
       "      <td>384</td>\n",
       "      <td>5.950643</td>\n",
       "      <td>2010</td>\n",
       "      <td>6-10 rating</td>\n",
       "      <td>2404</td>\n",
       "      <td>2.0</td>\n",
       "      <td>2404</td>\n",
       "    </tr>\n",
       "  </tbody>\n",
       "</table>\n",
       "</div>"
      ],
      "text/plain": [
       "         PID   Director_Name Gender        MID                    title  year  \\\n",
       "0  nm0785227     Andy Serkis   Male  tt2388771                   Mowgli  2018   \n",
       "1  nm0001162   Griffin Dunne   Male  tt0809504   The Accidental Husband  2008   \n",
       "2  nm0438501    Rishi Kapoor   Male  tt0149568        Aa Ab Laut Chalen  1999   \n",
       "3  nm0795661  Saurabh Shukla   Male  tt1340778                  I Am 24  2010   \n",
       "4  nm0795661  Saurabh Shukla   Male  tt1772332  Pappu Can't Dance Saala  2010   \n",
       "\n",
       "   rating  num_votes  log_num_votes  n_year   bin_rating  Director_ID  CID  \\\n",
       "0     6.6      21967       9.997297    2018  6-10 rating            0  0.0   \n",
       "1     5.6      21636       9.982114    2008  6-10 rating           76  1.0   \n",
       "2     5.5       1386       7.234177    1999  6-10 rating         2568  2.0   \n",
       "3     6.7       1130       7.029973    2010  6-10 rating         2294  2.0   \n",
       "4     6.5        384       5.950643    2010  6-10 rating         2404  2.0   \n",
       "\n",
       "     ID  \n",
       "0     0  \n",
       "1    76  \n",
       "2  2568  \n",
       "3  2294  \n",
       "4  2404  "
      ]
     },
     "execution_count": 249,
     "metadata": {},
     "output_type": "execute_result"
    }
   ],
   "source": [
    "# Merging movie_person_director and imdb_M_country on the 'MID' column\n",
    "movie_person_director_country = movie_person_director.merge(imdb_M_country, on='MID')\n",
    "movie_person_director_country.head()"
   ]
  },
  {
   "cell_type": "code",
   "execution_count": 250,
   "id": "ce690b7f",
   "metadata": {},
   "outputs": [],
   "source": [
    "# Renaming the 'ID' column to the 'country_ID' column from movie_person_director_country\n",
    "movie_person_director_country.rename(columns={'ID':'Country_ID'}, inplace = True)"
   ]
  },
  {
   "cell_type": "code",
   "execution_count": 251,
   "id": "c06e691d",
   "metadata": {},
   "outputs": [
    {
     "data": {
      "text/html": [
       "<div>\n",
       "<style scoped>\n",
       "    .dataframe tbody tr th:only-of-type {\n",
       "        vertical-align: middle;\n",
       "    }\n",
       "\n",
       "    .dataframe tbody tr th {\n",
       "        vertical-align: top;\n",
       "    }\n",
       "\n",
       "    .dataframe thead th {\n",
       "        text-align: right;\n",
       "    }\n",
       "</style>\n",
       "<table border=\"1\" class=\"dataframe\">\n",
       "  <thead>\n",
       "    <tr style=\"text-align: right;\">\n",
       "      <th></th>\n",
       "      <th>PID</th>\n",
       "      <th>Director_Name</th>\n",
       "      <th>Gender</th>\n",
       "      <th>MID</th>\n",
       "      <th>title</th>\n",
       "      <th>year</th>\n",
       "      <th>rating</th>\n",
       "      <th>num_votes</th>\n",
       "      <th>log_num_votes</th>\n",
       "      <th>n_year</th>\n",
       "      <th>bin_rating</th>\n",
       "      <th>Director_ID</th>\n",
       "      <th>CID</th>\n",
       "      <th>Country_ID</th>\n",
       "      <th>Name</th>\n",
       "    </tr>\n",
       "  </thead>\n",
       "  <tbody>\n",
       "    <tr>\n",
       "      <th>0</th>\n",
       "      <td>nm0785227</td>\n",
       "      <td>Andy Serkis</td>\n",
       "      <td>Male</td>\n",
       "      <td>tt2388771</td>\n",
       "      <td>Mowgli</td>\n",
       "      <td>2018</td>\n",
       "      <td>6.6</td>\n",
       "      <td>21967</td>\n",
       "      <td>9.997297</td>\n",
       "      <td>2018</td>\n",
       "      <td>6-10 rating</td>\n",
       "      <td>0</td>\n",
       "      <td>0.0</td>\n",
       "      <td>0</td>\n",
       "      <td>UK</td>\n",
       "    </tr>\n",
       "    <tr>\n",
       "      <th>1</th>\n",
       "      <td>nm0001162</td>\n",
       "      <td>Griffin Dunne</td>\n",
       "      <td>Male</td>\n",
       "      <td>tt0809504</td>\n",
       "      <td>The Accidental Husband</td>\n",
       "      <td>2008</td>\n",
       "      <td>5.6</td>\n",
       "      <td>21636</td>\n",
       "      <td>9.982114</td>\n",
       "      <td>2008</td>\n",
       "      <td>6-10 rating</td>\n",
       "      <td>76</td>\n",
       "      <td>1.0</td>\n",
       "      <td>76</td>\n",
       "      <td>USA</td>\n",
       "    </tr>\n",
       "    <tr>\n",
       "      <th>2</th>\n",
       "      <td>nm0438501</td>\n",
       "      <td>Rishi Kapoor</td>\n",
       "      <td>Male</td>\n",
       "      <td>tt0149568</td>\n",
       "      <td>Aa Ab Laut Chalen</td>\n",
       "      <td>1999</td>\n",
       "      <td>5.5</td>\n",
       "      <td>1386</td>\n",
       "      <td>7.234177</td>\n",
       "      <td>1999</td>\n",
       "      <td>6-10 rating</td>\n",
       "      <td>2568</td>\n",
       "      <td>2.0</td>\n",
       "      <td>2568</td>\n",
       "      <td>India</td>\n",
       "    </tr>\n",
       "    <tr>\n",
       "      <th>3</th>\n",
       "      <td>nm0795661</td>\n",
       "      <td>Saurabh Shukla</td>\n",
       "      <td>Male</td>\n",
       "      <td>tt1340778</td>\n",
       "      <td>I Am 24</td>\n",
       "      <td>2010</td>\n",
       "      <td>6.7</td>\n",
       "      <td>1130</td>\n",
       "      <td>7.029973</td>\n",
       "      <td>2010</td>\n",
       "      <td>6-10 rating</td>\n",
       "      <td>2294</td>\n",
       "      <td>3.0</td>\n",
       "      <td>2294</td>\n",
       "      <td>Australia</td>\n",
       "    </tr>\n",
       "    <tr>\n",
       "      <th>4</th>\n",
       "      <td>nm0795661</td>\n",
       "      <td>Saurabh Shukla</td>\n",
       "      <td>Male</td>\n",
       "      <td>tt1772332</td>\n",
       "      <td>Pappu Can't Dance Saala</td>\n",
       "      <td>2010</td>\n",
       "      <td>6.5</td>\n",
       "      <td>384</td>\n",
       "      <td>5.950643</td>\n",
       "      <td>2010</td>\n",
       "      <td>6-10 rating</td>\n",
       "      <td>2404</td>\n",
       "      <td>4.0</td>\n",
       "      <td>2404</td>\n",
       "      <td>Hong Kong</td>\n",
       "    </tr>\n",
       "  </tbody>\n",
       "</table>\n",
       "</div>"
      ],
      "text/plain": [
       "         PID   Director_Name Gender        MID                    title  year  \\\n",
       "0  nm0785227     Andy Serkis   Male  tt2388771                   Mowgli  2018   \n",
       "1  nm0001162   Griffin Dunne   Male  tt0809504   The Accidental Husband  2008   \n",
       "2  nm0438501    Rishi Kapoor   Male  tt0149568        Aa Ab Laut Chalen  1999   \n",
       "3  nm0795661  Saurabh Shukla   Male  tt1340778                  I Am 24  2010   \n",
       "4  nm0795661  Saurabh Shukla   Male  tt1772332  Pappu Can't Dance Saala  2010   \n",
       "\n",
       "   rating  num_votes  log_num_votes  n_year   bin_rating  Director_ID  CID  \\\n",
       "0     6.6      21967       9.997297    2018  6-10 rating            0  0.0   \n",
       "1     5.6      21636       9.982114    2008  6-10 rating           76  1.0   \n",
       "2     5.5       1386       7.234177    1999  6-10 rating         2568  2.0   \n",
       "3     6.7       1130       7.029973    2010  6-10 rating         2294  3.0   \n",
       "4     6.5        384       5.950643    2010  6-10 rating         2404  4.0   \n",
       "\n",
       "   Country_ID       Name  \n",
       "0           0         UK  \n",
       "1          76        USA  \n",
       "2        2568      India  \n",
       "3        2294  Australia  \n",
       "4        2404  Hong Kong  "
      ]
     },
     "execution_count": 251,
     "metadata": {},
     "output_type": "execute_result"
    }
   ],
   "source": [
    "# Converting the 'CID' column to the 'int64' datatype\n",
    "movie_person_director_country['CID'] = imdb_country['CID'].astype('int64')\n",
    "\n",
    "# Merging movie_person_director_country and imdb_country on the 'CID' column\n",
    "director_country = movie_person_director_country.merge(imdb_country, on='CID')\n",
    "director_country.head()"
   ]
  },
  {
   "cell_type": "code",
   "execution_count": 252,
   "id": "69fd9e76",
   "metadata": {},
   "outputs": [],
   "source": [
    "# Renaming the 'Name' column to the 'Country_Name' column from director_country\n",
    "director_country.rename(columns={'Name':'Country_Name'}, inplace = True)"
   ]
  },
  {
   "cell_type": "markdown",
   "id": "b6278484",
   "metadata": {},
   "source": [
    "### Which director has movies in the most number of countries?"
   ]
  },
  {
   "cell_type": "code",
   "execution_count": 253,
   "id": "04cb87cb",
   "metadata": {},
   "outputs": [
    {
     "data": {
      "text/plain": [
       "('Vijay Raaz', 15)"
      ]
     },
     "execution_count": 253,
     "metadata": {},
     "output_type": "execute_result"
    }
   ],
   "source": [
    "director_country.groupby('Director_Name')[\n",
    "    'Country_Name'].count().index.max(), director_country.groupby('Director_Name')['Country_Name'].count().values.max()"
   ]
  },
  {
   "cell_type": "markdown",
   "id": "a1fc4297",
   "metadata": {},
   "source": [
    "### Director- Movie- Location"
   ]
  },
  {
   "cell_type": "code",
   "execution_count": 254,
   "id": "9435aa62",
   "metadata": {},
   "outputs": [
    {
     "data": {
      "text/html": [
       "<div>\n",
       "<style scoped>\n",
       "    .dataframe tbody tr th:only-of-type {\n",
       "        vertical-align: middle;\n",
       "    }\n",
       "\n",
       "    .dataframe tbody tr th {\n",
       "        vertical-align: top;\n",
       "    }\n",
       "\n",
       "    .dataframe thead th {\n",
       "        text-align: right;\n",
       "    }\n",
       "</style>\n",
       "<table border=\"1\" class=\"dataframe\">\n",
       "  <thead>\n",
       "    <tr style=\"text-align: right;\">\n",
       "      <th></th>\n",
       "      <th>PID</th>\n",
       "      <th>Director_Name</th>\n",
       "      <th>Gender</th>\n",
       "      <th>MID</th>\n",
       "      <th>title</th>\n",
       "      <th>year</th>\n",
       "      <th>rating</th>\n",
       "      <th>num_votes</th>\n",
       "      <th>log_num_votes</th>\n",
       "      <th>n_year</th>\n",
       "      <th>bin_rating</th>\n",
       "      <th>Director_ID</th>\n",
       "      <th>LID</th>\n",
       "      <th>ID</th>\n",
       "    </tr>\n",
       "  </thead>\n",
       "  <tbody>\n",
       "    <tr>\n",
       "      <th>0</th>\n",
       "      <td>nm0785227</td>\n",
       "      <td>Andy Serkis</td>\n",
       "      <td>Male</td>\n",
       "      <td>tt2388771</td>\n",
       "      <td>Mowgli</td>\n",
       "      <td>2018</td>\n",
       "      <td>6.6</td>\n",
       "      <td>21967</td>\n",
       "      <td>9.997297</td>\n",
       "      <td>2018</td>\n",
       "      <td>6-10 rating</td>\n",
       "      <td>0</td>\n",
       "      <td>0.0</td>\n",
       "      <td>0</td>\n",
       "    </tr>\n",
       "    <tr>\n",
       "      <th>1</th>\n",
       "      <td>nm0001162</td>\n",
       "      <td>Griffin Dunne</td>\n",
       "      <td>Male</td>\n",
       "      <td>tt0809504</td>\n",
       "      <td>The Accidental Husband</td>\n",
       "      <td>2008</td>\n",
       "      <td>5.6</td>\n",
       "      <td>21636</td>\n",
       "      <td>9.982114</td>\n",
       "      <td>2008</td>\n",
       "      <td>6-10 rating</td>\n",
       "      <td>76</td>\n",
       "      <td>48.0</td>\n",
       "      <td>76</td>\n",
       "    </tr>\n",
       "    <tr>\n",
       "      <th>2</th>\n",
       "      <td>nm0438501</td>\n",
       "      <td>Rishi Kapoor</td>\n",
       "      <td>Male</td>\n",
       "      <td>tt0149568</td>\n",
       "      <td>Aa Ab Laut Chalen</td>\n",
       "      <td>1999</td>\n",
       "      <td>5.5</td>\n",
       "      <td>1386</td>\n",
       "      <td>7.234177</td>\n",
       "      <td>1999</td>\n",
       "      <td>6-10 rating</td>\n",
       "      <td>2568</td>\n",
       "      <td>7.0</td>\n",
       "      <td>2568</td>\n",
       "    </tr>\n",
       "    <tr>\n",
       "      <th>3</th>\n",
       "      <td>nm0795661</td>\n",
       "      <td>Saurabh Shukla</td>\n",
       "      <td>Male</td>\n",
       "      <td>tt1340778</td>\n",
       "      <td>I Am 24</td>\n",
       "      <td>2010</td>\n",
       "      <td>6.7</td>\n",
       "      <td>1130</td>\n",
       "      <td>7.029973</td>\n",
       "      <td>2010</td>\n",
       "      <td>6-10 rating</td>\n",
       "      <td>2294</td>\n",
       "      <td>44.0</td>\n",
       "      <td>2294</td>\n",
       "    </tr>\n",
       "    <tr>\n",
       "      <th>4</th>\n",
       "      <td>nm0795661</td>\n",
       "      <td>Saurabh Shukla</td>\n",
       "      <td>Male</td>\n",
       "      <td>tt1772332</td>\n",
       "      <td>Pappu Can't Dance Saala</td>\n",
       "      <td>2010</td>\n",
       "      <td>6.5</td>\n",
       "      <td>384</td>\n",
       "      <td>5.950643</td>\n",
       "      <td>2010</td>\n",
       "      <td>6-10 rating</td>\n",
       "      <td>2404</td>\n",
       "      <td>Unknown</td>\n",
       "      <td>2404</td>\n",
       "    </tr>\n",
       "  </tbody>\n",
       "</table>\n",
       "</div>"
      ],
      "text/plain": [
       "         PID   Director_Name Gender        MID                    title  year  \\\n",
       "0  nm0785227     Andy Serkis   Male  tt2388771                   Mowgli  2018   \n",
       "1  nm0001162   Griffin Dunne   Male  tt0809504   The Accidental Husband  2008   \n",
       "2  nm0438501    Rishi Kapoor   Male  tt0149568        Aa Ab Laut Chalen  1999   \n",
       "3  nm0795661  Saurabh Shukla   Male  tt1340778                  I Am 24  2010   \n",
       "4  nm0795661  Saurabh Shukla   Male  tt1772332  Pappu Can't Dance Saala  2010   \n",
       "\n",
       "   rating  num_votes  log_num_votes  n_year   bin_rating  Director_ID  \\\n",
       "0     6.6      21967       9.997297    2018  6-10 rating            0   \n",
       "1     5.6      21636       9.982114    2008  6-10 rating           76   \n",
       "2     5.5       1386       7.234177    1999  6-10 rating         2568   \n",
       "3     6.7       1130       7.029973    2010  6-10 rating         2294   \n",
       "4     6.5        384       5.950643    2010  6-10 rating         2404   \n",
       "\n",
       "       LID    ID  \n",
       "0      0.0     0  \n",
       "1     48.0    76  \n",
       "2      7.0  2568  \n",
       "3     44.0  2294  \n",
       "4  Unknown  2404  "
      ]
     },
     "execution_count": 254,
     "metadata": {},
     "output_type": "execute_result"
    }
   ],
   "source": [
    "# Merging movie_person_director and imdb_M_location on the 'MID' column\n",
    "movie_person_director_location  = movie_person_director.merge(imdb_M_location, on='MID')\n",
    "movie_person_director_location.head()"
   ]
  },
  {
   "cell_type": "code",
   "execution_count": 255,
   "id": "0f8f8e0b",
   "metadata": {},
   "outputs": [],
   "source": [
    "# Renaming the 'ID' column to the 'location_ID' column from movie_person_director_location\n",
    "movie_person_director_location.rename(columns={'ID':'Location_ID'}, inplace = True)"
   ]
  },
  {
   "cell_type": "code",
   "execution_count": 256,
   "id": "6a47a6b6",
   "metadata": {},
   "outputs": [
    {
     "data": {
      "text/html": [
       "<div>\n",
       "<style scoped>\n",
       "    .dataframe tbody tr th:only-of-type {\n",
       "        vertical-align: middle;\n",
       "    }\n",
       "\n",
       "    .dataframe tbody tr th {\n",
       "        vertical-align: top;\n",
       "    }\n",
       "\n",
       "    .dataframe thead th {\n",
       "        text-align: right;\n",
       "    }\n",
       "</style>\n",
       "<table border=\"1\" class=\"dataframe\">\n",
       "  <thead>\n",
       "    <tr style=\"text-align: right;\">\n",
       "      <th></th>\n",
       "      <th>PID</th>\n",
       "      <th>Director_Name</th>\n",
       "      <th>Gender</th>\n",
       "      <th>MID</th>\n",
       "      <th>title</th>\n",
       "      <th>year</th>\n",
       "      <th>rating</th>\n",
       "      <th>num_votes</th>\n",
       "      <th>log_num_votes</th>\n",
       "      <th>n_year</th>\n",
       "      <th>bin_rating</th>\n",
       "      <th>Director_ID</th>\n",
       "      <th>LID</th>\n",
       "      <th>Location_ID</th>\n",
       "      <th>Name</th>\n",
       "    </tr>\n",
       "  </thead>\n",
       "  <tbody>\n",
       "    <tr>\n",
       "      <th>0</th>\n",
       "      <td>nm0785227</td>\n",
       "      <td>Andy Serkis</td>\n",
       "      <td>Male</td>\n",
       "      <td>tt2388771</td>\n",
       "      <td>Mowgli</td>\n",
       "      <td>2018</td>\n",
       "      <td>6.6</td>\n",
       "      <td>21967</td>\n",
       "      <td>9.997297</td>\n",
       "      <td>2018</td>\n",
       "      <td>6-10 rating</td>\n",
       "      <td>0</td>\n",
       "      <td>0.0</td>\n",
       "      <td>0</td>\n",
       "      <td>Durban, South Africa</td>\n",
       "    </tr>\n",
       "    <tr>\n",
       "      <th>1</th>\n",
       "      <td>nm0001162</td>\n",
       "      <td>Griffin Dunne</td>\n",
       "      <td>Male</td>\n",
       "      <td>tt0809504</td>\n",
       "      <td>The Accidental Husband</td>\n",
       "      <td>2008</td>\n",
       "      <td>5.6</td>\n",
       "      <td>21636</td>\n",
       "      <td>9.982114</td>\n",
       "      <td>2008</td>\n",
       "      <td>6-10 rating</td>\n",
       "      <td>76</td>\n",
       "      <td>1.0</td>\n",
       "      <td>76</td>\n",
       "      <td>New York City, New York, USA</td>\n",
       "    </tr>\n",
       "    <tr>\n",
       "      <th>2</th>\n",
       "      <td>nm0438501</td>\n",
       "      <td>Rishi Kapoor</td>\n",
       "      <td>Male</td>\n",
       "      <td>tt0149568</td>\n",
       "      <td>Aa Ab Laut Chalen</td>\n",
       "      <td>1999</td>\n",
       "      <td>5.5</td>\n",
       "      <td>1386</td>\n",
       "      <td>7.234177</td>\n",
       "      <td>1999</td>\n",
       "      <td>6-10 rating</td>\n",
       "      <td>2568</td>\n",
       "      <td>2.0</td>\n",
       "      <td>2568</td>\n",
       "      <td>Cape Town Film Studios, Cape Town, Western Cap...</td>\n",
       "    </tr>\n",
       "    <tr>\n",
       "      <th>3</th>\n",
       "      <td>nm0795661</td>\n",
       "      <td>Saurabh Shukla</td>\n",
       "      <td>Male</td>\n",
       "      <td>tt1340778</td>\n",
       "      <td>I Am 24</td>\n",
       "      <td>2010</td>\n",
       "      <td>6.7</td>\n",
       "      <td>1130</td>\n",
       "      <td>7.029973</td>\n",
       "      <td>2010</td>\n",
       "      <td>6-10 rating</td>\n",
       "      <td>2294</td>\n",
       "      <td>3.0</td>\n",
       "      <td>2294</td>\n",
       "      <td>Pittsburgh, Pennsylvania, USA</td>\n",
       "    </tr>\n",
       "    <tr>\n",
       "      <th>4</th>\n",
       "      <td>nm0795661</td>\n",
       "      <td>Saurabh Shukla</td>\n",
       "      <td>Male</td>\n",
       "      <td>tt1772332</td>\n",
       "      <td>Pappu Can't Dance Saala</td>\n",
       "      <td>2010</td>\n",
       "      <td>6.5</td>\n",
       "      <td>384</td>\n",
       "      <td>5.950643</td>\n",
       "      <td>2010</td>\n",
       "      <td>6-10 rating</td>\n",
       "      <td>2404</td>\n",
       "      <td>4.0</td>\n",
       "      <td>2404</td>\n",
       "      <td>Atlanta, Georgia, USA</td>\n",
       "    </tr>\n",
       "  </tbody>\n",
       "</table>\n",
       "</div>"
      ],
      "text/plain": [
       "         PID   Director_Name Gender        MID                    title  year  \\\n",
       "0  nm0785227     Andy Serkis   Male  tt2388771                   Mowgli  2018   \n",
       "1  nm0001162   Griffin Dunne   Male  tt0809504   The Accidental Husband  2008   \n",
       "2  nm0438501    Rishi Kapoor   Male  tt0149568        Aa Ab Laut Chalen  1999   \n",
       "3  nm0795661  Saurabh Shukla   Male  tt1340778                  I Am 24  2010   \n",
       "4  nm0795661  Saurabh Shukla   Male  tt1772332  Pappu Can't Dance Saala  2010   \n",
       "\n",
       "   rating  num_votes  log_num_votes  n_year   bin_rating  Director_ID  LID  \\\n",
       "0     6.6      21967       9.997297    2018  6-10 rating            0  0.0   \n",
       "1     5.6      21636       9.982114    2008  6-10 rating           76  1.0   \n",
       "2     5.5       1386       7.234177    1999  6-10 rating         2568  2.0   \n",
       "3     6.7       1130       7.029973    2010  6-10 rating         2294  3.0   \n",
       "4     6.5        384       5.950643    2010  6-10 rating         2404  4.0   \n",
       "\n",
       "   Location_ID                                               Name  \n",
       "0            0                               Durban, South Africa  \n",
       "1           76                       New York City, New York, USA  \n",
       "2         2568  Cape Town Film Studios, Cape Town, Western Cap...  \n",
       "3         2294                      Pittsburgh, Pennsylvania, USA  \n",
       "4         2404                              Atlanta, Georgia, USA  "
      ]
     },
     "execution_count": 256,
     "metadata": {},
     "output_type": "execute_result"
    }
   ],
   "source": [
    "# Converting the 'LID' column to the 'int64' datatype\n",
    "movie_person_director_location['LID'] = imdb_location['LID'].astype('int64')\n",
    "\n",
    "# Merging movie_person_director_location and imdb_location on the 'LID' column\n",
    "director_location = movie_person_director_location.merge(imdb_location, on='LID')\n",
    "director_location.head()"
   ]
  },
  {
   "cell_type": "code",
   "execution_count": 257,
   "id": "329017e8",
   "metadata": {},
   "outputs": [],
   "source": [
    "# Renaming 'Name' column to 'Location_Name' column from director_location\n",
    "director_location.rename(columns={'Name':'Location_Name'}, inplace = True)"
   ]
  },
  {
   "cell_type": "markdown",
   "id": "6384bb9a",
   "metadata": {},
   "source": [
    "### What are top 7 country locations used most by the directors?"
   ]
  },
  {
   "cell_type": "code",
   "execution_count": 258,
   "id": "4e2e919b",
   "metadata": {},
   "outputs": [
    {
     "name": "stdout",
     "output_type": "stream",
     "text": [
      "India\n",
      "UK\n",
      "USA\n",
      "Canada\n",
      "Australia\n",
      "Thailand\n",
      "Switzerland\n"
     ]
    }
   ],
   "source": [
    "director_location['Location_Country'] = director_location['Location_Name'].str.split(',').str[-1].str.strip(' ')\n",
    "countrt_loc = director_location['Location_Country'].value_counts().index[:7]\n",
    "\n",
    "for cl in countrt_loc:\n",
    "    print(cl)"
   ]
  },
  {
   "cell_type": "markdown",
   "id": "ea85dcde",
   "metadata": {},
   "source": [
    "### Insights\n",
    "\n",
    "- Over the years 1959–2018, the number of movies is increasing.\n",
    "- The 6–10 rating movies are more than 1–5 rating.\n",
    "- 'Male' and 'Female' directors both of them have more movies with a '6–10 rating' than a '1–5 rating'.\n",
    "- David Dhawa, Mahesh Bhatt, Priyadarshan, Ram Gopal Verma, Vikram Bhatt, Hrishikesh Mukherjee, and Yash Chopra are the top 7 directors with the highest count of movies.\n",
    "- Directors Abbas, Nagarjuna Akkineni, Mohan Babu, Kireet Khurana, Sumnash Sri Kaljai, and Renjie have at least one movie with a rating greater than 9.\n",
    "- The director Mohan Babu has more than one movie with a rating greater than 9.\n",
    "- The director Joss Whedon has a movie with the highest number of voting.\n",
    "- Director of the highest-rated movie in that language: Director Renjie in the English language,  Director Mohan Babu in the Hindi language, Director Anurag Singh in the Punjabi language, Director Mrinal Sen in the Bengali language, Director Dhorairaj Bhagavan in the Kannada language.\n",
    "- The director Vijay Raaz has movies in the most number of countries. \n",
    "- India, the UK, the USA, Canada, Australia, Thailand, and Switzerland are the top 7 country locations used most by the directors."
   ]
  }
 ],
 "metadata": {
  "kernelspec": {
   "display_name": "Python 3 (ipykernel)",
   "language": "python",
   "name": "python3"
  },
  "language_info": {
   "codemirror_mode": {
    "name": "ipython",
    "version": 3
   },
   "file_extension": ".py",
   "mimetype": "text/x-python",
   "name": "python",
   "nbconvert_exporter": "python",
   "pygments_lexer": "ipython3",
   "version": "3.9.7"
  }
 },
 "nbformat": 4,
 "nbformat_minor": 5
}
